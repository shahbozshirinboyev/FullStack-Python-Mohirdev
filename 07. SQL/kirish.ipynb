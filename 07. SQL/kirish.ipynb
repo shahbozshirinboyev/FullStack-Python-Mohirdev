{
 "cells": [
  {
   "cell_type": "markdown",
   "id": "2b6dbab6",
   "metadata": {},
   "source": [
    "`Ma'lumotlar bazasi o'zi nima?`\n",
    "\n",
    "> `Database (DB)` - bu ma'lumotlarni tartibli va samarali usulda saqlaydigan tizim/dastur."
   ]
  },
  {
   "cell_type": "markdown",
   "id": "76ff88c2",
   "metadata": {},
   "source": [
    "`Database o'zi nimaga kerak?`\n",
    "\n",
    "Pythonda yoki boshqa dasturlash tillarida `o'zgaruvchilar`, `dictionarylar`, `listlar` ham ma'lumot saqlaydi ku? \n",
    "\n",
    "> `O'zgaruvchilar`, `dictionarylar`, `listlar` - ma'lumotlarni faqat `RAM`da saqlaydi.\n",
    "\n",
    "> Agar dastur to'xtatilsa ularda saqlangan ma'lumotlar yo'qoladi.\n",
    "\n",
    "> Agar dastur umuman to'xtatilmasa ham, `RAM`da joy chegaralangan.\n",
    "\n",
    "> Demak bizga shu kamchiliklardan xoli bo'lgan ma'lumotlarni saqlash usuli kerak.\n"
   ]
  },
  {
   "cell_type": "markdown",
   "id": "8dbd5a6c",
   "metadata": {},
   "source": [
    "`Yechim - 1`\n"
   ]
  },
  {
   "cell_type": "markdown",
   "id": "b898978b",
   "metadata": {},
   "source": [
    "`Tekst fayl ishlatish`\n",
    "\n",
    "Pythonda ishlayotgan bo'lsangiz ma'lumotlarni text fayllarda saqlash imkoniyati bor va buni bir yechim sifatida qarash mumkin.\n",
    "\n",
    "> Murakkab dasturlar uchun to'g'ri kelmaydi.\n",
    "\n",
    "> Bosh og'riqlari ko'p: \n",
    "1) Synchronization muammolari \n",
    "2) Ma'lumotlarni xavfsiz saqlanishini taminlash \n",
    "\n",
    "> Xullas, text fayllar dasturlarning ma'lumotlar bazasi sifatida ishlatish uchun mo'ljallanmagan. Juda oddiy dasturlarda ishlatsa bo'ladi, lekin o'rtacha qiyinlikdagi dasturlar uchun ham bu usul to'g'ri kelmaydi."
   ]
  },
  {
   "cell_type": "markdown",
   "id": "e2985ef3",
   "metadata": {},
   "source": [
    "`Yechim - 2`"
   ]
  },
  {
   "cell_type": "markdown",
   "id": "70517953",
   "metadata": {},
   "source": [
    "Shu sababli `Database` o'ylab topilgan.\n",
    " \n",
    " Ma'lumotlar ba'zasini har xil turlari mavjud:\n",
    "\n",
    " - Fayl shaklidagi `Database` (SQLite) [heroes.db]\n",
    " - Dastur sifatidagi `Database`\n",
    "    - Database dasturi o'zini ichida ma'lumotlari bor fayllarni o'zi optimal tarzda boshqaradi.\n",
    "    - Sizning dasturingiz shu DB programmasi `Database application` bilan aloqa qiladi.\n",
    "    - Sizning dasturingiz ma'lumotlari bor fayllar biln to'g'ridan to'g'ri aloqa qilmaydi.\n",
    "    - Eng ko'p dasturlarda shu usuldan foydalanib `DB` yuritiladi.\n",
    "    - Bu usullar bilan ishlaydigan DB'larga misollar: PostgreSQL, MySQL yoki MongoDB"
   ]
  },
  {
   "cell_type": "markdown",
   "id": "79b9b671",
   "metadata": {},
   "source": [
    "`Dastur ma'lumotlar bazasi applicationi bilan qanday qilib gaplashadi?`\n",
    "\n",
    "> Ma'lumotlar bazasi application - Database Application\n",
    "\n",
    "Dastur va Database application gaplashishi uchun `SQL(Structured Query Language)` o'ylab topilgan.\n",
    " - Ma'lumot bazalari bilan gaplasha oladigan topilgan\n",
    " - Ma'lumotlarni boshqarish uchun ishlatiladi\n",
    "   - Create\n",
    "   - Read\n",
    "   - Update\n",
    "   - Delete\n",
    " - SQL tilini ishlatadigan texnologiyalar\n",
    "   - SQLite\n",
    "   - PostgreeSQL\n",
    "   - MySQL\n",
    "   - va hokazo "
   ]
  },
  {
   "cell_type": "markdown",
   "id": "0f2c9a8a",
   "metadata": {},
   "source": [
    "`Xulosa`\n",
    "\n",
    "- Ma'lumotlarni saqlash uchun yaxshi bir usul kerak\n",
    "- Faylda saqlasak bo'ladi lekin bu murakkab dasturlar uchun to'g'ri kelmaydi\n",
    "- Shu muammoni yechish maqsadida `Database`'lar o'ylab topilgan\n",
    "- Har xil turlari mavjud:\n",
    "  - Fayl DB'lar (SQLite)\n",
    "  - Server/Dastur DBlar (PostgreSQL. MySQL)\n",
    "- Bu DB'lar bilan gaplashish uchun esa SQL tili o'ylab topilgan\n",
    "- Bu kursda SQL tilining asoslarini o'rganamiz\n",
    "- NoSQL o'tilmaydi, bu kursda. NoSQL 5, 6 yil tajribaga ega bo'lganizdan keyin ishlatishingiz mumkin bo'ladi."
   ]
  }
 ],
 "metadata": {
  "language_info": {
   "name": "python"
  }
 },
 "nbformat": 4,
 "nbformat_minor": 5
}
