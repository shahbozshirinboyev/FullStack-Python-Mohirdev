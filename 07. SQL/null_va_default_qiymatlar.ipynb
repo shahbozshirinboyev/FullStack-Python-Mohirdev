{
 "cells": [
  {
   "cell_type": "markdown",
   "id": "54c522e5",
   "metadata": {},
   "source": [
    "`null` va `default` qiymatlar:"
   ]
  },
  {
   "cell_type": "markdown",
   "id": "5ebb50ca",
   "metadata": {},
   "source": [
    "`NULL`"
   ]
  },
  {
   "cell_type": "markdown",
   "id": "33fcd53e",
   "metadata": {},
   "source": [
    "Biz ma'lumot kiritish davomida ba'zi `cloumn`larga ma'lumot kirgizmasdan yangi ma'lumot qatorini kiritgandik va biz kiritmagan columnlar `null` qiymatini oladi.\n",
    "\n",
    "masalan bizda quyidagi table bor:"
   ]
  },
  {
   "cell_type": "code",
   "execution_count": null,
   "id": "c5d1628c",
   "metadata": {
    "vscode": {
     "languageId": "plaintext"
    }
   },
   "outputs": [],
   "source": [
    "example_db=# \\d my_contacts\n",
    "                      Table \"public.my_contacts\"\n",
    "   Column   |          Type          | Collation | Nullable | Default\n",
    "------------+------------------------+-----------+----------+---------\n",
    " first_name | character varying(50)  |           |          |\n",
    " last_name  | character varying(50)  |           |          |\n",
    " birthdate  | date                   |           |          |\n",
    " profession | character varying(60)  |           |          |\n",
    " interests  | character varying(100) |           |          |"
   ]
  },
  {
   "cell_type": "code",
   "execution_count": null,
   "id": "758d38b2",
   "metadata": {
    "vscode": {
     "languageId": "plaintext"
    }
   },
   "outputs": [],
   "source": [
    "INSERT INTO my_contacts (first_name, last_name) VALUES ('JAhongir', 'Otajonov');"
   ]
  },
  {
   "cell_type": "markdown",
   "id": "c98e1e7f",
   "metadata": {},
   "source": [
    "![alt text](image-null.png)"
   ]
  },
  {
   "cell_type": "markdown",
   "id": "b7392fb0",
   "metadata": {},
   "source": [
    "`null` - hech qanday ma'lumot saqlanmayotganini bildiradi. `Hech narsa saqlanmaydi.`"
   ]
  },
  {
   "cell_type": "markdown",
   "id": "ad9ccb0e",
   "metadata": {},
   "source": [
    "> Ba'zi jadvallardagi `column`larni bunday `null` qiymat bilan saqlash mumkin bo'lmagan holatlarda, table yaratishda uning qiymati `null`'ga teng bo'lmasligi kerakligini aytib o'tamiz:"
   ]
  },
  {
   "cell_type": "code",
   "execution_count": null,
   "id": "f13409b8",
   "metadata": {
    "vscode": {
     "languageId": "plaintext"
    }
   },
   "outputs": [],
   "source": [
    "CREATE TABLE my_contacts_two\n",
    "(\n",
    "  first_name VARCHAR(50) NOT NULL,\n",
    "  last_name VARCHAR(50) NOT NULL,\n",
    "  birthdate DATE\n",
    ")"
   ]
  },
  {
   "cell_type": "code",
   "execution_count": null,
   "id": "3e4f988a",
   "metadata": {
    "vscode": {
     "languageId": "plaintext"
    }
   },
   "outputs": [],
   "source": [
    "example_db=# CREATE TABLE my_contacts_two\n",
    "example_db-# (\n",
    "example_db(#    first_name VARCHAR(50) NOT NULL,\n",
    "example_db(#    last_name VARCHAR(50) NOT NULL,\n",
    "example_db(#    birtdate DATE\n",
    "example_db(# );\n",
    "CREATE TABLE\n",
    "example_db=#"
   ]
  },
  {
   "cell_type": "markdown",
   "id": "fbfa2582",
   "metadata": {},
   "source": [
    "Endi `first_name` va `last_name`'ni kiritish majburiy va birontasini kiritmasal quyidagicha xatolik kelib chiqadi:"
   ]
  },
  {
   "cell_type": "code",
   "execution_count": null,
   "id": "d8e3cb71",
   "metadata": {
    "vscode": {
     "languageId": "plaintext"
    }
   },
   "outputs": [],
   "source": [
    "example_db=# INSERT INTO my_contacts_two (first_name) VALUES ('Gaybulla');\n",
    "ERROR:  null value in column \"last_name\" of relation \"my_contacts_two\" violates not-null constraint\n",
    "DETAIL:  Failing row contains (Gaybulla, null, null).\n",
    "example_db=#"
   ]
  },
  {
   "cell_type": "markdown",
   "id": "7cfdc203",
   "metadata": {},
   "source": [
    "To'g'ri shaklda kiritamiz: `first_name`ni ham `last_name`ni ham:"
   ]
  },
  {
   "cell_type": "code",
   "execution_count": null,
   "id": "1ff573c7",
   "metadata": {
    "vscode": {
     "languageId": "plaintext"
    }
   },
   "outputs": [],
   "source": [
    "example_db=# INSERT INTO my_contacts_two (first_name, last_name) VALUES ('Gaybulla', 'Anvarjonov');\n",
    "INSERT 0 1\n",
    "example_db=#"
   ]
  },
  {
   "cell_type": "markdown",
   "id": "69fd6894",
   "metadata": {},
   "source": [
    "![alt text](image-not_null.png)"
   ]
  },
  {
   "cell_type": "code",
   "execution_count": null,
   "id": "fbb378dc",
   "metadata": {
    "vscode": {
     "languageId": "plaintext"
    }
   },
   "outputs": [],
   "source": [
    "example_db=# \\d my_contacts_two\n",
    "                   Table \"public.my_contacts_two\"\n",
    "   Column   |         Type          | Collation | Nullable | Default\n",
    "------------+-----------------------+-----------+----------+---------\n",
    " first_name | character varying(50) |           | not null |\n",
    " last_name  | character varying(50) |           | not null |\n",
    " birtdate   | date                  |           |          |\n",
    "\n",
    "example_db=#"
   ]
  },
  {
   "cell_type": "markdown",
   "id": "7fc42984",
   "metadata": {},
   "source": [
    "`DEFAULT`"
   ]
  },
  {
   "cell_type": "markdown",
   "id": "8d88e099",
   "metadata": {},
   "source": [
    "> Ba'zida `column`da qaysidur qiymatga teng bo'lgan ma'lumot saqlanadi. Bu `default value` deyiladi. Biz columnga biron qiymat kiritmasak ham u o'sha qiymatni oladi."
   ]
  },
  {
   "cell_type": "code",
   "execution_count": null,
   "id": "45297fd1",
   "metadata": {
    "vscode": {
     "languageId": "plaintext"
    }
   },
   "outputs": [],
   "source": [
    "CREATE TABLE doughnut_list\n",
    "(\n",
    "  name VARCHAR(50) NOT NULL,\n",
    "  type VARCHAR(50) NOT NULL,\n",
    "  price NUMERIC(3, 2) NOT NULL DEFAULT 1.00\n",
    ");"
   ]
  },
  {
   "cell_type": "markdown",
   "id": "2132e946",
   "metadata": {},
   "source": [
    "TABLE yaratib unga ma'lumotlar kiritamiz:"
   ]
  },
  {
   "cell_type": "code",
   "execution_count": null,
   "id": "df29a8af",
   "metadata": {
    "vscode": {
     "languageId": "plaintext"
    }
   },
   "outputs": [],
   "source": [
    "example_db=# CREATE TABLE doughnut_list (name VARCHAR(50) NOT NULL, type VARCHAR(50) NOT NULL, price NUMERIC(3, 2) NOT NULL DEFAULT 1.00);\n",
    "CREATE TABLE\n",
    "example_db=# INSERT INTO doughnut_list VALUES ('Apple', 'filled', 3.00);\n",
    "INSERT 0 1\n",
    "example_db=# INSERT INTO doughnut_list (name, type) VALUES ('Cherry', 'filled');\n",
    "INSERT 0 1\n",
    "example_db=#"
   ]
  },
  {
   "cell_type": "markdown",
   "id": "c2183655",
   "metadata": {},
   "source": [
    "2-ma'lumotni kiritishimizda `price`'ni bermadik va u default qilymatni oldi:"
   ]
  },
  {
   "cell_type": "markdown",
   "id": "cb041075",
   "metadata": {},
   "source": [
    "![alt text](image-dafault-value.png)"
   ]
  },
  {
   "cell_type": "code",
   "execution_count": null,
   "id": "f4c91f7c",
   "metadata": {
    "vscode": {
     "languageId": "plaintext"
    }
   },
   "outputs": [],
   "source": [
    "example_db=# \\d doughnut_list\n",
    "                  Table \"public.doughnut_list\"\n",
    " Column |         Type          | Collation | Nullable | Default\n",
    "--------+-----------------------+-----------+----------+---------\n",
    " name   | character varying(50) |           | not null |\n",
    " type   | character varying(50) |           | not null |\n",
    " price  | numeric(3,2)          |           | not null | 1.00"
   ]
  },
  {
   "cell_type": "markdown",
   "id": "53f700ec",
   "metadata": {},
   "source": [
    "Yuqorida ko'rganimizdek `\\d doughnut_list` komandasi orqali `not null` va `default`'ga ega qiymatlarni ko'rishimiz mumkin."
   ]
  }
 ],
 "metadata": {
  "language_info": {
   "name": "python"
  }
 },
 "nbformat": 4,
 "nbformat_minor": 5
}
