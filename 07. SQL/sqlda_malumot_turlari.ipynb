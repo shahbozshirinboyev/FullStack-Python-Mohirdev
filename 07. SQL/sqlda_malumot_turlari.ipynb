{
 "cells": [
  {
   "cell_type": "markdown",
   "id": "bd966976",
   "metadata": {},
   "source": [
    "`SQL'da ma'lumot turlari`"
   ]
  },
  {
   "cell_type": "code",
   "execution_count": null,
   "id": "40df0746",
   "metadata": {
    "vscode": {
     "languageId": "plaintext"
    }
   },
   "outputs": [],
   "source": [
    "CREATE TABLE my_contacts\n",
    "(\n",
    "  last_name VARCHAR(50),\n",
    "  first_name VARCHAR(50),\n",
    "  email VARCHAR(50),\n",
    "  birthday DATE,\n",
    "  profession VARCHAR(30),\n",
    "  location VARCHAR(60),\n",
    "  status VARCHAR(20),\n",
    "  interests VARCHAR(200),\n",
    "  seeking VARCHAR(200)\n",
    ");"
   ]
  },
  {
   "cell_type": "markdown",
   "id": "5af59d51",
   "metadata": {},
   "source": [
    "`TEXT` (3 xil text ma'lumot turi mavjud.)\n",
    "\n",
    "- VARCHAR\n",
    "  - Limit bo'lganda ishlatilinadi: VARCHAR(10), VARCHAR(20)\n",
    "  - Masalan: 'kitob', 'maktab', va 'hokazo'\n",
    "\n",
    "- TEXT\n",
    "  - Limit bo'lmaganda ishlatilinadi\n",
    "  - Masalan: \"Men 1999 - yilda tug'ulganman. Mening oilam 6 kishidan iborat. Ular ...\"\n",
    "\n",
    "- CHAR\n",
    "  - VARCHAR bilan bir xil\n",
    "  - Farqi har doim berilgan uzunlikdagi joyni oladi. Agar yetishmasa 'space' qo'shib qo'yadi.\n",
    "  - CHAR(10): \"kitob_____\", \"spiderman_\" ... kabi"
   ]
  },
  {
   "cell_type": "markdown",
   "id": "b74c67cc",
   "metadata": {},
   "source": [
    "`INTEGER` (Butun sonlar uchun 3 xil ma'lumot turi mavjud.)\n",
    "\n",
    "- INT\n",
    "  - -2,147,483,648 dan 2,147,483,647 gacha\n",
    "\n",
    "- SMALLINT\n",
    "  - -32,768 dan 32,767 gacha\n",
    "\n",
    "- BIGINT\n",
    "  - -9,223,372,036,854,775,808 dan 9,223,372,036,854,775,807 gacha"
   ]
  },
  {
   "cell_type": "markdown",
   "id": "e92097fc",
   "metadata": {},
   "source": [
    "`SERIAL`\n",
    "\n",
    "> INT bilan bir xil lekin PostgreSQLning o'zi qiymatlarni avtomatik ravishda to'ldirib boradi. MySQLda buning eqvivalenti: AUTOINCREMENT\n",
    "\n",
    "> `SMALLSERIAL`, `SERIAL`, `BIGSERIAL`"
   ]
  },
  {
   "cell_type": "markdown",
   "id": "51e9c805",
   "metadata": {},
   "source": [
    "`Numeric`\n",
    "\n",
    "- Misol uchun: 1234.56, 34.5, 189.568\n",
    "- Ishlatish usuli:\n",
    "  - numeric(5, 2): 123.45, 456.89, 123.467 -> 123.47\n",
    "  - numeric(5): 12345, 45678\n",
    "  - numeric: 1234, 12, 123457, 12312.123443434223"
   ]
  },
  {
   "cell_type": "markdown",
   "id": "e6efcc30",
   "metadata": {},
   "source": [
    "`Floating numbers`\n",
    "\n",
    "> REAL (4 bytes)\n",
    "\n",
    "> DOUBLE PRECISION (8 bytes)\n",
    "\n",
    "> Ikkalasi ham quyidagicha raqamlar uchun ishlatiladi: 123.12, 4556.788\n",
    "\n",
    "\n",
    "- Hisob kitob jarayoni bo'lsa `Numeric`, agar hisob kitob jarayoni olib borilmasa `REAL`, `DOUBLE PRECISION`"
   ]
  },
  {
   "cell_type": "markdown",
   "id": "dd3ed791",
   "metadata": {},
   "source": [
    "`Boolean` (True/False)\n",
    "\n",
    "- True yoki False savollarga javob beruvchi columnlar uchun\n",
    "- Masalan: is_married BOOLEAN"
   ]
  },
  {
   "cell_type": "markdown",
   "id": "0b838c3b",
   "metadata": {},
   "source": [
    "`Vaqt ma'lumot turlari`\n",
    "\n",
    "- DATE - sanalar uchun: 2025-20-05\n",
    "- TIME - vaqt uchun: 10:25:45\n",
    "- TIMESTAMP - ham sana ham vaqt uchun: 2025-20-05 10:25:45"
   ]
  },
  {
   "cell_type": "markdown",
   "id": "11d1c848",
   "metadata": {},
   "source": [
    "Yuqoridagi ma'lumot turlari 80% - 70% holatlarda ishlatilinadi."
   ]
  },
  {
   "cell_type": "markdown",
   "id": "a5f1a56f",
   "metadata": {},
   "source": [
    "`MASALAN`\n",
    "\n",
    "- price\n",
    "  - NUMERIC(6, 2)\n",
    "\n",
    "- zip_code\n",
    "  - VARCHAR(10)\n",
    "\n",
    "- comments\n",
    "  - TEXT\n",
    "\n",
    "- quantity\n",
    "  - INT\n",
    "\n",
    "- book_title\n",
    "  - VARCHAR(50)\n",
    "\n",
    "- gender\n",
    "  - CHAR(1)\n",
    "\n",
    "- meeting_time\n",
    "  - TIMESTAMP\n",
    "\n",
    "- is_married\n",
    "  - BOOLEAN"
   ]
  }
 ],
 "metadata": {
  "language_info": {
   "name": "python"
  }
 },
 "nbformat": 4,
 "nbformat_minor": 5
}
