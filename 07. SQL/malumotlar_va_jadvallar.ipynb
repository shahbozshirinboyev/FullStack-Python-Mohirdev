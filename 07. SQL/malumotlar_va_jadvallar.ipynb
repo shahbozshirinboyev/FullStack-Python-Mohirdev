{
 "cells": [
  {
   "cell_type": "markdown",
   "id": "b68a08c9",
   "metadata": {},
   "source": [
    "`Ma'lumotlar va Jadvallar (Data and Tables)`\n",
    "\n",
    "![alt text](boshqarish.png)"
   ]
  },
  {
   "cell_type": "markdown",
   "id": "c2943f20",
   "metadata": {},
   "source": [
    "SQL tili ma'lumotlarni jadval tarzda saqlab boradi."
   ]
  },
  {
   "cell_type": "markdown",
   "id": "533d37f2",
   "metadata": {},
   "source": [
    "Jadval ko'rinishida saqlash ko'p joyda uchraydi:\n",
    "- Excel\n",
    "- Google Sheet\n",
    " \n",
    "> `Sababi:` tartibli va samarali\n",
    "\n",
    "> Boshqarish oson va tez bo'ladi:\n",
    "  - Create, Read, Update, Delete"
   ]
  },
  {
   "cell_type": "markdown",
   "id": "7b2b80d2",
   "metadata": {},
   "source": [
    "Teparoqdan qaraydigan bo'lsak SQL'da 'database'degan struktura mavjud.\n",
    "\n",
    "Jadvallar database strukturasini ichida joylashgan bo'ladi."
   ]
  },
  {
   "cell_type": "markdown",
   "id": "c28e3b6f",
   "metadata": {},
   "source": [
    "![alt text](database.png)"
   ]
  },
  {
   "cell_type": "markdown",
   "id": "f2c7006a",
   "metadata": {},
   "source": [
    "Database ichiga qaraydigan bo'lsak:\n",
    "\n",
    "- Database\n",
    "  - Table\n",
    "    - Columns\n",
    "    - Rows"
   ]
  },
  {
   "cell_type": "markdown",
   "id": "8253897d",
   "metadata": {},
   "source": [
    "![alt text](in-databse.png)"
   ]
  }
 ],
 "metadata": {
  "language_info": {
   "name": "python"
  }
 },
 "nbformat": 4,
 "nbformat_minor": 5
}
