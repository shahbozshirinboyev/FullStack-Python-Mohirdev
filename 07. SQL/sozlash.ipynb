{
 "cells": [
  {
   "cell_type": "markdown",
   "id": "1e718ed9",
   "metadata": {},
   "source": [
    "`Sozlash` (Setting up)\n",
    "\n",
    "![alt text](sozlash.png)\n",
    "\n",
    "`Database Application`\n",
    "- Microsoft SQL Server\n",
    "- MySQL\n",
    "- PostgreSQL\n",
    "  - Bepul\n",
    "  - Sodda\n",
    "  - Mashhur\n",
    "\n",
    "Bu kursda `PostgreSQL` dan foydalanib SQL tilini o'rganamiz."
   ]
  },
  {
   "cell_type": "markdown",
   "id": "88d3a71c",
   "metadata": {},
   "source": [
    "`O'rnatish` (Installation)\n",
    "\n",
    "> O'rnatish operatsion tizimga bog'liq (boshqa dasturlar kabi)\n",
    "\n",
    "- Macda:\n",
    "  - `brew install postgresql`\n",
    "- Windowsda:\n",
    "  - `winget search postgresql`\n",
    "  - `winget install PostgreSQL.PostgreSQL.17`\n",
    "  - packet id'si orqali o'rnatiladi\n",
    "  - `path` qo'shish:\n",
    "  \n",
    "$oldPath = [Environment]::GetEnvironmentVariable(\"Path\", \"User\")\n",
    "\n",
    "$newPath = \"$oldPath;C:\\Program Files\\PostgreSQL\\17\\bin\"\n",
    "\n",
    "[Environment]::SetEnvironmentVariable(\"Path\", $newPath, \"User\")\n",
    "\n",
    "- Linuxda:\n",
    "  - `sudo apt update`, `sudo apt install postgresql postgresql-contrib`\n",
    "\n"
   ]
  },
  {
   "cell_type": "markdown",
   "id": "5d27e1e2",
   "metadata": {},
   "source": [
    "PostgreSQL birinchi o'rnatilganda unda default database bo'ladi, unga ulanishimiz kerak:\n",
    "- `psql postgres`"
   ]
  },
  {
   "cell_type": "markdown",
   "id": "9a250040",
   "metadata": {},
   "source": [
    "Menda yuqoridagilar bilan bog'lana olmadim shu sabab, `pg_hba.conf` fayni taxrirladim, parol ochmaydigan qilib barcha \n",
    "\n",
    "`host    all             all             127.0.0.1/32            scram-sha-256` larni\n",
    " \n",
    "`host    all             all             127.0.0.1/32            trust` ga o'zgartirdim, keyin SQL Shell orqali serverga ulanib oldim va keyin foydalanuvchi yaratdim:\n",
    "\n",
    "`CREATE ROLE shahb WITH LOGIN PASSWORD '1165';`\n",
    "\n",
    "`ALTER ROLE shahb CREATEDB;`"
   ]
  },
  {
   "cell_type": "markdown",
   "id": "2e313220",
   "metadata": {},
   "source": [
    " - `\\l` - kompyuterda bor bazalar ro'yxatini chiqaradi\n",
    "\n",
    "> Agar `terminal`da ishlash uchun noqulay bo'lsa, `pgAdmin` degan dastur orqali ham ishlashimiz mumkin."
   ]
  },
  {
   "cell_type": "markdown",
   "id": "42479b01",
   "metadata": {},
   "source": [
    "`pgAdmin` orqali ham server yaratin uni ko'rsak bo'ladi.\n",
    "\n",
    "- `Dashboard`dagi `Add Server` tugmasini bosamiz va:\n",
    "  - server nomini kiritamiz (General bo'limidan)\n",
    "  - Connection bo'limidan (Host name/address) ga localhost deb yozamiz\n",
    "  - Maintenance database - bor database'lardan birontasini bog'laymiz\n",
    "  - Username ga `\\du` ni terminalda terib userlar ro'yxatidan birontasini kiritamiz\n",
    "  - Oxirida `save`'ni bosamiz"
   ]
  }
 ],
 "metadata": {
  "language_info": {
   "name": "python"
  }
 },
 "nbformat": 4,
 "nbformat_minor": 5
}
