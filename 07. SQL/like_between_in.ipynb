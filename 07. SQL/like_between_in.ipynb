{
 "cells": [
  {
   "cell_type": "markdown",
   "id": "50766e28",
   "metadata": {},
   "source": [
    "`LIKE`, `BETWEEN` va `IN`"
   ]
  },
  {
   "cell_type": "markdown",
   "id": "6e4b012c",
   "metadata": {},
   "source": [
    "Bizda quyidagi jadval bor:"
   ]
  },
  {
   "cell_type": "code",
   "execution_count": null,
   "id": "55689c14",
   "metadata": {
    "vscode": {
     "languageId": "plaintext"
    }
   },
   "outputs": [],
   "source": [
    "example_db=# SELECT * FROM my_contacts;\n",
    " first_name |  last_name   | birthdate  | profession |       interests\n",
    "------------+--------------+------------+------------+-----------------------\n",
    " Shahboz    | Shirinboyev  | 1999-12-03 | Designer   | Coding, Reading books\n",
    " Navroz     | Abdumurodov  | 1999-03-21 | quruvchi   | eating\n",
    " Javohir    | Abdurashidov | 1999-03-21 | quruvchi   | eating\n",
    " Umid       | Murodov      | 1998-12-08 | doctor     | Reading\n",
    " Jahongir   | Otajonov     | 1978-10-05 | doctor     | Cooking\n",
    " Amirxon    | Umarov       |            |            |\n",
    " Hayotxon   | Jalilov      |            |            |\n",
    " Dilya      | Neymatova    |            |            | Coding\n",
    "(8 rows)\n",
    "\n",
    "\n",
    "example_db=#"
   ]
  },
  {
   "cell_type": "markdown",
   "id": "f5826a1a",
   "metadata": {},
   "source": [
    "![alt text](image-null-notnull.png)"
   ]
  },
  {
   "cell_type": "markdown",
   "id": "b741a5a1",
   "metadata": {},
   "source": [
    "Jadvalda `null` qiymatiga ega bo'lgan ustunlar bor, ularni ajratib olish uchun quyidagicha komandalar kerak bo'ladi.\n",
    "\n",
    "`SELECT * FROM my_contacts WHERE birthdate IS NULL;`"
   ]
  },
  {
   "cell_type": "code",
   "execution_count": null,
   "id": "9832d9dc",
   "metadata": {
    "vscode": {
     "languageId": "plaintext"
    }
   },
   "outputs": [],
   "source": [
    "example_db=# SELECT * FROM my_contacts WHERE birthdate IS NULL;\n",
    " first_name | last_name | birthdate | profession | interests\n",
    "------------+-----------+-----------+------------+-----------\n",
    " Amirxon    | Umarov    |           |            |\n",
    " Hayotxon   | Jalilov   |           |            |\n",
    " Dilya      | Neymatova |           |            | Coding\n",
    "(3 rows)\n",
    "\n",
    "\n",
    "example_db=#"
   ]
  },
  {
   "cell_type": "markdown",
   "id": "f985a9b3",
   "metadata": {},
   "source": [
    "`null` qiymatga ega bo'lmagan ustunlarni ajratib olish uchun esa:\n",
    "\n",
    "`SELECT * FROM my_contacts WHERE birthdate IS NOT NULL;`"
   ]
  },
  {
   "cell_type": "markdown",
   "id": "4057f03c",
   "metadata": {},
   "source": [
    "example_db=# SELECT * FROM my_contacts WHERE birthdate IS NOT NULL;\n",
    " first_name |  last_name   | birthdate  | profession |       interests\n",
    "------------+--------------+------------+------------+-----------------------\n",
    " Shahboz    | Shirinboyev  | 1999-12-03 | Designer   | Coding, Reading books\n",
    " Navroz     | Abdumurodov  | 1999-03-21 | quruvchi   | eating\n",
    " Javohir    | Abdurashidov | 1999-03-21 | quruvchi   | eating\n",
    " Umid       | Murodov      | 1998-12-08 | doctor     | Reading\n",
    " Jahongir   | Otajonov     | 1978-10-05 | doctor     | Cooking\n",
    "(5 rows)\n",
    "\n",
    "\n",
    "example_db=#"
   ]
  },
  {
   "cell_type": "markdown",
   "id": "d35c6130",
   "metadata": {},
   "source": [
    "`my_contacts` jadvalidagi insonlarni `last_name`'mi `ov` bilan tugagan qatorlarni ro'yxati kerak bo'ldi, xo'sh buni qanday amalga oshiramiz:"
   ]
  },
  {
   "cell_type": "markdown",
   "id": "bbf5f860",
   "metadata": {},
   "source": [
    "`LIKE`"
   ]
  },
  {
   "cell_type": "markdown",
   "id": "823660cf",
   "metadata": {},
   "source": [
    "`SELECT * FROM my_contacts WHERE last_name LIKE '%ov';`"
   ]
  },
  {
   "cell_type": "code",
   "execution_count": null,
   "id": "72086020",
   "metadata": {
    "vscode": {
     "languageId": "plaintext"
    }
   },
   "outputs": [],
   "source": [
    "example_db=# SELECT * FROM my_contacts;\n",
    " first_name |  last_name   | birthdate  | profession |       interests\n",
    "------------+--------------+------------+------------+-----------------------\n",
    " Shahboz    | Shirinboyev  | 1999-12-03 | Designer   | Coding, Reading books\n",
    " Navroz     | Abdumurodov  | 1999-03-21 | quruvchi   | eating\n",
    " Javohir    | Abdurashidov | 1999-03-21 | quruvchi   | eating\n",
    " Umid       | Murodov      | 1998-12-08 | doctor     | Reading\n",
    " Jahongir   | Otajonov     | 1978-10-05 | doctor     | Cooking\n",
    " Amirxon    | Umarov       |            |            |\n",
    " Hayotxon   | Jalilov      |            |            |\n",
    " Dilya      | Neymatova    |            |            | Coding\n",
    "(8 rows)\n",
    "\n",
    "\n",
    "example_db=# SELECT * FROM my_contacts WHERE last_name LIKE '%ov';\n",
    " first_name |  last_name   | birthdate  | profession | interests\n",
    "------------+--------------+------------+------------+-----------\n",
    " Navroz     | Abdumurodov  | 1999-03-21 | quruvchi   | eating\n",
    " Javohir    | Abdurashidov | 1999-03-21 | quruvchi   | eating\n",
    " Umid       | Murodov      | 1998-12-08 | doctor     | Reading\n",
    " Jahongir   | Otajonov     | 1978-10-05 | doctor     | Cooking\n",
    " Amirxon    | Umarov       |            |            |\n",
    " Hayotxon   | Jalilov      |            |            |\n",
    "(6 rows)\n",
    "\n",
    "\n",
    "example_db=#"
   ]
  },
  {
   "cell_type": "markdown",
   "id": "30aee371",
   "metadata": {},
   "source": [
    "Bu yerda `%` bu `ov`'dan avval bir yoki bir nechta harfdan iborat so'z borligini bildiradi.\n",
    "\n",
    "`%`-ni istalgan tomonga qo'ysa bo'ladi. Masalan: "
   ]
  },
  {
   "cell_type": "markdown",
   "id": "6935a8af",
   "metadata": {},
   "source": [
    "example_db=# SELECT * FROM my_contacts WHERE last_name LIKE 'A%';\n",
    " first_name |  last_name   | birthdate  | profession | interests\n",
    "------------+--------------+------------+------------+-----------\n",
    " Navroz     | Abdumurodov  | 1999-03-21 | quruvchi   | eating\n",
    " Javohir    | Abdurashidov | 1999-03-21 | quruvchi   | eating\n",
    "(2 rows)\n",
    "\n",
    "\n",
    "example_db=#"
   ]
  },
  {
   "cell_type": "markdown",
   "id": "df0539da",
   "metadata": {},
   "source": [
    "example_db=# SELECT * FROM my_contacts WHERE interests LIKE 'eating%';\n",
    " first_name |  last_name   | birthdate  | profession | interests\n",
    "------------+--------------+------------+------------+-----------\n",
    " Navroz     | Abdumurodov  | 1999-03-21 | quruvchi   | eating\n",
    " Javohir    | Abdurashidov | 1999-03-21 | quruvchi   | eating\n",
    "(2 rows)\n",
    "\n",
    "\n",
    "example_db=#"
   ]
  },
  {
   "cell_type": "markdown",
   "id": "7fc0de5c",
   "metadata": {},
   "source": [
    "Yana boshqacharoq usulni ko'rib chiqamiz: ya'ni `first_name`'mi `T` bilan boshlanib `m` bilan tugaydigan, ismli shaxslarni jadvalini tuzamiz:"
   ]
  },
  {
   "cell_type": "markdown",
   "id": "f10560d6",
   "metadata": {},
   "source": [
    "Avval to'liq jadvalni ko'rib o'tsak:"
   ]
  },
  {
   "cell_type": "code",
   "execution_count": null,
   "id": "3fa2dd24",
   "metadata": {
    "vscode": {
     "languageId": "plaintext"
    }
   },
   "outputs": [],
   "source": [
    "example_db=# SELECT * FROM my_contacts;\n",
    " first_name |  last_name   | birthdate  | profession |       interests\n",
    "------------+--------------+------------+------------+-----------------------\n",
    " Shahboz    | Shirinboyev  | 1999-12-03 | Designer   | Coding, Reading books\n",
    " Navroz     | Abdumurodov  | 1999-03-21 | quruvchi   | eating\n",
    " Javohir    | Abdurashidov | 1999-03-21 | quruvchi   | eating\n",
    " Umid       | Murodov      | 1998-12-08 | doctor     | Reading\n",
    " Jahongir   | Otajonov     | 1978-10-05 | doctor     | Cooking\n",
    " Amirxon    | Umarov       |            |            |\n",
    " Hayotxon   | Jalilov      |            |            |\n",
    " Dilya      | Neymatova    |            |            | Coding\n",
    " Tom        | Caliny       | 1960-12-23 | designer   | voleyball\n",
    " Tim        | Kalith       | 1980-11-11 | driver     | tenis\n",
    "(10 rows)\n",
    "\n",
    "\n",
    "example_db=#"
   ]
  },
  {
   "cell_type": "markdown",
   "id": "56d8fe82",
   "metadata": {},
   "source": [
    "Saralash:\n",
    "\n",
    "`SELECT * FROM my_contacts WHERE first_name LIKE 'T%m';`"
   ]
  },
  {
   "cell_type": "markdown",
   "id": "a9e7a8c5",
   "metadata": {},
   "source": [
    "example_db=# SELECT * FROM my_contacts WHERE first_name LIKE 'T%m';\n",
    " first_name | last_name | birthdate  | profession | interests\n",
    "------------+-----------+------------+------------+-----------\n",
    " Tom        | Caliny    | 1960-12-23 | designer   | voleyball\n",
    " Tim        | Kalith    | 1980-11-11 | driver     | tenis\n",
    "(2 rows)"
   ]
  },
  {
   "cell_type": "markdown",
   "id": "0473d8d7",
   "metadata": {},
   "source": [
    "`NOT LIKE`"
   ]
  },
  {
   "cell_type": "code",
   "execution_count": null,
   "id": "a118e198",
   "metadata": {
    "vscode": {
     "languageId": "plaintext"
    }
   },
   "outputs": [],
   "source": [
    "example_db=# SELECT * FROM my_contacts WHERE last_name NOT LIKE '%ov';\n",
    " first_name |  last_name  | birthdate  | profession |       interests\n",
    "------------+-------------+------------+------------+-----------------------\n",
    " Shahboz    | Shirinboyev | 1999-12-03 | Designer   | Coding, Reading books\n",
    " Dilya      | Neymatova   |            |            | Coding\n",
    " Tom        | Caliny      | 1960-12-23 | designer   | voleyball\n",
    " Tim        | Kalith      | 1980-11-11 | driver     | tenis\n",
    "(4 rows)\n",
    "\n",
    "\n",
    "example_db=#"
   ]
  },
  {
   "cell_type": "markdown",
   "id": "8050d08e",
   "metadata": {},
   "source": [
    "`BETWEEN`"
   ]
  },
  {
   "cell_type": "code",
   "execution_count": null,
   "id": "796bddb0",
   "metadata": {
    "vscode": {
     "languageId": "plaintext"
    }
   },
   "outputs": [],
   "source": [
    "example_db=# SELECT * FROM my_contacts;\n",
    " first_name |  last_name   | birthdate  | profession |       interests\n",
    "------------+--------------+------------+------------+-----------------------\n",
    " Shahboz    | Shirinboyev  | 1999-12-03 | Designer   | Coding, Reading books\n",
    " Navroz     | Abdumurodov  | 1999-03-21 | quruvchi   | eating\n",
    " Javohir    | Abdurashidov | 1999-03-21 | quruvchi   | eating\n",
    " Umid       | Murodov      | 1998-12-08 | doctor     | Reading\n",
    " Jahongir   | Otajonov     | 1978-10-05 | doctor     | Cooking\n",
    " Amirxon    | Umarov       |            |            |\n",
    " Hayotxon   | Jalilov      |            |            |\n",
    " Dilya      | Neymatova    |            |            | Coding\n",
    " Tom        | Caliny       | 1960-12-23 | designer   | voleyball\n",
    " Tim        | Kalith       | 1980-11-11 | driver     | tenis\n",
    "(10 rows)\n",
    "\n",
    "\n",
    "example_db=# SELECt * FROM doughnut_list WHERE price > 5 AND price < 9;\n",
    " name  | type  | price\n",
    "-------+-------+-------\n",
    " Mazza | cermy |  5.67\n",
    " Edge  | oily  |  6.37\n",
    "(2 rows)\n",
    "\n",
    "\n",
    "example_db=# SELECT * FROM my_contacts WHERE last_name LIKE '%ov';\n",
    " first_name |  last_name   | birthdate  | profession | interests\n",
    "------------+--------------+------------+------------+-----------\n",
    " Navroz     | Abdumurodov  | 1999-03-21 | quruvchi   | eating\n",
    " Javohir    | Abdurashidov | 1999-03-21 | quruvchi   | eating\n",
    " Umid       | Murodov      | 1998-12-08 | doctor     | Reading\n",
    " Jahongir   | Otajonov     | 1978-10-05 | doctor     | Cooking\n",
    " Amirxon    | Umarov       |            |            |\n",
    " Hayotxon   | Jalilov      |            |            |\n",
    "(6 rows)\n",
    "\n",
    "\n",
    "example_db=#"
   ]
  },
  {
   "cell_type": "markdown",
   "id": "889488f8",
   "metadata": {},
   "source": [
    "`IN`"
   ]
  },
  {
   "cell_type": "code",
   "execution_count": null,
   "id": "25478464",
   "metadata": {
    "vscode": {
     "languageId": "plaintext"
    }
   },
   "outputs": [],
   "source": [
    "example_db=# SELECT * FROM my_contacts;\n",
    " first_name |  last_name   | birthdate  | profession |       interests\n",
    "------------+--------------+------------+------------+-----------------------\n",
    " Shahboz    | Shirinboyev  | 1999-12-03 | Designer   | Coding, Reading books\n",
    " Navroz     | Abdumurodov  | 1999-03-21 | quruvchi   | eating\n",
    " Javohir    | Abdurashidov | 1999-03-21 | quruvchi   | eating\n",
    " Umid       | Murodov      | 1998-12-08 | doctor     | Reading\n",
    " Jahongir   | Otajonov     | 1978-10-05 | doctor     | Cooking\n",
    " Amirxon    | Umarov       |            |            |\n",
    " Hayotxon   | Jalilov      |            |            |\n",
    " Dilya      | Neymatova    |            |            | Coding\n",
    " Tom        | Caliny       | 1960-12-23 | designer   | voleyball\n",
    " Tim        | Kalith       | 1980-11-11 | driver     | tenis\n",
    "(10 rows)\n",
    "\n",
    "\n",
    "example_db=# SELECT * FROM my_contacts WHERE profession = 'doctor' OR profession = 'driver' OR profession = 'designer';\n",
    " first_name | last_name | birthdate  | profession | interests\n",
    "------------+-----------+------------+------------+-----------\n",
    " Umid       | Murodov   | 1998-12-08 | doctor     | Reading\n",
    " Jahongir   | Otajonov  | 1978-10-05 | doctor     | Cooking\n",
    " Tom        | Caliny    | 1960-12-23 | designer   | voleyball\n",
    " Tim        | Kalith    | 1980-11-11 | driver     | tenis\n",
    "(4 rows)\n",
    "\n",
    "\n",
    "example_db=# SELECT * FROM my_contacts WHERE profession IN ('doctor', 'driver', 'designer');\n",
    " first_name | last_name | birthdate  | profession | interests\n",
    "------------+-----------+------------+------------+-----------\n",
    " Umid       | Murodov   | 1998-12-08 | doctor     | Reading\n",
    " Jahongir   | Otajonov  | 1978-10-05 | doctor     | Cooking\n",
    " Tom        | Caliny    | 1960-12-23 | designer   | voleyball\n",
    " Tim        | Kalith    | 1980-11-11 | driver     | tenis\n",
    "(4 rows)\n",
    "\n",
    "\n",
    "example_db=#"
   ]
  },
  {
   "cell_type": "markdown",
   "id": "9c72be64",
   "metadata": {},
   "source": [
    "`IN`'ning qulay ishlatilinishi: "
   ]
  },
  {
   "cell_type": "markdown",
   "id": "f4bdc6b8",
   "metadata": {},
   "source": [
    "`SELECT * FROM my_contacts WHERE profession = 'doctor' OR profession = 'driver' OR profession = 'designer';`"
   ]
  },
  {
   "cell_type": "markdown",
   "id": "acb48585",
   "metadata": {},
   "source": [
    "`SELECT * FROM my_contacts WHERE profession IN ('doctor', 'driver', 'designer');`"
   ]
  },
  {
   "cell_type": "markdown",
   "id": "06163db2",
   "metadata": {},
   "source": [
    "`NOT IN`"
   ]
  },
  {
   "cell_type": "code",
   "execution_count": null,
   "id": "500a7d50",
   "metadata": {
    "vscode": {
     "languageId": "plaintext"
    }
   },
   "outputs": [],
   "source": [
    "example_db=# SELECT * FROM my_contacts WHERE profession NOT IN ('doctor', 'driver', 'designer');\n",
    " first_name |  last_name   | birthdate  | profession |       interests\n",
    "------------+--------------+------------+------------+-----------------------\n",
    " Shahboz    | Shirinboyev  | 1999-12-03 | Designer   | Coding, Reading books\n",
    " Navroz     | Abdumurodov  | 1999-03-21 | quruvchi   | eating\n",
    " Javohir    | Abdurashidov | 1999-03-21 | quruvchi   | eating\n",
    "(3 rows)\n",
    "\n",
    "\n",
    "example_db=#"
   ]
  },
  {
   "cell_type": "markdown",
   "id": "09f838f7",
   "metadata": {},
   "source": [
    "Shu qiymatlarga teng bo'lmagan qatorlarni chiqaradi.\n",
    "\n",
    "`NOT IN ('doctor', 'driver', 'designer')`"
   ]
  }
 ],
 "metadata": {
  "language_info": {
   "name": "python"
  }
 },
 "nbformat": 4,
 "nbformat_minor": 5
}
