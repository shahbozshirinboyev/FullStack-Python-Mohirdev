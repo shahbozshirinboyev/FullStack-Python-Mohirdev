{
 "cells": [
  {
   "cell_type": "markdown",
   "id": "5cc90393",
   "metadata": {},
   "source": [
    "`Creating Database` (Database yaratish)"
   ]
  },
  {
   "cell_type": "markdown",
   "id": "37360676",
   "metadata": {},
   "source": [
    "- bank_db\n",
    "  - customer_info\n",
    "  - bank_account\n",
    "\n",
    "- customer_info\n",
    "  - first_name\n",
    "  - last_name\n",
    "  - address\n",
    "  - account_number\n",
    "\n",
    "- bank_account\n",
    "  - total_balance\n",
    "  - deposits\n",
    "  - withdrawals"
   ]
  },
  {
   "cell_type": "markdown",
   "id": "f3f06008",
   "metadata": {},
   "source": [
    "`PostgreSQL`ni yoqish:\n",
    "- `Windows:` net start postgresql-x64-15\n",
    "\n",
    "bu yerda 15 versiyani bildiradi."
   ]
  },
  {
   "cell_type": "markdown",
   "id": "1c648d7c",
   "metadata": {},
   "source": [
    "Biron database'ga ulanish: `psql db_nomi`\n",
    "\n",
    "Biron database muhitidan turib boshqa database muhitiga o'tish: `\\c db_nomi`\n"
   ]
  },
  {
   "cell_type": "markdown",
   "id": "09d86e99",
   "metadata": {},
   "source": [
    "Yangi database yaratish: `CREATE DATABASE db_nomi;`\n",
    "\n",
    "Yaratilgan barcha database'lar ro'yxatini ko'rish uchun: `\\l`\n",
    "> `\\l` - bilan database'larning ro'yxatini ko'rganimizda `template0` va `template1` database'lariga ham ko'zimiz tushadi, ular haqiqiy database'lar emas. Yangi database yaratish uchun foydalaniladigan shablonlardir."
   ]
  },
  {
   "cell_type": "markdown",
   "id": "6d0a4976",
   "metadata": {},
   "source": [
    "Yuqorida terminal orqali database yaratgan bo'lsak, shu ishlarni `pgAdmin` orqali ham qilishimiz mumkin. "
   ]
  },
  {
   "cell_type": "markdown",
   "id": "a32ddb30",
   "metadata": {},
   "source": [
    "`Database ichida table yaratish`"
   ]
  },
  {
   "cell_type": "code",
   "execution_count": null,
   "id": "0e02881d",
   "metadata": {
    "vscode": {
     "languageId": "plaintext"
    }
   },
   "outputs": [],
   "source": [
    "CREATE TABLE table_nomi\n",
    "(\n",
    "  ustun_nomi_1 VARCHAR(10),\n",
    "  ustun_nomi_2 VARCHAR(8)\n",
    ");"
   ]
  },
  {
   "cell_type": "code",
   "execution_count": null,
   "id": "2e150171",
   "metadata": {
    "vscode": {
     "languageId": "plaintext"
    }
   },
   "outputs": [],
   "source": [
    "CREATE TABLE doughnut_list\n",
    "(\n",
    "  doughnut_name VARCHAR(10),\n",
    "  doughnut_type VARCHAR(8)\n",
    ");"
   ]
  },
  {
   "cell_type": "markdown",
   "id": "dd7a3fb2",
   "metadata": {},
   "source": [
    "![alt text](create_table.png)"
   ]
  },
  {
   "cell_type": "markdown",
   "id": "7c9a79d4",
   "metadata": {},
   "source": [
    "Biz ulanib turgan database ichidagi database'larning ro'yxatini ko'rish: `\\d`"
   ]
  },
  {
   "cell_type": "markdown",
   "id": "d88687e5",
   "metadata": {},
   "source": [
    "Kattaroq jadval yaratib ko'ramiz: `my_contacts` nomli."
   ]
  },
  {
   "cell_type": "code",
   "execution_count": null,
   "id": "70b5a188",
   "metadata": {
    "vscode": {
     "languageId": "plaintext"
    }
   },
   "outputs": [],
   "source": [
    "CREATE TABLE my_contacts\n",
    "(\n",
    "  last_name VARCHAR(50),\n",
    "  first_name VARCHAR(50),\n",
    "  email VARCHAR(50),\n",
    "  birthday DATE,\n",
    "  profession VARCHAR(30),\n",
    "  location VARCHAR(60),\n",
    "  status VARCHAR(20),\n",
    "  interests VARCHAR(200),\n",
    "  seeking VARCHAR(200)\n",
    ");"
   ]
  },
  {
   "cell_type": "markdown",
   "id": "f89a663b",
   "metadata": {},
   "source": [
    "![alt text](new_table_create.png)"
   ]
  },
  {
   "cell_type": "markdown",
   "id": "dfe87c05",
   "metadata": {},
   "source": [
    "PostgreSQL dagi `CREATE TABLE` ga o'xshash kalit so'zlarni kichik harflarda yozsa ham bo'ladi ammo bunday yozish ba'zi chalkashliklarni keltirib chiqarishi mumkin. Shu sababli KATTA HARFLARDA yoziladi.\n",
    "\n",
    "Bundan tashqari yuqorida `table` yaratishni ko'rganmiz, uni ketma-ket yozmasdan bitta qatorda ham yozsak bo'ladi."
   ]
  },
  {
   "cell_type": "code",
   "execution_count": null,
   "id": "a9afec3a",
   "metadata": {
    "vscode": {
     "languageId": "plaintext"
    }
   },
   "outputs": [],
   "source": [
    "CREATE TABLE my_contacts(last_name VARCHAR(50),first_name VARCHAR(50),email VARCHAR(50),birthday DATE, profession VARCHAR(30), location VARCHAR(60), status VARCHAR(20), interests VARCHAR(200), seeking VARCHAR(200));"
   ]
  },
  {
   "cell_type": "markdown",
   "id": "d6311739",
   "metadata": {},
   "source": [
    "Yuqoridagi hamma ishlarni `pgAdmin` bilan qilsa bo'ladi. \n",
    "Ammo juda ko'p dasturchilar terminaldan foydalanishadi."
   ]
  },
  {
   "cell_type": "markdown",
   "id": "46080762",
   "metadata": {},
   "source": [
    "Database > Schemas > public > Tables > (2)[doughnut_list][my_contacts]"
   ]
  },
  {
   "cell_type": "markdown",
   "id": "76993d36",
   "metadata": {},
   "source": [
    "> `Tables`'ni ustiga mishkani o'ng tugmasini bosib create table qilib jadval qo'shishimiz mumkin bo'ladi. "
   ]
  }
 ],
 "metadata": {
  "language_info": {
   "name": "python"
  }
 },
 "nbformat": 4,
 "nbformat_minor": 5
}
