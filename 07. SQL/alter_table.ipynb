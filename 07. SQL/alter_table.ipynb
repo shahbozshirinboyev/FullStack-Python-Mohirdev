{
 "cells": [
  {
   "cell_type": "markdown",
   "id": "814234ae",
   "metadata": {},
   "source": [
    "`ALTER TABLE`"
   ]
  },
  {
   "cell_type": "markdown",
   "id": "eedcf898",
   "metadata": {},
   "source": [
    "`ALTER TABLE` — bu SQL (Structured Query Language) operatori bo‘lib, mavjud jadval (table) tuzilmasini o‘zgartirish uchun ishlatiladi. U yordamida jadvalga yangi ustun (column) qo‘shish, ustunni o‘chirish, ustun nomini yoki tipini o‘zgartirish va boshqa strukturaviy o‘zgarishlar kiritish mumkin."
   ]
  },
  {
   "cell_type": "markdown",
   "id": "5f4efa6a",
   "metadata": {},
   "source": [
    "Bizda bor va `primary key`'si bo'lmagan jadvalga 'PRIMARY KEY' qo'shib ko'ramiz:"
   ]
  },
  {
   "cell_type": "code",
   "execution_count": null,
   "id": "37a89d74",
   "metadata": {
    "vscode": {
     "languageId": "plaintext"
    }
   },
   "outputs": [],
   "source": [
    "example_db=# SELECT * FROM my_contacts;\n",
    " first_name |  last_name   | birthdate  | profession |       interests\n",
    "------------+--------------+------------+------------+-----------------------\n",
    " Shahboz    | Shirinboyev  | 1999-12-03 | Designer   | Coding, Reading books\n",
    " Navroz     | Abdumurodov  | 1999-03-21 | quruvchi   | eating\n",
    " Javohir    | Abdurashidov | 1999-03-21 | quruvchi   | eating\n",
    " Umid       | Murodov      | 1998-12-08 | doctor     | Reading\n",
    " Jahongir   | Otajonov     | 1978-10-05 | doctor     | Cooking\n",
    " Tom        | Caliny       | 1960-12-23 | designer   | voleyball\n",
    " Tim        | Kalith       | 1980-11-11 | driver     | tenis\n",
    " Amirxon    | Umarov       | 1998-12-28 | electric   | eating\n",
    " Dilya      | Neymatova    | 2002-05-12 | modeller   | Coding\n",
    "(9 rows)\n",
    "\n",
    "\n",
    "example_db=#"
   ]
  },
  {
   "cell_type": "markdown",
   "id": "6896c0e0",
   "metadata": {},
   "source": [
    "Yuqoridagi jadvalga `id` ustunini qo'shib ko'ramiz, uni qilish uchun `ALTER TABEL` kalit so'zidan foydalanib ko'ramiz:"
   ]
  },
  {
   "cell_type": "markdown",
   "id": "6188960e",
   "metadata": {},
   "source": [
    "`ALTER TABLE my_contacts ADD COLUMN id SERIAL PRIMARY KEY;`"
   ]
  },
  {
   "cell_type": "code",
   "execution_count": null,
   "id": "483a6781",
   "metadata": {
    "vscode": {
     "languageId": "plaintext"
    }
   },
   "outputs": [],
   "source": [
    "example_db=# ALTER TABLE my_contacts ADD COLUMN id SERIAL PRIMARY KEY;\n",
    "ALTER TABLE\n",
    "example_db=#"
   ]
  },
  {
   "cell_type": "code",
   "execution_count": null,
   "id": "fa6ffb10",
   "metadata": {
    "vscode": {
     "languageId": "plaintext"
    }
   },
   "outputs": [],
   "source": [
    "example_db=# SELECT * FROM my_contacts;\n",
    " first_name |  last_name   | birthdate  | profession |       interests       | id\n",
    "------------+--------------+------------+------------+-----------------------+----\n",
    " Shahboz    | Shirinboyev  | 1999-12-03 | Designer   | Coding, Reading books |  1\n",
    " Navroz     | Abdumurodov  | 1999-03-21 | quruvchi   | eating                |  2\n",
    " Javohir    | Abdurashidov | 1999-03-21 | quruvchi   | eating                |  3\n",
    " Umid       | Murodov      | 1998-12-08 | doctor     | Reading               |  4\n",
    " Jahongir   | Otajonov     | 1978-10-05 | doctor     | Cooking               |  5\n",
    " Tom        | Caliny       | 1960-12-23 | designer   | voleyball             |  6\n",
    " Tim        | Kalith       | 1980-11-11 | driver     | tenis                 |  7\n",
    " Amirxon    | Umarov       | 1998-12-28 | electric   | eating                |  8\n",
    " Dilya      | Neymatova    | 2002-05-12 | modeller   | Coding                |  9\n",
    "(9 rows)\n",
    "\n",
    "\n",
    "example_db=#"
   ]
  },
  {
   "cell_type": "markdown",
   "id": "69779435",
   "metadata": {},
   "source": [
    "Yuqoridagi jadvalga qaraydigan bo'lsak unga yangi `id` nomli `column` qo'shilganini ko'rishimiz mumkin."
   ]
  },
  {
   "cell_type": "markdown",
   "id": "8d6f3d35",
   "metadata": {},
   "source": [
    "Yana boshq 'phone' nomli ustun kiritib ko'ramiz:"
   ]
  },
  {
   "cell_type": "markdown",
   "id": "566a8717",
   "metadata": {},
   "source": [
    "`ALTER TABLE my_contacts ADD COLUMN phone VARCHAR(50);`"
   ]
  },
  {
   "cell_type": "code",
   "execution_count": null,
   "id": "ed57b3c4",
   "metadata": {
    "vscode": {
     "languageId": "plaintext"
    }
   },
   "outputs": [],
   "source": [
    "example_db=# ALTER TABLE my_contacts ADD COLUMN phone VARCHAR(50);\n",
    "ALTER TABLE\n",
    "example_db=# SELECT * FROM my_contacts;\n",
    " first_name |  last_name   | birthdate  | profession |       interests       | id | phone\n",
    "------------+--------------+------------+------------+-----------------------+----+-------\n",
    " Shahboz    | Shirinboyev  | 1999-12-03 | Designer   | Coding, Reading books |  1 |\n",
    " Navroz     | Abdumurodov  | 1999-03-21 | quruvchi   | eating                |  2 |\n",
    " Javohir    | Abdurashidov | 1999-03-21 | quruvchi   | eating                |  3 |\n",
    " Umid       | Murodov      | 1998-12-08 | doctor     | Reading               |  4 |\n",
    " Jahongir   | Otajonov     | 1978-10-05 | doctor     | Cooking               |  5 |\n",
    " Tom        | Caliny       | 1960-12-23 | designer   | voleyball             |  6 |\n",
    " Tim        | Kalith       | 1980-11-11 | driver     | tenis                 |  7 |\n",
    " Amirxon    | Umarov       | 1998-12-28 | electric   | eating                |  8 |\n",
    " Dilya      | Neymatova    | 2002-05-12 | modeller   | Coding                |  9 |\n",
    "(9 rows)\n",
    "\n",
    "\n",
    "example_db=#"
   ]
  },
  {
   "cell_type": "markdown",
   "id": "8934b326",
   "metadata": {},
   "source": [
    "Ana edi shu qatorlarni to'ldirib ko'ramiz:"
   ]
  },
  {
   "cell_type": "code",
   "execution_count": null,
   "id": "b4b5ce94",
   "metadata": {
    "vscode": {
     "languageId": "plaintext"
    }
   },
   "outputs": [],
   "source": [
    "example_db=# UPDATE my_contacts SET phone = '+998930091166';\n",
    "UPDATE 9\n",
    "example_db=# SELECT * FROM my_contacts;\n",
    " first_name |  last_name   | birthdate  | profession |       interests       | id |     phone\n",
    "------------+--------------+------------+------------+-----------------------+----+---------------\n",
    " Shahboz    | Shirinboyev  | 1999-12-03 | Designer   | Coding, Reading books |  1 | +998930091166\n",
    " Navroz     | Abdumurodov  | 1999-03-21 | quruvchi   | eating                |  2 | +998930091166\n",
    " Javohir    | Abdurashidov | 1999-03-21 | quruvchi   | eating                |  3 | +998930091166\n",
    " Umid       | Murodov      | 1998-12-08 | doctor     | Reading               |  4 | +998930091166\n",
    " Jahongir   | Otajonov     | 1978-10-05 | doctor     | Cooking               |  5 | +998930091166\n",
    " Tom        | Caliny       | 1960-12-23 | designer   | voleyball             |  6 | +998930091166\n",
    " Tim        | Kalith       | 1980-11-11 | driver     | tenis                 |  7 | +998930091166\n",
    " Amirxon    | Umarov       | 1998-12-28 | electric   | eating                |  8 | +998930091166\n",
    " Dilya      | Neymatova    | 2002-05-12 | modeller   | Coding                |  9 | +998930091166\n",
    "(9 rows)\n",
    "\n",
    "\n",
    "example_db=#"
   ]
  },
  {
   "cell_type": "markdown",
   "id": "27d0ca83",
   "metadata": {},
   "source": [
    "`Jadval NOMI'ni o'zgartirish:`"
   ]
  },
  {
   "cell_type": "markdown",
   "id": "be393a7d",
   "metadata": {},
   "source": [
    "`ALTER TABLE my_contacts RENAME TO contacts;`"
   ]
  },
  {
   "cell_type": "code",
   "execution_count": null,
   "id": "8a7c08a7",
   "metadata": {
    "vscode": {
     "languageId": "plaintext"
    }
   },
   "outputs": [],
   "source": [
    "example_db=# ALTER TABLE my_contacts RENAME TO contacts;\n",
    "ALTER TABLE\n",
    "example_db=#"
   ]
  },
  {
   "cell_type": "code",
   "execution_count": null,
   "id": "5c4886d1",
   "metadata": {
    "vscode": {
     "languageId": "plaintext"
    }
   },
   "outputs": [],
   "source": [
    "example_db=# SELECT * FROM contacts;\n",
    " first_name |  last_name   | birthdate  | profession |       interests       | id |     phone\n",
    "------------+--------------+------------+------------+-----------------------+----+---------------\n",
    " Shahboz    | Shirinboyev  | 1999-12-03 | Designer   | Coding, Reading books |  1 | +998930091166\n",
    " Navroz     | Abdumurodov  | 1999-03-21 | quruvchi   | eating                |  2 | +998930091166\n",
    " Javohir    | Abdurashidov | 1999-03-21 | quruvchi   | eating                |  3 | +998930091166\n",
    " Umid       | Murodov      | 1998-12-08 | doctor     | Reading               |  4 | +998930091166\n",
    " Jahongir   | Otajonov     | 1978-10-05 | doctor     | Cooking               |  5 | +998930091166\n",
    " Tom        | Caliny       | 1960-12-23 | designer   | voleyball             |  6 | +998930091166\n",
    " Tim        | Kalith       | 1980-11-11 | driver     | tenis                 |  7 | +998930091166\n",
    " Amirxon    | Umarov       | 1998-12-28 | electric   | eating                |  8 | +998930091166\n",
    " Dilya      | Neymatova    | 2002-05-12 | modeller   | Coding                |  9 | +998930091166\n",
    "(9 rows)\n",
    "\n",
    "\n",
    "example_db=#"
   ]
  },
  {
   "cell_type": "markdown",
   "id": "aadda72b",
   "metadata": {},
   "source": [
    "`column` nomlarini o'zgartirish:\n",
    "\n",
    "`ALTER TABLE contacts RENAME phone TO phone_number;`"
   ]
  },
  {
   "cell_type": "code",
   "execution_count": null,
   "id": "b758e384",
   "metadata": {
    "vscode": {
     "languageId": "plaintext"
    }
   },
   "outputs": [],
   "source": [
    "example_db=# ALTER TABLE contacts RENAME phone TO phone_number;\n",
    "ALTER TABLE\n",
    "example_db=#"
   ]
  },
  {
   "cell_type": "code",
   "execution_count": null,
   "id": "30c9eed4",
   "metadata": {
    "vscode": {
     "languageId": "plaintext"
    }
   },
   "outputs": [],
   "source": [
    "example_db=# SELECT * FROM contacts;\n",
    " first_name |  last_name   | birthdate  | profession |       interests       | id | phone_number\n",
    "------------+--------------+------------+------------+-----------------------+----+---------------\n",
    " Shahboz    | Shirinboyev  | 1999-12-03 | Designer   | Coding, Reading books |  1 | +998930091166\n",
    " Navroz     | Abdumurodov  | 1999-03-21 | quruvchi   | eating                |  2 | +998930091166\n",
    " Javohir    | Abdurashidov | 1999-03-21 | quruvchi   | eating                |  3 | +998930091166\n",
    " Umid       | Murodov      | 1998-12-08 | doctor     | Reading               |  4 | +998930091166\n",
    " Jahongir   | Otajonov     | 1978-10-05 | doctor     | Cooking               |  5 | +998930091166\n",
    " Tom        | Caliny       | 1960-12-23 | designer   | voleyball             |  6 | +998930091166\n",
    " Tim        | Kalith       | 1980-11-11 | driver     | tenis                 |  7 | +998930091166\n",
    " Amirxon    | Umarov       | 1998-12-28 | electric   | eating                |  8 | +998930091166\n",
    " Dilya      | Neymatova    | 2002-05-12 | modeller   | Coding                |  9 | +998930091166\n",
    "(9 rows)\n",
    "\n",
    "\n",
    "example_db=#"
   ]
  },
  {
   "cell_type": "markdown",
   "id": "e2eb5142",
   "metadata": {},
   "source": [
    "Table nomini o'zgartirish bilan jadvalni nomini o'zgartirishda farq bor biroz, shunda adashmasligimiz kerak:\n",
    "\n",
    "`ALTER TABLE my_contacts RENAME TO contacts;` - jadval nomi o'zgartirish.\n",
    "\n",
    "\n",
    "`ALTER TABLE contacts RENAME phone TO phone_number;` - column nomini o'zgartirish.\n"
   ]
  },
  {
   "cell_type": "markdown",
   "id": "e5fbc854",
   "metadata": {},
   "source": [
    "Bizdda bor bo'lgan `contacts` tableni tuzilmasini ko'rib olaylik:"
   ]
  },
  {
   "cell_type": "code",
   "execution_count": null,
   "id": "83c26b8f",
   "metadata": {
    "vscode": {
     "languageId": "plaintext"
    }
   },
   "outputs": [],
   "source": [
    "example_db=# \\d contacts\n",
    "                                        Table \"public.contacts\"\n",
    "    Column    |          Type          | Collation | Nullable |                 Default\n",
    "--------------+------------------------+-----------+----------+-----------------------------------------\n",
    " first_name   | character varying(50)  |           |          |\n",
    " last_name    | character varying(50)  |           |          |\n",
    " birthdate    | date                   |           |          |\n",
    " profession   | character varying(60)  |           |          |\n",
    " interests    | character varying(100) |           |          |\n",
    " id           | integer                |           | not null | nextval('my_contacts_id_seq'::regclass)\n",
    " phone_number | character varying(50)  |           |          |\n",
    "Indexes:\n",
    "    \"my_contacts_pkey\" PRIMARY KEY, btree (id)\n",
    "\n",
    "\n",
    "example_db=#"
   ]
  },
  {
   "cell_type": "markdown",
   "id": "8a3a661c",
   "metadata": {},
   "source": [
    "`COLUMN` turini o'zgartirish: misol uchun yuqorida hozir `phone_number VARCHAR(50)` turibdi ekan shuni `VAARCHAR(60)`'ga o'zgartirishimiz kerak:"
   ]
  },
  {
   "cell_type": "markdown",
   "id": "d8f6560f",
   "metadata": {},
   "source": [
    "`ALTER TABLE contacts ALTER COLUMN phone_number TYPE VARCHAR(60);`"
   ]
  },
  {
   "cell_type": "markdown",
   "id": "f0b5c25a",
   "metadata": {},
   "source": [
    "O'zgarishlarni ko'ramiz:"
   ]
  },
  {
   "cell_type": "code",
   "execution_count": null,
   "id": "98dc1415",
   "metadata": {
    "vscode": {
     "languageId": "plaintext"
    }
   },
   "outputs": [],
   "source": [
    "example_db=# ALTER TABLE contacts ALTER COLUMN phone_number TYPE VARCHAR(60);\n",
    "ALTER TABLE\n",
    "example_db=#"
   ]
  },
  {
   "cell_type": "markdown",
   "id": "2a085a39",
   "metadata": {},
   "source": [
    "Jadvalni tuzilmasini qayta ko'ramiz: "
   ]
  },
  {
   "cell_type": "code",
   "execution_count": null,
   "id": "dc425214",
   "metadata": {
    "vscode": {
     "languageId": "plaintext"
    }
   },
   "outputs": [],
   "source": [
    "example_db=# \\d contacts\n",
    "                                        Table \"public.contacts\"\n",
    "    Column    |          Type          | Collation | Nullable |                 Default\n",
    "--------------+------------------------+-----------+----------+-----------------------------------------\n",
    " first_name   | character varying(50)  |           |          |\n",
    " last_name    | character varying(50)  |           |          |\n",
    " birthdate    | date                   |           |          |\n",
    " profession   | character varying(60)  |           |          |\n",
    " interests    | character varying(100) |           |          |\n",
    " id           | integer                |           | not null | nextval('my_contacts_id_seq'::regclass)\n",
    " phone_number | character varying(60)  |           |          |\n",
    "Indexes:\n",
    "    \"my_contacts_pkey\" PRIMARY KEY, btree (id)\n",
    "\n",
    "\n",
    "example_db=#"
   ]
  },
  {
   "cell_type": "markdown",
   "id": "3b200b6d",
   "metadata": {},
   "source": [
    "Agar jadvalni bironta ustuniga qiymatni kiritishni majburiy qilib qo'ysak, unda unday o'zgartirishni qanday kiritamiz jadvalga:\n",
    "\n",
    "`ALTER TABLE contacts ALTER COLUMN phone_number SET NOT NULL;`"
   ]
  },
  {
   "cell_type": "code",
   "execution_count": null,
   "id": "9ae8ade1",
   "metadata": {
    "vscode": {
     "languageId": "plaintext"
    }
   },
   "outputs": [],
   "source": [
    "example_db=# ALTER TABLE contacts ALTER COLUMN phone_number SET NOT NULL;\n",
    "ALTER TABLE\n",
    "example_db=#"
   ]
  },
  {
   "cell_type": "markdown",
   "id": "963ba3e2",
   "metadata": {},
   "source": [
    "Jadvalni o'zgartirishdan keyin ko'radigan bo'lsak:"
   ]
  },
  {
   "cell_type": "code",
   "execution_count": null,
   "id": "ece2d3f0",
   "metadata": {
    "vscode": {
     "languageId": "plaintext"
    }
   },
   "outputs": [],
   "source": [
    "example_db=# \\d contacts\n",
    "                                        Table \"public.contacts\"\n",
    "    Column    |          Type          | Collation | Nullable |                 Default\n",
    "--------------+------------------------+-----------+----------+-----------------------------------------\n",
    " first_name   | character varying(50)  |           |          |\n",
    " last_name    | character varying(50)  |           |          |\n",
    " birthdate    | date                   |           |          |\n",
    " profession   | character varying(60)  |           |          |\n",
    " interests    | character varying(100) |           |          |\n",
    " id           | integer                |           | not null | nextval('my_contacts_id_seq'::regclass)\n",
    " phone_number | character varying(60)  |           | not null |\n",
    "Indexes:\n",
    "    \"my_contacts_pkey\" PRIMARY KEY, btree (id)\n",
    "\n",
    "\n",
    "example_db=#"
   ]
  },
  {
   "cell_type": "markdown",
   "id": "c6a00248",
   "metadata": {},
   "source": [
    "`COLUMN`'ni o'chirish: "
   ]
  },
  {
   "cell_type": "markdown",
   "id": "6a7e1a7f",
   "metadata": {},
   "source": [
    "`contacts` tabeliga yangi column qo'shamiz:\n",
    "\n",
    "`ALTER TABLE contacts ADD COLUMN nickname VARCHAR(50);`"
   ]
  },
  {
   "cell_type": "code",
   "execution_count": null,
   "id": "a8c2be86",
   "metadata": {
    "vscode": {
     "languageId": "plaintext"
    }
   },
   "outputs": [],
   "source": [
    "example_db=# ALTER TABLE contacts ADD COLUMN nickname VARCHAR(50);\n",
    "ALTER TABLE\n",
    "example_db=# SELECT * FROM contacts;\n",
    " first_name |  last_name   | birthdate  | profession |       interests       | id | phone_number  | nickname\n",
    "------------+--------------+------------+------------+-----------------------+----+---------------+----------\n",
    " Shahboz    | Shirinboyev  | 1999-12-03 | Designer   | Coding, Reading books |  1 | +998930091166 |\n",
    " Navroz     | Abdumurodov  | 1999-03-21 | quruvchi   | eating                |  2 | +998930091166 |\n",
    " Javohir    | Abdurashidov | 1999-03-21 | quruvchi   | eating                |  3 | +998930091166 |\n",
    " Umid       | Murodov      | 1998-12-08 | doctor     | Reading               |  4 | +998930091166 |\n",
    " Jahongir   | Otajonov     | 1978-10-05 | doctor     | Cooking               |  5 | +998930091166 |\n",
    " Tom        | Caliny       | 1960-12-23 | designer   | voleyball             |  6 | +998930091166 |\n",
    " Tim        | Kalith       | 1980-11-11 | driver     | tenis                 |  7 | +998930091166 |\n",
    " Amirxon    | Umarov       | 1998-12-28 | electric   | eating                |  8 | +998930091166 |\n",
    " Dilya      | Neymatova    | 2002-05-12 | modeller   | Coding                |  9 | +998930091166 |\n",
    "(9 rows)\n",
    "\n",
    "\n",
    "example_db=#"
   ]
  },
  {
   "cell_type": "markdown",
   "id": "cee85ddd",
   "metadata": {},
   "source": [
    "`nickname` column'ni qo'shdik va bizga u kerak bo'lmay qoldi uni olib tashlashimiz kerak:\n",
    "Bu uchun:\n",
    "\n",
    "`ALTER TABLE contacts DROP COLUMN nickname;`"
   ]
  },
  {
   "cell_type": "code",
   "execution_count": null,
   "id": "8464f557",
   "metadata": {
    "vscode": {
     "languageId": "plaintext"
    }
   },
   "outputs": [],
   "source": [
    "example_db=# ALTER TABLE contacts DROP COLUMN nickname;\n",
    "ALTER TABLE\n",
    "example_db=# SELECT * FROM contacts;\n",
    " first_name |  last_name   | birthdate  | profession |       interests       | id | phone_number\n",
    "------------+--------------+------------+------------+-----------------------+----+---------------\n",
    " Shahboz    | Shirinboyev  | 1999-12-03 | Designer   | Coding, Reading books |  1 | +998930091166\n",
    " Navroz     | Abdumurodov  | 1999-03-21 | quruvchi   | eating                |  2 | +998930091166\n",
    " Javohir    | Abdurashidov | 1999-03-21 | quruvchi   | eating                |  3 | +998930091166\n",
    " Umid       | Murodov      | 1998-12-08 | doctor     | Reading               |  4 | +998930091166\n",
    " Jahongir   | Otajonov     | 1978-10-05 | doctor     | Cooking               |  5 | +998930091166\n",
    " Tom        | Caliny       | 1960-12-23 | designer   | voleyball             |  6 | +998930091166\n",
    " Tim        | Kalith       | 1980-11-11 | driver     | tenis                 |  7 | +998930091166\n",
    " Amirxon    | Umarov       | 1998-12-28 | electric   | eating                |  8 | +998930091166\n",
    " Dilya      | Neymatova    | 2002-05-12 | modeller   | Coding                |  9 | +998930091166\n",
    "(9 rows)\n",
    "\n",
    "\n",
    "example_db=#"
   ]
  }
 ],
 "metadata": {
  "language_info": {
   "name": "python"
  }
 },
 "nbformat": 4,
 "nbformat_minor": 5
}
