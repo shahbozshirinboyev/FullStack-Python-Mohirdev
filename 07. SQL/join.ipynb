{
 "cells": [
  {
   "cell_type": "markdown",
   "metadata": {},
   "source": [
    "`JOIN`\n",
    "\n",
    "> Bitta query yordamida, bir nechta jadvallardan ma'lumot olishni o'rganamiz."
   ]
  },
  {
   "cell_type": "code",
   "execution_count": null,
   "metadata": {
    "vscode": {
     "languageId": "plaintext"
    }
   },
   "outputs": [],
   "source": [
    "SELECT first_name FROM contacts ORDER BY first_name;"
   ]
  },
  {
   "cell_type": "code",
   "execution_count": null,
   "metadata": {
    "vscode": {
     "languageId": "plaintext"
    }
   },
   "outputs": [],
   "source": [
    "example_db=# SELECT first_name FROM contacts ORDER BY first_name;\n",
    " first_name\n",
    "------------\n",
    " Husniddin\n",
    " Nargiza\n",
    " Shahboz\n",
    " Subhiddin\n",
    " Xamid\n",
    " Zerda\n",
    "(6 rows)\n",
    "\n",
    "\n",
    "example_db=#"
   ]
  },
  {
   "cell_type": "markdown",
   "metadata": {},
   "source": [
    "Yuqoridagi kodda first_name ikki marta takrorlangan shuning uchun `column` nomini qisqa nomlash mumkin agar takrorlanish bo'lsa:\n",
    "\n",
    "- first_name as fn"
   ]
  },
  {
   "cell_type": "markdown",
   "metadata": {},
   "source": [
    "Komandani qaytadan yozsak: `SELECT first_name as fn FROM contacts ORDER BY fn;`"
   ]
  },
  {
   "cell_type": "code",
   "execution_count": null,
   "metadata": {
    "vscode": {
     "languageId": "plaintext"
    }
   },
   "outputs": [],
   "source": [
    "example_db=# SELECT first_name as fn FROM contacts ORDER BY fn;\n",
    "    fn\n",
    "-----------\n",
    " Husniddin\n",
    " Nargiza\n",
    " Shahboz\n",
    " Subhiddin\n",
    " Xamid\n",
    " Zerda\n",
    "(6 rows)\n",
    "\n",
    "\n",
    "example_db=#"
   ]
  },
  {
   "cell_type": "markdown",
   "metadata": {},
   "source": [
    "Nafaqat `column` uchun `nickname` berish mumkin, balki `table` uchun ham `nickname` berish mumkin. "
   ]
  },
  {
   "cell_type": "markdown",
   "metadata": {},
   "source": [
    "Bunday holatda foydalanishdan maqsad o'zi, uzun bo'lgan `query`'larda yaxshi as qotadi."
   ]
  },
  {
   "cell_type": "code",
   "execution_count": null,
   "metadata": {
    "vscode": {
     "languageId": "plaintext"
    }
   },
   "outputs": [],
   "source": [
    "example_db=# SELECT * FROM contacts;\n",
    " id | first_name |  last_name  | birthdate  |         interests          | phone_number  | profession_id\n",
    "----+------------+-------------+------------+----------------------------+---------------+---------------\n",
    "  1 | Shahboz    | Shirinboyev | 1999-12-03 | Coding, Football, Baseball | +998930091166 |             6\n",
    "  2 | Nargiza    | Booqulov    | 1997-07-05 | Cooking, Music             | +998970071476 |             5\n",
    "  3 | Zerda      | Jursinova   | 2007-09-28 | Coding, Modeling           | +998991231456 |             2\n",
    "  4 | Xamid      | Xoliqov     | 2002-08-13 | Modeling, Baseball, Chess  | +998954278945 |             4\n",
    "  5 | Husniddin  | Ergashev    | 2001-12-23 | Chess, Swimming            | +998978954567 |             1\n",
    "  6 | Subhiddin  | Nuriddinov  | 2000-09-20 | Cooking, Fly               | +998913256987 |             2\n",
    "(6 rows)\n",
    "\n",
    "\n",
    "example_db=# SELECT * FROM profession WHERE id=6;\n",
    " id |   name\n",
    "----+----------\n",
    "  6 | electric\n",
    "(1 row)\n",
    "\n",
    "\n",
    "example_db=#"
   ]
  },
  {
   "cell_type": "markdown",
   "metadata": {},
   "source": [
    "1. 1-muammo: Bitta ma'lumotni olish uchun, 2ta qator query yozishga to'g'ri keldi.\n",
    "2. 2-muammo: Har doim biron userni profession ma'lumotini olish uchun har safar shunaqa 2ta qator query yozish kerak bo'ladi."
   ]
  },
  {
   "cell_type": "markdown",
   "metadata": {},
   "source": [
    "> Bitta buyruq bilan ham foydalanuvchini `first_name`ni ham `profession name`ni ko'rib turishimiz kerak. "
   ]
  },
  {
   "cell_type": "markdown",
   "metadata": {},
   "source": [
    "`JOIN` buyruqlaridan foydalangan holda ana shunday ma'lumotlarni bitta query bilan ko'rishimiz mumkin."
   ]
  },
  {
   "cell_type": "markdown",
   "metadata": {},
   "source": [
    "`SELECT contacts.first_name, contacts.last_name, profession.name FROM contacts INNER JOIN profession ON contacts.profession_id = profession.id;`"
   ]
  },
  {
   "cell_type": "code",
   "execution_count": null,
   "metadata": {
    "vscode": {
     "languageId": "plaintext"
    }
   },
   "outputs": [],
   "source": [
    "example_db=# SELECT contacts.first_name, contacts.last_name, profession.name FROM contacts INNER JOIN profession ON contacts.profession_id = profession.id;\n",
    " first_name |  last_name  |   name\n",
    "------------+-------------+----------\n",
    " Husniddin  | Ergashev    | builder\n",
    " Subhiddin  | Nuriddinov  | designer\n",
    " Zerda      | Jursinova   | designer\n",
    " Xamid      | Xoliqov     | driver\n",
    " Nargiza    | Booqulov    | model\n",
    " Shahboz    | Shirinboyev | electric\n",
    "(6 rows)\n",
    "\n",
    "\n",
    "example_db=#"
   ]
  },
  {
   "cell_type": "markdown",
   "metadata": {},
   "source": [
    "`INNER JOIN` - faqatgina `ON` dan keyingi shart bajarilsagina ma'lumot qaytaradi."
   ]
  },
  {
   "cell_type": "markdown",
   "metadata": {},
   "source": [
    "Misol uchun `contacts` jadvaliga yangi user qo'shamiz va profession_id ni bo'sh qoldiramiz va qaytadan yuqoridagi queryni bajarib ko'ramiz:"
   ]
  },
  {
   "cell_type": "code",
   "execution_count": null,
   "metadata": {
    "vscode": {
     "languageId": "plaintext"
    }
   },
   "outputs": [],
   "source": [
    "example_db=# INSERT INTO contacts (first_name, last_name, phone_number) VALUES ('Tarkan', 'Uzuglu', '+998965748345');\n",
    "INSERT 0 1\n",
    "example_db=# SELECT * FROM contacts;\n",
    " id | first_name |  last_name  | birthdate  |         interests          | phone_number  | profession_id\n",
    "----+------------+-------------+------------+----------------------------+---------------+---------------\n",
    "  1 | Shahboz    | Shirinboyev | 1999-12-03 | Coding, Football, Baseball | +998930091166 |             6\n",
    "  2 | Nargiza    | Booqulov    | 1997-07-05 | Cooking, Music             | +998970071476 |             5\n",
    "  3 | Zerda      | Jursinova   | 2007-09-28 | Coding, Modeling           | +998991231456 |             2\n",
    "  4 | Xamid      | Xoliqov     | 2002-08-13 | Modeling, Baseball, Chess  | +998954278945 |             4\n",
    "  5 | Husniddin  | Ergashev    | 2001-12-23 | Chess, Swimming            | +998978954567 |             1\n",
    "  6 | Subhiddin  | Nuriddinov  | 2000-09-20 | Cooking, Fly               | +998913256987 |             2\n",
    "  7 | Tarkan     | Uzuglu      |            |                            | +998965748345 |\n",
    "(7 rows)\n",
    "\n",
    "\n",
    "example_db=#"
   ]
  },
  {
   "cell_type": "markdown",
   "metadata": {},
   "source": [
    "Endi `INNER JOIN` querysini qayta kiritib ko'ramiz:"
   ]
  },
  {
   "cell_type": "code",
   "execution_count": null,
   "metadata": {
    "vscode": {
     "languageId": "plaintext"
    }
   },
   "outputs": [],
   "source": [
    "example_db=# SELECT contacts.first_name, contacts.last_name, profession.name FROM contacts INNER JOIN profession ON contacts.profession_id = profession.id;\n",
    " first_name |  last_name  |   name\n",
    "------------+-------------+----------\n",
    " Husniddin  | Ergashev    | builder\n",
    " Subhiddin  | Nuriddinov  | designer\n",
    " Zerda      | Jursinova   | designer\n",
    " Xamid      | Xoliqov     | driver\n",
    " Nargiza    | Booqulov    | model\n",
    " Shahboz    | Shirinboyev | electric\n",
    "(6 rows)\n",
    "\n",
    "\n",
    "example_db=#"
   ]
  },
  {
   "cell_type": "markdown",
   "metadata": {},
   "source": [
    "Ko'rishimiz mumkin biz yangi kiritgan `Tarkan` user yo'q, chunki bu userda `profession_id` yo'q va u `contacts.profession_id = profession.id` shartni bajarmayabdi."
   ]
  },
  {
   "cell_type": "markdown",
   "metadata": {},
   "source": [
    "`ALIAS` `AS` (taxallus) – jadval yoki ustunga vaqtinchalik nom berish."
   ]
  },
  {
   "cell_type": "markdown",
   "metadata": {},
   "source": [
    "`SELECT c.first_name, c.last_name, p.name FROM contacts AS c, INNER JOIN profession AS p ON c.profession_id = p.id;`"
   ]
  },
  {
   "cell_type": "code",
   "execution_count": null,
   "metadata": {
    "vscode": {
     "languageId": "plaintext"
    }
   },
   "outputs": [],
   "source": [
    "example_db=# SELECT c.first_name, c.last_name, p.name FROM contacts AS c INNER JOIN profession AS p ON c.profession_id = p.id;\n",
    " first_name |  last_name  |   name\n",
    "------------+-------------+----------\n",
    " Husniddin  | Ergashev    | builder\n",
    " Subhiddin  | Nuriddinov  | designer\n",
    " Zerda      | Jursinova   | designer\n",
    " Xamid      | Xoliqov     | driver\n",
    " Nargiza    | Booqulov    | model\n",
    " Shahboz    | Shirinboyev | electric\n",
    "(6 rows)\n",
    "\n",
    "\n",
    "example_db=#"
   ]
  },
  {
   "cell_type": "markdown",
   "metadata": {},
   "source": [
    "`LEFT OUTER JOIN`"
   ]
  },
  {
   "cell_type": "code",
   "execution_count": null,
   "metadata": {
    "vscode": {
     "languageId": "plaintext"
    }
   },
   "outputs": [],
   "source": [
    "example_db=# SELECT c.first_name, c.last_name, p.name FROM contacts AS c LEFT OUTER JOIN profession AS p ON c.profession_id = p.id;\n",
    " first_name |  last_name  |   name\n",
    "------------+-------------+----------\n",
    " Husniddin  | Ergashev    | builder\n",
    " Subhiddin  | Nuriddinov  | designer\n",
    " Zerda      | Jursinova   | designer\n",
    " Xamid      | Xoliqov     | driver\n",
    " Nargiza    | Booqulov    | model\n",
    " Shahboz    | Shirinboyev | electric\n",
    " Tarkan     | Uzuglu      |\n",
    "(7 rows)\n",
    "\n",
    "\n",
    "example_db=#"
   ]
  },
  {
   "cell_type": "markdown",
   "metadata": {},
   "source": [
    "`RIGHT OUTER JOIN`"
   ]
  },
  {
   "cell_type": "code",
   "execution_count": null,
   "metadata": {
    "vscode": {
     "languageId": "plaintext"
    }
   },
   "outputs": [],
   "source": [
    "example_db=# SELECT c.first_name, c.last_name, p.name FROM profession AS p RIGHT OUTER JOIN contacts AS c ON p.id = c.profession_id;\n",
    " first_name |  last_name  |   name\n",
    "------------+-------------+----------\n",
    " Husniddin  | Ergashev    | builder\n",
    " Subhiddin  | Nuriddinov  | designer\n",
    " Zerda      | Jursinova   | designer\n",
    " Xamid      | Xoliqov     | driver\n",
    " Nargiza    | Booqulov    | model\n",
    " Shahboz    | Shirinboyev | electric\n",
    " Tarkan     | Uzuglu      |\n",
    "(7 rows)\n",
    "\n",
    "\n",
    "example_db=#"
   ]
  }
 ],
 "metadata": {
  "language_info": {
   "name": "python"
  }
 },
 "nbformat": 4,
 "nbformat_minor": 2
}
