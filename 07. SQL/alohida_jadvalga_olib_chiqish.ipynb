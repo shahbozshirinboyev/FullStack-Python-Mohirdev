{
 "cells": [
  {
   "cell_type": "markdown",
   "id": "88f08e38",
   "metadata": {},
   "source": [
    "`To'g'ri dizayn: Alohida jadvalga olib chiqish.`"
   ]
  },
  {
   "cell_type": "markdown",
   "id": "7ba98ef3",
   "metadata": {},
   "source": [
    "> Jadval uchun to'g'ri dizayn qilishning usullaridan yana  bir bu, har bir `column`'da bitta qiymat saqlash kerak."
   ]
  },
  {
   "cell_type": "code",
   "execution_count": null,
   "id": "4b1b4b34",
   "metadata": {
    "vscode": {
     "languageId": "plaintext"
    }
   },
   "outputs": [],
   "source": [
    "example_db=# SELECT * FROM contacts;\n",
    " first_name |  last_name   | birthdate  | profession |       interests       | id | phone_number\n",
    "------------+--------------+------------+------------+-----------------------+----+---------------\n",
    " Umid       | Murodov      | 1998-12-08 | doctor     | Reading               |  4 | +998930091166\n",
    " Jahongir   | Otajonov     | 1978-10-05 | doctor     | Cooking               |  5 | +998930091166\n",
    " Navroz     | Abdumurodov  | 1999-03-21 | quruvchi   | Cooking, Reading      |  2 | +998930091166\n",
    " Javohir    | Abdurashidov | 1999-03-21 | quruvchi   | Football, Tennis      |  3 | +998930091166\n",
    " Amirxon    | Umarov       | 1998-12-28 | electric   | Eating                |  8 | +998930091166\n",
    " Dilya      | Neymatova    | 2002-05-12 | modeller   | Coding, Listing music |  9 | +998930091166\n",
    " Shahboz    | Shirinboyev  | 1999-12-03 | Designer   | Coding, Reading       |  1 | +998930091166\n",
    " Tom        | Caliny       | 1960-12-23 | designer   | Football, Tennis      |  6 | +998930091166\n",
    " Tim        | Kalith       | 1980-11-11 | driver     | Tennis                |  7 | +998930091166\n",
    "(9 rows)\n",
    "\n",
    "\n",
    "example_db=#"
   ]
  },
  {
   "cell_type": "markdown",
   "id": "df7735de",
   "metadata": {},
   "source": [
    "Yuqoridagi jadval to'g'ri dizayn qilinmagan, chunki bu `interests` columnida bitta qitmat emas bir nechta qiymatlar saqlanayabdi, bu esa jadvalning to'g'ri dizayn qoidalariga zid."
   ]
  },
  {
   "cell_type": "markdown",
   "id": "7ee2e8dd",
   "metadata": {},
   "source": [
    "Bu muammoni qanday qilib hal qilishni ko'rib chiqamiz.\n",
    "\n",
    "> `column` ichidagi ma'lumotlarni alohida columnlarga bo'lamiz."
   ]
  },
  {
   "cell_type": "markdown",
   "id": "dfdbf96a",
   "metadata": {},
   "source": [
    "![alt text](image-table-sprate-column.png)"
   ]
  },
  {
   "cell_type": "markdown",
   "id": "7c4b209a",
   "metadata": {},
   "source": [
    "Ammo bu yechim boshqa muammo yuzaga chiqaradi, agar biron `user`ni `interests`'lari soni 3 tadan ko'p bo'lsa yana yangi column qo'shish kerak va bundan tashqari yana bir necha noqulayliklar yuzaga chiqadi."
   ]
  },
  {
   "cell_type": "markdown",
   "id": "7450fc53",
   "metadata": {},
   "source": [
    "> Jadval tuzishdagi to'g'ri dizayn qoidalaridan yana biri `bir xil turdagi ma'lumotlarni faqatgina bitta columnda saqlash kerak.` Yuqoridagi rasmga qaraydigan bo'lsak biz hozirgina aytgan qoidamizni buzayapmiz. Bu xatolik ham yomon dizaynga kiradi."
   ]
  },
  {
   "cell_type": "markdown",
   "id": "3bc952a5",
   "metadata": {},
   "source": [
    "Unda qanday yo'l tutish kerak?\n",
    "\n",
    "> Bu muammoni yechimi bir nechta `value` qabul qilishi kerak bo'lgan `column`'ni alohida `table`'ga olib chiqish."
   ]
  },
  {
   "cell_type": "code",
   "execution_count": null,
   "id": "dde9ba2f",
   "metadata": {
    "vscode": {
     "languageId": "plaintext"
    }
   },
   "outputs": [],
   "source": [
    "example_db=# SELECT * FROM contacts;\n",
    " first_name |  last_name   | birthdate  | profession |       interests       | id | phone_number\n",
    "------------+--------------+------------+------------+-----------------------+----+---------------\n",
    " Umid       | Murodov      | 1998-12-08 | doctor     | Reading               |  4 | +998930091166\n",
    " Jahongir   | Otajonov     | 1978-10-05 | doctor     | Cooking               |  5 | +998930091166\n",
    " Navroz     | Abdumurodov  | 1999-03-21 | quruvchi   | Cooking, Reading      |  2 | +998930091166\n",
    " Javohir    | Abdurashidov | 1999-03-21 | quruvchi   | Football, Tennis      |  3 | +998930091166\n",
    " Amirxon    | Umarov       | 1998-12-28 | electric   | Eating                |  8 | +998930091166\n",
    " Dilya      | Neymatova    | 2002-05-12 | modeller   | Coding, Listing music |  9 | +998930091166\n",
    " Shahboz    | Shirinboyev  | 1999-12-03 | Designer   | Coding, Reading       |  1 | +998930091166\n",
    " Tom        | Caliny       | 1960-12-23 | designer   | Football, Tennis      |  6 | +998930091166\n",
    " Tim        | Kalith       | 1980-11-11 | driver     | Tennis                |  7 | +998930091166\n",
    "(9 rows)\n",
    "\n",
    "\n",
    "example_db=#"
   ]
  },
  {
   "cell_type": "markdown",
   "id": "94f24c14",
   "metadata": {},
   "source": [
    "![alt text](image-addition-table.png)"
   ]
  },
  {
   "cell_type": "markdown",
   "id": "7a275293",
   "metadata": {},
   "source": [
    "Yuqoridagi rasmda ko'ringanidek, `interests` columnidagi ma'lumotlarni `table`'ga olib chiqamiz."
   ]
  },
  {
   "cell_type": "markdown",
   "id": "0bb4c354",
   "metadata": {},
   "source": [
    "Bizda yana bir muammo bor yuqoridagi jadval bilan, `insterests` va  `profession` columnida bir xil qiymatli ma'lumolar bor, misol uchun `profession` columnida bir nechta doctor'lar, quruvchi'lar va boshqalar bor agar biz alohida quruvchilarni ajratib jadvaldan chiqarsak:"
   ]
  },
  {
   "cell_type": "code",
   "execution_count": null,
   "id": "fa24bd34",
   "metadata": {
    "vscode": {
     "languageId": "plaintext"
    }
   },
   "outputs": [],
   "source": [
    "example_db=# SELECT * FROM contacts WHERE profession = 'quruvchi';\n",
    " first_name |  last_name   | birthdate  | profession |    interests     | id | phone_number\n",
    "------------+--------------+------------+------------+------------------+----+---------------\n",
    " Navroz     | Abdumurodov  | 1999-03-21 | quruvchi   | Cooking, Reading |  2 | +998930091166\n",
    " Javohir    | Abdurashidov | 1999-03-21 | quruvchi   | Football, Tennis |  3 | +998930091166\n",
    "(2 rows)\n",
    "\n",
    "\n",
    "example_db=#"
   ]
  },
  {
   "cell_type": "markdown",
   "id": "78fb5e62",
   "metadata": {},
   "source": [
    "2 ta borligini ko'ramiz. Ammo biz yangi qiymat qo'shadigan bo'lsak va `profession`'ga sal noto'g'ri qilib `qruvchi` deb yozsak va yana `quruvchi`larni saralaydigan bo'lsak bizga 2 ta qiymat qaytaradi jadval:"
   ]
  },
  {
   "cell_type": "code",
   "execution_count": null,
   "id": "dda0da5f",
   "metadata": {
    "vscode": {
     "languageId": "plaintext"
    }
   },
   "outputs": [],
   "source": [
    "example_db=# INSERT INTO contacts (first_name, last_name, birthdate, profession, interests, phone_number) VALUES ('Ahmad', 'Qahhorov', '1994-09-23', 'qruvchi', 'Reading, Music', '+998932457689');\n",
    "INSERT 0 1\n",
    "example_db=# SELECT * FROM contacts;\n",
    " first_name |  last_name   | birthdate  | profession |       interests       | id | phone_number\n",
    "------------+--------------+------------+------------+-----------------------+----+---------------\n",
    " Umid       | Murodov      | 1998-12-08 | doctor     | Reading               |  4 | +998930091166\n",
    " Jahongir   | Otajonov     | 1978-10-05 | doctor     | Cooking               |  5 | +998930091166\n",
    " Navroz     | Abdumurodov  | 1999-03-21 | quruvchi   | Cooking, Reading      |  2 | +998930091166\n",
    " Javohir    | Abdurashidov | 1999-03-21 | quruvchi   | Football, Tennis      |  3 | +998930091166\n",
    " Amirxon    | Umarov       | 1998-12-28 | electric   | Eating                |  8 | +998930091166\n",
    " Dilya      | Neymatova    | 2002-05-12 | modeller   | Coding, Listing music |  9 | +998930091166\n",
    " Shahboz    | Shirinboyev  | 1999-12-03 | Designer   | Coding, Reading       |  1 | +998930091166\n",
    " Tom        | Caliny       | 1960-12-23 | designer   | Football, Tennis      |  6 | +998930091166\n",
    " Tim        | Kalith       | 1980-11-11 | driver     | Tennis                |  7 | +998930091166\n",
    " Ahmad      | Qahhorov     | 1994-09-23 | qruvchi    | Reading, Music        | 10 | +998932457689\n",
    "(10 rows)\n",
    "\n",
    "\n",
    "example_db=# SELECT * FROM contacts WHERE profession = 'quruvchi';\n",
    " first_name |  last_name   | birthdate  | profession |    interests     | id | phone_number\n",
    "------------+--------------+------------+------------+------------------+----+---------------\n",
    " Navroz     | Abdumurodov  | 1999-03-21 | quruvchi   | Cooking, Reading |  2 | +998930091166\n",
    " Javohir    | Abdurashidov | 1999-03-21 | quruvchi   | Football, Tennis |  3 | +998930091166\n",
    "(2 rows)\n",
    "\n",
    "\n",
    "example_db=#"
   ]
  },
  {
   "cell_type": "markdown",
   "id": "3f90befe",
   "metadata": {},
   "source": [
    "Aytganlarimizni bajardik va bizda natija o'zgarmadi, demak hozirda biz yaratgan jadvalga ishonch yo'q, bu muammoni qanday qilib to'g'irlasa bo'ladi?\n",
    "\n",
    "`interests` columnida ham xuddi shunday muammo bor."
   ]
  },
  {
   "cell_type": "markdown",
   "id": "a783be1b",
   "metadata": {},
   "source": [
    "Buni ham yechimi `profession` columnini alohida jadvalga olib chiqish bo'ladi."
   ]
  },
  {
   "cell_type": "markdown",
   "id": "ebccc2b7",
   "metadata": {},
   "source": [
    "`Muammoni yechimiga o'tamiz:`"
   ]
  },
  {
   "cell_type": "markdown",
   "id": "dafe4170",
   "metadata": {},
   "source": [
    "Demak birinchi bo'lib `profession` columnini yangi jadvalga o'tkazsak: `contacts` jadvali ichida o'zi nechta profession borligini chiqarib olamiz"
   ]
  },
  {
   "cell_type": "code",
   "execution_count": null,
   "id": "edff1ccc",
   "metadata": {
    "vscode": {
     "languageId": "plaintext"
    }
   },
   "outputs": [],
   "source": [
    "example_db=# SELECT DISTINCT profession FROM contacts;\n",
    " profession\n",
    "------------\n",
    " quruvchi\n",
    " designer\n",
    " qruvchi\n",
    " Designer\n",
    " doctor\n",
    " modeller\n",
    " electric\n",
    " driver\n",
    "(8 rows)\n",
    "\n",
    "\n",
    "example_db=#"
   ]
  },
  {
   "cell_type": "markdown",
   "id": "012191e9",
   "metadata": {},
   "source": [
    "yangi jadval yaratamiz va bu qiymatlarni shu jadvalga qo'shib olamiz:"
   ]
  },
  {
   "cell_type": "markdown",
   "id": "094ef219",
   "metadata": {},
   "source": [
    "`Jadval yaratish:`"
   ]
  },
  {
   "cell_type": "code",
   "execution_count": null,
   "id": "644877aa",
   "metadata": {
    "vscode": {
     "languageId": "plaintext"
    }
   },
   "outputs": [],
   "source": [
    "example_db=# CREATE TABLE profession\n",
    "example_db-# (\n",
    "example_db(#    id SERIAL PRIMARY KEY,\n",
    "example_db(#    name VARCHAR(50)\n",
    "example_db(# );\n",
    "CREATE TABLE\n",
    "example_db=#"
   ]
  },
  {
   "cell_type": "markdown",
   "id": "330e098e",
   "metadata": {},
   "source": [
    "`Ma'lumotlarni qo'shamiz endi:`"
   ]
  },
  {
   "cell_type": "code",
   "execution_count": null,
   "id": "de8853a4",
   "metadata": {
    "vscode": {
     "languageId": "plaintext"
    }
   },
   "outputs": [],
   "source": [
    "example_db=# INSERT INTO profession (name) VALUES ('quruvchi');\n",
    "INSERT 0 1\n",
    "example_db=# INSERT INTO profession (name) VALUES ('designer');\n",
    "INSERT 0 1\n",
    "example_db=# INSERT INTO profession (name) VALUES ('doctor');\n",
    "INSERT 0 1\n",
    "example_db=# INSERT INTO profession (name) VALUES ('model');\n",
    "INSERT 0 1\n",
    "example_db=# INSERT INTO profession (name) VALUES ('electric');\n",
    "INSERT 0 1\n",
    "example_db=# INSERT INTO profession (name) VALUES ('driver');\n",
    "INSERT 0 1\n",
    "example_db=# SELECT * FROM profession;\n",
    " id |   name\n",
    "----+----------\n",
    "  1 | quruvchi\n",
    "  2 | designer\n",
    "  3 | doctor\n",
    "  4 | model\n",
    "  5 | electric\n",
    "  6 | driver\n",
    "(6 rows)\n",
    "\n",
    "\n",
    "example_db=#"
   ]
  },
  {
   "cell_type": "markdown",
   "id": "988001a3",
   "metadata": {},
   "source": [
    "Yangi jadval yaratib unga bizda bor barcha `profession`larni qo'shib oldik, edi esa `contacts` jadvaliga bog'lab olsak bo'ldi."
   ]
  },
  {
   "cell_type": "markdown",
   "id": "b88f11d4",
   "metadata": {},
   "source": [
    "Bog'lash quyidagigacha bo'ladi: `profession` tabledagi ma'lumotlarni `PRIMARY KEY`ini `contacts` jadvalidagi columnlarda saqlaymiz:"
   ]
  },
  {
   "cell_type": "markdown",
   "id": "68a1c397",
   "metadata": {},
   "source": [
    "`contacts` jadvalidan `profession` columnini o'chirib qayta qo'shamiz va uni turini `INT` qilib qo'yamiz:"
   ]
  },
  {
   "cell_type": "code",
   "execution_count": null,
   "id": "386691ba",
   "metadata": {
    "vscode": {
     "languageId": "plaintext"
    }
   },
   "outputs": [],
   "source": [
    "example_db=# ALTER TABLE contacts DROP COLUMN profession;\n",
    "ALTER TABLE\n",
    "example_db=# ALTER TABLE contacts ADD COLUMN profession INT;\n",
    "ALTER TABLE\n",
    "example_db=# SELECT * FROM contacts;\n",
    " first_name |  last_name   | birthdate  |       interests       | id | phone_number  | profession\n",
    "------------+--------------+------------+-----------------------+----+---------------+------------\n",
    " Umid       | Murodov      | 1998-12-08 | Reading               |  4 | +998930091166 |\n",
    " Jahongir   | Otajonov     | 1978-10-05 | Cooking               |  5 | +998930091166 |\n",
    " Navroz     | Abdumurodov  | 1999-03-21 | Cooking, Reading      |  2 | +998930091166 |\n",
    " Javohir    | Abdurashidov | 1999-03-21 | Football, Tennis      |  3 | +998930091166 |\n",
    " Amirxon    | Umarov       | 1998-12-28 | Eating                |  8 | +998930091166 |\n",
    " Dilya      | Neymatova    | 2002-05-12 | Coding, Listing music |  9 | +998930091166 |\n",
    " Shahboz    | Shirinboyev  | 1999-12-03 | Coding, Reading       |  1 | +998930091166 |\n",
    " Tom        | Caliny       | 1960-12-23 | Football, Tennis      |  6 | +998930091166 |\n",
    " Tim        | Kalith       | 1980-11-11 | Tennis                |  7 | +998930091166 |\n",
    " Ahmad      | Qahhorov     | 1994-09-23 | Reading, Music        | 10 | +998932457689 |\n",
    "(10 rows)\n",
    "\n",
    "\n",
    "example_db=#"
   ]
  },
  {
   "cell_type": "markdown",
   "id": "3683359b",
   "metadata": {},
   "source": [
    "Endi qayta to'ldirib chiqamiz `profession` `column`ini:"
   ]
  },
  {
   "cell_type": "code",
   "execution_count": null,
   "id": "d9a7250f",
   "metadata": {
    "vscode": {
     "languageId": "plaintext"
    }
   },
   "outputs": [],
   "source": [
    "example_db=# SELECT * FROM profession;\n",
    " id |   name\n",
    "----+----------\n",
    "  1 | quruvchi\n",
    "  2 | designer\n",
    "  3 | doctor\n",
    "  4 | model\n",
    "  5 | electric\n",
    "  6 | driver\n",
    "(6 rows)\n",
    "\n",
    "\n",
    "example_db=# UPDATE contacts SET profession = 3 WHERE id = 4;\n",
    "UPDATE 1\n",
    "example_db=# UPDATE contacts SET profession = 3 WHERE id = 5;\n",
    "UPDATE 1\n",
    "example_db=# UPDATE contacts SET profession = 1 WHERE id = 2;\n",
    "UPDATE 1\n",
    "example_db=# UPDATE contacts SET profession = 1 WHERE id = 3;\n",
    "UPDATE 1\n",
    "example_db=# UPDATE contacts SET profession = 5 WHERE id = 8;\n",
    "UPDATE 1\n",
    "example_db=# UPDATE contacts SET profession = 4 WHERE id = 9;\n",
    "UPDATE 1\n",
    "example_db=# UPDATE contacts SET profession = 2 WHERE id = 1;\n",
    "UPDATE 1\n",
    "example_db=# UPDATE contacts SET profession = 2 WHERE id = 6;\n",
    "UPDATE 1\n",
    "example_db=# UPDATE contacts SET profession = 6 WHERE id = 7;\n",
    "UPDATE 1\n",
    "example_db=# UPDATE contacts SET profession = 3 WHERE id = 10;\n",
    "UPDATE 1\n",
    "example_db=#"
   ]
  },
  {
   "cell_type": "markdown",
   "id": "8499328e",
   "metadata": {},
   "source": [
    "`contacts` jadvalini ko'radigan bo'lsak:"
   ]
  },
  {
   "cell_type": "code",
   "execution_count": null,
   "id": "21d6c6c4",
   "metadata": {
    "vscode": {
     "languageId": "plaintext"
    }
   },
   "outputs": [],
   "source": [
    "example_db=# SELECT * FROM contacts;\n",
    " first_name |  last_name   | birthdate  |       interests       | id | phone_number  | profession\n",
    "------------+--------------+------------+-----------------------+----+---------------+------------\n",
    " Umid       | Murodov      | 1998-12-08 | Reading               |  4 | +998930091166 |          3\n",
    " Jahongir   | Otajonov     | 1978-10-05 | Cooking               |  5 | +998930091166 |          3\n",
    " Navroz     | Abdumurodov  | 1999-03-21 | Cooking, Reading      |  2 | +998930091166 |          1\n",
    " Javohir    | Abdurashidov | 1999-03-21 | Football, Tennis      |  3 | +998930091166 |          1\n",
    " Amirxon    | Umarov       | 1998-12-28 | Eating                |  8 | +998930091166 |          5\n",
    " Dilya      | Neymatova    | 2002-05-12 | Coding, Listing music |  9 | +998930091166 |          4\n",
    " Shahboz    | Shirinboyev  | 1999-12-03 | Coding, Reading       |  1 | +998930091166 |          2\n",
    " Tom        | Caliny       | 1960-12-23 | Football, Tennis      |  6 | +998930091166 |          2\n",
    " Tim        | Kalith       | 1980-11-11 | Tennis                |  7 | +998930091166 |          6\n",
    " Ahmad      | Qahhorov     | 1994-09-23 | Reading, Music        | 10 | +998932457689 |          3\n",
    "(10 rows)\n",
    "\n",
    "\n",
    "example_db=#"
   ]
  },
  {
   "cell_type": "markdown",
   "id": "3adcc731",
   "metadata": {},
   "source": [
    "Endi quruvchi professioniga teng odamlarni qanday ajratib olaman:"
   ]
  },
  {
   "cell_type": "markdown",
   "id": "ea1952b6",
   "metadata": {},
   "source": [
    "Bu endi 2 qator kod bilan bo'ladi:"
   ]
  },
  {
   "cell_type": "code",
   "execution_count": null,
   "id": "7c4efefb",
   "metadata": {
    "vscode": {
     "languageId": "plaintext"
    }
   },
   "outputs": [],
   "source": [
    "example_db=# SELECT id FROM profession WHERE name = 'quruvchi';\n",
    " id\n",
    "----\n",
    "  1\n",
    "(1 row)\n",
    "\n",
    "\n",
    "example_db=# SELECT * FROM contacts WHERE profession = 1;\n",
    " first_name |  last_name   | birthdate  |    interests     | id | phone_number  | profession\n",
    "------------+--------------+------------+------------------+----+---------------+------------\n",
    " Navroz     | Abdumurodov  | 1999-03-21 | Cooking, Reading |  2 | +998930091166 |          1\n",
    " Javohir    | Abdurashidov | 1999-03-21 | Football, Tennis |  3 | +998930091166 |          1\n",
    "(2 rows)\n",
    "\n",
    "\n",
    "example_db=#"
   ]
  },
  {
   "cell_type": "markdown",
   "id": "abe91338",
   "metadata": {},
   "source": [
    "Endi bu ma'lumotlarni chiqarish 2 qadam bilan bo'ladi."
   ]
  },
  {
   "cell_type": "markdown",
   "id": "94bdfff7",
   "metadata": {},
   "source": [
    "> Endi yaxshilab o'ylab ko'radigan bo'lsa `contacts` jadvalidagi profession nomlarini xato kiritib qo'yishni imkoni yo'q va bu juda ham jadvaldagi aniqlikni va ishonchni oshiradi."
   ]
  },
  {
   "cell_type": "markdown",
   "id": "89b3428a",
   "metadata": {},
   "source": [
    "Lekin `contacts` boshqa yagni foydalanuvchi qo'shadigan bo'lsa `profession`ga columnga profession table ichidagi idlardan chiqib ketmasligimiz kerak, ammo hozir bemalol qo'shishimiz mumkin chunki hech qanday bog'lanish o'rnatmaganmiz."
   ]
  },
  {
   "cell_type": "code",
   "execution_count": null,
   "id": "d5bfb9ec",
   "metadata": {
    "vscode": {
     "languageId": "plaintext"
    }
   },
   "outputs": [],
   "source": [
    "example_db=# SELECT * FROM profession;\n",
    " id |   name\n",
    "----+----------\n",
    "  1 | quruvchi\n",
    "  2 | designer\n",
    "  3 | doctor\n",
    "  4 | model\n",
    "  5 | electric\n",
    "  6 | driver\n",
    "(6 rows)\n",
    "\n",
    "\n",
    "example_db=#"
   ]
  },
  {
   "cell_type": "markdown",
   "id": "084f0ef7",
   "metadata": {},
   "source": [
    "Bor yo'g'e `6` ta id bor ulardan chiqib ketmasligi kerak yanni masalan profession columni `12` ga teng id ni olmasligi kerak aslida:"
   ]
  },
  {
   "cell_type": "code",
   "execution_count": null,
   "id": "5269a0ba",
   "metadata": {
    "vscode": {
     "languageId": "plaintext"
    }
   },
   "outputs": [],
   "source": [
    "example_db=# INSERT INTO contacts (first_name, last_name, birthdate, interests, phone_number, profession) VALUES ('Hilola', 'Rahmonova', '2002-12-28', 'Tennis', '+998904567890', 12);\n",
    "INSERT 0 1\n",
    "example_db=# SELECT * FROM contacts;\n",
    " first_name |  last_name   | birthdate  |       interests       | id | phone_number  | profession\n",
    "------------+--------------+------------+-----------------------+----+---------------+------------\n",
    " Umid       | Murodov      | 1998-12-08 | Reading               |  4 | +998930091166 |          3\n",
    " Jahongir   | Otajonov     | 1978-10-05 | Cooking               |  5 | +998930091166 |          3\n",
    " Navroz     | Abdumurodov  | 1999-03-21 | Cooking, Reading      |  2 | +998930091166 |          1\n",
    " Javohir    | Abdurashidov | 1999-03-21 | Football, Tennis      |  3 | +998930091166 |          1\n",
    " Amirxon    | Umarov       | 1998-12-28 | Eating                |  8 | +998930091166 |          5\n",
    " Dilya      | Neymatova    | 2002-05-12 | Coding, Listing music |  9 | +998930091166 |          4\n",
    " Shahboz    | Shirinboyev  | 1999-12-03 | Coding, Reading       |  1 | +998930091166 |          2\n",
    " Tom        | Caliny       | 1960-12-23 | Football, Tennis      |  6 | +998930091166 |          2\n",
    " Tim        | Kalith       | 1980-11-11 | Tennis                |  7 | +998930091166 |          6\n",
    " Ahmad      | Qahhorov     | 1994-09-23 | Reading, Music        | 10 | +998932457689 |          3\n",
    " Hilola     | Rahmonova    | 2002-12-28 | Tennis                | 11 | +998904567890 |         12\n",
    "(11 rows)\n",
    "\n",
    "\n",
    "example_db=#"
   ]
  },
  {
   "cell_type": "markdown",
   "id": "54f63131",
   "metadata": {},
   "source": [
    "Demak har qanday `ID` ga ro'xsat bo'lmasligi kerak, faqat profession ichida bor `id`larga ro'xsat bo'lishi kerak:"
   ]
  },
  {
   "cell_type": "markdown",
   "id": "75f4dde5",
   "metadata": {},
   "source": [
    "Bog'lanishni o'rnatamiz: `contacts` jadvali ichidan `profession` columnini olib tashlayman:"
   ]
  },
  {
   "cell_type": "code",
   "execution_count": null,
   "id": "b5feeb40",
   "metadata": {
    "vscode": {
     "languageId": "plaintext"
    }
   },
   "outputs": [],
   "source": [
    "example_db=# ALTER TABLE contacts DROP COLUMN profession;\n",
    "ALTER TABLE\n",
    "example_db=# SELECT * FROM contacts;\n",
    " first_name |  last_name   | birthdate  |       interests       | id | phone_number\n",
    "------------+--------------+------------+-----------------------+----+---------------\n",
    " Umid       | Murodov      | 1998-12-08 | Reading               |  4 | +998930091166\n",
    " Jahongir   | Otajonov     | 1978-10-05 | Cooking               |  5 | +998930091166\n",
    " Navroz     | Abdumurodov  | 1999-03-21 | Cooking, Reading      |  2 | +998930091166\n",
    " Javohir    | Abdurashidov | 1999-03-21 | Football, Tennis      |  3 | +998930091166\n",
    " Amirxon    | Umarov       | 1998-12-28 | Eating                |  8 | +998930091166\n",
    " Dilya      | Neymatova    | 2002-05-12 | Coding, Listing music |  9 | +998930091166\n",
    " Shahboz    | Shirinboyev  | 1999-12-03 | Coding, Reading       |  1 | +998930091166\n",
    " Tom        | Caliny       | 1960-12-23 | Football, Tennis      |  6 | +998930091166\n",
    " Tim        | Kalith       | 1980-11-11 | Tennis                |  7 | +998930091166\n",
    " Ahmad      | Qahhorov     | 1994-09-23 | Reading, Music        | 10 | +998932457689\n",
    " Hilola     | Rahmonova    | 2002-12-28 | Tennis                | 11 | +998904567890\n",
    "(11 rows)\n",
    "\n",
    "\n",
    "example_db=#"
   ]
  },
  {
   "cell_type": "markdown",
   "id": "5871dabd",
   "metadata": {},
   "source": [
    "`Bog'lanishni o'rnatish:`"
   ]
  },
  {
   "cell_type": "code",
   "execution_count": null,
   "id": "53e7f07e",
   "metadata": {
    "vscode": {
     "languageId": "plaintext"
    }
   },
   "outputs": [],
   "source": [
    "example_db=# ALTER TABLE contacts ADD COLUMN profession_id INT REFERENCES profession (id);\n",
    "ALTER TABLE\n",
    "example_db=# SELECT * FROM contacts;\n",
    " first_name |  last_name   | birthdate  |       interests       | id | phone_number  | profession_id\n",
    "------------+--------------+------------+-----------------------+----+---------------+---------------\n",
    " Umid       | Murodov      | 1998-12-08 | Reading               |  4 | +998930091166 |\n",
    " Jahongir   | Otajonov     | 1978-10-05 | Cooking               |  5 | +998930091166 |\n",
    " Navroz     | Abdumurodov  | 1999-03-21 | Cooking, Reading      |  2 | +998930091166 |\n",
    " Javohir    | Abdurashidov | 1999-03-21 | Football, Tennis      |  3 | +998930091166 |\n",
    " Amirxon    | Umarov       | 1998-12-28 | Eating                |  8 | +998930091166 |\n",
    " Dilya      | Neymatova    | 2002-05-12 | Coding, Listing music |  9 | +998930091166 |\n",
    " Shahboz    | Shirinboyev  | 1999-12-03 | Coding, Reading       |  1 | +998930091166 |\n",
    " Tom        | Caliny       | 1960-12-23 | Football, Tennis      |  6 | +998930091166 |\n",
    " Tim        | Kalith       | 1980-11-11 | Tennis                |  7 | +998930091166 |\n",
    " Ahmad      | Qahhorov     | 1994-09-23 | Reading, Music        | 10 | +998932457689 |\n",
    " Hilola     | Rahmonova    | 2002-12-28 | Tennis                | 11 | +998904567890 |\n",
    "(11 rows)\n",
    "\n",
    "\n",
    "example_db=#"
   ]
  },
  {
   "cell_type": "markdown",
   "id": "49f6d91b",
   "metadata": {},
   "source": [
    "`ALTER TABLE contacts ADD COLUMN profession_id INT REFERENCES profession (id);` - qatordagi `REFERENCES profession (id)` bu shu profession jadvalidagi `id`lar shu yaratgan columnga tegishli tegishli ekanligini bildiradi."
   ]
  },
  {
   "cell_type": "markdown",
   "id": "3ea64cdf",
   "metadata": {},
   "source": [
    "Endi `profession` jadvalidagi bor `id`larni tegishli userlarga belgilaymiz:"
   ]
  },
  {
   "cell_type": "code",
   "execution_count": null,
   "id": "e15116bf",
   "metadata": {
    "vscode": {
     "languageId": "plaintext"
    }
   },
   "outputs": [],
   "source": [
    "example_db=# UPDATE contacts SET profession_id = 3 WHERE id = 4;\n",
    "UPDATE 1\n",
    "example_db=# SELECT * FROM contacts;\n",
    " first_name |  last_name   | birthdate  |       interests       | id | phone_number  | profession_id\n",
    "------------+--------------+------------+-----------------------+----+---------------+---------------\n",
    " Jahongir   | Otajonov     | 1978-10-05 | Cooking               |  5 | +998930091166 |\n",
    " Navroz     | Abdumurodov  | 1999-03-21 | Cooking, Reading      |  2 | +998930091166 |\n",
    " Javohir    | Abdurashidov | 1999-03-21 | Football, Tennis      |  3 | +998930091166 |\n",
    " Amirxon    | Umarov       | 1998-12-28 | Eating                |  8 | +998930091166 |\n",
    " Dilya      | Neymatova    | 2002-05-12 | Coding, Listing music |  9 | +998930091166 |\n",
    " Shahboz    | Shirinboyev  | 1999-12-03 | Coding, Reading       |  1 | +998930091166 |\n",
    " Tom        | Caliny       | 1960-12-23 | Football, Tennis      |  6 | +998930091166 |\n",
    " Tim        | Kalith       | 1980-11-11 | Tennis                |  7 | +998930091166 |\n",
    " Ahmad      | Qahhorov     | 1994-09-23 | Reading, Music        | 10 | +998932457689 |\n",
    " Hilola     | Rahmonova    | 2002-12-28 | Tennis                | 11 | +998904567890 |\n",
    " Umid       | Murodov      | 1998-12-08 | Reading               |  4 | +998930091166 |             3\n",
    "(11 rows)\n",
    "\n",
    "\n",
    "example_db=#"
   ]
  },
  {
   "cell_type": "markdown",
   "id": "f325f88f",
   "metadata": {},
   "source": [
    "Bitta `id`ni bog'ladik, uni qabul qildi, keling endi yana bir `profession` jadvalida mavjud bo'lmagan `12` idsini qo'shib ko'rmoqchi bo'lamiz biron userga:"
   ]
  },
  {
   "cell_type": "markdown",
   "id": "dca21793",
   "metadata": {},
   "source": [
    "Undan avval profession jadvalini yana bir ko'rib olamiz:"
   ]
  },
  {
   "cell_type": "code",
   "execution_count": null,
   "id": "60b5c1b1",
   "metadata": {
    "vscode": {
     "languageId": "plaintext"
    }
   },
   "outputs": [],
   "source": [
    "example_db=# SELECT * FROM profession;\n",
    " id |   name\n",
    "----+----------\n",
    "  1 | quruvchi\n",
    "  2 | designer\n",
    "  3 | doctor\n",
    "  4 | model\n",
    "  5 | electric\n",
    "  6 | driver\n",
    "(6 rows)\n",
    "\n",
    "\n",
    "example_db=#"
   ]
  },
  {
   "cell_type": "markdown",
   "id": "34ae45df",
   "metadata": {},
   "source": [
    "`12` id ni qo'shib ko'ramiz biron userga:"
   ]
  },
  {
   "cell_type": "code",
   "execution_count": null,
   "id": "bce89d54",
   "metadata": {
    "vscode": {
     "languageId": "plaintext"
    }
   },
   "outputs": [],
   "source": [
    "example_db=# UPDATE contacts SET profession_id = 12 WHERE id = 11;\n",
    "ERROR:  insert or update on table \"contacts\" violates foreign key constraint \"contacts_profession_id_fkey\"\n",
    "DETAIL:  Key (profession_id)=(12) is not present in table \"profession\".\n",
    "example_db=#"
   ]
  },
  {
   "cell_type": "markdown",
   "id": "6d410d18",
   "metadata": {},
   "source": [
    "Demak bizda quyidagi xatolik bor: \n",
    "\n",
    "`ERROR:  insert or update on table \"contacts\" violates foreign key constraint \"contacts_profession_id_fkey\"`\n",
    "\n",
    "`XATO: \"contacts\" jadvaliga ma'lumot qo‘shish yoki yangilashda \"contacts_profession_id_fkey\" tashqi kalit (foreign key) chekloviga zid keldi.`"
   ]
  },
  {
   "cell_type": "markdown",
   "id": "f7f14381",
   "metadata": {},
   "source": [
    "Demak faqatgina `profession` jadvalidagi `PRIMARY KEY`larni `profession_id` columniga qo'sha olamiz. "
   ]
  },
  {
   "cell_type": "markdown",
   "id": "b4286dab",
   "metadata": {},
   "source": [
    "> Xulosa qiladigan bo'lsak: jadvalimizda to'g'ri dizayn bo'lganligi sababli uning columniga noto'g'ri ma'lumot kiritib bo'lmayabdi, agar jadvalimiz noto'g'ri dizayn qilingan bo'lsa shunday noto'g'ri ma'lumotlarni kirgizishimiz mumkin bo'lardi va jadvalimizga ishonch bo'lmasdi."
   ]
  },
  {
   "cell_type": "markdown",
   "id": "01d3a452",
   "metadata": {},
   "source": [
    "> Ma'lumotlar ba'zasi ishonchli bo'lishi kerak."
   ]
  },
  {
   "cell_type": "markdown",
   "id": "a1293c1e",
   "metadata": {},
   "source": [
    "Biron jadvaldagi `PRIMARY KEY`ni boshqa jadvalga `REFERENCES` qiladigan bo'lsak u `FOREIGN KEY` deyiladi."
   ]
  }
 ],
 "metadata": {
  "language_info": {
   "name": "python"
  }
 },
 "nbformat": 4,
 "nbformat_minor": 5
}
