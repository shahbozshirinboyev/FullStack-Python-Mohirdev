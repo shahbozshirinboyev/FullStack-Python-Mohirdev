{
 "cells": [
  {
   "cell_type": "markdown",
   "id": "044847c8",
   "metadata": {},
   "source": [
    "`SELECT`"
   ]
  },
  {
   "cell_type": "markdown",
   "id": "f3a713fa",
   "metadata": {},
   "source": [
    "Bu mavzuda biz, ma'lumotlarni chiqarishni ko'rib chiqamiz, `pgAdmin` dasturi orqali tablelardagi ma'lumotlarni ko'rayotgan edik va bu dastur quydagi amalni bajarib ma'lumotlarnini bizga taqdim etayotgan edi: "
   ]
  },
  {
   "cell_type": "code",
   "execution_count": null,
   "id": "a3bb942a",
   "metadata": {
    "vscode": {
     "languageId": "plaintext"
    }
   },
   "outputs": [],
   "source": [
    "SELECT * FROM public.doughnut_list"
   ]
  },
  {
   "cell_type": "markdown",
   "id": "023c68fa",
   "metadata": {},
   "source": [
    "Terminal orqali biron tabledagi ma'lumotlarni ko'rish uchun quyidagi qatorni terminalga kiritishimiz kerak:"
   ]
  },
  {
   "cell_type": "code",
   "execution_count": null,
   "id": "cd44cd1e",
   "metadata": {
    "vscode": {
     "languageId": "plaintext"
    }
   },
   "outputs": [],
   "source": [
    "SELECT * FROM my_contacts;"
   ]
  },
  {
   "cell_type": "markdown",
   "id": "e063f13c",
   "metadata": {},
   "source": [
    "Natija quyidagi ko'rinishda bo'ladi."
   ]
  },
  {
   "cell_type": "code",
   "execution_count": null,
   "id": "9caf5d2c",
   "metadata": {
    "vscode": {
     "languageId": "plaintext"
    }
   },
   "outputs": [],
   "source": [
    "example_db=# SELECT * FROM my_contacts;\n",
    " first_name |  last_name  | birthdate  | profession |       interests\n",
    "------------+-------------+------------+------------+-----------------------\n",
    " Shahboz    | Shirinboyev | 1999-12-03 | Designer   | Coding, Reading books\n",
    " Umid       | Murodov     |            |            |\n",
    " JAhongir   | Otajonov    |            |            |\n",
    "(3 rows)\n",
    "\n",
    "example_db=#"
   ]
  },
  {
   "cell_type": "markdown",
   "id": "6bd1b93c",
   "metadata": {},
   "source": [
    "Odatda bunday jadvallardagi ma'lumotlar juda katta bo'ladi va bizga kerakli qisminigina ko'rishimiz kerak bo'ladi: Bunday holatda `SELECT` so'rovlarini biroz o'zgartiramiz:"
   ]
  },
  {
   "cell_type": "code",
   "execution_count": null,
   "id": "df43310f",
   "metadata": {
    "vscode": {
     "languageId": "plaintext"
    }
   },
   "outputs": [],
   "source": [
    "SELECT * FROM my_contacts WHERE firts_name = 'Shahboz';"
   ]
  },
  {
   "cell_type": "markdown",
   "id": "f282e1ca",
   "metadata": {},
   "source": [
    "Natija:"
   ]
  },
  {
   "cell_type": "code",
   "execution_count": null,
   "id": "b19fbce8",
   "metadata": {
    "vscode": {
     "languageId": "plaintext"
    }
   },
   "outputs": [],
   "source": [
    "example_db=# SELECT * FROM my_contacts WHERE first_name = 'Shahboz';\n",
    " first_name |  last_name  | birthdate  | profession |       interests\n",
    "------------+-------------+------------+------------+-----------------------\n",
    " Shahboz    | Shirinboyev | 1999-12-03 | Designer   | Coding, Reading books\n",
    "(1 row)\n",
    "\n",
    "\n",
    "example_db=#"
   ]
  },
  {
   "cell_type": "markdown",
   "id": "1fea5d7a",
   "metadata": {},
   "source": [
    "`profession` bo'yicha saralab ko'ramiz, men 2 ta qator qo'shdim professionni `quruvchi` bo'lgan va ularni chaqirdim:"
   ]
  },
  {
   "cell_type": "code",
   "execution_count": null,
   "id": "646ec7cc",
   "metadata": {
    "vscode": {
     "languageId": "plaintext"
    }
   },
   "outputs": [],
   "source": [
    "example_db=# SELECT * FROM my_contacts;\n",
    " first_name |  last_name   | birthdate  | profession |       interests\n",
    "------------+--------------+------------+------------+-----------------------\n",
    " Shahboz    | Shirinboyev  | 1999-12-03 | Designer   | Coding, Reading books\n",
    " Umid       | Murodov      |            |            |\n",
    " JAhongir   | Otajonov     |            |            |\n",
    " Navroz     | Abdumurodov  | 1999-03-21 | quruvchi   | eating\n",
    " Javohir    | Abdurashidov | 1999-03-21 | quruvchi   | eating\n",
    "(5 rows)\n",
    "\n",
    "\n",
    "example_db=# SELECT * FROM my_contacts WHERE profession='quruvchi';\n",
    " first_name |  last_name   | birthdate  | profession | interests\n",
    "------------+--------------+------------+------------+-----------\n",
    " Navroz     | Abdumurodov  | 1999-03-21 | quruvchi   | eating\n",
    " Javohir    | Abdurashidov | 1999-03-21 | quruvchi   | eating\n",
    "(2 rows)\n",
    "\n",
    "\n",
    "example_db=#"
   ]
  },
  {
   "cell_type": "markdown",
   "id": "d6ed6690",
   "metadata": {},
   "source": [
    "Boshqa jadval bilan shu amallarni bajarib ko'ramiz:"
   ]
  },
  {
   "cell_type": "code",
   "execution_count": null,
   "id": "08a217f4",
   "metadata": {
    "vscode": {
     "languageId": "plaintext"
    }
   },
   "outputs": [],
   "source": [
    "example_db=# SELECT * FROM doughnut_list;\n",
    "  name  |  type  | price\n",
    "--------+--------+-------\n",
    " Apple  | filled |  3.00\n",
    " Cherry | filled |  1.00\n",
    "(2 rows)\n",
    "\n",
    "\n",
    "example_db=# SELECT * FROM doughnut_list WHERE price = 1.00;\n",
    "  name  |  type  | price\n",
    "--------+--------+-------\n",
    " Cherry | filled |  1.00\n",
    "(1 row)"
   ]
  },
  {
   "cell_type": "markdown",
   "id": "bee675f5",
   "metadata": {},
   "source": [
    "`SELECT * FROM doughnut_list WHERE price = 1.00;` - bu qator kommandadagi `*` o'zi nima?\n",
    "\n",
    "`*` - ma'nosi bu hamma column'lar degani. Ya'ni jadvalda nechta column bo'lsa hammasi.\n",
    "\n",
    "Agar jadvaldan bizga ma'lum bir `column`'largina kerak bo'lsa, ularni `*` o'rniga yozishimiz mumkin bo'ladi:\n",
    "\n",
    "`SELECT first_name, last_name FROM my_contacts;`"
   ]
  },
  {
   "cell_type": "code",
   "execution_count": null,
   "id": "22dee7c1",
   "metadata": {
    "vscode": {
     "languageId": "plaintext"
    }
   },
   "outputs": [],
   "source": [
    "example_db=# SELECT first_name, last_name FROM my_contacts;\n",
    " first_name |  last_name\n",
    "------------+--------------\n",
    " Shahboz    | Shirinboyev\n",
    " Umid       | Murodov\n",
    " JAhongir   | Otajonov\n",
    " Navroz     | Abdumurodov\n",
    " Javohir    | Abdurashidov\n",
    "(5 rows)\n",
    "\n",
    "\n",
    "example_db=#"
   ]
  },
  {
   "cell_type": "markdown",
   "id": "8c8092b4",
   "metadata": {},
   "source": [
    "Boshqacha tartibda chiqarish saralangan ma'lumotlarni:\n",
    "\n",
    "`SELECT first_name, birthdate FROM my_contacts WHERE profession='quruvchi';`"
   ]
  },
  {
   "cell_type": "code",
   "execution_count": null,
   "id": "46e11860",
   "metadata": {
    "vscode": {
     "languageId": "plaintext"
    }
   },
   "outputs": [],
   "source": [
    "example_db=# SELECT * FROM my_contacts;\n",
    " first_name |  last_name   | birthdate  | profession |       interests\n",
    "------------+--------------+------------+------------+-----------------------\n",
    " Shahboz    | Shirinboyev  | 1999-12-03 | Designer   | Coding, Reading books\n",
    " Umid       | Murodov      |            |            |\n",
    " JAhongir   | Otajonov     |            |            |\n",
    " Navroz     | Abdumurodov  | 1999-03-21 | quruvchi   | eating\n",
    " Javohir    | Abdurashidov | 1999-03-21 | quruvchi   | eating\n",
    "(5 rows)\n",
    "\n",
    "\n",
    "example_db=# SELECT first_name, birthdate FROM my_contacts WHERE profession='quruvchi';\n",
    " first_name | birthdate\n",
    "------------+------------\n",
    " Navroz     | 1999-03-21\n",
    " Javohir    | 1999-03-21\n",
    "(2 rows)\n",
    "\n",
    "\n",
    "example_db=#"
   ]
  }
 ],
 "metadata": {
  "language_info": {
   "name": "python"
  }
 },
 "nbformat": 4,
 "nbformat_minor": 5
}
