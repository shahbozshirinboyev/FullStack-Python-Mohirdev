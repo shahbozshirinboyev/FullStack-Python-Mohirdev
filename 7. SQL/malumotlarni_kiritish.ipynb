{
 "cells": [
  {
   "cell_type": "markdown",
   "id": "e82d2192",
   "metadata": {},
   "source": [
    "`MA'LUMOTLARNI KIRITISH` (Insert)"
   ]
  },
  {
   "cell_type": "code",
   "execution_count": null,
   "id": "153ffc25",
   "metadata": {
    "vscode": {
     "languageId": "plaintext"
    }
   },
   "outputs": [],
   "source": [
    "# `TABLE` yaratib olamiz:\n",
    "\n",
    "CREATE TABLE my_contacts\n",
    "(\n",
    "  first_name VARCHAR(50),\n",
    "  last_name VARCHAR(50),\n",
    "  birthdate DATE,\n",
    "  profession VARCHAR(60),\n",
    "  interests VARCHAR(100)\n",
    ");"
   ]
  },
  {
   "cell_type": "markdown",
   "id": "f150509d",
   "metadata": {},
   "source": [
    "`INSERT INTO table_nomi (ustun1, ustun2, ...) VALUES (qiymat1, qiymat2, ...);`"
   ]
  },
  {
   "cell_type": "markdown",
   "id": "df95aa7f",
   "metadata": {},
   "source": [
    "example_db=# \\d my_contacts\n",
    "                      Table \"public.my_contacts\"\n",
    "   Column   |          Type          | Collation | Nullable | Default\n",
    "------------+------------------------+-----------+----------+---------\n",
    " first_name | character varying(50)  |           |          |\n",
    " last_name  | character varying(50)  |           |          |\n",
    " birthdate  | date                   |           |          |\n",
    " profession | character varying(60)  |           |          |\n",
    " interests  | character varying(100) |           |          |\n",
    "\n",
    "\n",
    "example_db=# INSERT INTO my_contacts (first_name, last_name, birthdate, profession, interests)\n",
    "example_db-# VALUES ('Shahboz', 'Shirinboyev', '1999-12-03', 'Designer', 'Coding, Reading books');\n",
    "INSERT 0 1\n",
    "example_db=#"
   ]
  },
  {
   "cell_type": "markdown",
   "id": "edde279d",
   "metadata": {},
   "source": [
    "`pgAdmin` - dasturi orqali kiritgan ma'lumotlarimizni ko'rishimiz mumkin."
   ]
  },
  {
   "cell_type": "markdown",
   "id": "8696c9aa",
   "metadata": {},
   "source": [
    "![alt text](view_table.png)"
   ]
  },
  {
   "cell_type": "markdown",
   "id": "d6f655cf",
   "metadata": {},
   "source": [
    "Ma'lumotlarni kiritishda `ko'p takrorlanadigan xatolar`:"
   ]
  },
  {
   "cell_type": "markdown",
   "id": "8d0aafe7",
   "metadata": {},
   "source": [
    "- Columnlar soni valueslar sonidan ko'proq\n",
    "- Valueslar soni columnlar sonidan ko'proq\n",
    "- Missing comma\n",
    "- Missing quotes"
   ]
  },
  {
   "cell_type": "markdown",
   "id": "f42e7168",
   "metadata": {},
   "source": [
    "Insert qilishning `turli usullari`:"
   ]
  },
  {
   "cell_type": "markdown",
   "id": "14a8ff3a",
   "metadata": {},
   "source": [
    "- Columnlarning tartibi\n",
    "  - `INSERT INTO table_nomi (ustun1, ustun2, ...) VALUES (qiymat1, qiymat2, ...);`\n",
    "\n",
    "- Column nomlarini umuman tushirib qoldirish\n",
    "  - `INSERT INTO table_nomi VALUES (qiymat1, qiymat2, ...);`\n",
    "\n",
    "- Ba'zi bir column npmlarini tushirib qoldirish\n",
    "  - `INSERT INTO my_contacts (first_name, last_name) VALUES ('Shahboz', 'Shirinboyev');`"
   ]
  }
 ],
 "metadata": {
  "language_info": {
   "name": "python"
  }
 },
 "nbformat": 4,
 "nbformat_minor": 5
}
