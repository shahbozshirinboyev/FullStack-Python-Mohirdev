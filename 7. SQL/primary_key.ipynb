{
 "cells": [
  {
   "cell_type": "markdown",
   "id": "e4fcff32",
   "metadata": {},
   "source": [
    "`To'g'ri dizayn qilish qoidalari:`"
   ]
  },
  {
   "cell_type": "markdown",
   "id": "d0242f8d",
   "metadata": {},
   "source": [
    "- Primary key qo'shish\n",
    "  - Jadvalimizdagi har bitta qatorda takrorlanmaydigan bitta qiymat bo'lishi kerak. (ID) Biz o'sha qiymat orqali istalgan qatorimizni tanlab olish imkoniyatiga ega bo'lamiz.\n",
    "\n",
    "\n",
    "Biz o'zimiz yaratgan jadvalni ko'rib chiqsak:"
   ]
  },
  {
   "cell_type": "code",
   "execution_count": null,
   "id": "f0bd629c",
   "metadata": {
    "vscode": {
     "languageId": "plaintext"
    }
   },
   "outputs": [],
   "source": [
    "example_db=# SELECT * FROM my_contacts;\n",
    " first_name |  last_name   | birthdate  | profession |       interests\n",
    "------------+--------------+------------+------------+-----------------------\n",
    " Shahboz    | Shirinboyev  | 1999-12-03 | Designer   | Coding, Reading books\n",
    " Navroz     | Abdumurodov  | 1999-03-21 | quruvchi   | eating\n",
    " Javohir    | Abdurashidov | 1999-03-21 | quruvchi   | eating\n",
    " Umid       | Murodov      | 1998-12-08 | doctor     | Reading\n",
    " Jahongir   | Otajonov     | 1978-10-05 | doctor     | Cooking\n",
    " Tom        | Caliny       | 1960-12-23 | designer   | voleyball\n",
    " Tim        | Kalith       | 1980-11-11 | driver     | tenis\n",
    " Amirxon    | Umarov       | 1998-12-28 | electric   | eating\n",
    " Dilya      | Neymatova    | 2002-05-12 | modeller   | Coding\n",
    "(9 rows)\n",
    "\n",
    "\n",
    "example_db=#"
   ]
  },
  {
   "cell_type": "markdown",
   "id": "76829655",
   "metadata": {},
   "source": [
    "Yuqoridagi jadvalimizga qarasak hech bir `column`'ni unikal deya olmaymiz. Demak bu jadval noto'g'ri dizayn qilingan, uni to'g'irlashning eng birinchi usuli jadvalga unikal (takrorlanmaydigan) qiymat qo'shish."
   ]
  },
  {
   "cell_type": "markdown",
   "id": "1a6aa141",
   "metadata": {},
   "source": [
    "`PRIMARY KEY`"
   ]
  },
  {
   "cell_type": "markdown",
   "id": "a8987933",
   "metadata": {},
   "source": [
    "Jadval yaratishda biron yoki `maxsus` column uchun `PRIMARY KEY` o'rnatish orqali bu takrorlanmaydigan qiymatga ega qatorlarni yaratib olishimiz mumkin, va bu `PRIMARY KEY` qiymatiga ega bo'lgan qatorlarga ma'lumotni boshqa qatorlarda bor ma'lumot bilan takrorlab bo'lmaydi. Misol uchun shunday jadval yaratib ma'lumot kiritib ko'ramiz: "
   ]
  },
  {
   "cell_type": "code",
   "execution_count": null,
   "id": "33c8a759",
   "metadata": {
    "vscode": {
     "languageId": "plaintext"
    }
   },
   "outputs": [],
   "source": [
    "example_db=# CREATE TABLE orders\n",
    "example_db-# (\n",
    "example_db(#    order_id INT PRIMARY KEY,\n",
    "example_db(#    order_name VARCHAR(50)\n",
    "example_db(# );\n",
    "CREATE TABLE\n",
    "example_db=#"
   ]
  },
  {
   "cell_type": "markdown",
   "id": "6c381241",
   "metadata": {},
   "source": [
    "Jadvalni yaratib olamiz, endi unga ma'lumot kirgazib ko'ramiz:"
   ]
  },
  {
   "cell_type": "code",
   "execution_count": null,
   "id": "3d73cd13",
   "metadata": {
    "vscode": {
     "languageId": "plaintext"
    }
   },
   "outputs": [],
   "source": [
    "example_db=# INSERT INTO orders VALUES (1, 'first order');\n",
    "INSERT 0 1\n",
    "example_db=# INSERT INTO orders VALUES (2, 'second order');\n",
    "INSERT 0 1\n",
    "example_db=# INSERT INTO orders VALUES (3, 'third order');\n",
    "INSERT 0 1\n",
    "example_db=#"
   ]
  },
  {
   "cell_type": "markdown",
   "id": "2e088633",
   "metadata": {},
   "source": [
    "3 qator ma'lumot kiritdik, o'shani endi jadval ko'rinishida chiqaramiz:"
   ]
  },
  {
   "cell_type": "code",
   "execution_count": null,
   "id": "3b765517",
   "metadata": {
    "vscode": {
     "languageId": "plaintext"
    }
   },
   "outputs": [],
   "source": [
    "example_db=# SELECT * FROM orders;\n",
    " order_id |  order_name\n",
    "----------+--------------\n",
    "        1 | first order\n",
    "        2 | second order\n",
    "        3 | third order\n",
    "(3 rows)\n",
    "\n",
    "\n",
    "example_db=#"
   ]
  },
  {
   "cell_type": "markdown",
   "id": "ebd16e7e",
   "metadata": {},
   "source": [
    "Keling yana bir qator ma'lumot kiritamiz va `order_id`'ni takrorlamoqchi bo'lib ko'ramiz:\n",
    "\n",
    "`INSERT INTO orders VALUES (2, 'fourth order');`"
   ]
  },
  {
   "cell_type": "code",
   "execution_count": null,
   "id": "1ff988f3",
   "metadata": {
    "vscode": {
     "languageId": "plaintext"
    }
   },
   "outputs": [],
   "source": [
    "example_db=# INSERT INTO orders VALUES (2, 'fourth order');\n",
    "ERROR:  duplicate key value violates unique constraint \"orders_pkey\"\n",
    "DETAIL:  Key (order_id)=(2) already exists.\n",
    "example_db=#"
   ]
  },
  {
   "cell_type": "markdown",
   "id": "9b7165c3",
   "metadata": {},
   "source": [
    "Demak, yuqoidagi xatolikga e'tibor beradigan bo'lsak:\n",
    "\n",
    "`ERROR:  duplicate key value violates unique constraint \"orders_pkey\"` \n",
    "\n",
    "Demak `order_id` bu har bir qatorning `id`'si hisoblanib uni takrorlash mumkin emas ekan. Bu bizga jadvallarimizdagi ma'lumotlarni oson boshqarish uchun qo'l keladi va bu jadvalni to'g'ri dizayn qilishning asosi hisoblanadi."
   ]
  },
  {
   "cell_type": "markdown",
   "id": "d7ef0de5",
   "metadata": {},
   "source": [
    "`PRIMARY KEY` - kalit so'zi berilgan ustunni postgresql unikal(takrorlanmas) saqlab turishga kaafolat berayapti. Agar siz ustundagi ma'lumotlarni takrorlashga urunsangiz, u xatolik xabarini chiqaradi va bundan sizni ogohlantiradi."
   ]
  },
  {
   "cell_type": "markdown",
   "id": "8fa91074",
   "metadata": {},
   "source": [
    "Biz bunaqa qilib `order_id`'larni xotiramizda saqlab qolib har safar yana qayta uni esalb keyingisi necha edi deyishimiz juda katta noqulaylik, shu sabab postgresql'da table yaratishda unga unikal va avto to'ldirishi kerakliligini aytadigan bo'lsak postgresql o'zi avtomatik ravishda kiritib ketaveradi:"
   ]
  },
  {
   "cell_type": "markdown",
   "id": "5586313d",
   "metadata": {},
   "source": [
    "Shunday table yaratib ko'ramiz:"
   ]
  },
  {
   "cell_type": "code",
   "execution_count": null,
   "id": "4c23d2c6",
   "metadata": {
    "vscode": {
     "languageId": "plaintext"
    }
   },
   "outputs": [],
   "source": [
    "example_db=# CREATE TABLE order_two\n",
    "example_db-# (\n",
    "example_db(#    order_id SERIAL PRIMARY KEY,\n",
    "example_db(#    order_name VARCHAR(50)\n",
    "example_db(# );\n",
    "CREATE TABLE\n",
    "example_db=#"
   ]
  },
  {
   "cell_type": "markdown",
   "id": "33de0371",
   "metadata": {},
   "source": [
    "Endi ma'lumot kiritib ko'ramiz:"
   ]
  },
  {
   "cell_type": "code",
   "execution_count": null,
   "id": "b8f13cf3",
   "metadata": {
    "vscode": {
     "languageId": "plaintext"
    }
   },
   "outputs": [],
   "source": [
    "example_db=# INSERT INTO order_two (order_name) VALUES ('first order');\n",
    "INSERT 0 1\n",
    "example_db=# INSERT INTO order_two (order_name) VALUES ('second order');\n",
    "INSERT 0 1\n",
    "example_db=#"
   ]
  },
  {
   "cell_type": "markdown",
   "id": "5496d3c1",
   "metadata": {},
   "source": [
    "Natijasini jadval ko'rinishida chiqarib ko'ramiz:"
   ]
  },
  {
   "cell_type": "code",
   "execution_count": null,
   "id": "6e0e9b7a",
   "metadata": {
    "vscode": {
     "languageId": "plaintext"
    }
   },
   "outputs": [],
   "source": [
    "example_db=# SELECT * FROM order_two;\n",
    " order_id |  order_name\n",
    "----------+--------------\n",
    "        1 | first order\n",
    "        2 | second order\n",
    "(2 rows)\n",
    "\n",
    "\n",
    "example_db=#"
   ]
  },
  {
   "cell_type": "markdown",
   "id": "12f03446",
   "metadata": {},
   "source": [
    "INT emas `SERIAL` deb kiritadigan bo'lsak postgresql'ni o'zi avtomatik ravishda to'ldirib boradigan va takrorlanmaydigan qilib boradi."
   ]
  }
 ],
 "metadata": {
  "language_info": {
   "name": "python"
  }
 },
 "nbformat": 4,
 "nbformat_minor": 5
}
