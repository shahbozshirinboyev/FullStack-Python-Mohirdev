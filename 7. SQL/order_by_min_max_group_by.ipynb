{
 "cells": [
  {
   "cell_type": "markdown",
   "id": "7cc52f74",
   "metadata": {},
   "source": [
    "Bu darsda ba'zi `SELECT`'ga qo'shib foydalaniladigan `kalit so'zlar`ni ko'rib chiqamiz, ular yordamida jadvallardagi ma'lumotlarni yanada aniqroq ravishda olishimiz mumkin bo'ladi."
   ]
  },
  {
   "cell_type": "markdown",
   "id": "7f885d85",
   "metadata": {},
   "source": [
    "`ORDER BY`"
   ]
  },
  {
   "cell_type": "markdown",
   "id": "677f4591",
   "metadata": {},
   "source": [
    "Bu kalit so'z orqali biz jadvaldagi ma'lumotlarni ma'lum bir tartib asosida chiqarishimiz mumkin bo'ladi."
   ]
  },
  {
   "cell_type": "markdown",
   "id": "28972d6f",
   "metadata": {},
   "source": [
    "Oddiy yo'l bilan jadvalni ekranga chaqiradigan bo'lsak narxlar ttartibsiz ravishda chiqganligini ko'rishimiz mumkin:"
   ]
  },
  {
   "cell_type": "code",
   "execution_count": null,
   "id": "8f13ef28",
   "metadata": {
    "vscode": {
     "languageId": "plaintext"
    }
   },
   "outputs": [],
   "source": [
    "example_db=# SELECT * FROM doughnut_list;\n",
    "  name  |  type  | price\n",
    "--------+--------+-------\n",
    " Cherry | filled |  3.00\n",
    " Apple  | sweet  |  5.00\n",
    " Mazza  | cermy  |  1.23\n",
    " Edge   | sweet  |  4.30\n",
    "(4 rows)\n",
    "\n",
    "\n",
    "example_db=#"
   ]
  },
  {
   "cell_type": "markdown",
   "id": "46d8c96a",
   "metadata": {},
   "source": [
    "Keling shu narxlarni ma'lum tartib asosida chiqaramiz:"
   ]
  },
  {
   "cell_type": "markdown",
   "id": "57dd5acf",
   "metadata": {},
   "source": [
    "`SELECT * FROM doughnut_list ORDER BY price;`"
   ]
  },
  {
   "cell_type": "code",
   "execution_count": null,
   "id": "a506893a",
   "metadata": {
    "vscode": {
     "languageId": "plaintext"
    }
   },
   "outputs": [],
   "source": [
    "example_db=# SELECT * FROM doughnut_list ORDER BY price;\n",
    "  name  |  type  | price\n",
    "--------+--------+-------\n",
    " Mazza  | cermy  |  1.23\n",
    " Cherry | filled |  3.00\n",
    " Edge   | sweet  |  4.30\n",
    " Apple  | sweet  |  5.00\n",
    "(4 rows)\n",
    "\n",
    "\n",
    "example_db=#"
   ]
  },
  {
   "cell_type": "markdown",
   "id": "caa7e776",
   "metadata": {},
   "source": [
    "Natijani ko'rib turibmiz narxlar kichik qiymatdan katta qiymatga qarab o'sib borgan."
   ]
  },
  {
   "cell_type": "markdown",
   "id": "0537366a",
   "metadata": {},
   "source": [
    "Boshqacharoq usulda tartiblashni xoxlab qolsak, masalan `type` bo'yicha bo'lsa, ya'ni type ustunidagi so'zlarni bosh harflarini alifbo tartibida qilib `sort` qilib beradi. "
   ]
  },
  {
   "cell_type": "markdown",
   "id": "17fddcad",
   "metadata": {},
   "source": [
    "`SELECT * FROM doughnut_list ORDER BY type;`"
   ]
  },
  {
   "cell_type": "code",
   "execution_count": null,
   "id": "cb7ae596",
   "metadata": {
    "vscode": {
     "languageId": "plaintext"
    }
   },
   "outputs": [],
   "source": [
    "example_db=# SELECT * FROM doughnut_list ORDER BY type;\n",
    "  name  |  type  | price\n",
    "--------+--------+-------\n",
    " Mazza  | cermy  |  1.23\n",
    " Cherry | filled |  3.00\n",
    " Apple  | sweet  |  5.00\n",
    " Edge   | sweet  |  4.30\n",
    "(4 rows)\n",
    "\n",
    "\n",
    "example_db=#"
   ]
  },
  {
   "cell_type": "markdown",
   "id": "2ba88ca3",
   "metadata": {},
   "source": [
    "Agar bizga narxlar `ORDER BY` dagi kabi kichigidan kattasiga emas teskari ravishda chiqishi kerak bo'lsa unda biz `ORDER BY ... DESC` dan foydalanishimiz mumkin."
   ]
  },
  {
   "cell_type": "code",
   "execution_count": null,
   "id": "a2b32bc6",
   "metadata": {
    "vscode": {
     "languageId": "plaintext"
    }
   },
   "outputs": [],
   "source": [
    "example_db=# SELECT * FROM doughnut_list ORDER BY price DESC;\n",
    "  name  |  type  | price\n",
    "--------+--------+-------\n",
    " Apple  | sweet  |  5.00\n",
    " Edge   | sweet  |  4.30\n",
    " Cherry | filled |  3.00\n",
    " Mazza  | cermy  |  1.23\n",
    "(4 rows)\n",
    "\n",
    "\n",
    "example_db=#"
   ]
  },
  {
   "cell_type": "markdown",
   "id": "c15f021d",
   "metadata": {},
   "source": [
    "DESC - Descending"
   ]
  },
  {
   "cell_type": "markdown",
   "id": "949160e8",
   "metadata": {},
   "source": [
    "`SUM`"
   ]
  },
  {
   "cell_type": "markdown",
   "id": "480eae96",
   "metadata": {},
   "source": [
    "Vazifa sifatida qarasak: bizga endi yuqoridagi `doughnut_list` ichidagi barcha `doughnut`'larni qiymatlarini (narxlarini) yig'indisi kerak:"
   ]
  },
  {
   "cell_type": "markdown",
   "id": "86d395fc",
   "metadata": {},
   "source": [
    "`SELECT SUM(price) FROM doughnut_list;`"
   ]
  },
  {
   "cell_type": "code",
   "execution_count": null,
   "id": "e3beac5f",
   "metadata": {
    "vscode": {
     "languageId": "plaintext"
    }
   },
   "outputs": [],
   "source": [
    "example_db=# SELECT SUM(price) FROM doughnut_list;\n",
    "  sum\n",
    "-------\n",
    " 13.53\n",
    "(1 row)\n",
    "\n",
    "\n",
    "example_db=#"
   ]
  },
  {
   "cell_type": "markdown",
   "id": "2f94d434",
   "metadata": {},
   "source": [
    "`MIN` - columndagi eng kichik qiymatni chiqarib beradi"
   ]
  },
  {
   "cell_type": "markdown",
   "id": "648c86fb",
   "metadata": {},
   "source": [
    "`SELECT MIN(price) FROM doughnut_list;`"
   ]
  },
  {
   "cell_type": "code",
   "execution_count": null,
   "id": "d17be680",
   "metadata": {
    "vscode": {
     "languageId": "plaintext"
    }
   },
   "outputs": [],
   "source": [
    "example_db=# SELECT * FROM doughnut_list;\n",
    "  name  |  type  | price\n",
    "--------+--------+-------\n",
    " Cherry | filled |  3.00\n",
    " Apple  | sweet  |  5.00\n",
    " Mazza  | cermy  |  1.23\n",
    " Edge   | sweet  |  4.30\n",
    "(4 rows)\n",
    "\n",
    "\n",
    "example_db=#"
   ]
  },
  {
   "cell_type": "code",
   "execution_count": null,
   "id": "7b8ac86d",
   "metadata": {
    "vscode": {
     "languageId": "plaintext"
    }
   },
   "outputs": [],
   "source": [
    "example_db=# SELECT MIN(price) FROM doughnut_list;\n",
    " min\n",
    "------\n",
    " 1.23\n",
    "(1 row)"
   ]
  },
  {
   "cell_type": "markdown",
   "id": "91f2b149",
   "metadata": {},
   "source": [
    "`MAX` - columndagi eng katta qiymatni chiqarib beradi"
   ]
  },
  {
   "cell_type": "markdown",
   "id": "cca9e1d3",
   "metadata": {},
   "source": [
    "`SELECT MAX(price) FROM doughnut_list;`"
   ]
  },
  {
   "cell_type": "code",
   "execution_count": null,
   "id": "bafd0f60",
   "metadata": {
    "vscode": {
     "languageId": "plaintext"
    }
   },
   "outputs": [],
   "source": [
    "example_db=# SELECT MAX(price) FROM doughnut_list;\n",
    " max\n",
    "------\n",
    " 5.00\n",
    "(1 row)"
   ]
  },
  {
   "cell_type": "markdown",
   "id": "f231da34",
   "metadata": {},
   "source": [
    "`AVG` - o'rtacha qiymatni topish uchun ishlatilinadi."
   ]
  },
  {
   "cell_type": "markdown",
   "id": "e89d2933",
   "metadata": {},
   "source": [
    "`SELECT AVG(price) FROM doughnut_list;`"
   ]
  },
  {
   "cell_type": "code",
   "execution_count": null,
   "id": "fa8bda3a",
   "metadata": {
    "vscode": {
     "languageId": "plaintext"
    }
   },
   "outputs": [],
   "source": [
    "example_db=# SELECT AVG(price) FROM doughnut_list;\n",
    "        avg\n",
    "--------------------\n",
    " 3.3825000000000000\n",
    "(1 row)\n",
    "\n",
    "\n",
    "example_db=#"
   ]
  },
  {
   "cell_type": "markdown",
   "id": "06c1f7aa",
   "metadata": {},
   "source": [
    "Nechta qiymat bo'lsa `column`da barcha qiymatlarni qo'shib, ularni soniga bo'lib natijani chiqarib beradi."
   ]
  },
  {
   "cell_type": "markdown",
   "id": "1cb1b197",
   "metadata": {},
   "source": [
    "`COUNT` - Jadvalda nechta qator ma'lumot borligini sanamoqchi bo'lsak ishlatilinadi."
   ]
  },
  {
   "cell_type": "markdown",
   "id": "45d16283",
   "metadata": {},
   "source": [
    "`SELECT COUNT(name) FROM doughnut_list;`"
   ]
  },
  {
   "cell_type": "code",
   "execution_count": null,
   "id": "5b2e2347",
   "metadata": {
    "vscode": {
     "languageId": "plaintext"
    }
   },
   "outputs": [],
   "source": [
    "example_db=# SELECT COUNT(name) FROM doughnut_list;\n",
    " count\n",
    "-------\n",
    "     4\n",
    "(1 row)"
   ]
  },
  {
   "cell_type": "markdown",
   "id": "bc855db7",
   "metadata": {},
   "source": [
    "`COUNT(*)`, `COUNT(name)`, `COUNT(price)` - bularning farqi yo'q count uchun,"
   ]
  },
  {
   "cell_type": "markdown",
   "id": "030fd88f",
   "metadata": {},
   "source": [
    "Jadvalga yana ma'lumotlar qo'shib olamiz:"
   ]
  },
  {
   "cell_type": "code",
   "execution_count": null,
   "id": "6b3bd800",
   "metadata": {
    "vscode": {
     "languageId": "plaintext"
    }
   },
   "outputs": [],
   "source": [
    "example_db=# SELECT * FROM doughnut_list;\n",
    "  name  |  type  | price\n",
    "--------+--------+-------\n",
    " Cherry | filled |  3.00\n",
    " Apple  | sweet  |  5.00\n",
    " Mazza  | cermy  |  1.23\n",
    " Edge   | sweet  |  4.30\n",
    " Peach  | cermy  |  2.78\n",
    " Granty | filled |  4.65\n",
    "(6 rows)\n",
    "\n",
    "\n",
    "example_db=#"
   ]
  },
  {
   "cell_type": "markdown",
   "id": "6dfa1598",
   "metadata": {},
   "source": [
    "Ana endi type bo'yicha maximal narxni topish uchun quyidagicha qilamiz:"
   ]
  },
  {
   "cell_type": "markdown",
   "id": "3cb984a3",
   "metadata": {},
   "source": [
    "`GROUP BY` - biron tur bo'yicha boshqa qiymatni saralash."
   ]
  },
  {
   "cell_type": "markdown",
   "id": "60ce42f7",
   "metadata": {},
   "source": [
    "`SELECT MIN(price) FROM doughnut_list GROUP BY type;`"
   ]
  },
  {
   "cell_type": "code",
   "execution_count": null,
   "id": "71e8d780",
   "metadata": {
    "vscode": {
     "languageId": "plaintext"
    }
   },
   "outputs": [],
   "source": [
    "example_db=# SELECT MIN(price) FROM doughnut_list GROUP BY type;\n",
    " min\n",
    "------\n",
    " 3.00\n",
    " 4.30\n",
    " 1.23\n",
    "(3 rows)\n",
    "\n",
    "\n",
    "example_db=#"
   ]
  },
  {
   "cell_type": "markdown",
   "id": "3863b1eb",
   "metadata": {},
   "source": [
    "Chiqayotgan jadvalni yanada aniqroq qilish uchun `type`'ni ham `SELECT` qilib olaman. "
   ]
  },
  {
   "cell_type": "markdown",
   "id": "f58d1e8b",
   "metadata": {},
   "source": [
    "`SELECT type, MIN(price) FROM doughnut_list GROUP BY type;`"
   ]
  },
  {
   "cell_type": "code",
   "execution_count": null,
   "id": "89c9ff7b",
   "metadata": {
    "vscode": {
     "languageId": "plaintext"
    }
   },
   "outputs": [],
   "source": [
    "example_db=# SELECT type, MIN(price) FROM doughnut_list GROUP BY type;\n",
    "  type  | min\n",
    "--------+------\n",
    " filled | 3.00\n",
    " sweet  | 4.30\n",
    " cermy  | 1.23\n",
    "(3 rows)\n",
    "\n",
    "\n",
    "example_db=#"
   ]
  },
  {
   "cell_type": "markdown",
   "id": "51df867d",
   "metadata": {},
   "source": [
    "`SELECT type, MAX(price) FROM doughnut_list GROUP BY type;`"
   ]
  },
  {
   "cell_type": "code",
   "execution_count": null,
   "id": "92162b45",
   "metadata": {
    "vscode": {
     "languageId": "plaintext"
    }
   },
   "outputs": [],
   "source": [
    "example_db=# SELECT type, MAX(price) FROM doughnut_list GROUP BY type;\n",
    "  type  | max\n",
    "--------+------\n",
    " filled | 4.65\n",
    " sweet  | 5.00\n",
    " cermy  | 2.78\n",
    "(3 rows)\n",
    "\n",
    "\n",
    "example_db=#"
   ]
  },
  {
   "cell_type": "markdown",
   "id": "aa8b1e71",
   "metadata": {},
   "source": [
    "Misol:"
   ]
  },
  {
   "cell_type": "code",
   "execution_count": null,
   "id": "69bf5e85",
   "metadata": {
    "vscode": {
     "languageId": "plaintext"
    }
   },
   "outputs": [],
   "source": [
    "example_db=# SELECT type, COUNT(*) FROM doughnut_list GROUP BY type;\n",
    "  type  | count\n",
    "--------+-------\n",
    " filled |     2\n",
    " sweet  |     2\n",
    " cermy  |     2\n",
    "(3 rows)\n",
    "\n",
    "\n",
    "example_db=#"
   ]
  },
  {
   "cell_type": "markdown",
   "id": "8ee7cef0",
   "metadata": {},
   "source": [
    "`DISTINCT` - takrorlanishsiz qtorlarni chiqarish."
   ]
  },
  {
   "cell_type": "markdown",
   "id": "3cdd50af",
   "metadata": {},
   "source": [
    "1. Takrorlanishga ega bo'lganini chiqarish:"
   ]
  },
  {
   "cell_type": "markdown",
   "id": "cfe552f3",
   "metadata": {},
   "source": [
    "`SELECT type FROM doughtnut_list;`"
   ]
  },
  {
   "cell_type": "code",
   "execution_count": null,
   "id": "f3c517ff",
   "metadata": {
    "vscode": {
     "languageId": "plaintext"
    }
   },
   "outputs": [],
   "source": [
    "example_db=# SELECT type FROM doughnut_list;\n",
    "  type\n",
    "--------\n",
    " filled\n",
    " sweet\n",
    " cermy\n",
    " sweet\n",
    " cermy\n",
    " filled\n",
    "(6 rows)\n",
    "\n",
    "\n",
    "example_db=#"
   ]
  },
  {
   "cell_type": "markdown",
   "id": "34109e99",
   "metadata": {},
   "source": [
    "Takrorlanishlarni o'chirish uchun:\n",
    "\n",
    "`SELECT DISTINCT type FROM doughnut_list;`"
   ]
  },
  {
   "cell_type": "code",
   "execution_count": null,
   "id": "46283cee",
   "metadata": {
    "vscode": {
     "languageId": "plaintext"
    }
   },
   "outputs": [],
   "source": [
    "example_db=# SELECT DISTINCT type FROM doughnut_list;\n",
    "  type\n",
    "--------\n",
    " filled\n",
    " sweet\n",
    " cermy\n",
    "(3 rows)\n",
    "\n",
    "\n",
    "example_db=#"
   ]
  },
  {
   "cell_type": "markdown",
   "id": "b7d6a9af",
   "metadata": {},
   "source": [
    "`Column`'dagi takrorlanmaydigan miqdorlarni chiqarish uchun ishlatilinadi. "
   ]
  },
  {
   "cell_type": "markdown",
   "id": "213019cf",
   "metadata": {},
   "source": [
    "`LIMIT`\n"
   ]
  },
  {
   "cell_type": "markdown",
   "id": "11bf8043",
   "metadata": {},
   "source": [
    "Bizda quyidagi jadval bor:"
   ]
  },
  {
   "cell_type": "code",
   "execution_count": null,
   "id": "e373c2de",
   "metadata": {
    "vscode": {
     "languageId": "plaintext"
    }
   },
   "outputs": [],
   "source": [
    "example_db=# SELECT * FROM doughnut_list;\n",
    "  name  |  type  | price\n",
    "--------+--------+-------\n",
    " Cherry | filled |  3.00\n",
    " Apple  | sweet  |  5.00\n",
    " Mazza  | cermy  |  1.23\n",
    " Edge   | sweet  |  4.30\n",
    " Peach  | cermy  |  2.78\n",
    " Granty | filled |  4.65\n",
    "(6 rows)\n",
    "\n",
    "\n",
    "example_db=#"
   ]
  },
  {
   "cell_type": "markdown",
   "id": "d40bafb5",
   "metadata": {},
   "source": [
    "Narx bo'yicha saralaydigan bo'lsak: (birinchi yuqori narxlar)"
   ]
  },
  {
   "cell_type": "code",
   "execution_count": null,
   "id": "e3ff4efa",
   "metadata": {
    "vscode": {
     "languageId": "plaintext"
    }
   },
   "outputs": [],
   "source": [
    "example_db=# SELECT * FROM doughnut_list ORDER BY price DESC;\n",
    "  name  |  type  | price\n",
    "--------+--------+-------\n",
    " Apple  | sweet  |  5.00\n",
    " Granty | filled |  4.65\n",
    " Edge   | sweet  |  4.30\n",
    " Cherry | filled |  3.00\n",
    " Peach  | cermy  |  2.78\n",
    " Mazza  | cermy  |  1.23\n",
    "(6 rows)\n",
    "\n",
    "\n",
    "example_db=#"
   ]
  },
  {
   "cell_type": "markdown",
   "id": "19371fda",
   "metadata": {},
   "source": [
    "Eng katta narxga ega bo'lgan qatorlarni 2 tasini chiqarmoqchi bo'lsak yuqoridagi komadda uchun `LIMIT` qo'yamiz:"
   ]
  },
  {
   "cell_type": "markdown",
   "id": "ab4c0cfe",
   "metadata": {},
   "source": [
    "`SELECT * FROM doughnut_list ORDER BY price DESC LIMIT 2;`"
   ]
  },
  {
   "cell_type": "code",
   "execution_count": null,
   "id": "a5c60822",
   "metadata": {
    "vscode": {
     "languageId": "plaintext"
    }
   },
   "outputs": [],
   "source": [
    "example_db=# SELECT * FROM doughnut_list ORDER BY price DESC LIMIT 2;\n",
    "  name  |  type  | price\n",
    "--------+--------+-------\n",
    " Apple  | sweet  |  5.00\n",
    " Granty | filled |  4.65\n",
    "(2 rows)\n",
    "\n",
    "\n",
    "example_db=#"
   ]
  },
  {
   "cell_type": "markdown",
   "id": "fb08adf4",
   "metadata": {},
   "source": [
    "Shunchaki jadvalni boshidan 3 ta qiymatni chiqarmoqchi bo'lsak:\n",
    "\n",
    "`SELECT * FROM doughnut_list LIMIt 3;`"
   ]
  },
  {
   "cell_type": "code",
   "execution_count": null,
   "id": "9ef3644a",
   "metadata": {
    "vscode": {
     "languageId": "plaintext"
    }
   },
   "outputs": [],
   "source": [
    "example_db=# SELECT * FROM doughnut_list LIMIT 3;\n",
    "  name  |  type  | price\n",
    "--------+--------+-------\n",
    " Cherry | filled |  3.00\n",
    " Apple  | sweet  |  5.00\n",
    " Mazza  | cermy  |  1.23\n",
    "(3 rows)\n",
    "\n",
    "\n",
    "example_db=#"
   ]
  }
 ],
 "metadata": {
  "language_info": {
   "name": "python"
  }
 },
 "nbformat": 4,
 "nbformat_minor": 5
}
