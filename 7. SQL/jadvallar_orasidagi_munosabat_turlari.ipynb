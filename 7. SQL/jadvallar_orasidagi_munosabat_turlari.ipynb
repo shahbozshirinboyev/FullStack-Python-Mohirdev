{
 "cells": [
  {
   "cell_type": "markdown",
   "id": "f0d73ca5",
   "metadata": {},
   "source": [
    "`Jadvallar orasidagi munosabat turlari`"
   ]
  },
  {
   "cell_type": "code",
   "execution_count": null,
   "id": "89e3f205",
   "metadata": {
    "vscode": {
     "languageId": "plaintext"
    }
   },
   "outputs": [],
   "source": [
    "example_db=# \\d contacts\n",
    "                                         Table \"public.contacts\"\n",
    "    Column     |          Type          | Collation | Nullable |                 Default\n",
    "---------------+------------------------+-----------+----------+-----------------------------------------\n",
    " first_name    | character varying(50)  |           |          |\n",
    " last_name     | character varying(50)  |           |          |\n",
    " birthdate     | date                   |           |          |\n",
    " interests     | character varying(100) |           |          |\n",
    " id            | integer                |           | not null | nextval('my_contacts_id_seq'::regclass)\n",
    " phone_number  | character varying(60)  |           | not null |\n",
    " profession_id | integer                |           |          |\n",
    "Indexes:\n",
    "    \"my_contacts_pkey\" PRIMARY KEY, btree (id)\n",
    "Foreign-key constraints:\n",
    "    \"contacts_profession_id_fkey\" FOREIGN KEY (profession_id) REFERENCES profession(id)\n",
    "\n",
    "\n",
    "example_db=#"
   ]
  },
  {
   "cell_type": "markdown",
   "id": "6e5f5db9",
   "metadata": {},
   "source": [
    "> `FOREIGN KEY (Tashqi kalit)` — bu bir jadvaldagi ustun (yoki ustunlar guruhi) boshqa bir jadvaldagi ustun bilan bog‘langanini bildiradi."
   ]
  },
  {
   "cell_type": "code",
   "execution_count": null,
   "id": "ef24ab4a",
   "metadata": {
    "vscode": {
     "languageId": "plaintext"
    }
   },
   "outputs": [],
   "source": [
    "example_db=# UPDATE contacts SET profession_id = 4 WHERE id = 1;\n",
    "UPDATE 1\n",
    "example_db=# UPDATE contacts SET profession_id = 1 WHERE id = 2;\n",
    "UPDATE 1\n",
    "example_db=# UPDATE contacts SET profession_id = 3 WHERE id = 3;\n",
    "UPDATE 1\n",
    "example_db=# UPDATE contacts SET profession_id = 2 WHERE id = 5;\n",
    "UPDATE 1\n",
    "example_db=# UPDATE contacts SET profession_id = 6 WHERE id = 6;\n",
    "UPDATE 1\n",
    "example_db=# UPDATE contacts SET profession_id = 6 WHERE id =7;\n",
    "UPDATE 1\n",
    "example_db=# UPDATE contacts SET profession_id = 2 WHERE id = 8;\n",
    "UPDATE 1\n",
    "example_db=# UPDATE contacts SET profession_id = 5 WHERE id = 9;\n",
    "UPDATE 1\n",
    "example_db=# UPDATE contacts SET profession_id = 2 WHERE id = 10;\n",
    "UPDATE 1\n",
    "example_db=# UPDATE contacts SET profession_id = 4 WHERE id = 11;\n",
    "UPDATE 1\n",
    "example_db=# SELECT * FROM contacts;\n",
    " first_name |  last_name   | birthdate  |       interests       | id | phone_number  | profession_id\n",
    "------------+--------------+------------+-----------------------+----+---------------+---------------\n",
    " Umid       | Murodov      | 1998-12-08 | Reading               |  4 | +998930091166 |             3\n",
    " Shahboz    | Shirinboyev  | 1999-12-03 | Coding, Reading       |  1 | +998930091166 |             4\n",
    " Navroz     | Abdumurodov  | 1999-03-21 | Cooking, Reading      |  2 | +998930091166 |             1\n",
    " Javohir    | Abdurashidov | 1999-03-21 | Football, Tennis      |  3 | +998930091166 |             3\n",
    " Jahongir   | Otajonov     | 1978-10-05 | Cooking               |  5 | +998930091166 |             2\n",
    " Tom        | Caliny       | 1960-12-23 | Football, Tennis      |  6 | +998930091166 |             6\n",
    " Tim        | Kalith       | 1980-11-11 | Tennis                |  7 | +998930091166 |             6\n",
    " Amirxon    | Umarov       | 1998-12-28 | Eating                |  8 | +998930091166 |             2\n",
    " Dilya      | Neymatova    | 2002-05-12 | Coding, Listing music |  9 | +998930091166 |             5\n",
    " Ahmad      | Qahhorov     | 1994-09-23 | Reading, Music        | 10 | +998932457689 |             2\n",
    " Hilola     | Rahmonova    | 2002-12-28 | Tennis                | 11 | +998904567890 |             4\n",
    "(11 rows)\n",
    "\n",
    "\n",
    "example_db=#"
   ]
  },
  {
   "cell_type": "markdown",
   "id": "810b516a",
   "metadata": {},
   "source": [
    "Barcha tashqa kalitlarni `profession_id` ustuniga bog'lab chiqdik."
   ]
  },
  {
   "cell_type": "markdown",
   "id": "31ae6fe8",
   "metadata": {},
   "source": [
    "Jadvallar orasidagi munosabat turlari:\n",
    "\n",
    "1. `One to Many` - bu bitta jadvaldagi bitta yozuv, boshqa jadvaldagi bir nechta yozuvlar bilan bog‘langan bo‘lishini bildiradi."
   ]
  },
  {
   "cell_type": "markdown",
   "id": "18572dfb",
   "metadata": {},
   "source": [
    "![alt text](image-one-to-many.png)"
   ]
  },
  {
   "cell_type": "markdown",
   "id": "de2d7723",
   "metadata": {},
   "source": [
    "Bu turda qanday qilib bog'lanishlar amalga oshirilishini ko'rdik yuqorida, yana bir eslab o'tamiz. \n",
    "\n",
    "`ALTER TABLE contacts ADD COLUMN profession_id INT REFERENCES profession (id);`"
   ]
  },
  {
   "cell_type": "markdown",
   "id": "8c44999c",
   "metadata": {},
   "source": [
    "![alt text](image-REFERENCES.png)"
   ]
  },
  {
   "cell_type": "markdown",
   "id": "9b2c5a88",
   "metadata": {},
   "source": [
    "2. `One to One` munosabati — bu bitta jadvaldagi har bir yozuv faqatgina yana bir jadvaldagi bitta yozuv bilan bog‘lanishini anglatadi."
   ]
  },
  {
   "cell_type": "code",
   "execution_count": null,
   "id": "69ec2993",
   "metadata": {
    "vscode": {
     "languageId": "plaintext"
    }
   },
   "outputs": [],
   "source": [
    "example_db=# CREATE TABLE contact_salary\n",
    "example_db-# (\n",
    "example_db(#    id SERIAL PRIMARY KEY,\n",
    "example_db(#    amount NUMERIC NOT NULL,\n",
    "example_db(#    contact_id INT REFERENCES contacts (id),\n",
    "example_db(#    UNIQUE (contact_id)\n",
    "example_db(# );\n",
    "CREATE TABLE\n",
    "example_db=#"
   ]
  },
  {
   "cell_type": "markdown",
   "id": "1cf7eaf5",
   "metadata": {},
   "source": [
    "Yuqorida `one to one` relationship a misol bo'ldi. Endi bu yaratilgan `table`'ga ma'lumot kiritib ko'ramiz."
   ]
  },
  {
   "cell_type": "code",
   "execution_count": null,
   "id": "8a26670a",
   "metadata": {
    "vscode": {
     "languageId": "plaintext"
    }
   },
   "outputs": [],
   "source": [
    "example_db=# INSERT INTO contact_salary (amount, contact_id) VALUES (300, 1);\n",
    "INSERT 0 1\n",
    "example_db=# SELECT * FROM contact_salary;\n",
    " id | amount | contact_id\n",
    "----+--------+------------\n",
    "  1 |    300 |          1\n",
    "(1 row)\n",
    "\n",
    "\n",
    "example_db=#"
   ]
  },
  {
   "cell_type": "markdown",
   "id": "2ca62837",
   "metadata": {},
   "source": [
    "Keling endi yana bir bor user `id`'si `1`ga teng bo'lgan foydalanuvchiga salary kiritmoqchi bo'lib ko'raylik."
   ]
  },
  {
   "cell_type": "markdown",
   "id": "d18452be",
   "metadata": {},
   "source": [
    "`INSERT INTO contact_salary (amount, contact_id) VALUES (400, 1);`"
   ]
  },
  {
   "cell_type": "code",
   "execution_count": null,
   "id": "14678c4d",
   "metadata": {
    "vscode": {
     "languageId": "plaintext"
    }
   },
   "outputs": [],
   "source": [
    "example_db=# INSERT INTO contact_salary (amount, contact_id) VALUES (400, 1);\n",
    "ERROR:  duplicate key value violates unique constraint \"contact_salary_contact_id_key\"\n",
    "DETAIL:  Key (contact_id)=(1) already exists.\n",
    "example_db=#"
   ]
  },
  {
   "cell_type": "markdown",
   "id": "675c4911",
   "metadata": {},
   "source": [
    "`ERROR:  duplicate key value violates unique constraint \"contact_salary_contact_id_key\"`\n",
    "\n",
    "`DETAIL:  Key (contact_id)=(1) already exists.`"
   ]
  },
  {
   "cell_type": "markdown",
   "id": "b9c2bdf4",
   "metadata": {},
   "source": [
    "Demak `contact_id` takrorlanishi mumkin emas, bitta foydalanuvchini oylik moashi bir marta kiritilishi kerak."
   ]
  },
  {
   "cell_type": "markdown",
   "id": "badca9ce",
   "metadata": {},
   "source": [
    "Bu `one to one` munosabat jadvallar orasidagi."
   ]
  },
  {
   "cell_type": "markdown",
   "id": "b12126c2",
   "metadata": {},
   "source": [
    "Jadvalni to'ldirib qo'yamiz."
   ]
  },
  {
   "cell_type": "code",
   "execution_count": null,
   "id": "e15066c2",
   "metadata": {
    "vscode": {
     "languageId": "plaintext"
    }
   },
   "outputs": [],
   "source": [
    "example_db=# SELECT * FROM contact_salary;\n",
    " id | amount | contact_id\n",
    "----+--------+------------\n",
    "  1 |    300 |          1\n",
    "  6 |   1200 |         11\n",
    "  7 |    100 |         10\n",
    "  8 |    500 |          9\n",
    "  9 |   4300 |          8\n",
    " 10 |    230 |          7\n",
    " 11 |    350 |          6\n",
    " 12 |    450 |          5\n",
    " 13 |    150 |          4\n",
    " 14 |    550 |          3\n",
    " 15 |   1550 |          2\n",
    "(11 rows)\n",
    "\n",
    "\n",
    "example_db=#"
   ]
  },
  {
   "cell_type": "markdown",
   "id": "bdb610d1",
   "metadata": {},
   "source": [
    "Bu jadvallar orasidagi one to one bog'lanishni o'rnatish o'rniga shunchaki boshlang'ich jadvalga bittagina column qo'shib qo'ysak bo'lmasmidi?"
   ]
  },
  {
   "cell_type": "markdown",
   "id": "04d364fe",
   "metadata": {},
   "source": [
    "Bu juda o'rinli savol: Albatta bo'ladi, lekin ba'zi sabablarga ko'ra bunday boshqa jadvalga olib chiqiladi.\n",
    "\n",
    "- Tezroq `query`lar yozish uchun\n",
    "- `Security` tarafdan\n",
    "- Asosiy `jadval katta`lashib ketganda"
   ]
  },
  {
   "cell_type": "markdown",
   "id": "b3b4b275",
   "metadata": {},
   "source": [
    "3. `Mant to Many` munosabati — bu bitta jadvaldagi bir nechta yozuvlar, boshqa jadvaldagi bir nechta yozuvlar bilan bog‘liq bo‘lishi mumkinligini anglatadi."
   ]
  },
  {
   "cell_type": "markdown",
   "id": "bd893619",
   "metadata": {},
   "source": [
    "![alt text](image-many-to-many.png)"
   ]
  },
  {
   "cell_type": "code",
   "execution_count": null,
   "id": "92c32b56",
   "metadata": {
    "vscode": {
     "languageId": "plaintext"
    }
   },
   "outputs": [],
   "source": [
    "example_db=# SELECT * FROM contacts;\n",
    " first_name |  last_name   | birthdate  |       interests       | id | phone_number  | profession_id\n",
    "------------+--------------+------------+-----------------------+----+---------------+---------------\n",
    " Umid       | Murodov      | 1998-12-08 | Reading               |  4 | +998930091166 |             3\n",
    " Shahboz    | Shirinboyev  | 1999-12-03 | Coding, Reading       |  1 | +998930091166 |             4\n",
    " Navroz     | Abdumurodov  | 1999-03-21 | Cooking, Reading      |  2 | +998930091166 |             1\n",
    " Javohir    | Abdurashidov | 1999-03-21 | Football, Tennis      |  3 | +998930091166 |             3\n",
    " Jahongir   | Otajonov     | 1978-10-05 | Cooking               |  5 | +998930091166 |             2\n",
    " Tom        | Caliny       | 1960-12-23 | Football, Tennis      |  6 | +998930091166 |             6\n",
    " Tim        | Kalith       | 1980-11-11 | Tennis                |  7 | +998930091166 |             6\n",
    " Amirxon    | Umarov       | 1998-12-28 | Eating                |  8 | +998930091166 |             2\n",
    " Dilya      | Neymatova    | 2002-05-12 | Coding, Listing music |  9 | +998930091166 |             5\n",
    " Ahmad      | Qahhorov     | 1994-09-23 | Reading, Music        | 10 | +998932457689 |             2\n",
    " Hilola     | Rahmonova    | 2002-12-28 | Tennis                | 11 | +998904567890 |             4\n",
    "(11 rows)\n",
    "\n",
    "\n",
    "example_db=#"
   ]
  },
  {
   "cell_type": "markdown",
   "id": "487127f4",
   "metadata": {},
   "source": [
    "Yuqoridagi jadvalda `interests` column'ni ichidagi ma'lumotlarni boshqa jadvalga chiqarib `many to many' munosabatni qo'llash kerak shu bilan bizning jadvalimiz kamchiliklardan xoli va dizayn jihatdan juda to'g'ri qilingan bo'ladi."
   ]
  },
  {
   "cell_type": "markdown",
   "id": "842e212d",
   "metadata": {},
   "source": [
    "- Har bir `user` bir nechta `interest`'ni olishi mumkin\n",
    "- Har bir `interest` bir nechta `user`ga tegishli bo'lishi mumkin."
   ]
  },
  {
   "cell_type": "markdown",
   "id": "5231f790",
   "metadata": {},
   "source": [
    "Demak `interests` columnini yangi bir jadvalga ko'chiramiz."
   ]
  },
  {
   "cell_type": "markdown",
   "id": "6480a684",
   "metadata": {},
   "source": [
    "![alt text](image-relationship.png)"
   ]
  },
  {
   "cell_type": "code",
   "execution_count": null,
   "id": "60b5da02",
   "metadata": {
    "vscode": {
     "languageId": "plaintext"
    }
   },
   "outputs": [],
   "source": [
    "example_db=# CREATE TABLE interests\n",
    "example_db-# (\n",
    "example_db(#    id SERIAL PRIMARY KEY,\n",
    "example_db(#    name VARCHAR(50)\n",
    "example_db(# );\n",
    "CREATE TABLE\n",
    "example_db=# INSERT INTO interests (name) VALUES ('tecnology');\n",
    "INSERT 0 1\n",
    "example_db=# INSERT INTO interests (name) VALUES ('gardening');\n",
    "INSERT 0 1\n",
    "example_db=# INSERT INTO interests (name) VALUES ('cs');\n",
    "INSERT 0 1\n",
    "example_db=# INSERT INTO interests (name) VALUES ('dota');\n",
    "INSERT 0 1\n",
    "example_db=# INSERT INTO interests (name) VALUES ('football');\n",
    "INSERT 0 1\n",
    "example_db=# INSERT INTO interests (name) VALUES ('baseball');\n",
    "INSERT 0 1\n",
    "example_db=# INSERT INTO interests (name) VALUES ('reading');\n",
    "INSERT 0 1\n",
    "example_db=# INSERT INTO interests (name) VALUES ('cooking');\n",
    "INSERT 0 1"
   ]
  },
  {
   "cell_type": "code",
   "execution_count": null,
   "id": "c00652c0",
   "metadata": {
    "vscode": {
     "languageId": "plaintext"
    }
   },
   "outputs": [],
   "source": [
    "example_db=# SELECT * FROM interests;\n",
    " id |   name\n",
    "----+-----------\n",
    "  1 | tecnology\n",
    "  2 | gardening\n",
    "  3 | cs\n",
    "  4 | dota\n",
    "  5 | football\n",
    "  6 | baseball\n",
    "  7 | reading\n",
    "  8 | cooking\n",
    "(8 rows)\n",
    "\n",
    "\n",
    "example_db=#"
   ]
  },
  {
   "cell_type": "markdown",
   "id": "1bc896f1",
   "metadata": {},
   "source": [
    "`contact_interests` yangi jadvalni yaratib `many to many`ni ulash kerak buni qanday amalga oshirish kerak."
   ]
  },
  {
   "cell_type": "markdown",
   "id": "f872d308",
   "metadata": {},
   "source": [
    "example_db=# CREATE TABLE contact_interests\n",
    "example_db-# (\n",
    "example_db(#    id SERIAL PRIMARY KEY,\n",
    "example_db(#    contact_id INT REFERENCES contacts (id),\n",
    "example_db(#    interest_id INT REFERENCES interests (id)\n",
    "example_db(# );\n",
    "CREATE TABLE\n",
    "example_db=#"
   ]
  },
  {
   "cell_type": "code",
   "execution_count": null,
   "id": "236c9aa1",
   "metadata": {
    "vscode": {
     "languageId": "plaintext"
    }
   },
   "outputs": [],
   "source": [
    "example_db=# SELECT * FROM contact_interests;\n",
    " id | contact_id | interest_id\n",
    "----+------------+-------------\n",
    "  1 |          1 |           1\n",
    "  2 |          1 |           7\n",
    "  3 |          1 |           8\n",
    "  4 |          2 |           8\n",
    "  5 |          2 |           2\n",
    "  6 |          3 |           5\n",
    "  7 |          3 |           6\n",
    "  8 |          4 |           5\n",
    "  9 |          4 |           6\n",
    " 10 |          4 |           7\n",
    " 11 |          5 |           3\n",
    " 12 |          5 |           4\n",
    " 13 |          6 |           4\n",
    " 14 |          6 |           7\n",
    " 15 |          6 |           8\n",
    "(15 rows)\n",
    "\n",
    "\n",
    "example_db=#"
   ]
  },
  {
   "cell_type": "markdown",
   "id": "a232149d",
   "metadata": {},
   "source": [
    "Demak, yuqorida `many to many` relationship'ni amalga oshirdik."
   ]
  },
  {
   "cell_type": "markdown",
   "id": "ceab6df1",
   "metadata": {},
   "source": [
    "Demak, `contacts` jadvalini bir nechta jadvallarga bo'lish orqali to'g'ri dizayn qilib oldik, bunday to'g'ri dizayn qilish ko'nikmasi amaliyot bilan keladi."
   ]
  },
  {
   "cell_type": "markdown",
   "id": "4ac95c42",
   "metadata": {},
   "source": [
    "Ko'proq amaliyot qilish orqali mukammal dizayn qilishimiz mumkin bo'ladi."
   ]
  },
  {
   "cell_type": "markdown",
   "id": "a7a20911",
   "metadata": {},
   "source": [
    "Xulosa:\n",
    "\n",
    "- One to Many\n",
    "- One to One\n",
    "- Many to Many"
   ]
  }
 ],
 "metadata": {
  "language_info": {
   "name": "python"
  }
 },
 "nbformat": 4,
 "nbformat_minor": 5
}
