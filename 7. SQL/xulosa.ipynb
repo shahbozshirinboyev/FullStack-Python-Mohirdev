{
 "cells": [
  {
   "cell_type": "markdown",
   "id": "9e97cc19",
   "metadata": {},
   "source": [
    "`Nimalarni o'rgandik?`"
   ]
  },
  {
   "cell_type": "markdown",
   "id": "e448574e",
   "metadata": {},
   "source": [
    "- Database o'zi nima va nima uchun kerak?\n",
    "- Database yaratish\n",
    "- INSERT\n",
    "- DELETE\n",
    "- UPDATE\n",
    "- SELECT\n",
    "- Advanced SELECT: Group By, SUM, MIN, COUNT, ORDER BY and etc.\n",
    "\n",
    "--\n",
    "\n",
    "- ALTER TABLE\n",
    "- Table Design\n",
    "- Primary Key / Fogeign Key\n",
    "- Multi-table design: Relationship types\n",
    "- JOINs: INNER JOIN, OUTER JOIN\n",
    "- Python+SQL"
   ]
  },
  {
   "cell_type": "markdown",
   "id": "87e6e7d7",
   "metadata": {},
   "source": [
    "`Nimalarni o'rganmadik?`"
   ]
  },
  {
   "cell_type": "markdown",
   "id": "528b0bd5",
   "metadata": {},
   "source": [
    "- O'rgangan narsalarimizni ichiga kirmadik\n",
    "- Ataylab ba'zi tushunchalar berilmagan kursda\n",
    "- Constraintlardan UNIQUE, Foreign Key, Primary Key'larni o'tdik.\n",
    "- Views\n",
    "- Transactions\n",
    "- Security\n",
    "- Sub queries\n",
    "- Temporary Tables\n",
    "- Etc."
   ]
  },
  {
   "cell_type": "markdown",
   "id": "4da2b9db",
   "metadata": {},
   "source": [
    "`Qaysi resursdan foydalanildi?`\n",
    "\n",
    "`Head First SQL` (A Brain-Friendliy Guide)"
   ]
  },
  {
   "cell_type": "markdown",
   "id": "d2378a37",
   "metadata": {},
   "source": [
    "![alt text](image-book.png)"
   ]
  },
  {
   "cell_type": "markdown",
   "id": "ab9c5135",
   "metadata": {},
   "source": [
    "Endi nima qilish kerak?\n",
    "\n",
    "- Qandaydur dasturlash tilini o'rganish.\n",
    "- O'sha tilda database bilan ishlaydigan loyihalar qilish."
   ]
  }
 ],
 "metadata": {
  "language_info": {
   "name": "python"
  }
 },
 "nbformat": 4,
 "nbformat_minor": 5
}
