{
 "cells": [
  {
   "cell_type": "markdown",
   "id": "442c7428",
   "metadata": {},
   "source": [
    "`AND` va `OR` kalit so'zlari haqida gaplashamiz:"
   ]
  },
  {
   "cell_type": "markdown",
   "id": "2e7dcbbe",
   "metadata": {},
   "source": [
    "Bizda quyidagi jadval bor:"
   ]
  },
  {
   "cell_type": "code",
   "execution_count": null,
   "id": "b7db90e0",
   "metadata": {
    "vscode": {
     "languageId": "plaintext"
    }
   },
   "outputs": [],
   "source": [
    "example_db=# SELECT * FROM my_contacts;\n",
    " first_name |  last_name   | birthdate  | profession |       interests\n",
    "------------+--------------+------------+------------+-----------------------\n",
    " Shahboz    | Shirinboyev  | 1999-12-03 | Designer   | Coding, Reading books\n",
    " Navroz     | Abdumurodov  | 1999-03-21 | quruvchi   | eating\n",
    " Javohir    | Abdurashidov | 1999-03-21 | quruvchi   | eating\n",
    " Umid       | Murodov      | 1998-12-08 | doctor     | Reading\n",
    " Jahongir   | Otajonov     | 1978-10-05 | doctor     | Cooking\n",
    "(5 rows)\n",
    "\n",
    "\n",
    "example_db=#"
   ]
  },
  {
   "cell_type": "markdown",
   "id": "0e73ad14",
   "metadata": {},
   "source": [
    "faqat `profession='quruvchi'` bo'lganlarni ajratib olamiz:\n",
    "\n",
    "`SELECT * FROM my_contacts WHERE profession = 'quruvchi';`"
   ]
  },
  {
   "cell_type": "code",
   "execution_count": null,
   "id": "87f33911",
   "metadata": {
    "vscode": {
     "languageId": "plaintext"
    }
   },
   "outputs": [],
   "source": [
    "example_db=# SELECT * FROM my_contacts WHERE profession = 'quruvchi';\n",
    " first_name |  last_name   | birthdate  | profession | interests\n",
    "------------+--------------+------------+------------+-----------\n",
    " Navroz     | Abdumurodov  | 1999-03-21 | quruvchi   | eating\n",
    " Javohir    | Abdurashidov | 1999-03-21 | quruvchi   | eating\n",
    "(2 rows)\n",
    "\n",
    "\n",
    "example_db=#"
   ]
  },
  {
   "cell_type": "markdown",
   "id": "589b5f7f",
   "metadata": {},
   "source": [
    "endi faqat `profession='doctor'` bo'lganlarni ajratib olamiz:\n",
    "\n",
    "`SELECT * FROM my_contacts WHERE profession = 'doctor';`"
   ]
  },
  {
   "cell_type": "code",
   "execution_count": null,
   "id": "40745e98",
   "metadata": {
    "vscode": {
     "languageId": "plaintext"
    }
   },
   "outputs": [],
   "source": [
    "example_db=# SELECT * FROM my_contacts WHERE profession = 'doctor';\n",
    " first_name | last_name | birthdate  | profession | interests\n",
    "------------+-----------+------------+------------+-----------\n",
    " Umid       | Murodov   | 1998-12-08 | doctor     | Reading\n",
    " Jahongir   | Otajonov  | 1978-10-05 | doctor     | Cooking\n",
    "(2 rows)"
   ]
  },
  {
   "cell_type": "markdown",
   "id": "8d7d1bef",
   "metadata": {},
   "source": [
    "Ana endi shu ikki jadvalni qanday qilib birlashtirish haqida gaplashamiz. Buning uchun bizga `OR` kalit so'zi kerak bo'ladi."
   ]
  },
  {
   "cell_type": "markdown",
   "id": "a2dabc61",
   "metadata": {},
   "source": [
    "`SELECT * FROM my_contacts WHERE profession = 'doctor' OR profession = 'quruvchi';` "
   ]
  },
  {
   "cell_type": "code",
   "execution_count": null,
   "id": "f4a06a98",
   "metadata": {
    "vscode": {
     "languageId": "plaintext"
    }
   },
   "outputs": [],
   "source": [
    "example_db=# SELECT * FROM my_contacts WHERE profession = 'doctor' OR profession = 'quruvchi';\n",
    " first_name |  last_name   | birthdate  | profession | interests\n",
    "------------+--------------+------------+------------+-----------\n",
    " Navroz     | Abdumurodov  | 1999-03-21 | quruvchi   | eating\n",
    " Javohir    | Abdurashidov | 1999-03-21 | quruvchi   | eating\n",
    " Umid       | Murodov      | 1998-12-08 | doctor     | Reading\n",
    " Jahongir   | Otajonov     | 1978-10-05 | doctor     | Cooking\n",
    "(4 rows)\n",
    "\n",
    "\n",
    "example_db=#"
   ]
  },
  {
   "cell_type": "markdown",
   "id": "e47dbc5f",
   "metadata": {},
   "source": [
    "Yana boshqa misol ko'ramiz:"
   ]
  },
  {
   "cell_type": "code",
   "execution_count": null,
   "id": "ac165056",
   "metadata": {
    "vscode": {
     "languageId": "plaintext"
    }
   },
   "outputs": [],
   "source": [
    "example_db=# SELECT * FROM my_contacts WHERE interests = 'eating' OR birthdate > '1999-01-01';\n",
    " first_name |  last_name   | birthdate  | profession |       interests\n",
    "------------+--------------+------------+------------+-----------------------\n",
    " Shahboz    | Shirinboyev  | 1999-12-03 | Designer   | Coding, Reading books\n",
    " Navroz     | Abdumurodov  | 1999-03-21 | quruvchi   | eating\n",
    " Javohir    | Abdurashidov | 1999-03-21 | quruvchi   | eating\n",
    "(3 rows)\n",
    "\n",
    "\n",
    "example_db=#"
   ]
  },
  {
   "cell_type": "markdown",
   "id": "2e01198a",
   "metadata": {},
   "source": [
    "Agar bizga profession'ni doctor bo'lgan va tug'ulgan yili 1992 dan kichik bo'lgan insonlarni saralab olishimiz kerak bo'lsa: (bunda `AND` kalit so'zidan foydalanamiz.)\n",
    "\n",
    "`SELECT * FROM my_contacts WHERE profession = 'doctor' AND birthdate < '1992-01-01';`"
   ]
  },
  {
   "cell_type": "code",
   "execution_count": null,
   "id": "56468183",
   "metadata": {
    "vscode": {
     "languageId": "plaintext"
    }
   },
   "outputs": [],
   "source": [
    "example_db=# SELECT * FROM my_contacts WHERE profession = 'doctor' AND birthdate < '1992-01-01';\n",
    " first_name | last_name | birthdate  | profession | interests\n",
    "------------+-----------+------------+------------+-----------\n",
    " Jahongir   | Otajonov  | 1978-10-05 | doctor     | Cooking\n",
    "(1 row)\n",
    "\n",
    "\n",
    "example_db=#"
   ]
  }
 ],
 "metadata": {
  "language_info": {
   "name": "python"
  }
 },
 "nbformat": 4,
 "nbformat_minor": 5
}
