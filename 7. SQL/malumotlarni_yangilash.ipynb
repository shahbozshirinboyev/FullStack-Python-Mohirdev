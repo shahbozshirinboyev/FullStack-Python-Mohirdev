{
 "cells": [
  {
   "cell_type": "markdown",
   "id": "f5f1e407",
   "metadata": {},
   "source": [
    "`MA'LUMOTLARNI YANGILASH`"
   ]
  },
  {
   "cell_type": "markdown",
   "id": "c3736f76",
   "metadata": {},
   "source": [
    "Quyidagi jadval bor bizda:"
   ]
  },
  {
   "cell_type": "code",
   "execution_count": null,
   "id": "a1d89966",
   "metadata": {
    "vscode": {
     "languageId": "plaintext"
    }
   },
   "outputs": [],
   "source": [
    "example_db=# SELECT * FROM my_contacts;\n",
    " first_name |  last_name   | birthdate  | profession |       interests\n",
    "------------+--------------+------------+------------+-----------------------\n",
    " Shahboz    | Shirinboyev  | 1999-12-03 | Designer   | Coding, Reading books\n",
    " Navroz     | Abdumurodov  | 1999-03-21 | quruvchi   | eating\n",
    " Javohir    | Abdurashidov | 1999-03-21 | quruvchi   | eating\n",
    " Umid       | Murodov      | 1998-12-08 | doctor     | Reading\n",
    " Jahongir   | Otajonov     | 1978-10-05 | doctor     | Cooking\n",
    " Amirxon    | Umarov       |            |            |\n",
    " Dilya      | Neymatova    |            |            | Coding\n",
    " Tom        | Caliny       | 1960-12-23 | designer   | voleyball\n",
    " Tim        | Kalith       | 1980-11-11 | driver     | tenis\n",
    "(9 rows)\n",
    "\n",
    "\n",
    "example_db=#"
   ]
  },
  {
   "cell_type": "markdown",
   "id": "68fc5c24",
   "metadata": {},
   "source": [
    "Undagi `Amirxon Umarov` va `Dilya Neymatova`larning ba'zi ma'lumotlari yo'q va biz bu ma'lumotlarni to'ldirib ko'ramiz: "
   ]
  },
  {
   "cell_type": "markdown",
   "id": "638fccca",
   "metadata": {},
   "source": [
    "`UPDATE`"
   ]
  },
  {
   "cell_type": "markdown",
   "id": "4468f6c8",
   "metadata": {},
   "source": [
    "`UPDATE my_contacts SET interests = 'eating' WHERE first_name = 'Amirxon';`"
   ]
  },
  {
   "cell_type": "code",
   "execution_count": null,
   "id": "198e35e5",
   "metadata": {
    "vscode": {
     "languageId": "plaintext"
    }
   },
   "outputs": [],
   "source": [
    "example_db=# UPDATE my_contacts SET interests = 'eating' WHERE first_name = 'Amirxon';\n",
    "UPDATE 1\n",
    "example_db=#"
   ]
  },
  {
   "cell_type": "markdown",
   "id": "16b82747",
   "metadata": {},
   "source": [
    "Jadvalni qaytadan ko'radigan bo'lsak:"
   ]
  },
  {
   "cell_type": "code",
   "execution_count": null,
   "id": "c092def0",
   "metadata": {
    "vscode": {
     "languageId": "plaintext"
    }
   },
   "outputs": [],
   "source": [
    "example_db=# SELECT * FROM my_contacts;\n",
    " first_name |  last_name   | birthdate  | profession |       interests\n",
    "------------+--------------+------------+------------+-----------------------\n",
    " Shahboz    | Shirinboyev  | 1999-12-03 | Designer   | Coding, Reading books\n",
    " Navroz     | Abdumurodov  | 1999-03-21 | quruvchi   | eating\n",
    " Javohir    | Abdurashidov | 1999-03-21 | quruvchi   | eating\n",
    " Umid       | Murodov      | 1998-12-08 | doctor     | Reading\n",
    " Jahongir   | Otajonov     | 1978-10-05 | doctor     | Cooking\n",
    " Dilya      | Neymatova    |            |            | Coding\n",
    " Tom        | Caliny       | 1960-12-23 | designer   | voleyball\n",
    " Tim        | Kalith       | 1980-11-11 | driver     | tenis\n",
    " Amirxon    | Umarov       |            |            | eating\n",
    "(9 rows)\n",
    "\n",
    "\n",
    "example_db=#"
   ]
  },
  {
   "cell_type": "markdown",
   "id": "a5e9398a",
   "metadata": {},
   "source": [
    "Keling endi o'sha `Amirxon Umarov`ning barcha ma'lumotlarni kirgizib to'ldiramiz:\n",
    "jadvalga qaraydigan bo'lsak `birthdate` va `profession` ma'lumotlari yo'q, shularni to'ldiramiz:"
   ]
  },
  {
   "cell_type": "code",
   "execution_count": null,
   "id": "d5b974b4",
   "metadata": {
    "vscode": {
     "languageId": "plaintext"
    }
   },
   "outputs": [],
   "source": [
    "example_db=# UPDATE my_contacts SET birthdate = '1998-12-28', profession = 'electric' WHERE first_name = 'Amirxon';\n",
    "UPDATE 1\n",
    "example_db=#"
   ]
  },
  {
   "cell_type": "markdown",
   "id": "d6dcdcf2",
   "metadata": {},
   "source": [
    "Jadvalni qayta ko'ramiz:"
   ]
  },
  {
   "cell_type": "code",
   "execution_count": null,
   "id": "89717708",
   "metadata": {
    "vscode": {
     "languageId": "plaintext"
    }
   },
   "outputs": [],
   "source": [
    "example_db=# SELECT * FROM my_contacts;\n",
    " first_name |  last_name   | birthdate  | profession |       interests\n",
    "------------+--------------+------------+------------+-----------------------\n",
    " Shahboz    | Shirinboyev  | 1999-12-03 | Designer   | Coding, Reading books\n",
    " Navroz     | Abdumurodov  | 1999-03-21 | quruvchi   | eating\n",
    " Javohir    | Abdurashidov | 1999-03-21 | quruvchi   | eating\n",
    " Umid       | Murodov      | 1998-12-08 | doctor     | Reading\n",
    " Jahongir   | Otajonov     | 1978-10-05 | doctor     | Cooking\n",
    " Dilya      | Neymatova    |            |            | Coding\n",
    " Tom        | Caliny       | 1960-12-23 | designer   | voleyball\n",
    " Tim        | Kalith       | 1980-11-11 | driver     | tenis\n",
    " Amirxon    | Umarov       | 1998-12-28 | electric   | eating\n",
    "(9 rows)\n",
    "\n",
    "\n",
    "example_db=#"
   ]
  },
  {
   "cell_type": "markdown",
   "id": "3c2d0089",
   "metadata": {},
   "source": [
    "Jadvalga qaraydigan bo'lsa `Dilya` ismli shaxsni ham `birthdate` va `profession` qiymatlari `null` qiymatda, ularni ham kerakli ma'lumotlar bilan to'ldiramiz."
   ]
  },
  {
   "cell_type": "code",
   "execution_count": null,
   "id": "0ad10d6f",
   "metadata": {
    "vscode": {
     "languageId": "plaintext"
    }
   },
   "outputs": [],
   "source": [
    "example_db=# UPDATE my_contacts SET birthdate = '2002-05-12', profession = 'modeller' WHERE first_name = 'Dilya';\n",
    "UPDATE 1\n",
    "example_db=#"
   ]
  },
  {
   "cell_type": "markdown",
   "id": "8494440e",
   "metadata": {},
   "source": [
    "Jadvalni ko'ramiz:"
   ]
  },
  {
   "cell_type": "code",
   "execution_count": null,
   "id": "68350b2c",
   "metadata": {
    "vscode": {
     "languageId": "plaintext"
    }
   },
   "outputs": [],
   "source": [
    "example_db=# SELECT * FROM my_contacts;\n",
    " first_name |  last_name   | birthdate  | profession |       interests\n",
    "------------+--------------+------------+------------+-----------------------\n",
    " Shahboz    | Shirinboyev  | 1999-12-03 | Designer   | Coding, Reading books\n",
    " Navroz     | Abdumurodov  | 1999-03-21 | quruvchi   | eating\n",
    " Javohir    | Abdurashidov | 1999-03-21 | quruvchi   | eating\n",
    " Umid       | Murodov      | 1998-12-08 | doctor     | Reading\n",
    " Jahongir   | Otajonov     | 1978-10-05 | doctor     | Cooking\n",
    " Tom        | Caliny       | 1960-12-23 | designer   | voleyball\n",
    " Tim        | Kalith       | 1980-11-11 | driver     | tenis\n",
    " Amirxon    | Umarov       | 1998-12-28 | electric   | eating\n",
    " Dilya      | Neymatova    | 2002-05-12 | modeller   | Coding\n",
    "(9 rows)\n",
    "\n",
    "\n",
    "example_db=#"
   ]
  },
  {
   "cell_type": "markdown",
   "id": "1107296a",
   "metadata": {},
   "source": [
    "Bu `UPDATE` va `SET`larni ishlatayotganimizda xuddi `DELETE` kabi juda ehtiyotkor bo'lishimiz kerak va `WHERE` qismini aniqlik bilan kirtishimiz kerak, bo'lmasa bir nechta qatorlarni ma'lumotlarni bilmagan holda o'zgartirib qo'yishimiz mumkin."
   ]
  },
  {
   "cell_type": "markdown",
   "id": "50035c1a",
   "metadata": {},
   "source": [
    "`WHERE` qismini yodimizdan chiqarib qo'ysak qanday bo'ladi: Bu uchun misol ko'ramiz:"
   ]
  },
  {
   "cell_type": "markdown",
   "id": "ac932b9e",
   "metadata": {},
   "source": [
    "Bizda yangi ro'yxat bor:"
   ]
  },
  {
   "cell_type": "code",
   "execution_count": null,
   "id": "24ef9ddc",
   "metadata": {
    "vscode": {
     "languageId": "plaintext"
    }
   },
   "outputs": [],
   "source": [
    "example_db=# SELECT * FROM doughnut_list;\n",
    "  name  |  type  | price\n",
    "--------+--------+-------\n",
    " Apple  | filled |  3.00\n",
    " Cherry | filled |  1.00\n",
    " Mazza  | cermy  |  5.67\n",
    " Edge   | oily   |  6.37\n",
    "(4 rows)\n",
    "\n",
    "\n",
    "example_db=#"
   ]
  },
  {
   "cell_type": "markdown",
   "id": "493e8d93",
   "metadata": {},
   "source": [
    "Quyidagi qatorni `postgres`'ga kiritamiz:\n",
    "\n",
    "`UPDATE doughnut_list SET price = 3` deya WHERE qismini yozmaymiz."
   ]
  },
  {
   "cell_type": "code",
   "execution_count": null,
   "id": "00e23069",
   "metadata": {
    "vscode": {
     "languageId": "plaintext"
    }
   },
   "outputs": [],
   "source": [
    "example_db=# UPDATE doughnut_list SET price = 3;\n",
    "UPDATE 4\n",
    "example_db=#"
   ]
  },
  {
   "cell_type": "markdown",
   "id": "2747786e",
   "metadata": {},
   "source": [
    "Natijani ko'ramiz:"
   ]
  },
  {
   "cell_type": "code",
   "execution_count": null,
   "id": "9ffd8499",
   "metadata": {
    "vscode": {
     "languageId": "plaintext"
    }
   },
   "outputs": [],
   "source": [
    "example_db=# SELECT * FROM doughnut_list;\n",
    "  name  |  type  | price\n",
    "--------+--------+-------\n",
    " Apple  | filled |  3.00\n",
    " Cherry | filled |  3.00\n",
    " Mazza  | cermy  |  3.00\n",
    " Edge   | oily   |  3.00\n",
    "(4 rows)\n",
    "\n",
    "\n",
    "example_db=#"
   ]
  },
  {
   "cell_type": "markdown",
   "id": "8075e535",
   "metadata": {},
   "source": [
    "Ko'rishimiz mumkin barcha qatorlardagi narxlar bir xil bo'lib qoldi, xuddi `DELETE`'da WHERE qismini unutib qo'ysak jadvaldagi barcha ma'lumotlarni o'chirib tashlagandek."
   ]
  },
  {
   "cell_type": "markdown",
   "id": "92c50235",
   "metadata": {},
   "source": [
    "Agar `name`'i 'Apple' bo'lgan qatorni barcha ma'lumotlarini bir yo'lda yangilash ya'ni ma'lumot kiritishimiz mumkin."
   ]
  },
  {
   "cell_type": "markdown",
   "id": "282418f4",
   "metadata": {},
   "source": [
    "`UPDATE doughnut_list SET type = 'sweet', price = 5.00 WHERE name = 'Apple'`"
   ]
  },
  {
   "cell_type": "code",
   "execution_count": null,
   "id": "f6de6ea1",
   "metadata": {
    "vscode": {
     "languageId": "plaintext"
    }
   },
   "outputs": [],
   "source": [
    "example_db=# UPDATE doughnut_list SET type = 'sweet', price = 5.00 WHERE name = 'Apple';\n",
    "UPDATE 1\n",
    "example_db=#"
   ]
  },
  {
   "cell_type": "markdown",
   "id": "f3de37d8",
   "metadata": {},
   "source": [
    "Natija:"
   ]
  },
  {
   "cell_type": "code",
   "execution_count": null,
   "id": "5f19c554",
   "metadata": {
    "vscode": {
     "languageId": "plaintext"
    }
   },
   "outputs": [],
   "source": [
    "example_db=# SELECT * FROM doughnut_list;\n",
    "  name  |  type  | price\n",
    "--------+--------+-------\n",
    " Cherry | filled |  3.00\n",
    " Mazza  | cermy  |  3.00\n",
    " Edge   | oily   |  3.00\n",
    " Apple  | sweet  |  5.00\n",
    "(4 rows)\n",
    "\n",
    "\n",
    "example_db=#"
   ]
  }
 ],
 "metadata": {
  "language_info": {
   "name": "python"
  }
 },
 "nbformat": 4,
 "nbformat_minor": 5
}
