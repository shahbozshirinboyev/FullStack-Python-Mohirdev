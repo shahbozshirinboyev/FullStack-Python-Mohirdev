{
 "cells": [
  {
   "cell_type": "markdown",
   "metadata": {},
   "source": [
    "`FOYDALI BUYRUQLAR`"
   ]
  },
  {
   "cell_type": "markdown",
   "metadata": {},
   "source": [
    "`\\l` - List of databases\n",
    "\n",
    "`\\d` - Database list of tables\n",
    "\n",
    "`\\d table_name` - Column info of \"table\"\n",
    "\n",
    "`DROP TABLE table_name` - Delete table\n",
    "\n",
    "`DROP DATABASE database_name` - Delete database"
   ]
  }
 ],
 "metadata": {
  "language_info": {
   "name": "python"
  }
 },
 "nbformat": 4,
 "nbformat_minor": 2
}
