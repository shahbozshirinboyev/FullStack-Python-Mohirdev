{
 "cells": [
  {
   "cell_type": "markdown",
   "id": "58a3d9ad",
   "metadata": {},
   "source": [
    "`MA'LUMOTLARNI O'CHIRISH`"
   ]
  },
  {
   "cell_type": "markdown",
   "id": "f2732b0b",
   "metadata": {},
   "source": [
    "Bizda quyidagi jadval bor:"
   ]
  },
  {
   "cell_type": "code",
   "execution_count": null,
   "id": "4e580887",
   "metadata": {
    "vscode": {
     "languageId": "plaintext"
    }
   },
   "outputs": [],
   "source": [
    "example_db=# SELECT * FROM my_contacts;\n",
    " first_name |  last_name   | birthdate  | profession |       interests\n",
    "------------+--------------+------------+------------+-----------------------\n",
    " Shahboz    | Shirinboyev  | 1999-12-03 | Designer   | Coding, Reading books\n",
    " Navroz     | Abdumurodov  | 1999-03-21 | quruvchi   | eating\n",
    " Javohir    | Abdurashidov | 1999-03-21 | quruvchi   | eating\n",
    " Umid       | Murodov      | 1998-12-08 | doctor     | Reading\n",
    " Jahongir   | Otajonov     | 1978-10-05 | doctor     | Cooking\n",
    " Amirxon    | Umarov       |            |            |\n",
    " Hayotxon   | Jalilov      |            |            |\n",
    " Dilya      | Neymatova    |            |            | Coding\n",
    " Tom        | Caliny       | 1960-12-23 | designer   | voleyball\n",
    " Tim        | Kalith       | 1980-11-11 | driver     | tenis\n",
    "(10 rows)\n",
    "\n",
    "\n",
    "example_db=#"
   ]
  },
  {
   "cell_type": "markdown",
   "id": "13c80453",
   "metadata": {},
   "source": [
    "Biz yuqoridagi jadvaldan `Hayotxon Jalilov`ni o'chirmoqchimiz: Unda quyidagicha ish tutamiz:\n",
    "\n",
    "`DELETE FROM my_contacts WHERE first_name = 'Hayotxon';`"
   ]
  },
  {
   "cell_type": "markdown",
   "id": "d7e3cdd2",
   "metadata": {},
   "source": [
    "Natija:"
   ]
  },
  {
   "cell_type": "code",
   "execution_count": null,
   "id": "b5c25461",
   "metadata": {
    "vscode": {
     "languageId": "plaintext"
    }
   },
   "outputs": [],
   "source": [
    "example_db=# DELETE FROM my_contacts WHERE first_name = 'Hayotxon';\n",
    "DELETE 1\n",
    "example_db=#"
   ]
  },
  {
   "cell_type": "markdown",
   "id": "e3443694",
   "metadata": {},
   "source": [
    "Qatorning har qanday ustun ma'lumoti orqali o'chirish imkoni bor.\n"
   ]
  },
  {
   "cell_type": "markdown",
   "id": "d2534ce0",
   "metadata": {},
   "source": [
    "Bir xil `first_name`ga ega 2 xil shaxs bo'ladigan bo'lsa uni boshqa ma'lumotlari orqali aniqlashtirishimiz mumkin: \n",
    "\n",
    "`last_name`, `birthdate`, `profession`, `interests`\n"
   ]
  },
  {
   "cell_type": "markdown",
   "id": "0e861c94",
   "metadata": {},
   "source": [
    "`DELETE FROM my_contacts WHERE first_name = 'Hayotxon' AND last_name = 'Jalilov';`"
   ]
  },
  {
   "cell_type": "markdown",
   "id": "a0abc481",
   "metadata": {},
   "source": [
    "Ma'lumotlar bor jadvaldan biron qiymatga teng qatorni o'chirayotganimizda juda ehtiyot bo'lishimiz kerak ba'zida bir xil qiymatga teng qatorlar bo'ladi, shu sabab avval ularni `SELECT` qilib biz o'chirmoqchi bo'lgan ma'lumotlarni ko'rib olishimkoniyati bor."
   ]
  },
  {
   "cell_type": "markdown",
   "id": "b9d631d9",
   "metadata": {},
   "source": [
    "Jadvaldagi barcha ma'lumotlarni o'chirish:\n",
    "\n",
    "`DELETE FROM example_table;`"
   ]
  }
 ],
 "metadata": {
  "language_info": {
   "name": "python"
  }
 },
 "nbformat": 4,
 "nbformat_minor": 5
}
