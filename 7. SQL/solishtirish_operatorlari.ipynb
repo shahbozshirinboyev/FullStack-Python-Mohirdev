{
 "cells": [
  {
   "cell_type": "markdown",
   "id": "cf0605ab",
   "metadata": {},
   "source": [
    "`Solishtirish (Tenglashtirish) operatorlari.`"
   ]
  },
  {
   "cell_type": "markdown",
   "id": "cf215069",
   "metadata": {},
   "source": [
    "`SELECT * FROM doughnut_list WHERE price = 1.00'`"
   ]
  },
  {
   "cell_type": "markdown",
   "id": "418f1f7a",
   "metadata": {},
   "source": [
    "Yuqoridagi misolda `=` belgisi bu tenglashtirish operatori bo'ladi."
   ]
  },
  {
   "cell_type": "code",
   "execution_count": null,
   "id": "5d4c0781",
   "metadata": {
    "vscode": {
     "languageId": "plaintext"
    }
   },
   "outputs": [],
   "source": [
    "example_db=# SELECT * FROM doughnut_list WHERE price = 1.00;\n",
    "  name  |  type  | price\n",
    "--------+--------+-------\n",
    " Cherry | filled |  1.00\n",
    "(1 row)"
   ]
  },
  {
   "cell_type": "markdown",
   "id": "e708e2d2",
   "metadata": {},
   "source": [
    "`!=` - teng bo'lmagan qiymatlarni saralash:"
   ]
  },
  {
   "cell_type": "code",
   "execution_count": null,
   "id": "d3dee34c",
   "metadata": {
    "vscode": {
     "languageId": "plaintext"
    }
   },
   "outputs": [],
   "source": [
    "example_db=# INSERT INTO doughnut_list VALUES ('Mazza', 'cermy', 5.67);\n",
    "INSERT 0 1\n",
    "example_db=# INSERT INTO doughnut_list VALUES ('Edge', 'oily', 6.37);\n",
    "INSERT 0 1\n",
    "example_db=# SELECT * FROM doughnut_list;\n",
    "  name  |  type  | price\n",
    "--------+--------+-------\n",
    " Apple  | filled |  3.00\n",
    " Cherry | filled |  1.00\n",
    " Mazza  | cermy  |  5.67\n",
    " Edge   | oily   |  6.37\n",
    "(4 rows)\n",
    "\n",
    "\n",
    "example_db=# SELECT * FROM doughnut_list WHERE price != 1.00;\n",
    " name  |  type  | price\n",
    "-------+--------+-------\n",
    " Apple | filled |  3.00\n",
    " Mazza | cermy  |  5.67\n",
    " Edge  | oily   |  6.37\n",
    "(3 rows)\n",
    "\n",
    "\n",
    "example_db=#"
   ]
  },
  {
   "cell_type": "markdown",
   "id": "9697d219",
   "metadata": {},
   "source": [
    "`example_db=# SELECT * FROM doughnut_list WHERE price != 1.00`\n",
    "\n",
    "ifodasi\n",
    "\n",
    "`example_db=# SELECT * FROM doughnut_list WHERE price <> 1.00`\n",
    "\n",
    "ifodaga teng hisoblanadi."
   ]
  },
  {
   "cell_type": "markdown",
   "id": "900c3eee",
   "metadata": {},
   "source": [
    "3.00 qiymatdan yoki umuman bir qiymatdan katta qatorlarni saralash uchun `>` operatoridan foydalanamiz:"
   ]
  },
  {
   "cell_type": "code",
   "execution_count": null,
   "id": "068969de",
   "metadata": {
    "vscode": {
     "languageId": "plaintext"
    }
   },
   "outputs": [],
   "source": [
    "example_db=# SELECT * FROM doughnut_list WHERE price > 3.00;\n",
    " name  | type  | price\n",
    "-------+-------+-------\n",
    " Mazza | cermy |  5.67\n",
    " Edge  | oily  |  6.37\n",
    "(2 rows)\n",
    "\n",
    "\n",
    "example_db=#"
   ]
  },
  {
   "cell_type": "markdown",
   "id": "4dbde3be",
   "metadata": {},
   "source": [
    "Yuqoridagi operatorni teskarisi ham ishlaydi, bu `<` kichik operatori hisoblanadi."
   ]
  },
  {
   "cell_type": "code",
   "execution_count": null,
   "id": "bd3c3d8f",
   "metadata": {
    "vscode": {
     "languageId": "plaintext"
    }
   },
   "outputs": [],
   "source": [
    "example_db=# SELECT * FROM doughnut_list WHERE price < 5.00;\n",
    "  name  |  type  | price\n",
    "--------+--------+-------\n",
    " Apple  | filled |  3.00\n",
    " Cherry | filled |  1.00\n",
    "(2 rows)\n",
    "\n",
    "\n",
    "example_db=#"
   ]
  },
  {
   "cell_type": "markdown",
   "id": "5cd262bd",
   "metadata": {},
   "source": [
    "Bundan tashqari katta yoki teng (`>=`) yoki kichik yoki teng (`<=`) larni ham ishlatishimiz mumkin."
   ]
  },
  {
   "cell_type": "markdown",
   "id": "13aface3",
   "metadata": {},
   "source": [
    "Sonlardan tashqari harflarni ham solishtirishimiz mumkin, bunda uni alfabetga qarab olishtiradi."
   ]
  },
  {
   "cell_type": "markdown",
   "id": "fcdcd3f7",
   "metadata": {},
   "source": [
    "Misol uchun:"
   ]
  },
  {
   "cell_type": "code",
   "execution_count": null,
   "id": "916f4efc",
   "metadata": {
    "vscode": {
     "languageId": "plaintext"
    }
   },
   "outputs": [],
   "source": [
    "example_db=# SELECT * FROM doughnut_list WHERE type < 'f';\n",
    "\n",
    "\n",
    " name  | type  | price\n",
    "-------+-------+-------\n",
    " Mazza | cermy |  5.67\n",
    "(1 row)\n",
    "\n",
    "\n",
    "example_db=#"
   ]
  },
  {
   "cell_type": "markdown",
   "id": "91b2e243",
   "metadata": {},
   "source": [
    "Yuqorida `type` obyekti ichidagi so'zlarni (`cermy` ning bosh harfi `c`) ni olib taqqoslash uchun berilgan `f` bilan alifbodagi tartib raqami solishtiriladi."
   ]
  }
 ],
 "metadata": {
  "language_info": {
   "name": "python"
  }
 },
 "nbformat": 4,
 "nbformat_minor": 5
}
