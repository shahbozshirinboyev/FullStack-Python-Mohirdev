{
 "cells": [
  {
   "cell_type": "markdown",
   "id": "ad2802be",
   "metadata": {},
   "source": [
    "`SQL'ni dasturlash tili orqali chaqirish.`"
   ]
  },
  {
   "cell_type": "markdown",
   "id": "6b875f74",
   "metadata": {},
   "source": [
    "ORM (Object-Relational Mapping) — bu obyektga yo‘naltirilgan dasturlash tillari (masalan, Python, Java, JavaScript, PHP) bilan relatsion ma'lumotlar bazasi (masalan, PostgreSQL, MySQL, SQLite) o‘rtasida ko‘prik bo‘lib xizmat qiladigan texnologiyadir.\n",
    "\n",
    "🧠 Oddiy qilib aytganda:\n",
    "ORM — bu SQL yozmasdan turib, ma'lumotlar bazasidagi jadvallar bilan obyektlar (class, object) orqali ishlash imkonini beradi."
   ]
  }
 ],
 "metadata": {
  "language_info": {
   "name": "python"
  }
 },
 "nbformat": 4,
 "nbformat_minor": 5
}
