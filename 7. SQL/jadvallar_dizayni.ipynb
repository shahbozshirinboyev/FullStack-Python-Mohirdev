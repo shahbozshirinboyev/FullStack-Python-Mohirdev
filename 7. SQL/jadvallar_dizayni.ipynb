{
 "cells": [
  {
   "cell_type": "markdown",
   "id": "235aacce",
   "metadata": {},
   "source": [
    "`JADVALLAR DIZAYNI`"
   ]
  },
  {
   "cell_type": "markdown",
   "id": "0aa38b76",
   "metadata": {},
   "source": [
    "Biz yuqorida o'rgangan barcha ishlarimizda jadvallarni dizayniga umuman e'tibor bermadik. Ammo jadvallar dizayni ham muhim narsalardan biri."
   ]
  },
  {
   "cell_type": "markdown",
   "id": "beadf86a",
   "metadata": {},
   "source": [
    "Jadvallar dizayni noto'g'ri qilinsa bir nechta muammolarga olib kelishi mumkin:\n",
    "\n",
    "- Dublikatlar -> Ishonch kamayadi\n",
    "- So'rovlar ishlashi sekinlashadi\n",
    "- Ko'proq joy oladi -> Ko'p pul ketadi"
   ]
  },
  {
   "cell_type": "markdown",
   "id": "52c519a5",
   "metadata": {},
   "source": [
    "Bizda quyidagi jadval bor:"
   ]
  },
  {
   "cell_type": "code",
   "execution_count": null,
   "id": "e6990018",
   "metadata": {
    "vscode": {
     "languageId": "plaintext"
    }
   },
   "outputs": [],
   "source": [
    "example_db=# SELECT * FROM my_contacts;\n",
    " first_name |  last_name   | birthdate  | profession |       interests\n",
    "------------+--------------+------------+------------+-----------------------\n",
    " Shahboz    | Shirinboyev  | 1999-12-03 | Designer   | Coding, Reading books\n",
    " Navroz     | Abdumurodov  | 1999-03-21 | quruvchi   | eating\n",
    " Javohir    | Abdurashidov | 1999-03-21 | quruvchi   | eating\n",
    " Umid       | Murodov      | 1998-12-08 | doctor     | Reading\n",
    " Jahongir   | Otajonov     | 1978-10-05 | doctor     | Cooking\n",
    " Tom        | Caliny       | 1960-12-23 | designer   | voleyball\n",
    " Tim        | Kalith       | 1980-11-11 | driver     | tenis\n",
    " Amirxon    | Umarov       | 1998-12-28 | electric   | eating\n",
    " Dilya      | Neymatova    | 2002-05-12 | modeller   | Coding\n",
    "(9 rows)\n",
    "\n",
    "\n",
    "example_db=#"
   ]
  },
  {
   "cell_type": "markdown",
   "id": "9a3feeb0",
   "metadata": {},
   "source": [
    "example_db=# SELECT * FROM my_contacts WHERE interests LIKE '%Reading%';\n",
    " first_name |  last_name  | birthdate  | profession |       interests\n",
    "------------+-------------+------------+------------+-----------------------\n",
    " Shahboz    | Shirinboyev | 1999-12-03 | Designer   | Coding, Reading books\n",
    " Umid       | Murodov     | 1998-12-08 | doctor     | Reading\n",
    "(2 rows)\n",
    "\n",
    "\n",
    "example_db=#"
   ]
  },
  {
   "cell_type": "markdown",
   "id": "7bfd2d36",
   "metadata": {},
   "source": [
    "`Reading` so'zini jdavlani ko'p qismida takrorlanishi ham bu dizayndagi xatolikga kiradi, agar bitta joyda saqlanganda edi unda ham xato yozilish ehtimoli yo'qolardi va xotiradan joy ham ko'p olmaydi. "
   ]
  },
  {
   "cell_type": "markdown",
   "id": "0dafcb57",
   "metadata": {},
   "source": [
    "Bu `dublikat` muammosi."
   ]
  },
  {
   "cell_type": "markdown",
   "id": "a21465a7",
   "metadata": {},
   "source": [
    "`SELECT * FROM my_contacts WHERE interests LIKE '%Reading%';`\n",
    "\n",
    "yuqoridagi buyruqda `LIKE` kalit so'zi juda ham sekin ishlaydigan kalit so'zlarsa, agar millionlab qator ma'lumotlarga bu buyruqmi bersak juda ham sekin javob qaytaradi bizga.\n",
    "\n",
    "Jadvallarni `to'g'ri dizayn qilinishi kerak` shundagini bizning ma'lumotlar bazamiz amallarni tez bajarib bizga kerakli bo'lgan ma'lumotni tez qaytarib beradi."
   ]
  }
 ],
 "metadata": {
  "language_info": {
   "name": "python"
  }
 },
 "nbformat": 4,
 "nbformat_minor": 5
}
