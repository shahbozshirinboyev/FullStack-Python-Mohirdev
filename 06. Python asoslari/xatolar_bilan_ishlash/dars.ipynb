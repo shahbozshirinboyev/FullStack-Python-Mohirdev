{
 "cells": [
  {
   "cell_type": "markdown",
   "id": "e5b561b4",
   "metadata": {},
   "source": [
    "`XATOLAR BILAN ISHLASH`"
   ]
  },
  {
   "cell_type": "markdown",
   "id": "678a3596",
   "metadata": {},
   "source": [
    "> Kodni ishlatish jarayonida ba'zi xatoliklar kelib chiqadi. Masalan pastdagi koddagi xatolikni ko'rishimiz mumkin:"
   ]
  },
  {
   "cell_type": "code",
   "execution_count": 3,
   "id": "3c3e3a1e",
   "metadata": {},
   "outputs": [
    {
     "ename": "ValueError",
     "evalue": "invalid literal for int() with base 10: '26.5'",
     "output_type": "error",
     "traceback": [
      "\u001b[31m---------------------------------------------------------------------------\u001b[39m",
      "\u001b[31mValueError\u001b[39m                                Traceback (most recent call last)",
      "\u001b[36mCell\u001b[39m\u001b[36m \u001b[39m\u001b[32mIn[3]\u001b[39m\u001b[32m, line 2\u001b[39m\n\u001b[32m      1\u001b[39m yosh = \u001b[38;5;28minput\u001b[39m(\u001b[33m'\u001b[39m\u001b[33mYoshingizni kiriting: \u001b[39m\u001b[33m'\u001b[39m)\n\u001b[32m----> \u001b[39m\u001b[32m2\u001b[39m yosh = \u001b[38;5;28;43mint\u001b[39;49m\u001b[43m(\u001b[49m\u001b[43myosh\u001b[49m\u001b[43m)\u001b[49m\n\u001b[32m      4\u001b[39m \u001b[38;5;28mprint\u001b[39m(\u001b[33mf\u001b[39m\u001b[33m\"\u001b[39m\u001b[33mSiz \u001b[39m\u001b[38;5;132;01m{\u001b[39;00m\u001b[32m2025\u001b[39m\u001b[38;5;250m \u001b[39m-\u001b[38;5;250m \u001b[39myosh\u001b[38;5;132;01m}\u001b[39;00m\u001b[33m-yilda tug\u001b[39m\u001b[33m'\u001b[39m\u001b[33mulgansiz.\u001b[39m\u001b[33m\"\u001b[39m)\n",
      "\u001b[31mValueError\u001b[39m: invalid literal for int() with base 10: '26.5'"
     ]
    }
   ],
   "source": [
    "yosh = input('Yoshingizni kiriting: ')\n",
    "yosh = int(yosh)\n",
    "\n",
    "print(f\"Siz {2025 - yosh}-yilda tug'ulgansiz.\")"
   ]
  },
  {
   "cell_type": "markdown",
   "id": "5f3b520c",
   "metadata": {},
   "source": [
    "Agar yuqoridagi dasturga biz oyna ochilganda 25.5 ni kiritsak dastur xatolik chiqaradi. Agar shunaqa dastur ishlash jarayonida xatolik sodir bo'ladigan bo'lsa bunda python xatolik xabari haqida obyekt `exception` yaratadi va bu xatolikni ushlab olish mumkin."
   ]
  },
  {
   "cell_type": "code",
   "execution_count": 5,
   "id": "222a52be",
   "metadata": {},
   "outputs": [
    {
     "name": "stdout",
     "output_type": "stream",
     "text": [
      "Siz butun son kiritmadingiz...\n"
     ]
    }
   ],
   "source": [
    "yosh = input('Yoshingizni kiriting: ')\n",
    "\n",
    "try:\n",
    "  yosh = int(yosh)\n",
    "  print(f\"Siz {2025 - yosh}-yilda tug'ulgansiz.\")\n",
    "except:\n",
    "  print('Siz butun son kiritmadingiz...')"
   ]
  },
  {
   "cell_type": "markdown",
   "id": "7cfedb93",
   "metadata": {},
   "source": [
    "Istisno obyektlarni tutib olish uchun Pythonda maxsus try-except operatorlari bor. Bu operatorlar quyidagicha ishlaydi, try operatori badanida bajarish kerak bo'lgan kod yoziladi, except operatori badanida esa xatolik yuz berganda bajarilishi kerak bo'lgan kod yoziladi. Ya'ni dasturimiz to'xtab qolmasdan bajarilaveradi."
   ]
  },
  {
   "cell_type": "markdown",
   "id": "bda9b4e5",
   "metadata": {},
   "source": [
    "`Yozishdagi eng to'g'ri usul:`"
   ]
  },
  {
   "cell_type": "code",
   "execution_count": 7,
   "id": "3f3a8b8d",
   "metadata": {},
   "outputs": [
    {
     "name": "stdout",
     "output_type": "stream",
     "text": [
      "Siz butun son kiritmadingiz...\n",
      "Dastur davom etayapti...\n",
      "Dastur tugadi.\n"
     ]
    }
   ],
   "source": [
    "yosh = input('Yoshingizni kiriting: ')\n",
    "\n",
    "try:\n",
    "  yosh = int(yosh)\n",
    "except:\n",
    "  print('Siz butun son kiritmadingiz...')\n",
    "else:\n",
    "  print(f\"Siz {2025 - yosh}-yilda tug'ulgansiz.\")\n",
    "\n",
    "print('Dastur davom etayapti...')\n",
    "print('Dastur tugadi.')"
   ]
  },
  {
   "cell_type": "markdown",
   "id": "f33031a2",
   "metadata": {},
   "source": [
    "Yuqoridagi misolda `except:` bu har qanday xatolikni ushlaydi, agar biz aynan biror xatolikni ushlamoqchi bo'lsak, `xatolik nomini` kiritib qo'yishimiz kerak. "
   ]
  },
  {
   "cell_type": "markdown",
   "id": "99fe8a4c",
   "metadata": {},
   "source": [
    "Pastdagi yozilgan kod qosmiga e'tibor bering:"
   ]
  },
  {
   "cell_type": "code",
   "execution_count": 3,
   "id": "789dcb02",
   "metadata": {},
   "outputs": [
    {
     "name": "stdout",
     "output_type": "stream",
     "text": [
      "Siz butun son kiritmadingiz...\n",
      "Dastur davom etayapti...\n",
      "Dastur tugadi.\n"
     ]
    }
   ],
   "source": [
    "yosh = input('Yoshingizni kiriting: ')\n",
    "\n",
    "try:\n",
    "  yosh = int(yosh)\n",
    "except ValueError: # bu yerda aynan qanday xatolik yuz bersa shu kod qismi ishlashi ko'rsatilgan\n",
    "  print('Siz butun son kiritmadingiz...')\n",
    "else:\n",
    "  print(f\"Siz {2025 - yosh}-yilda tug'ulgansiz.\")\n",
    "\n",
    "print('Dastur davom etayapti...')\n",
    "print('Dastur tugadi.')"
   ]
  },
  {
   "cell_type": "markdown",
   "id": "6cbbe337",
   "metadata": {},
   "source": [
    "`ZeroDivisionError` - nolga bo'lishdagi xatolik."
   ]
  },
  {
   "cell_type": "markdown",
   "id": "b9cee34b",
   "metadata": {},
   "source": [
    "> Dastur davomida biron qiymat nolga bo'linsa, dastur bajarilishdan to'xtaydi va shu ko'rinishdagi xatolik chiqadi. "
   ]
  },
  {
   "cell_type": "code",
   "execution_count": 5,
   "id": "70369f2a",
   "metadata": {},
   "outputs": [
    {
     "name": "stdout",
     "output_type": "stream",
     "text": [
      "0 ga bo'lib bo'lmaydi.\n"
     ]
    }
   ],
   "source": [
    "x, y = 5, 10\n",
    "\n",
    "try:\n",
    "  y/(x-5)\n",
    "except ZeroDivisionError:\n",
    "  print('0 ga bo\\'lib bo\\'lmaydi.')"
   ]
  },
  {
   "cell_type": "markdown",
   "id": "12fae2f0",
   "metadata": {},
   "source": [
    "`IndexError` - biron ro'yxatning mavjud bo'lmagan elementiga murojaat qilsangiz shunda bunday xatolik xabari chiqadi. Quyidagi kod qismi orqali ko'ramiz."
   ]
  },
  {
   "cell_type": "code",
   "execution_count": 6,
   "id": "4e16bac5",
   "metadata": {},
   "outputs": [
    {
     "name": "stdout",
     "output_type": "stream",
     "text": [
      "Ro'yxatning mavjud bo'lmagan elementiga murojaat qilayapsiz.\n"
     ]
    }
   ],
   "source": [
    "mevalar = ['olma', 'anor', 'uzum', 'anjir', 'behi']\n",
    "\n",
    "try:\n",
    "  print(mevalar[6])\n",
    "except IndexError:\n",
    "  print(\"Ro'yxatning mavjud bo'lmagan elementiga murojaat qilayapsiz.\")"
   ]
  },
  {
   "cell_type": "markdown",
   "id": "e33ea43a",
   "metadata": {},
   "source": [
    "`KeyError` - lug'atlarda mavjud bo'lmagan kalit so'zli qiymatga murojaat qilishda shunaqa xatolik chiqadi."
   ]
  },
  {
   "cell_type": "code",
   "execution_count": 9,
   "id": "abc20444",
   "metadata": {},
   "outputs": [
    {
     "name": "stdout",
     "output_type": "stream",
     "text": [
      "Bunday kalit mavjud emas.\n"
     ]
    }
   ],
   "source": [
    "user = {\n",
    "  'username':'shahboz.sh.b',\n",
    "  'status':'leader',\n",
    "  'email':'shahboz.sh.b@gmail.com',\n",
    "  'phone':'998942277989'\n",
    "}\n",
    "key = 'passsword'\n",
    "\n",
    "try:\n",
    "  print(f\"Foydalanuvchi: {user[key]}\")\n",
    "except KeyError:\n",
    "  print('Bunday kalit mavjud emas.')"
   ]
  },
  {
   "cell_type": "markdown",
   "id": "857d5f7c",
   "metadata": {},
   "source": [
    "`except` - bo'lsa dasturimizni davom ettirishimiz mumkin. Bunda xatolik ushlangandan keyin dastur to'xtamasdan davom etaveradi."
   ]
  },
  {
   "cell_type": "markdown",
   "id": "a38257ae",
   "metadata": {},
   "source": [
    "Mavjud bo'lmagan `fayl`ga murojaat qilishda chiqadigan xatolikni oldini olamiz."
   ]
  },
  {
   "cell_type": "code",
   "execution_count": 10,
   "id": "d1e39803",
   "metadata": {},
   "outputs": [
    {
     "ename": "FileNotFoundError",
     "evalue": "[Errno 2] No such file or directory: 'data.txt'",
     "output_type": "error",
     "traceback": [
      "\u001b[31m---------------------------------------------------------------------------\u001b[39m",
      "\u001b[31mFileNotFoundError\u001b[39m                         Traceback (most recent call last)",
      "\u001b[36mCell\u001b[39m\u001b[36m \u001b[39m\u001b[32mIn[10]\u001b[39m\u001b[32m, line 3\u001b[39m\n\u001b[32m      1\u001b[39m filename = \u001b[33m'\u001b[39m\u001b[33mdata.txt\u001b[39m\u001b[33m'\u001b[39m\n\u001b[32m----> \u001b[39m\u001b[32m3\u001b[39m \u001b[38;5;28;01mwith\u001b[39;00m \u001b[38;5;28;43mopen\u001b[39;49m\u001b[43m(\u001b[49m\u001b[43mfilename\u001b[49m\u001b[43m)\u001b[49m \u001b[38;5;28;01mas\u001b[39;00m f:\n\u001b[32m      4\u001b[39m   text = f.read()\n",
      "\u001b[36mFile \u001b[39m\u001b[32m~\\AppData\\Roaming\\Python\\Python313\\site-packages\\IPython\\core\\interactiveshell.py:326\u001b[39m, in \u001b[36m_modified_open\u001b[39m\u001b[34m(file, *args, **kwargs)\u001b[39m\n\u001b[32m    319\u001b[39m \u001b[38;5;28;01mif\u001b[39;00m file \u001b[38;5;129;01min\u001b[39;00m {\u001b[32m0\u001b[39m, \u001b[32m1\u001b[39m, \u001b[32m2\u001b[39m}:\n\u001b[32m    320\u001b[39m     \u001b[38;5;28;01mraise\u001b[39;00m \u001b[38;5;167;01mValueError\u001b[39;00m(\n\u001b[32m    321\u001b[39m         \u001b[33mf\u001b[39m\u001b[33m\"\u001b[39m\u001b[33mIPython won\u001b[39m\u001b[33m'\u001b[39m\u001b[33mt let you open fd=\u001b[39m\u001b[38;5;132;01m{\u001b[39;00mfile\u001b[38;5;132;01m}\u001b[39;00m\u001b[33m by default \u001b[39m\u001b[33m\"\u001b[39m\n\u001b[32m    322\u001b[39m         \u001b[33m\"\u001b[39m\u001b[33mas it is likely to crash IPython. If you know what you are doing, \u001b[39m\u001b[33m\"\u001b[39m\n\u001b[32m    323\u001b[39m         \u001b[33m\"\u001b[39m\u001b[33myou can use builtins\u001b[39m\u001b[33m'\u001b[39m\u001b[33m open.\u001b[39m\u001b[33m\"\u001b[39m\n\u001b[32m    324\u001b[39m     )\n\u001b[32m--> \u001b[39m\u001b[32m326\u001b[39m \u001b[38;5;28;01mreturn\u001b[39;00m \u001b[43mio_open\u001b[49m\u001b[43m(\u001b[49m\u001b[43mfile\u001b[49m\u001b[43m,\u001b[49m\u001b[43m \u001b[49m\u001b[43m*\u001b[49m\u001b[43margs\u001b[49m\u001b[43m,\u001b[49m\u001b[43m \u001b[49m\u001b[43m*\u001b[49m\u001b[43m*\u001b[49m\u001b[43mkwargs\u001b[49m\u001b[43m)\u001b[49m\n",
      "\u001b[31mFileNotFoundError\u001b[39m: [Errno 2] No such file or directory: 'data.txt'"
     ]
    }
   ],
   "source": [
    "filename = 'data.txt'\n",
    "\n",
    "with open(filename) as f:\n",
    "  text = f.read()"
   ]
  },
  {
   "cell_type": "markdown",
   "id": "e99754f6",
   "metadata": {},
   "source": [
    "`FileNotFoundError` - yuqoridagi fayl topilmaganligi haqida xatolik."
   ]
  },
  {
   "cell_type": "code",
   "execution_count": 14,
   "id": "bf7f1f7b",
   "metadata": {},
   "outputs": [
    {
     "name": "stdout",
     "output_type": "stream",
     "text": [
      "Fayl topilmadi: data.txt\n",
      "Dastur davom etayapti...\n",
      "Dastur tugadi.\n"
     ]
    }
   ],
   "source": [
    "filename = 'data.txt'\n",
    "\n",
    "try:\n",
    "  with open(filename) as f:\n",
    "    text = f.read()\n",
    "except FileNotFoundError:\n",
    "  print(f'Fayl topilmadi: {filename}')\n",
    "\n",
    "print('Dastur davom etayapti...')\n",
    "print('Dastur tugadi.')"
   ]
  },
  {
   "cell_type": "markdown",
   "id": "36fd984d",
   "metadata": {},
   "source": [
    "Agar dastur yaratilishida minglab fayllarni dasturga chaqirish kerak bo'lsa `try`-`except`-`else` juda ham bizga yordam beradi."
   ]
  },
  {
   "cell_type": "code",
   "execution_count": 16,
   "id": "e18faea9",
   "metadata": {},
   "outputs": [
    {
     "name": "stdout",
     "output_type": "stream",
     "text": [
      "Shahboz\n",
      "talaba2.json mavjud emas!\n",
      "Bahodir\n",
      "talaba4.json mavjud emas!\n"
     ]
    }
   ],
   "source": [
    "import json\n",
    "\n",
    "files = ['talaba1.json', 'talaba2.json', 'talaba3.json', 'talaba4.json']\n",
    "\n",
    "for file in files:\n",
    "  try:\n",
    "    with open(file) as f:\n",
    "      talaba = json.load(f)\n",
    "  except FileNotFoundError:\n",
    "    print(f\"{file} mavjud emas!\")\n",
    "  else:\n",
    "    print(talaba['ism'])\n",
    "    # yoki fayl ustida turli amallar bajarish mumkin."
   ]
  },
  {
   "cell_type": "markdown",
   "id": "91d3ce98",
   "metadata": {},
   "source": [
    "`pass` - bu pythondagi juda foydali operator bo'lib, agar dastur biron qismida hech narsa bajarilishini xoxlamasangiz ammo dastur u qismi bo'sh qolishi kerak bo'lmasa bu operator sizga yordam beradi."
   ]
  },
  {
   "cell_type": "code",
   "execution_count": 17,
   "id": "2c3d3a78",
   "metadata": {},
   "outputs": [
    {
     "name": "stdout",
     "output_type": "stream",
     "text": [
      "Shahboz\n",
      "Bahodir\n"
     ]
    }
   ],
   "source": [
    "import json\n",
    "\n",
    "files = ['talaba1.json', 'talaba2.json', 'talaba3.json', 'talaba4.json']\n",
    "\n",
    "for file in files:\n",
    "  try:\n",
    "    with open(file) as f:\n",
    "      talaba = json.load(f)\n",
    "  except FileNotFoundError:\n",
    "    pass #xatolik xabari haqida hech qanday ma'lumot chiqmaydi\n",
    "  else:\n",
    "    print(talaba['ism'])\n",
    "    # yoki fayl ustida turli amallar bajarish mumkin."
   ]
  },
  {
   "cell_type": "markdown",
   "id": "4aa97d33",
   "metadata": {},
   "source": [
    "`try-except-else` da xoxlagancha `except` qismidan foydalanishimiz mumkin."
   ]
  },
  {
   "cell_type": "code",
   "execution_count": 21,
   "id": "a681a3fa",
   "metadata": {},
   "outputs": [
    {
     "name": "stdout",
     "output_type": "stream",
     "text": [
      "Butun son kiritmadingiz.\n"
     ]
    }
   ],
   "source": [
    "n = input('Butun son kiriting: ')\n",
    "\n",
    "try:\n",
    "  n = int(n)\n",
    "  x = 20/n\n",
    "except ValueError:\n",
    "  print('Butun son kiritmadingiz.')\n",
    "except ZeroDivisionError:\n",
    "  print(\"0 ga bo'lib bo'lmaydi.\")\n",
    "else:\n",
    "  print(f\"x = {x}\")"
   ]
  },
  {
   "cell_type": "markdown",
   "id": "d7c53ef5",
   "metadata": {},
   "source": [
    "Biz yuqorida ikkita `except` kiritish orqali, ikki xil xatolikni tekshirishimiz mumkin bo'ladi."
   ]
  },
  {
   "cell_type": "markdown",
   "id": "16bb3fea",
   "metadata": {},
   "source": [
    "`isdigit()` - metodi matn son yoki son emasligini aniqlaydi."
   ]
  },
  {
   "cell_type": "code",
   "execution_count": 22,
   "id": "794ec660",
   "metadata": {},
   "outputs": [
    {
     "data": {
      "text/plain": [
       "True"
      ]
     },
     "execution_count": 22,
     "metadata": {},
     "output_type": "execute_result"
    }
   ],
   "source": [
    "'20'.isdigit()"
   ]
  },
  {
   "cell_type": "code",
   "execution_count": 23,
   "id": "f4b362e3",
   "metadata": {},
   "outputs": [
    {
     "data": {
      "text/plain": [
       "False"
      ]
     },
     "execution_count": 23,
     "metadata": {},
     "output_type": "execute_result"
    }
   ],
   "source": [
    "'salom'.isdigit()"
   ]
  },
  {
   "cell_type": "markdown",
   "id": "a6155edf",
   "metadata": {},
   "source": [
    "Odatda `try-except-else` bular juda ham aniqlab bo'lmaydigan xatoliklarni ko'rishda foydalaniladi. Oddiy holatlarda esa `.isdigit()` yoki shunga o'xshash metod va funksiyalardan foydalangan yaxshiroq bo'ladi. Shunga o'xshash holatlardan birini ko'rib chiqamiz."
   ]
  },
  {
   "cell_type": "code",
   "execution_count": 24,
   "id": "287a6c87",
   "metadata": {},
   "outputs": [
    {
     "name": "stdout",
     "output_type": "stream",
     "text": [
      "Siz butun son kiritmadingiz...\n",
      "Dastur davom etayapti...\n",
      "Dastur tugadi.\n"
     ]
    }
   ],
   "source": [
    "yosh = input('Yoshingizni kiriting: ')\n",
    "\n",
    "try:\n",
    "  yosh = int(yosh)\n",
    "except ValueError: # bu yerda aynan qanday xatolik yuz bersa shu kod qismi ishlashi ko'rsatilgan\n",
    "  print('Siz butun son kiritmadingiz...')\n",
    "else:\n",
    "  print(f\"Siz {2025 - yosh}-yilda tug'ulgansiz.\")\n",
    "\n",
    "print('Dastur davom etayapti...')\n",
    "print('Dastur tugadi.')"
   ]
  },
  {
   "cell_type": "markdown",
   "id": "a92f6f58",
   "metadata": {},
   "source": [
    "Yuqoridagi holarni oddiy holda qanday bajarish to'g'riroq bo'lishini ko'rib chiqamiz."
   ]
  },
  {
   "cell_type": "code",
   "execution_count": 2,
   "id": "49d92e29",
   "metadata": {},
   "outputs": [
    {
     "name": "stdout",
     "output_type": "stream",
     "text": [
      "Siz 2000 yilda tug'ulgansiz.\n"
     ]
    }
   ],
   "source": [
    "while True:\n",
    "  yosh = input(\"Yoshingizni kirting: \")\n",
    "  if yosh.isdigit():\n",
    "    yosh = int(yosh)\n",
    "    break\n",
    "\n",
    "print(f\"Siz {2025-yosh} yilda tug'ulgansiz.\")"
   ]
  },
  {
   "cell_type": "markdown",
   "id": "0e8aef5c",
   "metadata": {},
   "source": [
    "Odatda dasturlarda xatoliklarni oldindan olishni imkoni bo'lsa albatta buni bajarish kerak."
   ]
  }
 ],
 "metadata": {
  "kernelspec": {
   "display_name": "Python 3",
   "language": "python",
   "name": "python3"
  },
  "language_info": {
   "codemirror_mode": {
    "name": "ipython",
    "version": 3
   },
   "file_extension": ".py",
   "mimetype": "text/x-python",
   "name": "python",
   "nbconvert_exporter": "python",
   "pygments_lexer": "ipython3",
   "version": "3.13.3"
  }
 },
 "nbformat": 4,
 "nbformat_minor": 5
}
