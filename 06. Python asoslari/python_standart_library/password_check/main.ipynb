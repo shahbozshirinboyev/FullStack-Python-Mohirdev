{
 "cells": [
  {
   "cell_type": "code",
   "execution_count": null,
   "id": "c945bbfb",
   "metadata": {},
   "outputs": [
    {
     "name": "stdout",
     "output_type": "stream",
     "text": [
      "Parol qabul qilindi: Shahboz.123$\n"
     ]
    }
   ],
   "source": [
    "import re\n",
    "\n",
    "andoza = '^(?=.*?[A-Z])(?=.*?[a-z])(?=.*?[0-9])(?=.*?[#?!@$ %^&*-]).{8,}$'\n",
    "password = input(f\"Parol yarating:\\n1. Minimum eight in length\\n2. At least one special character or space\\n3. At least one digit\\n4. At least one lower case English letter\\n5. At least one upper case English letter\\n\")\n",
    "\n",
    "while True:\n",
    "  regex = re.match(andoza, password)\n",
    "  if regex:\n",
    "    print(f\"Parol qabul qilindi: {password}\")\n",
    "  else:\n",
    "    print(f\"Parol qabul qilinmadi: {password}\")\n",
    "  break"
   ]
  }
 ],
 "metadata": {
  "kernelspec": {
   "display_name": "Python 3",
   "language": "python",
   "name": "python3"
  },
  "language_info": {
   "codemirror_mode": {
    "name": "ipython",
    "version": 3
   },
   "file_extension": ".py",
   "mimetype": "text/x-python",
   "name": "python",
   "nbconvert_exporter": "python",
   "pygments_lexer": "ipython3",
   "version": "3.13.3"
  }
 },
 "nbformat": 4,
 "nbformat_minor": 5
}
