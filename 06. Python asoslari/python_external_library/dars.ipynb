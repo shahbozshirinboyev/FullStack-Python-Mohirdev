{
 "cells": [
  {
   "cell_type": "markdown",
   "id": "bfa2a3d1",
   "metadata": {},
   "source": [
    "`Python tashqi kutubxonasi.` \n",
    "> `PyPi.org`"
   ]
  },
  {
   "cell_type": "markdown",
   "id": "90bae21f",
   "metadata": {},
   "source": [
    "> `wikipedia` - wikipediadan ma'lumot olish, qidirish va boshqa shunga o'xshash maqsadlarda. \n",
    "\n",
    "> `googletrans` [alternative: deep-translator] - tarjima maqsadida.\n",
    "\n",
    "> `requests` - bu modul internetdagi sahifalarni chaqirib olish uchun ishlatiladi. Odatda API lar bilan ishlashda mu moduldan foydalaniladi.\n",
    "\n",
    "> `BeautifulSoup` - `requests` orqali biron websaytdan ma'lumotlarni olganimizda bizga requests juda tartibsiz ma'lumotlar chiqaradi, ayna o'sha ma'lumotlarni ko'rinishli holarga o'tkazsih uchun bizga bu modul juda katta yordam berdi.\n",
    "\n",
    "> `wordcloud` - Matndagi so‘zlarni eng ko‘p takrorlanishiga qarab katta-kichik qilib joylashtiradi. Natijada siz biror mavzuda eng ko‘p ishlatilgan so‘zlarni ko‘rishingiz mumkin.\n",
    "\n",
    "> `fuzzywuzzy` - matnlar orasidagi o‘xshashlikni aniqlash uchun ishlatiladi. U Levenshtein masofasiga asoslangan bo'lib, ikkita matn orasidagi farqni foiz bilan hisoblaydi. \n",
    "Masalan: `fuzz.ratio(\"salom\", \"assalom\")  # o'xshashlik foizi`\n",
    "\n",
    "> `wxPython` — bu Python dasturlash tili uchun ishlab chiqilgan GUI (Graphical User Interface) kutubxonasi bo‘lib, u orqali siz desktop dasturlar yaratishingiz mumkin (Windows, macOS, Linux uchun).\n"
   ]
  },
  {
   "cell_type": "markdown",
   "id": "a8006193",
   "metadata": {},
   "source": [
    "> 🛠 ``wxFormBuilder`` — bu nima?\n",
    "\n",
    "wxFormBuilder — bu grafik interfeys (GUI) dizayner bo‘lib, u orqali siz wxPython (yoki C++) uchun desktop ilovalarning interfeysini drag-and-drop uslubida yaratishingiz mumkin."
   ]
  },
  {
   "cell_type": "markdown",
   "id": "6b3f27f7",
   "metadata": {},
   "source": []
  }
 ],
 "metadata": {
  "kernelspec": {
   "display_name": "Python 3",
   "language": "python",
   "name": "python3"
  },
  "language_info": {
   "codemirror_mode": {
    "name": "ipython",
    "version": 3
   },
   "file_extension": ".py",
   "mimetype": "text/x-python",
   "name": "python",
   "nbconvert_exporter": "python",
   "pygments_lexer": "ipython3",
   "version": "3.13.3"
  }
 },
 "nbformat": 4,
 "nbformat_minor": 5
}
