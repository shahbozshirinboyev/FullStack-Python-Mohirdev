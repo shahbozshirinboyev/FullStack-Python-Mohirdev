{
 "cells": [
  {
   "cell_type": "code",
   "execution_count": 10,
   "id": "2a18f182",
   "metadata": {},
   "outputs": [
    {
     "name": "stdout",
     "output_type": "stream",
     "text": [
      "Collecting deep-translator\n",
      "  Downloading deep_translator-1.11.4-py3-none-any.whl.metadata (30 kB)\n",
      "Requirement already satisfied: beautifulsoup4<5.0.0,>=4.9.1 in c:\\users\\shahb\\appdata\\local\\programs\\python\\python313\\lib\\site-packages (from deep-translator) (4.13.4)\n",
      "Requirement already satisfied: requests<3.0.0,>=2.23.0 in c:\\users\\shahb\\appdata\\local\\programs\\python\\python313\\lib\\site-packages (from deep-translator) (2.32.3)\n",
      "Requirement already satisfied: soupsieve>1.2 in c:\\users\\shahb\\appdata\\local\\programs\\python\\python313\\lib\\site-packages (from beautifulsoup4<5.0.0,>=4.9.1->deep-translator) (2.7)\n",
      "Requirement already satisfied: typing-extensions>=4.0.0 in c:\\users\\shahb\\appdata\\local\\programs\\python\\python313\\lib\\site-packages (from beautifulsoup4<5.0.0,>=4.9.1->deep-translator) (4.13.2)\n",
      "Requirement already satisfied: charset-normalizer<4,>=2 in c:\\users\\shahb\\appdata\\local\\programs\\python\\python313\\lib\\site-packages (from requests<3.0.0,>=2.23.0->deep-translator) (3.4.1)\n",
      "Requirement already satisfied: idna<4,>=2.5 in c:\\users\\shahb\\appdata\\local\\programs\\python\\python313\\lib\\site-packages (from requests<3.0.0,>=2.23.0->deep-translator) (2.10)\n",
      "Requirement already satisfied: urllib3<3,>=1.21.1 in c:\\users\\shahb\\appdata\\local\\programs\\python\\python313\\lib\\site-packages (from requests<3.0.0,>=2.23.0->deep-translator) (2.4.0)\n",
      "Requirement already satisfied: certifi>=2017.4.17 in c:\\users\\shahb\\appdata\\local\\programs\\python\\python313\\lib\\site-packages (from requests<3.0.0,>=2.23.0->deep-translator) (2024.8.30)\n",
      "Downloading deep_translator-1.11.4-py3-none-any.whl (42 kB)\n",
      "Installing collected packages: deep-translator\n",
      "Successfully installed deep-translator-1.11.4\n",
      "Note: you may need to restart the kernel to use updated packages.\n"
     ]
    }
   ],
   "source": [
    "# googletrans 4.0.2\n",
    "%pip install deep-translator"
   ]
  },
  {
   "cell_type": "code",
   "execution_count": null,
   "id": "db436540",
   "metadata": {},
   "outputs": [
    {
     "name": "stdout",
     "output_type": "stream",
     "text": [
      "Python 3.13.3\n"
     ]
    }
   ],
   "source": [
    "!python --version\n",
    "# googletrans 4.0.2 pythonning bu versiyasida ishlamaydi\n",
    "# shu sabab deep-translator dan foydalandim"
   ]
  },
  {
   "cell_type": "code",
   "execution_count": 14,
   "id": "6b1dbbca",
   "metadata": {},
   "outputs": [
    {
     "name": "stdout",
     "output_type": "stream",
     "text": [
      "Python is the most popular programming language in the world.\n"
     ]
    }
   ],
   "source": [
    "from deep_translator import GoogleTranslator\n",
    "\n",
    "matn_uz = \"Python - dunyodagi eng mashhur dasturlash tili.\"\n",
    "tarjima = GoogleTranslator(source='auto', target='en').translate(matn_uz)\n",
    "print(tarjima)"
   ]
  },
  {
   "cell_type": "code",
   "execution_count": 1,
   "id": "7620d1c8",
   "metadata": {},
   "outputs": [
    {
     "name": "stdout",
     "output_type": "stream",
     "text": [
      "Tarjima uchun so'z kirting: (chiqib ketish uchun 'q' ni yuboring!)\n",
      "Everything will be fine!\n"
     ]
    }
   ],
   "source": [
    "# dastur\n",
    "from deep_translator import GoogleTranslator\n",
    "print(\"Tarjima uchun so'z kirting: (chiqib ketish uchun 'q' ni yuboring!)\")\n",
    "while True:\n",
    "  text = input()\n",
    "  tarjimon = GoogleTranslator(source='auto', target='en').translate(text)\n",
    "  if text == 'q':\n",
    "    break\n",
    "  else:\n",
    "    print(tarjimon)\n",
    "    break"
   ]
  }
 ],
 "metadata": {
  "kernelspec": {
   "display_name": "Python 3",
   "language": "python",
   "name": "python3"
  },
  "language_info": {
   "codemirror_mode": {
    "name": "ipython",
    "version": 3
   },
   "file_extension": ".py",
   "mimetype": "text/x-python",
   "name": "python",
   "nbconvert_exporter": "python",
   "pygments_lexer": "ipython3",
   "version": "3.13.3"
  }
 },
 "nbformat": 4,
 "nbformat_minor": 5
}
