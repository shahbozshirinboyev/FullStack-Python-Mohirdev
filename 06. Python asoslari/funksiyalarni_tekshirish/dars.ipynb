{
 "cells": [
  {
   "cell_type": "markdown",
   "id": "7c49f1e5",
   "metadata": {},
   "source": [
    "`FUNKSIYALARNI TEKSHIRISH`"
   ]
  },
  {
   "cell_type": "markdown",
   "id": "d992b18c",
   "metadata": {},
   "source": [
    "UNITTEST moduli yordamida obyektlar va funksiyalar ustida turli xil tekshirishlarni olib borishimiz mumkin."
   ]
  },
  {
   "cell_type": "markdown",
   "id": "ca4faa23",
   "metadata": {},
   "source": [
    "`UNITTEST MODULI`"
   ]
  },
  {
   "cell_type": "code",
   "execution_count": null,
   "id": "737bd27b",
   "metadata": {
    "vscode": {
     "languageId": "plaintext"
    }
   },
   "outputs": [],
   "source": []
  }
 ],
 "metadata": {
  "language_info": {
   "name": "python"
  }
 },
 "nbformat": 4,
 "nbformat_minor": 5
}
