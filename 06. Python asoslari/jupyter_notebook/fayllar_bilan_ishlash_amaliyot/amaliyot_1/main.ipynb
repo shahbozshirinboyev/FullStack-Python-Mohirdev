{
 "cells": [
  {
   "cell_type": "code",
   "execution_count": null,
   "id": "5c335cf9",
   "metadata": {},
   "outputs": [
    {
     "name": "stdout",
     "output_type": "stream",
     "text": [
      "Python'da fayllar bilan ishlash â€” bu faylni oâ€˜qish, yozish, yangilash va oâ€˜chirish kabi operatsiyalarni\n",
      "\n",
      "bajarish imkonini beruvchi asosiy amaliyotlardan biridir. Quyida fayllar bilan ishlashning asosiy usullari\n",
      "\n",
      "keltirilgan:\n",
      "\n",
      "\n",
      "\n",
      "f = open(\"fayl.txt\", \"r\")  # o'qish uchun\n",
      "\n",
      "f = open(\"fayl.txt\", \"w\")  # yozish uchun (eski faylni o'chirib yangi yozadi)\n",
      "\n",
      "f = open(\"fayl.txt\", \"a\")  # qo'shish uchun (oxiriga yozadi)\n",
      "\n",
      "f = open(\"fayl.txt\", \"r+\") # o'qish va yozish uchun\n",
      "\n",
      "\n",
      "\n",
      "f = open(\"fayl.txt\", \"r\")\n",
      "\n",
      "matn = f.read()           # butun faylni oâ€˜qish\n",
      "\n",
      "print(matn)\n",
      "\n",
      "f.close()\n"
     ]
    }
   ],
   "source": [
    "faylnomi = 'info.txt'\n",
    "\n",
    "with open(faylnomi) as file:\n",
    "    for line in file:\n",
    "      line = line.strip()\n",
    "      print(line)"
   ]
  },
  {
   "cell_type": "code",
   "execution_count": null,
   "id": "fe232da5",
   "metadata": {},
   "outputs": [],
   "source": []
  }
 ],
 "metadata": {
  "kernelspec": {
   "display_name": "Python 3",
   "language": "python",
   "name": "python3"
  },
  "language_info": {
   "codemirror_mode": {
    "name": "ipython",
    "version": 3
   },
   "file_extension": ".py",
   "mimetype": "text/x-python",
   "name": "python",
   "nbconvert_exporter": "python",
   "pygments_lexer": "ipython3",
   "version": "3.13.3"
  }
 },
 "nbformat": 4,
 "nbformat_minor": 5
}
