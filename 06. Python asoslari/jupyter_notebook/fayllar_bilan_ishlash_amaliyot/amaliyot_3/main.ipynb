{
 "cells": [
  {
   "cell_type": "code",
   "execution_count": 2,
   "id": "cc5f9304",
   "metadata": {},
   "outputs": [],
   "source": [
    "import pickle\n",
    "\n",
    "filename = '../amaliyot_2/pi_million_digits.txt'\n",
    "\n",
    "with open(filename) as file:\n",
    "  pi = file.read()\n",
    "  pi = pi.strip().replace('\\n', '')\n",
    "\n",
    "with open('pi', 'wb') as file:\n",
    "  pickle.dump(pi, file)\n"
   ]
  },
  {
   "cell_type": "code",
   "execution_count": null,
   "id": "bd360168",
   "metadata": {},
   "outputs": [],
   "source": []
  }
 ],
 "metadata": {
  "kernelspec": {
   "display_name": "Python 3",
   "language": "python",
   "name": "python3"
  },
  "language_info": {
   "codemirror_mode": {
    "name": "ipython",
    "version": 3
   },
   "file_extension": ".py",
   "mimetype": "text/x-python",
   "name": "python",
   "nbconvert_exporter": "python",
   "pygments_lexer": "ipython3",
   "version": "3.13.3"
  }
 },
 "nbformat": 4,
 "nbformat_minor": 5
}
