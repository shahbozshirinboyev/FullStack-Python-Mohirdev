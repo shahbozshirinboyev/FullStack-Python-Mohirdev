{
 "cells": [
  {
   "cell_type": "markdown",
   "id": "15c3f4f7",
   "metadata": {},
   "source": [
    "`Fayllar bilan ishlash.` `Pickle`"
   ]
  },
  {
   "cell_type": "code",
   "execution_count": 3,
   "id": "5fe17031",
   "metadata": {},
   "outputs": [
    {
     "name": "stdout",
     "output_type": "stream",
     "text": [
      "3.141592653589793238462643383279\n"
     ]
    }
   ],
   "source": [
    "# faylni ochish\n",
    "file = open('pi.txt') # faylni ochiq qoldirish mumkin emas, faqat shu qatordan foydalanilmaydi.\n",
    "PI = file.read()\n",
    "print(PI)\n",
    "file.close()"
   ]
  },
  {
   "cell_type": "markdown",
   "id": "ccc4e7d1",
   "metadata": {},
   "source": [
    "Odatda fayllarni ochishda tavsiya qilinadigan usuli bu `with` operatori yordamida. Chunki bu operator o'zi avtomat fileni `close()` qiladi."
   ]
  },
  {
   "cell_type": "code",
   "execution_count": 6,
   "id": "d8d47c49",
   "metadata": {},
   "outputs": [
    {
     "name": "stdout",
     "output_type": "stream",
     "text": [
      "3.1415926535\n",
      "8979323846\n",
      "2643383279\n"
     ]
    }
   ],
   "source": [
    "with open('pi.txt') as file:\n",
    "  pi = file.read()\n",
    "  # with funksiyasidagi barcha amallar bajarilib bo'lganda keyin file yopiladi.\n",
    "\n",
    "\n",
    "print(pi)"
   ]
  },
  {
   "cell_type": "code",
   "execution_count": 5,
   "id": "3bd42f32",
   "metadata": {},
   "outputs": [
    {
     "data": {
      "text/plain": [
       "str"
      ]
     },
     "execution_count": 5,
     "metadata": {},
     "output_type": "execute_result"
    }
   ],
   "source": [
    "type(pi)"
   ]
  },
  {
   "cell_type": "markdown",
   "id": "aaba857f",
   "metadata": {},
   "source": [
    "Yuqoridan `pi`ni turini ko'rdik va bu `str` ekan. `open()` yordamida fayldan qiymatlarni o'qiganimizda u bizga string qaytarar ekan."
   ]
  },
  {
   "cell_type": "code",
   "execution_count": 7,
   "id": "82848406",
   "metadata": {},
   "outputs": [
    {
     "name": "stdout",
     "output_type": "stream",
     "text": [
      "3.141592653589793\n"
     ]
    }
   ],
   "source": [
    "pi = pi.rstrip() # qatorlar oxiridagi bo'sh joyni olib tashladik.\n",
    "pi = pi.replace('\\n', '') # bir belgini boshqasi bilan almashtirish\n",
    "pi = float(pi)\n",
    "print(pi)"
   ]
  },
  {
   "cell_type": "code",
   "execution_count": 8,
   "id": "b71ba2eb",
   "metadata": {},
   "outputs": [
    {
     "data": {
      "text/plain": [
       "float"
      ]
     },
     "execution_count": 8,
     "metadata": {},
     "output_type": "execute_result"
    }
   ],
   "source": [
    "type(pi)"
   ]
  },
  {
   "cell_type": "markdown",
   "id": "2774c7e9",
   "metadata": {},
   "source": [
    "`FAYLNI QATORMA-QATOR OʻQISH`"
   ]
  },
  {
   "cell_type": "markdown",
   "id": "a5c358bc",
   "metadata": {},
   "source": [
    "Ba'zida faylni butunligicha bitta o'zgaruvchiga olib o'qish emas, qatorma-qator o'qishga to'g'ri kelishi mumkin."
   ]
  },
  {
   "cell_type": "code",
   "execution_count": 9,
   "id": "1b56262f",
   "metadata": {},
   "outputs": [
    {
     "name": "stdout",
     "output_type": "stream",
     "text": [
      "alijon shamsiyev\n",
      "\n",
      "husan olimov\n",
      "\n",
      "nargiza kenjaboyeva\n",
      "\n",
      "iroda keldiyorova\n"
     ]
    }
   ],
   "source": [
    "filename = 'data/talabalar.txt' # dastur yoziladigan papka\n",
    "with open(filename) as file:\n",
    "  for line in file:\n",
    "    print(line)"
   ]
  },
  {
   "cell_type": "code",
   "execution_count": 10,
   "id": "31cdb193",
   "metadata": {},
   "outputs": [
    {
     "name": "stdout",
     "output_type": "stream",
     "text": [
      "['alijon shamsiyev\\n', 'husan olimov\\n', 'nargiza kenjaboyeva\\n', 'iroda keldiyorova']\n"
     ]
    }
   ],
   "source": [
    "with open(filename) as file:\n",
    "  talabalar = file.readlines()\n",
    "\n",
    "print(talabalar)"
   ]
  },
  {
   "cell_type": "code",
   "execution_count": 12,
   "id": "4195e6c7",
   "metadata": {},
   "outputs": [
    {
     "data": {
      "text/plain": [
       "4"
      ]
     },
     "execution_count": 12,
     "metadata": {},
     "output_type": "execute_result"
    }
   ],
   "source": [
    "len(talabalar)"
   ]
  },
  {
   "cell_type": "markdown",
   "id": "0f8dc515",
   "metadata": {},
   "source": [
    "Qator oxiridagi yangi qatorni olib tashlashi uchun."
   ]
  },
  {
   "cell_type": "code",
   "execution_count": 16,
   "id": "58104a1d",
   "metadata": {},
   "outputs": [
    {
     "name": "stdout",
     "output_type": "stream",
     "text": [
      "['alijon shamsiyev', 'husan olimov', 'nargiza kenjaboyeva', 'iroda keldiyorova']\n"
     ]
    }
   ],
   "source": [
    "talabalar = [talaba.rstrip() for talaba in talabalar]\n",
    "print(talabalar)"
   ]
  },
  {
   "cell_type": "markdown",
   "id": "aeb2086d",
   "metadata": {},
   "source": [
    "`FAYLGA YOZISH`"
   ]
  },
  {
   "cell_type": "markdown",
   "id": "87bd5cc2",
   "metadata": {},
   "source": [
    "`Ma'lumotlarni saqlashning eng qulay usuli bu faylga yozish.`"
   ]
  },
  {
   "cell_type": "code",
   "execution_count": 17,
   "id": "3bfca678",
   "metadata": {},
   "outputs": [],
   "source": [
    "faylnomi = 'new_file.txt'\n",
    "ism = 'Dinora Isomiddinova'\n",
    "tyil = 2004\n",
    "\n",
    "with open(faylnomi, 'w') as fayl:\n",
    "  fayl.write(ism)\n",
    "  fayl.write(str(tyil))"
   ]
  },
  {
   "cell_type": "markdown",
   "id": "6877cf91",
   "metadata": {},
   "source": [
    "Yuqoridagi kodni e'tiborli tomoni shundaki agar yangi ochayotgan faylimiz avvaldan bor bo'lsa uni `python` ichini o'chirib tashlaydi.\n",
    "\n",
    "> agar fayl `new_file.txt` mavjud bo'lsa uni ichini o'chirib tashlab bo'shatadi.\n",
    "> agar fayl `new_file.txt` mavjud bo'lmasa uni yaratadi."
   ]
  },
  {
   "cell_type": "markdown",
   "id": "78278775",
   "metadata": {},
   "source": [
    "> ESLATMA\n",
    "\n",
    "Python o'qishda ham yozishda ham faqatgina matnlar bilan ishlaydi. shu sababli biz `tyil` o'zgaruvchisini string'ga o'tkazib keyin faylga yozdik. Yuqoridagi yozishda matnlarni bir biriga qo'shib yozadi.   \n",
    "\n",
    "`Dinora Isomiddinova2004`"
   ]
  },
  {
   "cell_type": "markdown",
   "id": "ce4695bf",
   "metadata": {},
   "source": [
    "Endi alohida qatorga yozamiz."
   ]
  },
  {
   "cell_type": "code",
   "execution_count": 24,
   "id": "7ee7423e",
   "metadata": {},
   "outputs": [],
   "source": [
    "faylnomi = 'new_file.txt'\n",
    "ism = 'Iroda Abdusattorova'\n",
    "tyil = 2004\n",
    "\n",
    "with open(faylnomi, 'w') as fayl:\n",
    "  fayl.write(ism+'\\n')\n",
    "  fayl.write(str(tyil)+'\\n')"
   ]
  },
  {
   "cell_type": "code",
   "execution_count": 21,
   "id": "718fe74f",
   "metadata": {},
   "outputs": [
    {
     "name": "stdout",
     "output_type": "stream",
     "text": [
      "Iroda Abdusattorova\n",
      "2004\n"
     ]
    }
   ],
   "source": [
    "faylnomi = 'new_file.txt'\n",
    "with open(faylnomi) as fayl:\n",
    "  print(fayl.read())"
   ]
  },
  {
   "cell_type": "markdown",
   "id": "2d149e31",
   "metadata": {},
   "source": [
    "`MAVJUD FAYL USTIDAN YANGI MA'LUMOTLAR QO'SHISH`\n",
    "\n",
    "Fayldagi eski ma'lumotlar ham saqlansin, va biz kiritgan yangi ma'lumotlarni uning davomidan yozsin."
   ]
  },
  {
   "cell_type": "code",
   "execution_count": 25,
   "id": "82ce994c",
   "metadata": {},
   "outputs": [],
   "source": [
    "# append - qo'shish\n",
    "faylnomi = 'new_file.txt'\n",
    "ism = 'Marhabo Jondorova'\n",
    "tyil = 2008\n",
    "\n",
    "with open(faylnomi, 'a') as fayl:\n",
    "  fayl.write(ism+'\\n')\n",
    "  fayl.write(str(tyil)+'\\n')"
   ]
  },
  {
   "cell_type": "code",
   "execution_count": 26,
   "id": "ce4de3b0",
   "metadata": {},
   "outputs": [
    {
     "name": "stdout",
     "output_type": "stream",
     "text": [
      "Iroda Abdusattorova\n",
      "2004\n",
      "Marhabo Jondorova\n",
      "2008\n",
      "\n"
     ]
    }
   ],
   "source": [
    "faylnomi = 'new_file.txt'\n",
    "with open(faylnomi) as fayl:\n",
    "  print(fayl.read())"
   ]
  },
  {
   "cell_type": "markdown",
   "id": "e2199e79",
   "metadata": {},
   "source": [
    "Agar mavjud faylga ma'lumot qo'shish talab qilinsa, `open()` funksiyasiga murojaat qilishda `'a'` (append) argumentidan foydalanamiz. Bunda yangi qo'shilgan ma'lumotlar faylning oxiriga qo'shiladi."
   ]
  },
  {
   "cell_type": "markdown",
   "id": "041483fb",
   "metadata": {},
   "source": [
    "`O'ZGARUVCHILARNI FAYLDA SAQLASH`\n",
    "\n",
    "Yuqoridagi misollarning hammasi ma'lumotlarni matn ko'rinishida saqlashni ko'rdik. Agar o'zgaruvchilarni faylda saqlash kerak bo'lsa `pickle` modulidan foydalanamiz. Pickle ma'lumotlarni biz qanday ko'rinishda bersak, shunday ko'rinishda faylga yozadi. Yuqoridagi usuldan farqli ravishda, `pickle` yordamida yozilgan fayllarning tarkibini Pythondan tashqarida ko'rib bo'lmaydi."
   ]
  },
  {
   "cell_type": "markdown",
   "id": "3c2841c2",
   "metadata": {},
   "source": [
    "> faqat `pickle` yordamida yoziladi va faqat `pickle` yordamida o'qiladi. \n",
    "\n",
    "`wb` - write binary\n",
    "\n",
    "`rb` - read binary"
   ]
  },
  {
   "cell_type": "code",
   "execution_count": 27,
   "id": "5bda33f5",
   "metadata": {},
   "outputs": [],
   "source": [
    "import pickle\n",
    "\n",
    "talaba1 = {'ism':'alijon', 'familiya':'husanov', 'tyil':2003, 'kurs':3}\n",
    "talaba2 = {'ism':'nargiza', 'familiya':'olimova', 'tyil':2005, 'kurs':1}\n",
    "\n",
    "with open('info', 'wb') as file:\n",
    "  pickle.dump(talaba1, file)\n",
    "  pickle.dump(talaba2, file)"
   ]
  },
  {
   "cell_type": "code",
   "execution_count": 28,
   "id": "3e250270",
   "metadata": {},
   "outputs": [
    {
     "name": "stdout",
     "output_type": "stream",
     "text": [
      "{'ism': 'alijon', 'familiya': 'husanov', 'tyil': 2003, 'kurs': 3}\n",
      "{'ism': 'nargiza', 'familiya': 'olimova', 'tyil': 2005, 'kurs': 1}\n"
     ]
    }
   ],
   "source": [
    "with open('info', 'rb') as file:\n",
    "  talaba1 = pickle.load(file)\n",
    "  talaba2 = pickle.load(file)\n",
    "  # yozish ketma-ketligi qanday bo'lsa yozish ketma-ketligi ham shunday bo'lishi kerak\n",
    "\n",
    "  print(talaba1)\n",
    "  print(talaba2)"
   ]
  },
  {
   "cell_type": "markdown",
   "id": "438e1283",
   "metadata": {},
   "source": [
    "Demak biz `pickle` moduli yordamida o'zgaruvchilarni ham fayl ichida saqlab qo'yishimiz mumkin va bu juda katta qulaylik. Faqat o'zgaruvchilarni emas `obyekt`larni ham saqlashimiz mumkin."
   ]
  }
 ],
 "metadata": {
  "kernelspec": {
   "display_name": "Python 3",
   "language": "python",
   "name": "python3"
  },
  "language_info": {
   "codemirror_mode": {
    "name": "ipython",
    "version": 3
   },
   "file_extension": ".py",
   "mimetype": "text/x-python",
   "name": "python",
   "nbconvert_exporter": "python",
   "pygments_lexer": "ipython3",
   "version": "3.13.3"
  }
 },
 "nbformat": 4,
 "nbformat_minor": 5
}
