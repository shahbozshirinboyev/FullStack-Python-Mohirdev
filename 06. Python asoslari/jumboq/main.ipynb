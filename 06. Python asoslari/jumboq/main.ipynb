{
 "cells": [
  {
   "cell_type": "markdown",
   "id": "482c21d0",
   "metadata": {},
   "source": [
    "1 dan 100 gacha bo'lgan sonlar ro'yxatidan qolib ketgan sonni topish."
   ]
  },
  {
   "cell_type": "code",
   "execution_count": 8,
   "id": "50da4d18",
   "metadata": {},
   "outputs": [
    {
     "name": "stdout",
     "output_type": "stream",
     "text": [
      "4\n"
     ]
    }
   ],
   "source": [
    "import random\n",
    "\n",
    "n = 100\n",
    "numbers = list(range(1, n+1))\n",
    "x = numbers.pop(random.randint(1, n+1))\n",
    "\n",
    "print(x)"
   ]
  },
  {
   "cell_type": "code",
   "execution_count": 6,
   "id": "c752ace5",
   "metadata": {},
   "outputs": [
    {
     "name": "stdout",
     "output_type": "stream",
     "text": [
      "27\n"
     ]
    }
   ],
   "source": [
    "#1\n",
    "numbers2 = list(range(1, n+1))\n",
    "print(sum(numbers2)-sum(numbers))"
   ]
  },
  {
   "cell_type": "code",
   "execution_count": 9,
   "id": "8e27ca9c",
   "metadata": {},
   "outputs": [
    {
     "name": "stdout",
     "output_type": "stream",
     "text": [
      "4\n"
     ]
    }
   ],
   "source": [
    "#2\n",
    "for i in range(1, n+1):\n",
    "  if i not in numbers:\n",
    "    print(i)\n",
    "    break"
   ]
  },
  {
   "cell_type": "code",
   "execution_count": null,
   "id": "c603d176",
   "metadata": {},
   "outputs": [
    {
     "name": "stdout",
     "output_type": "stream",
     "text": [
      "4.0\n"
     ]
    }
   ],
   "source": [
    "#3 - eng optimal yechim\n",
    "summa = n*(n+1)/2\n",
    "print(summa - sum(numbers))"
   ]
  }
 ],
 "metadata": {
  "kernelspec": {
   "display_name": "Python 3",
   "language": "python",
   "name": "python3"
  },
  "language_info": {
   "codemirror_mode": {
    "name": "ipython",
    "version": 3
   },
   "file_extension": ".py",
   "mimetype": "text/x-python",
   "name": "python",
   "nbconvert_exporter": "python",
   "pygments_lexer": "ipython3",
   "version": "3.13.3"
  }
 },
 "nbformat": 4,
 "nbformat_minor": 5
}
