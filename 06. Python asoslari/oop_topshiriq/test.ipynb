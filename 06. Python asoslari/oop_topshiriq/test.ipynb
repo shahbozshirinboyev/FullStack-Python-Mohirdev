{
 "cells": [
  {
   "cell_type": "code",
   "execution_count": 17,
   "id": "89909689",
   "metadata": {},
   "outputs": [
    {
     "name": "stdout",
     "output_type": "stream",
     "text": [
      "Qidiruvchi\n",
      "Siz juda ma'naviy jihatdan harakatlanasiz va bizning dunyomizdagi kuchga ega bo'lishingiz mumkin. Sizda yuksaklikka erishish potentsialingiz bor va boshqalardan ko'ra boshqacha ruhiy tekislikda yashashingiz mumkin. Sizning raqamingiz yuqoriroq xabardorlik va kengroq nuqtai nazarni beradi. Sizda sirli havo bor, lekin osongina yolg'iz bo'lib qolishingiz mumkin. Siz dono va bilimdonsiz. Siz har doim hamma narsaning haqiqiy ma'nosini va asosiy javobini qidirasiz. Sizda tabiiy go'zallikni yaxshi ko'rasiz: okean, yashil o'tlar, rejalar, gullar va boshqalar. Siz haqiqat izlovchi bo'lish uchun keldingiz. Buni quchoqlang.\n",
      "Sizning kamchiliklaringiz: imonga ega bo'lishni o'rganishingiz kerak, go'yo bunday qilmasangiz, siz juda bema'ni bo'lib, giyohvandlik, spirtli ichimliklar, ish va geografiya orqali qochib qutulasiz. Sizning yolg'izlikka bo'lgan muhabbatingiz yaqin munosabatlarni topishni qiyinlashtirishi mumkin. Odamlar sizni bilgandek his qilish uchun kurashadilar va siz eksantrik bo'lib qolishingiz mumkin. Moslashmaganingizda osongina xafa bo'lishingiz va tanqidiy fikrga tushishingiz mumkin.\n"
     ]
    }
   ],
   "source": [
    "from pprint import pprint\n",
    "\n",
    "def get_info_by_number(number: int):\n",
    "    if 1 <= number <= 9:\n",
    "        filename = 'hayot_yoli.txt'\n",
    "        with open(filename, encoding='utf-8') as file:\n",
    "            text = file.read()\n",
    "\n",
    "        # Har bir bo‘lim # bilan boshlanadi, shu sababli bo‘lib olamiz\n",
    "        parts = text.split('#')\n",
    "        for part in parts:\n",
    "            if part.startswith(f\"{number} -\"):\n",
    "                return part[len(f\"{number} -\"):].strip()\n",
    "\n",
    "        return f\"#{number} bo‘lim topilmadi.\"\n",
    "    else:\n",
    "        return \"Iltimos 1 dan 9 gacha bo‘lgan raqam kiriting.\"\n",
    "\n",
    "\n",
    "# Misol uchun:\n",
    "print(get_info_by_number(7))"
   ]
  },
  {
   "cell_type": "code",
   "execution_count": null,
   "id": "80402be8",
   "metadata": {},
   "outputs": [],
   "source": []
  }
 ],
 "metadata": {
  "kernelspec": {
   "display_name": "Python 3",
   "language": "python",
   "name": "python3"
  },
  "language_info": {
   "codemirror_mode": {
    "name": "ipython",
    "version": 3
   },
   "file_extension": ".py",
   "mimetype": "text/x-python",
   "name": "python",
   "nbconvert_exporter": "python",
   "pygments_lexer": "ipython3",
   "version": "3.13.3"
  }
 },
 "nbformat": 4,
 "nbformat_minor": 5
}
