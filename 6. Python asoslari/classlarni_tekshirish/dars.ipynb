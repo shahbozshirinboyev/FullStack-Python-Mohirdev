{
 "cells": [
  {
   "cell_type": "markdown",
   "id": "829002b6",
   "metadata": {},
   "source": [
    "`Classlarni tekshirish` `Funksiyalarni tekshirish` bilan bir xil, ammo classda har xil  ko'p metodlar bo'lanligi uchun har bir metodni tekshirish uchun testlar yoziladi. Shundagina farq bor faqat."
   ]
  },
  {
   "cell_type": "code",
   "execution_count": 1,
   "id": "3319aaf1",
   "metadata": {},
   "outputs": [
    {
     "data": {
      "text/plain": [
       "\"ONIX LTZ 2024-yil, 0 km yo'l bosgan\""
      ]
     },
     "execution_count": 1,
     "metadata": {},
     "output_type": "execute_result"
    }
   ],
   "source": [
    "class Car:\n",
    "  def __init__(self, model, year, km=0, price=None):\n",
    "    self.model = model\n",
    "    self.year = year\n",
    "    self.km = km\n",
    "    self.price = price\n",
    "\n",
    "  def set_price(self, narx):\n",
    "    self.price = narx\n",
    "\n",
    "  def add_km(self, km):\n",
    "    if km > 0:\n",
    "      self.km += km\n",
    "    else:\n",
    "      raise ValueError(\"km manfiy bo'lishi mumkin emas.\")\n",
    "      # raise - xatolik keltirib chiqarishi haqida\n",
    "\n",
    "  def get_info(self):\n",
    "    info = f\"{self.model.upper()} {self.year}-yil, \"\n",
    "    info += f\"{self.km} km yo'l bosgan\"\n",
    "    if self.price:\n",
    "      info += f\", Narxi: {self.price}\"\n",
    "    return info\n",
    "\n",
    "  def get_km(self):\n",
    "    return f\"{self.km} km\"\n",
    "\n",
    "avto0 = Car('Onix ltz', 2024)\n",
    "\n",
    "avto0.get_info()"
   ]
  },
  {
   "cell_type": "markdown",
   "id": "8ea22d43",
   "metadata": {},
   "source": [
    "Bunday testlar yozish dasturlarni to'g'ri ishlashini tekshirishdan iborat bo'ladi. "
   ]
  },
  {
   "cell_type": "markdown",
   "id": "76ac8455",
   "metadata": {},
   "source": [
    "Bunday testlar yozish orqali dasturchilarga vazifalar berishimiz ham mumkin, masalan `test` yozamizda bizga shu testdan o'tadigan dastur kerak yoki shu testdan o'tadigan dastur yozib berishing kerak deb shart qo'yamiz."
   ]
  }
 ],
 "metadata": {
  "kernelspec": {
   "display_name": "Python 3",
   "language": "python",
   "name": "python3"
  },
  "language_info": {
   "codemirror_mode": {
    "name": "ipython",
    "version": 3
   },
   "file_extension": ".py",
   "mimetype": "text/x-python",
   "name": "python",
   "nbconvert_exporter": "python",
   "pygments_lexer": "ipython3",
   "version": "3.13.3"
  }
 },
 "nbformat": 4,
 "nbformat_minor": 5
}
