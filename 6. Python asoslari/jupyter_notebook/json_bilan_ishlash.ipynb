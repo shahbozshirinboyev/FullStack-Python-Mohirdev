{
 "cells": [
  {
   "cell_type": "code",
   "execution_count": 31,
   "id": "6b32c44c",
   "metadata": {},
   "outputs": [
    {
     "ename": "SyntaxError",
     "evalue": "invalid syntax (1419599928.py, line 7)",
     "output_type": "error",
     "traceback": [
      "  \u001b[36mCell\u001b[39m\u001b[36m \u001b[39m\u001b[32mIn[31]\u001b[39m\u001b[32m, line 7\u001b[39m\n\u001b[31m    \u001b[39m\u001b[31mg = json.dumps(data[0], indent= = 4, sort_keys=True)\u001b[39m\n                                    ^\n\u001b[31mSyntaxError\u001b[39m\u001b[31m:\u001b[39m invalid syntax\n"
     ]
    }
   ],
   "source": [
    "import json\n",
    "import googlemaps\n",
    "from apikey import APIKEY\n",
    "\n",
    "gmaps = googlemaps.Client(key=APIKEY)\n",
    "data = gmaps.geocode('Olmazor, Tashkent, Uzbekistan')\n",
    "g = json.dumps(data[0], indent= = 4, sort_keys=True)\n",
    "print(g)"
   ]
  },
  {
   "cell_type": "markdown",
   "id": "6bd11aa6",
   "metadata": {},
   "source": [
    "`JSON` (JavaScript Object Notation) bugungi kunda ma'lumotlarni saqlash va internet orqali uzatish uchun qo'llaniladigan eng mashxur format hisoblanadi. Dastavval JavaScript tili uchun yaratilgan bu format, bugungi kunda deyarli barcha dasturlash tillari tomonidan ishlatiladi. Qolaversa, JSON formatidagi fayllarining tarkibini oddiy matn muharriri yordamida koʻrish va tahrirlash mumkin."
   ]
  },
  {
   "cell_type": "markdown",
   "id": "d18cd94f",
   "metadata": {},
   "source": [
    "`PYTHONDAN JSONGA`"
   ]
  },
  {
   "cell_type": "markdown",
   "id": "67217b2c",
   "metadata": {},
   "source": [
    "\n",
    "`json.dumps(x)` — berilgan `x` o'zgaruvchini JSON matniga o'zgartiradi\n",
    "\n",
    "`json.dump(x,fayl)` — berilgan `x` o'zgaruvchini JSON ga o'zgartirib, ko'rsatilgan faylga saqlaydi."
   ]
  },
  {
   "cell_type": "code",
   "execution_count": 17,
   "id": "1af5ae1a",
   "metadata": {},
   "outputs": [
    {
     "data": {
      "text/plain": [
       "str"
      ]
     },
     "execution_count": 17,
     "metadata": {},
     "output_type": "execute_result"
    }
   ],
   "source": [
    "import json\n",
    "\n",
    "x = 10\n",
    "x_json = json.dumps(x)\n",
    "\n",
    "ism = \"anvar\"\n",
    "ism_json = json.dumps(ism)\n",
    "\n",
    "sonlar = (12, 45, 23, 67)\n",
    "sonlar_json = json.dumps(sonlar)\n",
    "\n",
    "# JSON ma'lumotlar matn ko'rinishida saqlanadi.\n",
    "type(ism_json)"
   ]
  },
  {
   "cell_type": "markdown",
   "id": "d5a90ba4",
   "metadata": {},
   "source": [
    "`JSONDAN PYTHONGA`"
   ]
  },
  {
   "cell_type": "markdown",
   "id": "42d5875f",
   "metadata": {},
   "source": [
    "`JSON` formatidagi ma'lumotlarni Pythondagi ma'lumot turiga keltirish uchun json.`loads()` yoki `json.load()` funksiyalaridan foydalanamiz. Yuqoridagi ka'bi, `json.loads()` funksiyasi to'g'ridan-to'g'ri JSON matn bilan ishlasa, `json.load()` funksiyasi JSON fayllarni o'qish uchun ishlatiladi."
   ]
  },
  {
   "cell_type": "code",
   "execution_count": 18,
   "id": "9c3cfb62",
   "metadata": {},
   "outputs": [
    {
     "name": "stdout",
     "output_type": "stream",
     "text": [
      "[12, 45, 23, 67]\n"
     ]
    }
   ],
   "source": [
    "sonlar = json.loads(sonlar_json)\n",
    "print(sonlar)"
   ]
  },
  {
   "cell_type": "markdown",
   "id": "c1efe46f",
   "metadata": {},
   "source": [
    "`json.load()` - Bu funksiya JSON fayllarning tarkibini Pythonga yuklab olish uchun ishlatiladi. "
   ]
  },
  {
   "cell_type": "code",
   "execution_count": 19,
   "id": "28184610",
   "metadata": {},
   "outputs": [
    {
     "name": "stdout",
     "output_type": "stream",
     "text": [
      "{\n",
      "    \"ism\": \"Alijon Valiyev\",\n",
      "    \"yosh\": 30,\n",
      "    \"oila\": true,\n",
      "    \"farzandlar\": [\n",
      "        \"Ahmad\",\n",
      "        \"Bonu\"\n",
      "    ],\n",
      "    \"allergiya\": null,\n",
      "    \"dorilar\": [\n",
      "        {\n",
      "            \"nomi\": \"Analgin\",\n",
      "            \"miqdori\": 0.5\n",
      "        },\n",
      "        {\n",
      "            \"nomi\": \"Panadol\",\n",
      "            \"miqdori\": 1.2\n",
      "        }\n",
      "    ]\n",
      "}\n"
     ]
    }
   ],
   "source": [
    "bemor = {\n",
    "  \"ism\": \"Alijon Valiyev\",\n",
    "  \"yosh\": 30,\n",
    "  \"oila\": True,\n",
    "  \"farzandlar\": (\"Ahmad\",\"Bonu\"),\n",
    "  \"allergiya\": None,\n",
    "  \"dorilar\": [\n",
    "    {\"nomi\": \"Analgin\", \"miqdori\": 0.5},\n",
    "    {\"nomi\": \"Panadol\", \"miqdori\": 1.2}\n",
    "  ]\n",
    "}\n",
    "\n",
    "bemor_json = json.dumps(bemor, indent=4)\n",
    "print(bemor_json)"
   ]
  },
  {
   "cell_type": "code",
   "execution_count": 20,
   "id": "da4f538a",
   "metadata": {},
   "outputs": [
    {
     "data": {
      "text/plain": [
       "str"
      ]
     },
     "execution_count": 20,
     "metadata": {},
     "output_type": "execute_result"
    }
   ],
   "source": [
    "type(bemor_json)"
   ]
  },
  {
   "cell_type": "code",
   "execution_count": 21,
   "id": "eec033d7",
   "metadata": {},
   "outputs": [
    {
     "data": {
      "text/plain": [
       "dict"
      ]
     },
     "execution_count": 21,
     "metadata": {},
     "output_type": "execute_result"
    }
   ],
   "source": [
    "type(bemor)"
   ]
  },
  {
   "cell_type": "markdown",
   "id": "0dbe20c0",
   "metadata": {},
   "source": [
    "O'zgaruvchini `.json` faylga yozish."
   ]
  },
  {
   "cell_type": "code",
   "execution_count": null,
   "id": "f8e5fe2d",
   "metadata": {},
   "outputs": [],
   "source": [
    "# faylga yozish\n",
    "with open('bemor.json', 'w') as f:\n",
    "  json.dump(bemor, f)"
   ]
  },
  {
   "cell_type": "code",
   "execution_count": 26,
   "id": "79740515",
   "metadata": {},
   "outputs": [
    {
     "name": "stdout",
     "output_type": "stream",
     "text": [
      "{'ism': 'Alijon Valiyev', 'yosh': 30, 'oila': True, 'farzandlar': ['Ahmad', 'Bonu'], 'allergiya': None, 'dorilar': [{'nomi': 'Analgin', 'miqdori': 0.5}, {'nomi': 'Panadol', 'miqdori': 1.2}]}\n"
     ]
    },
    {
     "data": {
      "text/plain": [
       "dict"
      ]
     },
     "execution_count": 26,
     "metadata": {},
     "output_type": "execute_result"
    }
   ],
   "source": [
    "bemor2 = json.loads(bemor_json)\n",
    "print(bemor2)\n",
    "type(bemor2)"
   ]
  },
  {
   "cell_type": "code",
   "execution_count": 30,
   "id": "c6172883",
   "metadata": {},
   "outputs": [
    {
     "name": "stdout",
     "output_type": "stream",
     "text": [
      "{'ism': 'Alijon Valiyev', 'yosh': 30, 'oila': True, 'farzandlar': ['Ahmad', 'Bonu'], 'allergiya': None, 'dorilar': [{'nomi': 'Analgin', 'miqdori': 0.5}, {'nomi': 'Panadol', 'miqdori': 1.2}]}\n"
     ]
    },
    {
     "data": {
      "text/plain": [
       "dict"
      ]
     },
     "execution_count": 30,
     "metadata": {},
     "output_type": "execute_result"
    }
   ],
   "source": [
    "# faylni ochish\n",
    "filename = 'bemor.json'\n",
    "with open(filename) as f:\n",
    "  bemor3 = json.load(f)\n",
    "\n",
    "print(bemor3)\n",
    "type(bemor3)"
   ]
  },
  {
   "cell_type": "code",
   "execution_count": null,
   "id": "952f6af1",
   "metadata": {},
   "outputs": [],
   "source": []
  }
 ],
 "metadata": {
  "kernelspec": {
   "display_name": "Python 3",
   "language": "python",
   "name": "python3"
  },
  "language_info": {
   "codemirror_mode": {
    "name": "ipython",
    "version": 3
   },
   "file_extension": ".py",
   "mimetype": "text/x-python",
   "name": "python",
   "nbconvert_exporter": "python",
   "pygments_lexer": "ipython3",
   "version": "3.13.3"
  }
 },
 "nbformat": 4,
 "nbformat_minor": 5
}
