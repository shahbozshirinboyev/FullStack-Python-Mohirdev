{
 "cells": [
  {
   "cell_type": "markdown",
   "id": "0817f1a7",
   "metadata": {},
   "source": [
    "`OOP` (Object-Oriented Programming) -  dasturlash uslubi bo‘lib, unda ma'lumotlar (obyektlar) va ularga taalluqli funksiyalar (metodlar) birgalikda ko‘rib chiqiladi. OOP — `\"Obyektga yo‘naltirilgan dasturlash\"` degani."
   ]
  },
  {
   "cell_type": "markdown",
   "id": "2125dd06",
   "metadata": {},
   "source": [
    "```\n",
    "OOP (Object-Oriented Programming)\n",
    "│\n",
    "├── Class\n",
    "│   ├── Attributes (xususiyatlar)\n",
    "│   └── Methods (metodlar / funksiyalar)\n",
    "│\n",
    "├── Object (Classdan yaratiladi)\n",
    "│\n",
    "├── 4 Asosiy prinsiplari\n",
    "│   ├── Encapsulation (Inkapsulyatsiya)\n",
    "│   ├── Abstraction (Abstraksiya)\n",
    "│   ├── Inheritance (Meros olish)\n",
    "│   └── Polymorphism (Polimorfizm)\n",
    "│\n",
    "├── Constructor (__init__)\n",
    "│\n",
    "└── self (obyektga murojaat qilish)\n",
    "```"
   ]
  },
  {
   "cell_type": "code",
   "execution_count": null,
   "id": "f41e4ee7",
   "metadata": {},
   "outputs": [
    {
     "name": "stdout",
     "output_type": "stream",
     "text": [
      "Nargiza\n",
      "Nargiza\n",
      "Rasulova\n",
      "29\n",
      "Talaba ma'lumotlari:\n",
      "Ismi: Nargiza\n",
      "Familiyasi: Rasulova\n",
      "Tug'ulgan yil: 1996\n"
     ]
    }
   ],
   "source": [
    "class Talaba: #class\n",
    "  def __init__(self, ism, familiya, tyil):\n",
    "    self.ism = ism #xususiyati\n",
    "    self.familiya = familiya\n",
    "    self.tyil = tyil\n",
    "\n",
    "  def get_name(self): #metod\n",
    "    return self.ism\n",
    "\n",
    "  def get_lastname(self):\n",
    "    return self.familiya\n",
    "\n",
    "  def get_age(self, yil):\n",
    "    return yil - self.tyil\n",
    "\n",
    "  def tanishtir(self):\n",
    "    return f\"Talaba ma'lumotlari:\\nIsmi: {self.ism}\\nFamiliyasi: {self.familiya}\\nTug'ulgan yil: {self.tyil}\"\n",
    "\n",
    "\n",
    "talaba1 = Talaba(\"Nargiza\", \"Rasulova\", 1996) #obyekt\n",
    "talaba2 = Talaba(\"Hayot\", \"Qarshiyeva\", 2005)\n",
    "talaba3 = Talaba(\"Farangiz\", \"Umurzoqova\", 1978)\n",
    "\n",
    "print(talaba1.ism) #obyektning bevosita xususiyatini olish\n",
    "\n",
    "print(talaba1.get_name()) #obyektning metod orqali xususiyatini olish\n",
    "print(talaba1.get_lastname())\n",
    "print(talaba1.get_age(2025))\n",
    "\n",
    "print(talaba1.tanishtir())"
   ]
  },
  {
   "cell_type": "markdown",
   "id": "71600701",
   "metadata": {},
   "source": [
    "Obyekt xususiyatlarini hammasini ham parametr sifatida kiritmasdan ularni class ichida standart shaklda ham berib ketish imkoniyati bor."
   ]
  },
  {
   "cell_type": "code",
   "execution_count": 4,
   "id": "48bc7f4e",
   "metadata": {},
   "outputs": [
    {
     "name": "stdout",
     "output_type": "stream",
     "text": [
      "Shokir\n",
      "1\n"
     ]
    },
    {
     "data": {
      "text/plain": [
       "'Shokir'"
      ]
     },
     "execution_count": 4,
     "metadata": {},
     "output_type": "execute_result"
    }
   ],
   "source": [
    "class Talaba: #class\n",
    "  def __init__(self, ism, familiya, tyil):\n",
    "    self.ism = ism #xususiyati\n",
    "    self.familiya = familiya\n",
    "    self.tyil = tyil\n",
    "    self.bosqich = 1\n",
    "\n",
    "  def get_name(self): #metod\n",
    "    return self.ism\n",
    "\n",
    "  def get_lastname(self):\n",
    "    return self.familiya\n",
    "\n",
    "  def get_age(self, yil):\n",
    "    return yil - self.tyil\n",
    "\n",
    "  def tanishtir(self):\n",
    "    return f\"Talaba ma'lumotlari:\\nIsmi: {self.ism}\\nFamiliyasi: {self.familiya}\\nTug'ulgan yil: {self.tyil}\"\n",
    "\n",
    "\n",
    "talaba1 = Talaba('Shokir', 'Sotvoldiyev', 1995)\n",
    "print(talaba1.ism)\n",
    "print(talaba1.bosqich)\n",
    "\n",
    "talaba1.get_name()"
   ]
  },
  {
   "cell_type": "markdown",
   "id": "d9ae2fe0",
   "metadata": {},
   "source": [
    "Biz obyektning biron xusuiyatini bilmoqchi bo'lsak, unga quyidagicha mutojaat qilamiz:\n",
    "\n",
    "`obyekt_nomi.xususiyati`\n",
    "\n",
    "Masalan: `talaba1.ism`\n",
    "\n",
    "Odatda bunday qilish tavsiya qilinmaydi, har bir xususiyat uchun metod yaratish va metod bilan chaqirish tavsiya etiladi:\n",
    "\n",
    "`def get_name(self):` #metod\n",
    "\n",
    "    return self.ism"
   ]
  },
  {
   "cell_type": "markdown",
   "id": "b9d1015c",
   "metadata": {},
   "source": [
    "Endi esa obyekning xusuiyatini o'zgartirish yo'llaerini ko'rib chiqamiz:"
   ]
  },
  {
   "cell_type": "code",
   "execution_count": 7,
   "id": "b307809c",
   "metadata": {},
   "outputs": [
    {
     "name": "stdout",
     "output_type": "stream",
     "text": [
      "2\n"
     ]
    }
   ],
   "source": [
    "talaba1.bosqich = 2\n",
    "# Bunday qilib o'zgartirish juda sodda usul hisoblanadi va tavsiya etilmaydi\n",
    "\n",
    "print(talaba1.bosqich)"
   ]
  },
  {
   "cell_type": "markdown",
   "id": "a82592c0",
   "metadata": {},
   "source": [
    "Obyektning xususiyatini o'zgartirish uchun ham metod yoziladi:"
   ]
  },
  {
   "cell_type": "code",
   "execution_count": 26,
   "id": "4984403f",
   "metadata": {},
   "outputs": [
    {
     "data": {
      "text/plain": [
       "\"Nastarin Alimjonova, 2004-yil tug'ulgan, 3-bosqich talabasi.\""
      ]
     },
     "execution_count": 26,
     "metadata": {},
     "output_type": "execute_result"
    }
   ],
   "source": [
    "class Talaba: #class\n",
    "  def __init__(self, ism, familiya, tyil):\n",
    "    self.ism = ism #xususiyati\n",
    "    self.familiya = familiya\n",
    "    self.tyil = tyil\n",
    "    self.bosqich = 1\n",
    "\n",
    "  def get_name(self): #metod\n",
    "    return self.ism\n",
    "\n",
    "  def get_lastname(self):\n",
    "    return self.familiya\n",
    "\n",
    "  def get_age(self, yil):\n",
    "    return yil - self.tyil\n",
    "\n",
    "  def get_grade_level(self):\n",
    "    return self.bosqich\n",
    "\n",
    "  def set_grade_level(self, son):\n",
    "    self.bosqich = son\n",
    "\n",
    "  def tanishtir(self):\n",
    "    return f\"{self.ism} {self.familiya}, {self.tyil}-yil tug'ulgan, {self.bosqich}-bosqich talabasi.\"\n",
    "\n",
    "\n",
    "talaba1 = Talaba('Nastarin', 'Alimjonova', '2004')\n",
    "\n",
    "talaba1.set_grade_level(3)\n",
    "talaba1.tanishtir()"
   ]
  },
  {
   "cell_type": "markdown",
   "id": "a12d3645",
   "metadata": {},
   "source": [
    "`OBYEKTLAR O'RTASIDA MUNOSABAT`"
   ]
  },
  {
   "cell_type": "markdown",
   "id": "5df2f3ef",
   "metadata": {},
   "source": [
    "> `OOP` ning afzalligi, turli obyektlar o'rtasidagi o'zaro munosobatlarni oson yo'lga qo'yish mumkinligida. Buni misolida ko'rish uchun yangi `Fan` degan class yaratamiz va fanimizga talabalarni qo'shish imkoniyatini ham yaratamiz. (add_student() metodi)"
   ]
  },
  {
   "cell_type": "code",
   "execution_count": 37,
   "id": "ac693034",
   "metadata": {},
   "outputs": [
    {
     "name": "stdout",
     "output_type": "stream",
     "text": [
      "3\n"
     ]
    },
    {
     "data": {
      "text/plain": [
       "['Alijon Valiyev. 1-bosqich talabasi ',\n",
       " 'Hasan Alimov. 1-bosqich talabasi ',\n",
       " 'Akrom Boriyev. 1-bosqich talabasi ']"
      ]
     },
     "execution_count": 37,
     "metadata": {},
     "output_type": "execute_result"
    }
   ],
   "source": [
    "class Talaba:\n",
    "    \"\"\"Talaba nomli klass yaratamiz\"\"\"\n",
    "    def __init__(self,ism,familiya,tyil):\n",
    "        \"\"\"Talabaning xususiyatlari\"\"\"\n",
    "        self.ism = ism\n",
    "        self.familiya = familiya\n",
    "        self.tyil = tyil\n",
    "        self.bosqich = 1\n",
    "\n",
    "    def get_info(self):\n",
    "        \"\"\"Talaba haqida ma'lumot\"\"\"\n",
    "        return f\"{self.ism} {self.familiya}. {self.bosqich}-bosqich talabasi \"\n",
    "\n",
    "    def set_bosqich(self,bosqich):\n",
    "        \"\"\"Talabaning kursini yangilovchi metod\"\"\"\n",
    "        self.bosqich = bosqich\n",
    "\n",
    "    def update_bosqich(self):\n",
    "        \"\"\"Talabanining bosqichini 1taga ko'paytirish\"\"\"\n",
    "        self.bosqich += 1\n",
    "\n",
    "class Fan():\n",
    "    def __init__(self,nomi):\n",
    "        self.nomi = nomi\n",
    "        self.talabalar_soni = 0\n",
    "        self.talabalar = []\n",
    "\n",
    "    def add_student(self,talaba):\n",
    "        \"\"\"Fanga talabalar qo'shish\"\"\"\n",
    "        self.talabalar.append(talaba)\n",
    "        self.talabalar_soni += 1\n",
    "\n",
    "    def get_students(self):\n",
    "        return [talaba.get_info() for talaba in self.talabalar]\n",
    "\n",
    "matematika = Fan(\"Oliy Matematika\")\n",
    "talaba1 = Talaba(\"Alijon\",\"Valiyev\",2000)\n",
    "talaba2 = Talaba(\"Hasan\",\"Alimov\",2001)\n",
    "talaba3 = Talaba(\"Akrom\",\"Boriyev\",2001)\n",
    "\n",
    "matematika.add_student(talaba1)\n",
    "matematika.add_student(talaba2)\n",
    "matematika.add_student(talaba3)\n",
    "\n",
    "print(matematika.talabalar_soni)\n",
    "matematika.get_students()"
   ]
  },
  {
   "cell_type": "markdown",
   "id": "28dd35f5",
   "metadata": {},
   "source": [
    "Bizda bor obyektlarni yoki loyihamizda foydalanayotgan obyeeklarni metodlarni bilish uchun quyidagicha yo'l tutamiz:\n",
    "\n",
    "`dir([object])`"
   ]
  },
  {
   "cell_type": "code",
   "execution_count": 38,
   "id": "c4d13853",
   "metadata": {},
   "outputs": [
    {
     "data": {
      "text/plain": [
       "['__class__',\n",
       " '__delattr__',\n",
       " '__dict__',\n",
       " '__dir__',\n",
       " '__doc__',\n",
       " '__eq__',\n",
       " '__firstlineno__',\n",
       " '__format__',\n",
       " '__ge__',\n",
       " '__getattribute__',\n",
       " '__getstate__',\n",
       " '__gt__',\n",
       " '__hash__',\n",
       " '__init__',\n",
       " '__init_subclass__',\n",
       " '__le__',\n",
       " '__lt__',\n",
       " '__module__',\n",
       " '__ne__',\n",
       " '__new__',\n",
       " '__reduce__',\n",
       " '__reduce_ex__',\n",
       " '__repr__',\n",
       " '__setattr__',\n",
       " '__sizeof__',\n",
       " '__static_attributes__',\n",
       " '__str__',\n",
       " '__subclasshook__',\n",
       " '__weakref__',\n",
       " 'get_info',\n",
       " 'set_bosqich',\n",
       " 'update_bosqich']"
      ]
     },
     "execution_count": 38,
     "metadata": {},
     "output_type": "execute_result"
    }
   ],
   "source": [
    "dir(Talaba)"
   ]
  },
  {
   "cell_type": "markdown",
   "id": "f5ec3d93",
   "metadata": {},
   "source": [
    "`Dunder metodlar` - obyektning ikkita pastki chiziqlar (`__`) bilan boshlgan metodlar turi."
   ]
  },
  {
   "cell_type": "markdown",
   "id": "4b3590f1",
   "metadata": {},
   "source": [
    "`dunder metod`larini olib tashlab yaratilgan yoki (.) nuqta bilan murojaat qilsa bo'ladigan metodlar ro'yxatini olish uchun funksiya yozamiz:"
   ]
  },
  {
   "cell_type": "code",
   "execution_count": 46,
   "id": "18e684b0",
   "metadata": {},
   "outputs": [
    {
     "name": "stdout",
     "output_type": "stream",
     "text": [
      "['get_info', 'set_bosqich', 'update_bosqich']\n"
     ]
    }
   ],
   "source": [
    "def see_methods(class_nomi):\n",
    "    return [method for method in dir(class_nomi) if method.startswith('__') is False]\n",
    "\n",
    "print(see_methods(Talaba))"
   ]
  },
  {
   "cell_type": "markdown",
   "id": "fad586b9",
   "metadata": {},
   "source": [
    "`__dict__` - obyektga tegishli bo'lgan xusuiyatlarni va ularni qiymatlarini lug'at ko'rinishida qaytaruvchi metod."
   ]
  },
  {
   "cell_type": "code",
   "execution_count": 47,
   "id": "ad703a37",
   "metadata": {},
   "outputs": [
    {
     "data": {
      "text/plain": [
       "{'ism': 'Alijon', 'familiya': 'Valiyev', 'tyil': 2000, 'bosqich': 1}"
      ]
     },
     "execution_count": 47,
     "metadata": {},
     "output_type": "execute_result"
    }
   ],
   "source": [
    "talaba1.__dict__"
   ]
  },
  {
   "cell_type": "markdown",
   "id": "0e656660",
   "metadata": {},
   "source": [
    "Agar faqat xusuiyatlarni nomi kerak bo'lsa quyidagicha qilamiz:"
   ]
  },
  {
   "cell_type": "code",
   "execution_count": 49,
   "id": "fb7a30a6",
   "metadata": {},
   "outputs": [
    {
     "data": {
      "text/plain": [
       "dict_keys(['ism', 'familiya', 'tyil', 'bosqich'])"
      ]
     },
     "execution_count": 49,
     "metadata": {},
     "output_type": "execute_result"
    }
   ],
   "source": [
    "talaba1.__dict__.keys()"
   ]
  },
  {
   "cell_type": "markdown",
   "id": "34d6950a",
   "metadata": {},
   "source": [
    "`see_methods` - funksiyasiga faqatgina `class` ni emas `object` ni ham berishim mumkin. Bunda bizga qaytadigan javob metodlar va xususiyatlar ro'yxati bo'ladi."
   ]
  },
  {
   "cell_type": "code",
   "execution_count": 51,
   "id": "a5ed99f9",
   "metadata": {},
   "outputs": [
    {
     "name": "stdout",
     "output_type": "stream",
     "text": [
      "['bosqich', 'familiya', 'get_info', 'ism', 'set_bosqich', 'tyil', 'update_bosqich']\n"
     ]
    }
   ],
   "source": [
    "print(see_methods(talaba1))"
   ]
  },
  {
   "cell_type": "markdown",
   "id": "36f22edb",
   "metadata": {},
   "source": [
    "`VORISLIK va POLIMORFIZM`"
   ]
  },
  {
   "cell_type": "markdown",
   "id": "7199e88e",
   "metadata": {},
   "source": [
    "`Vorislik`  - bir classdan boshqa yangni class yaratish."
   ]
  },
  {
   "cell_type": "code",
   "execution_count": 58,
   "id": "d29051d0",
   "metadata": {},
   "outputs": [
    {
     "name": "stdout",
     "output_type": "stream",
     "text": [
      "N1232425\n",
      "Shahboz Shirinboyev. AB3425372, 1999-yilda tug'ulgan.\n",
      "26\n"
     ]
    }
   ],
   "source": [
    "class Shaxs:\n",
    "  \"\"\"Shaxs haqida ma'lumot\"\"\"\n",
    "  def __init__(self, ism, familiya, passport, tyil):\n",
    "    \"\"\"Shaxsning xususiyatlari \"\"\"\n",
    "    self.ism = ism\n",
    "    self.familiya = familiya\n",
    "    self.passport = passport\n",
    "    self.tyil = tyil\n",
    "\n",
    "  def get_age(self, yil):\n",
    "    \"\"\"Shaxsning yoshini qaytaruvchi metod\"\"\"\n",
    "    return yil - self.tyil\n",
    "\n",
    "  def get_info(self):\n",
    "    \"\"\"Shaxs haqida ma'lumot\"\"\"\n",
    "    info = f\"{self.ism} {self.familiya}. \"\n",
    "    info += f\"{self.passport}, {self.tyil}-yilda tug'ulgan.\"\n",
    "    return info\n",
    "\n",
    "class Talaba(Shaxs): # Talaba - voris class / Shaxs - super class\n",
    "  \"\"\"Talaba classi\"\"\"\n",
    "  def __init__(self, ism, familiya, passport, tyil, idraqam):\n",
    "    \"\"\"Talabaning xususiyatlari\"\"\"\n",
    "    super().__init__(ism, familiya, passport, tyil) # Super classdan meros bo'lib o'tayotgan xususiyatlar\n",
    "    self.idraqam = idraqam\n",
    "    self.bosqich = 1\n",
    "\n",
    "  def get_id(self):\n",
    "    return self.idraqam\n",
    "\n",
    "  def get_bosqich(self):\n",
    "    return self.bosqich\n",
    "\n",
    "\n",
    "talaba1 = Talaba('Shahboz', 'Shirinboyev', 'AB3425372', 1999, 'N1232425')\n",
    "\n",
    "print(talaba1.get_id())\n",
    "# Super classning metodlari Voris class uchun meros bo'lib o'tadi\n",
    "print(talaba1.get_info())\n",
    "print(talaba1.get_age(2025))"
   ]
  },
  {
   "cell_type": "markdown",
   "id": "38feeddf",
   "metadata": {},
   "source": [
    "Yuqoridagi holat `Vorislik` deb aytiladi.\n",
    "Kod yozish ketma-ketligida albatta birinchi bo'lib super class kelishi kerak va keyin voris class."
   ]
  },
  {
   "cell_type": "markdown",
   "id": "b207bece",
   "metadata": {},
   "source": [
    "`Polimorfizm` - yagni yaratilgan class ichida super classdan meros bo'lib qolgan biror bir metodni o'zgartirish. "
   ]
  },
  {
   "cell_type": "markdown",
   "id": "92ec8803",
   "metadata": {},
   "source": [
    "Buning uchun shunchaki yangi class ichida ya'ni voris class ichida o'zgartirmoqchi bo'lgan metodimizni qaytadan yozamiz."
   ]
  },
  {
   "cell_type": "code",
   "execution_count": 59,
   "id": "d704ae92",
   "metadata": {},
   "outputs": [
    {
     "name": "stdout",
     "output_type": "stream",
     "text": [
      "Shahboz Shirinboyev. AB3425372, 1999-yilda tug'ulgan. ID raqami: N1232425\n"
     ]
    }
   ],
   "source": [
    "class Shaxs:\n",
    "  \"\"\"Shaxs haqida ma'lumot\"\"\"\n",
    "  def __init__(self, ism, familiya, passport, tyil):\n",
    "    \"\"\"Shaxsning xususiyatlari \"\"\"\n",
    "    self.ism = ism\n",
    "    self.familiya = familiya\n",
    "    self.passport = passport\n",
    "    self.tyil = tyil\n",
    "\n",
    "  def get_age(self, yil):\n",
    "    \"\"\"Shaxsning yoshini qaytaruvchi metod\"\"\"\n",
    "    return yil - self.tyil\n",
    "\n",
    "  def get_info(self):\n",
    "    \"\"\"Shaxs haqida ma'lumot\"\"\"\n",
    "    info = f\"{self.ism} {self.familiya}. \"\n",
    "    info += f\"{self.passport}, {self.tyil}-yilda tug'ulgan.\"\n",
    "    return info\n",
    "\n",
    "class Talaba(Shaxs): # Talaba - voris class / Shaxs - super class\n",
    "  \"\"\"Talaba classi\"\"\"\n",
    "  def __init__(self, ism, familiya, passport, tyil, idraqam):\n",
    "    \"\"\"Talabaning xususiyatlari\"\"\"\n",
    "    super().__init__(ism, familiya, passport, tyil) # Super classdan meros bo'lib o'tayotgan xususiyatlar\n",
    "    self.idraqam = idraqam\n",
    "    self.bosqich = 1\n",
    "\n",
    "  def get_id(self):\n",
    "    return self.idraqam\n",
    "\n",
    "  def get_bosqich(self):\n",
    "    return self.bosqich\n",
    "\n",
    "  def get_info(self):\n",
    "    \"\"\"Metodni o'zgartirayapmiz\"\"\"\n",
    "    info = f\"{self.ism} {self.familiya}. \"\n",
    "    info += f\"{self.passport}, {self.tyil}-yilda tug'ulgan. ID raqami: {self.idraqam}\"\n",
    "    return info\n",
    "\n",
    "\n",
    "talaba1 = Talaba('Shahboz', 'Shirinboyev', 'AB3425372', 1999, 'N1232425')\n",
    "\n",
    "\n",
    "print(talaba1.get_info())"
   ]
  },
  {
   "cell_type": "markdown",
   "id": "d3a0e589",
   "metadata": {},
   "source": [
    "Yuqoridagi holat `POLIMORFIZM` deyiladi."
   ]
  },
  {
   "cell_type": "code",
   "execution_count": 73,
   "id": "bcfffa6f",
   "metadata": {},
   "outputs": [
    {
     "data": {
      "text/plain": [
       "\"Navoiy viloyati, Xatirchi tumani, Olmazor ko'chasi, 12-uy.\""
      ]
     },
     "execution_count": 73,
     "metadata": {},
     "output_type": "execute_result"
    }
   ],
   "source": [
    "class Shaxs:\n",
    "  \"\"\"Shaxs haqida ma'lumot\"\"\"\n",
    "  def __init__(self, ism, familiya, passport, tyil):\n",
    "    \"\"\"Shaxsning xususiyatlari \"\"\"\n",
    "    self.ism = ism\n",
    "    self.familiya = familiya\n",
    "    self.passport = passport\n",
    "    self.tyil = tyil\n",
    "\n",
    "  def get_age(self, yil):\n",
    "    \"\"\"Shaxsning yoshini qaytaruvchi metod\"\"\"\n",
    "    return yil - self.tyil\n",
    "\n",
    "  def get_info(self):\n",
    "    \"\"\"Shaxs haqida ma'lumot\"\"\"\n",
    "    info = f\"{self.ism} {self.familiya}. \"\n",
    "    info += f\"{self.passport}, {self.tyil}-yilda tug'ulgan.\"\n",
    "    return info\n",
    "\n",
    "class Manzil():\n",
    "  def __init__(self, uy, kocha, tuman, viloyat):\n",
    "    self.uy = uy\n",
    "    self.kocha = kocha\n",
    "    self.tuman = tuman\n",
    "    self.viloyat = viloyat\n",
    "\n",
    "  def get_manzil(self):\n",
    "    \"\"\"Manzilni ko'rish\"\"\"\n",
    "    manzil = f\"{self.viloyat} viloyati, {self.tuman} tumani, \"\n",
    "    manzil += f\"{self.kocha} ko'chasi, {self.uy}-uy.\"\n",
    "    return manzil\n",
    "\n",
    "\n",
    "class Talaba(Shaxs): # Talaba - voris class / Shaxs - super class\n",
    "  \"\"\"Talaba classi\"\"\"\n",
    "  def __init__(self, ism, familiya, passport, tyil, idraqam, manzil):\n",
    "    \"\"\"Talabaning xususiyatlari\"\"\"\n",
    "    super().__init__(ism, familiya, passport, tyil) # Super classdan meros bo'lib o'tayotgan xususiyatlar\n",
    "    self.idraqam = idraqam\n",
    "    self.bosqich = 1\n",
    "    self.manzil = manzil\n",
    "\n",
    "  def get_id(self):\n",
    "    return self.idraqam\n",
    "\n",
    "  def get_bosqich(self):\n",
    "    return self.bosqich\n",
    "\n",
    "  def get_info(self):\n",
    "    \"\"\"Metodni o'zgartirayapmiz\"\"\"\n",
    "    info = f\"{self.ism} {self.familiya}. \"\n",
    "    info += f\"{self.passport}, {self.tyil}-yilda tug'ulgan. ID raqami: {self.idraqam}\"\n",
    "    return info\n",
    "\n",
    "\n",
    "\n",
    "talaba1_manzil = Manzil(12, 'Olmazor', 'Xatirchi', 'Navoiy')\n",
    "talaba1 = Talaba('Shahboz', 'Shirinboyev', 'AB3425372', 1999, 'N1232425', talaba1_manzil)\n",
    "\n",
    "\n",
    "talaba1.manzil.get_manzil()"
   ]
  },
  {
   "cell_type": "markdown",
   "id": "8c603815",
   "metadata": {},
   "source": [
    "Yuqorida ko'rganimiz turli xususiyatlarni obyek ko'rinishida ham saqlab qo'yishimiz mumkin, va agar obyektning xususiyatlari bo'lsa unga yuqoridagi ko'rinishda murojaat qilish mumkin:\n",
    "\n",
    "`talaba1.manzil.get_manzil()`\n",
    "\n",
    "bunda `talaba1` ham `manzil` ham obyekt hisoblanadi. `get_manzil()` - metodiga murojaat qilish."
   ]
  },
  {
   "cell_type": "markdown",
   "id": "b311699c",
   "metadata": {},
   "source": [
    "`AMALIYOT`"
   ]
  },
  {
   "cell_type": "code",
   "execution_count": 79,
   "id": "11726a76",
   "metadata": {},
   "outputs": [
    {
     "name": "stdout",
     "output_type": "stream",
     "text": [
      "Foydalanuvchi ismi: Malika Foydalanuvchi familiyasi: Urinova Email: malikaurinova@gmail.com Tug'ulgan yili: 2006\n",
      "Malika\n"
     ]
    }
   ],
   "source": [
    "class User():\n",
    "  def __init__(self, ism, familiya, email, tyil):\n",
    "    self.ism = ism\n",
    "    self.familiya = familiya\n",
    "    self.email = email\n",
    "    self.tyil = tyil\n",
    "\n",
    "  def get_info(self):\n",
    "    info = f\"Foydalanuvchi ismi: {self.ism} Foydalanuvchi familiyasi: {self.familiya} \"\n",
    "    info += f\"Email: {self.email} Tug'ulgan yili: {self.tyil}\"\n",
    "    return info\n",
    "\n",
    "\n",
    "user0 = User('Malika', 'Urinova', 'malikaurinova@gmail.com', 2006)\n",
    "\n",
    "print(user0.get_info())\n",
    "print(user0.ism)"
   ]
  },
  {
   "cell_type": "code",
   "execution_count": 85,
   "id": "1a602b54",
   "metadata": {},
   "outputs": [
    {
     "name": "stdout",
     "output_type": "stream",
     "text": [
      "Qora Cobalt, yurgan masofasi: 0 uzatmalar qutisi: automatik, $12000\n"
     ]
    },
    {
     "data": {
      "text/plain": [
       "'Qora Cobalt, yurgan masofasi: 2573 uzatmalar qutisi: automatik, $12000'"
      ]
     },
     "execution_count": 85,
     "metadata": {},
     "output_type": "execute_result"
    }
   ],
   "source": [
    "class Auto():\n",
    "  def __init__(self, model, rang, karobka, narx):\n",
    "    self.model = model\n",
    "    self.rang = rang\n",
    "    self.karobka = karobka\n",
    "    self.narx = narx\n",
    "    self.kilometr = 0\n",
    "\n",
    "  def get_info(self):\n",
    "    info = f\"{self.rang.title()} {self.model}, yurgan masofasi: {self.kilometr} \"\n",
    "    info += f\"uzatmalar qutisi: {self.karobka}, ${self.narx}\"\n",
    "    return info\n",
    "\n",
    "  def update_km(self, new_km):\n",
    "    self.kilometr += new_km\n",
    "\n",
    "auto0 = Auto('Cobalt', 'qora', 'automatik', 12000)\n",
    "print(auto0.get_info())\n",
    "\n",
    "auto0.update_km(2573)\n",
    "auto0.get_info()"
   ]
  },
  {
   "cell_type": "code",
   "execution_count": 92,
   "id": "0bd13168",
   "metadata": {},
   "outputs": [
    {
     "name": "stdout",
     "output_type": "stream",
     "text": [
      "['Cobalt', 'Nexia 3', 'Malibu']\n"
     ]
    }
   ],
   "source": [
    "class Avtosalon():\n",
    "  def __init__(self, nom, manzil):\n",
    "    self.nom = nom\n",
    "    self.manzil = manzil\n",
    "    self.sotuvdagi_avtolar = []\n",
    "\n",
    "  def get_info(self):\n",
    "    info = f\"Avtosalon nomi: {self.nom} Manzil: {self.manzil}\"\n",
    "    return info\n",
    "\n",
    "  def add_auto(self, new_auto):\n",
    "    self.sotuvdagi_avtolar.append(new_auto)\n",
    "\n",
    "\n",
    "autosalon0 = Avtosalon('LUX', 'Toshkent shah. Navoiy ko\\'chasi, 42-uy.')\n",
    "autosalon0.add_auto('Cobalt')\n",
    "autosalon0.add_auto('Nexia 3')\n",
    "autosalon0.add_auto('Malibu')\n",
    "\n",
    "print(autosalon0.sotuvdagi_avtolar)"
   ]
  },
  {
   "cell_type": "code",
   "execution_count": 93,
   "id": "5d8b6f4c",
   "metadata": {},
   "outputs": [
    {
     "data": {
      "text/plain": [
       "['__class__',\n",
       " '__delattr__',\n",
       " '__dict__',\n",
       " '__dir__',\n",
       " '__doc__',\n",
       " '__eq__',\n",
       " '__firstlineno__',\n",
       " '__format__',\n",
       " '__ge__',\n",
       " '__getattribute__',\n",
       " '__getstate__',\n",
       " '__gt__',\n",
       " '__hash__',\n",
       " '__init__',\n",
       " '__init_subclass__',\n",
       " '__le__',\n",
       " '__lt__',\n",
       " '__module__',\n",
       " '__ne__',\n",
       " '__new__',\n",
       " '__reduce__',\n",
       " '__reduce_ex__',\n",
       " '__repr__',\n",
       " '__setattr__',\n",
       " '__sizeof__',\n",
       " '__static_attributes__',\n",
       " '__str__',\n",
       " '__subclasshook__',\n",
       " '__weakref__',\n",
       " 'add_auto',\n",
       " 'get_info']"
      ]
     },
     "execution_count": 93,
     "metadata": {},
     "output_type": "execute_result"
    }
   ],
   "source": [
    "dir(Avtosalon)"
   ]
  },
  {
   "cell_type": "code",
   "execution_count": 94,
   "id": "1b2bb15d",
   "metadata": {},
   "outputs": [
    {
     "data": {
      "text/plain": [
       "mappingproxy({'__module__': '__main__',\n",
       "              '__firstlineno__': 1,\n",
       "              '__init__': <function __main__.Avtosalon.__init__(self, nom, manzil)>,\n",
       "              'get_info': <function __main__.Avtosalon.get_info(self)>,\n",
       "              'add_auto': <function __main__.Avtosalon.add_auto(self, new_auto)>,\n",
       "              '__static_attributes__': ('manzil', 'nom', 'sotuvdagi_avtolar'),\n",
       "              '__dict__': <attribute '__dict__' of 'Avtosalon' objects>,\n",
       "              '__weakref__': <attribute '__weakref__' of 'Avtosalon' objects>,\n",
       "              '__doc__': None})"
      ]
     },
     "execution_count": 94,
     "metadata": {},
     "output_type": "execute_result"
    }
   ],
   "source": [
    "Avtosalon.__dict__"
   ]
  },
  {
   "cell_type": "code",
   "execution_count": 3,
   "id": "705d7cec",
   "metadata": {},
   "outputs": [
    {
     "data": {
      "text/plain": [
       "\"Shahboz Shirinboyev ID raqami: N2346523 Talabaning o'quv fanlari: Modellashtirish, Suniy Intellekt, Oliy Matematika, \""
      ]
     },
     "execution_count": 3,
     "metadata": {},
     "output_type": "execute_result"
    }
   ],
   "source": [
    "class Talaba():\n",
    "  def __init__(self, ism, familiya, id):\n",
    "    self.ism = ism\n",
    "    self.familiya = familiya\n",
    "    self.id = id\n",
    "    self.fanlar = []\n",
    "\n",
    "  def add_fan(self, fan):\n",
    "    self.fanlar.append(fan)\n",
    "\n",
    "  def get_info(self):\n",
    "    fanlar = \"\"\n",
    "    for fan in self.fanlar:\n",
    "      fanlar += fan.title() + \", \"\n",
    "    info = f\"{self.ism.title()} {self.familiya.title()} ID raqami: {self.id} \"\n",
    "    info += f\"Talabaning o'quv fanlari: {fanlar}\"\n",
    "    return info\n",
    "\n",
    "\n",
    "talaba0 = Talaba('Shahboz', 'Shirinboyev', 'N2346523')\n",
    "talaba0.add_fan('Modellashtirish')\n",
    "talaba0.add_fan('Suniy intellekt')\n",
    "talaba0.add_fan('Oliy matematika')\n",
    "\n",
    "talaba0.get_info()\n"
   ]
  },
  {
   "cell_type": "markdown",
   "id": "11d76973",
   "metadata": {},
   "source": [
    "`INKAPSULATSIYA.`"
   ]
  },
  {
   "cell_type": "markdown",
   "id": "88e3f28f",
   "metadata": {},
   "source": [
    "`Inkapsulatsiya` - biron bir obyektning xususiyatini yashirin qilish, ya'ni tashqaridan murojaat qilishni yopishga aytiladi."
   ]
  },
  {
   "cell_type": "code",
   "execution_count": null,
   "id": "e9772ff9",
   "metadata": {},
   "outputs": [
    {
     "ename": "AttributeError",
     "evalue": "'Auto' object has no attribute '__km'",
     "output_type": "error",
     "traceback": [
      "\u001b[31m---------------------------------------------------------------------------\u001b[39m",
      "\u001b[31mAttributeError\u001b[39m                            Traceback (most recent call last)",
      "\u001b[36mCell\u001b[39m\u001b[36m \u001b[39m\u001b[32mIn[8]\u001b[39m\u001b[32m, line 18\u001b[39m\n\u001b[32m     14\u001b[39m     \u001b[38;5;28;01mreturn\u001b[39;00m \u001b[38;5;28mself\u001b[39m.__km\n\u001b[32m     16\u001b[39m avto0 = Auto(\u001b[33m'\u001b[39m\u001b[33mCobalt\u001b[39m\u001b[33m'\u001b[39m, \u001b[33m'\u001b[39m\u001b[33moq\u001b[39m\u001b[33m'\u001b[39m, \u001b[32m2025\u001b[39m, \u001b[32m12000\u001b[39m, \u001b[32m476\u001b[39m)\n\u001b[32m---> \u001b[39m\u001b[32m18\u001b[39m \u001b[43mavto0\u001b[49m\u001b[43m.\u001b[49m\u001b[43m__km\u001b[49m\n",
      "\u001b[31mAttributeError\u001b[39m: 'Auto' object has no attribute '__km'"
     ]
    }
   ],
   "source": [
    "from uuid import uuid4\n",
    "\n",
    "class Auto():\n",
    "  \"\"\"Avtomobil classi\"\"\"\n",
    "  def __init__(self, model, rang, yil, narx, km=0):\n",
    "    self.model = model\n",
    "    self.rang = rang\n",
    "    self.yil = yil\n",
    "    self.narx = narx\n",
    "    self.__km = km       # Inkapsulatsiya qilingan xususiyat\n",
    "    self.__id = uuid4()  # Inkapsulatsiya qilingan xususiyat\n",
    "\n",
    "  def get_km(self):\n",
    "    return self.__km\n",
    "\n",
    "avto0 = Auto('Cobalt', 'oq', 2025, 12000, 476)\n",
    "\n",
    "avto0.__km # obyektga xususiyati orqali murojaat qilamiz"
   ]
  },
  {
   "cell_type": "markdown",
   "id": "22fb424b",
   "metadata": {},
   "source": [
    "Inkapsulatsiya faqatga obyektning xususiyatiga `(.)` nuqta orqali murojaat qilishni yopib qo'yadi.\n",
    "Inkasulatsiya qilingan xususiyatga `maxsus metodlar` orqali murojaat qilish mumkin."
   ]
  },
  {
   "cell_type": "code",
   "execution_count": 9,
   "id": "51505704",
   "metadata": {},
   "outputs": [
    {
     "data": {
      "text/plain": [
       "476"
      ]
     },
     "execution_count": 9,
     "metadata": {},
     "output_type": "execute_result"
    }
   ],
   "source": [
    "avto0.get_km()"
   ]
  },
  {
   "cell_type": "markdown",
   "id": "16597714",
   "metadata": {},
   "source": [
    "Ishlatilish maqsadi foydalanuvchi ma'lumotlarni o'zgartirishini cheklash."
   ]
  },
  {
   "cell_type": "markdown",
   "id": "b9df6d91",
   "metadata": {},
   "source": [
    "`Inkapsulatsiya (Encapsulation)` — bu obyektga yo'naltirilgan dasturlash (OOP) tamoyillaridan biri bo'lib, ma'lumotlarni (ya'ni obyektning holatini) va u bilan ishlovchi metodlarni bir joyda, ya'ni bir obyekt ichida yashirish (yopish) va faqat kerakli qismlarini tashqariga ochish usulidir."
   ]
  },
  {
   "cell_type": "markdown",
   "id": "6ed282d9",
   "metadata": {},
   "source": [
    "`CLASSGA XOS XUSUSIYATLAR VA METODLAR.`"
   ]
  },
  {
   "cell_type": "code",
   "execution_count": null,
   "id": "0f257ecd",
   "metadata": {},
   "outputs": [
    {
     "name": "stdout",
     "output_type": "stream",
     "text": [
      "3\n",
      "3\n",
      "3\n",
      "3.141519\n"
     ]
    }
   ],
   "source": [
    "from uuid import uuid4\n",
    "\n",
    "class Auto():\n",
    "  num_auto = 0    # classga xos xususiyat\n",
    "  PI = 3.141519   # bu o'zgaruvchiga istalgan shu class bilan yaratilgan obyekt murojaat qilishi mumkin\n",
    "  \"\"\"Avtomobil classi\"\"\"\n",
    "  def __init__(self, model, rang, yil, narx, km=0):\n",
    "    self.model = model\n",
    "    self.rang = rang\n",
    "    self.yil = yil\n",
    "    self.narx = narx\n",
    "    self.__km = km       # Inkapsulatsiya qilingan xususiyat\n",
    "    self.__id = uuid4()  # Inkapsulatsiya qilingan xususiyat\n",
    "    Auto.num_auto += 1\n",
    "\n",
    "  def get_km(self):\n",
    "    return self.__km\n",
    "\n",
    "avto0 = Auto('Cobalt', 'oq', 2025, 12000, 176)\n",
    "avto1 = Auto('Lacceti', 'oq', 2025, 13000, 42)\n",
    "avto2 = Auto('Onix', 'oq', 2025, 14000, 36)\n",
    "\n",
    "print(avto0.num_auto)\n",
    "print(avto1.num_auto)\n",
    "print(avto2.num_auto)\n",
    "\n",
    "\n",
    "print(avto2.PI)\n",
    "print(avto0.PI)\n",
    "print(avto1.PI)"
   ]
  },
  {
   "cell_type": "markdown",
   "id": "69c83234",
   "metadata": {},
   "source": [
    "Yuqoridagi misol orqali shu `class`dan foydalangan holda nechta obyekt yaratilgan ekanligini bilib olish mumkin."
   ]
  },
  {
   "cell_type": "markdown",
   "id": "33a63bb7",
   "metadata": {},
   "source": [
    "`Class xususiyatlarini` ham `inkapsulatsiya` qilish imkoniyati bor. Ammo inkapsulatsiya qilingandan keyin unga qanday qilib murojaat qilinadi:"
   ]
  },
  {
   "cell_type": "code",
   "execution_count": 33,
   "id": "077e48f3",
   "metadata": {},
   "outputs": [
    {
     "name": "stdout",
     "output_type": "stream",
     "text": [
      "1\n"
     ]
    }
   ],
   "source": [
    "from uuid import uuid4\n",
    "\n",
    "class Auto2():\n",
    "  __num_auto = 0    # classga xos xususiyat\n",
    "  __PI = 3.141519   # bu o'zgaruvchiga istalgan shu class bilan yaratilgan obyekt murojaat qilishi mumkin\n",
    "  \"\"\"Avtomobil classi\"\"\"\n",
    "  def __init__(self, model, rang, yil, narx, km=0):\n",
    "    self.model = model\n",
    "    self.rang = rang\n",
    "    self.yil = yil\n",
    "    self.narx = narx\n",
    "    self.__km = km       # Inkapsulatsiya qilingan xususiyat\n",
    "    self.__id = uuid4()  # Inkapsulatsiya qilingan xususiyat\n",
    "    Auto2.__num_auto += 1\n",
    "\n",
    "  @classmethod\n",
    "  def get_num_auto(cls):\n",
    "    return cls.__num_auto\n",
    "\n",
    "  def get_km(self):\n",
    "    return self.__km\n",
    "\n",
    "avto2 = Auto2('Onix', 'oq', 2025, 14000, 36)\n",
    "\n",
    "\n",
    "print(Auto2.get_num_auto())"
   ]
  }
 ],
 "metadata": {
  "kernelspec": {
   "display_name": "Python 3",
   "language": "python",
   "name": "python3"
  },
  "language_info": {
   "codemirror_mode": {
    "name": "ipython",
    "version": 3
   },
   "file_extension": ".py",
   "mimetype": "text/x-python",
   "name": "python",
   "nbconvert_exporter": "python",
   "pygments_lexer": "ipython3",
   "version": "3.13.3"
  }
 },
 "nbformat": 4,
 "nbformat_minor": 5
}
