{
 "cells": [
  {
   "cell_type": "code",
   "execution_count": 5,
   "id": "3c258250",
   "metadata": {},
   "outputs": [
    {
     "name": "stdout",
     "output_type": "stream",
     "text": [
      "41.3645355,69.2281531\n"
     ]
    }
   ],
   "source": [
    "import json\n",
    "\n",
    "with open('data.json') as file:\n",
    "  data = json.load(file)\n",
    "\n",
    "kenglik = data['geometry']['location']['lat']\n",
    "uzunlik = data['geometry']['location']['lng']\n",
    "\n",
    "print(f\"{kenglik},{uzunlik}\")"
   ]
  },
  {
   "cell_type": "code",
   "execution_count": null,
   "id": "5f2e4a66",
   "metadata": {},
   "outputs": [],
   "source": []
  }
 ],
 "metadata": {
  "kernelspec": {
   "display_name": "Python 3",
   "language": "python",
   "name": "python3"
  },
  "language_info": {
   "codemirror_mode": {
    "name": "ipython",
    "version": 3
   },
   "file_extension": ".py",
   "mimetype": "text/x-python",
   "name": "python",
   "nbconvert_exporter": "python",
   "pygments_lexer": "ipython3",
   "version": "3.13.3"
  }
 },
 "nbformat": 4,
 "nbformat_minor": 5
}
