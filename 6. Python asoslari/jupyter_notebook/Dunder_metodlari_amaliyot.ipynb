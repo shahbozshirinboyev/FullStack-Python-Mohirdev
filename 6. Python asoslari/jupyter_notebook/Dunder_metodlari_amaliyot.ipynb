{
 "cells": [
  {
   "cell_type": "code",
   "execution_count": 28,
   "metadata": {},
   "outputs": [
    {
     "data": {
      "text/plain": [
       "True"
      ]
     },
     "execution_count": 28,
     "metadata": {},
     "output_type": "execute_result"
    }
   ],
   "source": [
    "class Shaxs():\n",
    "  def __init__(self, ism, familiya, id):\n",
    "    self.ism = ism\n",
    "    self.familiya = familiya\n",
    "    self.id = id\n",
    "\n",
    "  def __repr__(self):\n",
    "    return f\"Shaxs id'si: {self.id}\"\n",
    "\n",
    "class Talaba(Shaxs):\n",
    "  def __init__(self, ism, familiya, id, yonalish):\n",
    "    super().__init__(ism, familiya, id)\n",
    "    self.yonalish = yonalish\n",
    "    self.bosqich = 1\n",
    "\n",
    "  def __repr__(self):\n",
    "    return f\"Talaba id'si: {self.id}\"\n",
    "\n",
    "  def updadte_bosqich(self):\n",
    "    self.bosqich += 1\n",
    "\n",
    "  def __eq__(self, value):\n",
    "    return self.bosqich == value.bosqich\n",
    "\n",
    "  def __lt__(self, value):\n",
    "    return self.bosqich < value.bosqich\n",
    "\n",
    "  def __le__(self, value):\n",
    "    return self.bosqich <= value.bosqich\n",
    "\n",
    "\n",
    "shaxs1 = Shaxs('Umid', \"Murodov\", 'N2345879')\n",
    "\n",
    "talaba1 = Talaba('Gulnoza', 'Shermamatova', 'N3453231', 'KIF')\n",
    "talaba2 = Talaba('Marhabo', 'O\\'roqova', 'N3453231', 'DIF')\n",
    "\n",
    "talaba2.updadte_bosqich()\n",
    "\n",
    "\n",
    "talaba1 <= talaba2"
   ]
  }
 ],
 "metadata": {
  "kernelspec": {
   "display_name": "Python 3",
   "language": "python",
   "name": "python3"
  },
  "language_info": {
   "codemirror_mode": {
    "name": "ipython",
    "version": 3
   },
   "file_extension": ".py",
   "mimetype": "text/x-python",
   "name": "python",
   "nbconvert_exporter": "python",
   "pygments_lexer": "ipython3",
   "version": "3.13.3"
  }
 },
 "nbformat": 4,
 "nbformat_minor": 2
}
