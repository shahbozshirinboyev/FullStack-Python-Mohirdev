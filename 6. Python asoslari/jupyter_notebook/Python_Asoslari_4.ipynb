{
 "cells": [
  {
   "cell_type": "markdown",
   "metadata": {
    "id": "XnW5gRQHiFfG"
   },
   "source": [
    "# Funksiya"
   ]
  },
  {
   "cell_type": "markdown",
   "metadata": {
    "id": "ffCz3FC8iJ0X"
   },
   "source": [
    "> Funksiya bu ma'lum bir kodlarning yig'indisi yoki bir necha qator kodlar yig'indisi (ketma-ketligi)."
   ]
  },
  {
   "cell_type": "markdown",
   "metadata": {
    "id": "qggzB_ODiksE"
   },
   "source": [
    "Dastur kodida bir nechta qator kodlarni qayta qayta yozishga to'g'ri kelsa ularni ma'lum guruhga tegishlisi jamlanib funksiya holatiga olib kelinadi va bir nom orqali nomlanib uni chaqirish orqali kod qatorini takrorlashdan qochiladi.\n",
    "Shu paytgacha foydalanib kelayotgan ba'zi funksiyalarimiz ro'yxati:\n",
    "\n",
    "\n",
    "1.   print()\n",
    "2.   type()\n",
    "3.   int()\n",
    "4.   range()\n",
    "5.   list()\n",
    "6.   float()"
   ]
  },
  {
   "cell_type": "code",
   "execution_count": null,
   "metadata": {
    "colab": {
     "base_uri": "https://localhost:8080/"
    },
    "executionInfo": {
     "elapsed": 10,
     "status": "ok",
     "timestamp": 1745293450993,
     "user": {
      "displayName": "Shahboz Shirinboyev",
      "userId": "14915638332114547209"
     },
     "user_tz": -300
    },
    "id": "7Qu8C9YUh-j0",
    "outputId": "a6fd9d1d-ee45-4207-8a45-82485efb3600"
   },
   "outputs": [
    {
     "name": "stdout",
     "output_type": "stream",
     "text": [
      "Assalomu alaykum!\n"
     ]
    }
   ],
   "source": [
    "                                                                                                                                                                                                                                                                                                                                                                                                                                                                                                                                                                                                                                                                                                                                                                                                                                                                                                                                                                                            # O'zimiz qanday qilib funksiya yaratishimiz mumkin?\n",
    "# pythonda funksiya def - kalit so'zi orqali e'lon qilinadi.\n",
    "\n",
    "def salom_ber():\n",
    "  \"\"\"Salom beruvchi funksiya\"\"\" # funksiya haqida ma'lumot dasturchilar uchun\n",
    "  print(\"Assalomu alaykum!\")\n",
    "\n",
    "salom_ber()"
   ]
  },
  {
   "cell_type": "markdown",
   "metadata": {
    "id": "DvkBCI7AmQ2C"
   },
   "source": [
    "> Funksiya nomi sifatida nom tanlanayotganda imkon qadar fe'l tanlash kerak. Ya'ni bir harakatni bildiruvchi so'z. Bu bizni boshqa o'zgaruvchilarga nom berishimiz va boshqa kattaliklarga nom berganlarimizdan adashib ketmasligimiz uchun muhim."
   ]
  },
  {
   "cell_type": "code",
   "execution_count": 15,
   "metadata": {
    "colab": {
     "base_uri": "https://localhost:8080/"
    },
    "executionInfo": {
     "elapsed": 8,
     "status": "ok",
     "timestamp": 1745293865032,
     "user": {
      "displayName": "Shahboz Shirinboyev",
      "userId": "14915638332114547209"
     },
     "user_tz": -300
    },
    "id": "0rVt2m17mwCS",
    "outputId": "bf86dd17-f316-46a1-f8b0-85e8bf6d8d3b"
   },
   "outputs": [
    {
     "name": "stdout",
     "output_type": "stream",
     "text": [
      "Assalomu alaykum, hurmatli Hamid!\n",
      "Assalomu alaykum, hurmatli Umid!\n"
     ]
    }
   ],
   "source": [
    "# parametr berilishi kerak bo'lgan funksiya\n",
    "def salom_ber(ism):  # ism - bu funksiya parametr\n",
    "  \"\"\"Foydalanuvchi ismini qabul qilib, unga salom beruvchi funksiya\"\"\"\n",
    "  print(f\"Assalomu alaykum, hurmatli {ism.title()}!\")\n",
    "\n",
    "salom_ber('hamid')\n",
    "salom_ber('umid')"
   ]
  },
  {
   "cell_type": "markdown",
   "metadata": {
    "id": "4E5vT6Gxn5M_"
   },
   "source": [
    "> parametr - funksiya yaratilayotganda unga berilayotgan o'zgaruvchi.\n",
    "\n",
    "> argument - funksiya chaqirilayotganda unga berilayotgan qiymat."
   ]
  },
  {
   "cell_type": "markdown",
   "metadata": {
    "id": "W2ATxuUWp4_V"
   },
   "source": [
    "**DOCSTRING** - funksiya haqida ma'lumot."
   ]
  },
  {
   "cell_type": "code",
   "execution_count": 16,
   "metadata": {
    "colab": {
     "base_uri": "https://localhost:8080/"
    },
    "executionInfo": {
     "elapsed": 17,
     "status": "ok",
     "timestamp": 1745294547237,
     "user": {
      "displayName": "Shahboz Shirinboyev",
      "userId": "14915638332114547209"
     },
     "user_tz": -300
    },
    "id": "ZQKG7lAZooUF",
    "outputId": "130f2001-f002-40e6-a4f8-73633a2a29bb"
   },
   "outputs": [
    {
     "name": "stdout",
     "output_type": "stream",
     "text": [
      "Foydalanuvchi ismini qabul qilib, unga salom beruvchi funksiya\n"
     ]
    }
   ],
   "source": [
    "# funksiya haqidagi ma'lumotni chiqarish:\n",
    "print(salom_ber.__doc__)"
   ]
  },
  {
   "cell_type": "code",
   "execution_count": 17,
   "metadata": {
    "colab": {
     "base_uri": "https://localhost:8080/"
    },
    "executionInfo": {
     "elapsed": 5,
     "status": "ok",
     "timestamp": 1745294669337,
     "user": {
      "displayName": "Shahboz Shirinboyev",
      "userId": "14915638332114547209"
     },
     "user_tz": -300
    },
    "id": "fQii3OJaqaKs",
    "outputId": "c577dcc4-eb45-43fd-acfd-eefcf6d85f50"
   },
   "outputs": [
    {
     "name": "stdout",
     "output_type": "stream",
     "text": [
      "Prints the values to a stream, or to sys.stdout by default.\n",
      "\n",
      "  sep\n",
      "    string inserted between values, default a space.\n",
      "  end\n",
      "    string appended after the last value, default a newline.\n",
      "  file\n",
      "    a file-like object (stream); defaults to the current sys.stdout.\n",
      "  flush\n",
      "    whether to forcibly flush the stream.\n"
     ]
    }
   ],
   "source": [
    "# o'zimiz foydalanib yurgan print() funksiyasi haqida ma'lumot olamiz:\n",
    "print(print.__doc__)"
   ]
  },
  {
   "cell_type": "markdown",
   "metadata": {
    "id": "COyCl6c3rQmM"
   },
   "source": [
    "> Funksiya parametrlari ketma-ketligi, funksiya chaqirilib unga berilayotgan argumentlar ketma-ketligiga mos kelishi kerak. Agar moslik to'g'ri kelmasa bu xatolikni keltirib chiqaradi."
   ]
  },
  {
   "cell_type": "code",
   "execution_count": 18,
   "metadata": {
    "colab": {
     "base_uri": "https://localhost:8080/"
    },
    "executionInfo": {
     "elapsed": 14,
     "status": "ok",
     "timestamp": 1745295462088,
     "user": {
      "displayName": "Shahboz Shirinboyev",
      "userId": "14915638332114547209"
     },
     "user_tz": -300
    },
    "id": "S88mS10Bq946",
    "outputId": "7a2faed8-2b48-4f81-f401-d237f0562b37"
   },
   "outputs": [
    {
     "name": "stdout",
     "output_type": "stream",
     "text": [
      "Foydalanuvchi ismi: Shahboz\n",
      "Foydalanuvchi familiyasi: Shirinboyev\n",
      "\n",
      "Foydalanuvchi ismi: Shirinboyev\n",
      "Foydalanuvchi familiyasi: Shahboz\n"
     ]
    }
   ],
   "source": [
    "def ism_familiyani_chiqar(ism, familiya):\n",
    "  \"\"\"Foydalanuvchi ism familiyasini chiqaruvchi dastur\"\"\"\n",
    "  print(f\"Foydalanuvchi ismi: {ism.title()}\")\n",
    "  print(f\"Foydalanuvchi familiyasi: {familiya.title()}\")\n",
    "\n",
    "ism_familiyani_chiqar(\"shahboz\", \"shirinboyev\") # argument qiymatlari to'g'ri berilgan\n",
    "print(\"\")\n",
    "ism_familiyani_chiqar(\"shirinboyev\", \"shahboz\") # argument qiymatlari noto'g'ri berilgan"
   ]
  },
  {
   "cell_type": "code",
   "execution_count": 19,
   "metadata": {
    "id": "u4MfWQ_8umJL"
   },
   "outputs": [],
   "source": [
    "def yosh_hisobla(ism, t_yil):\n",
    "  \"\"\"Foydalanuvchi yoshini hisoblaydigan dastur\"\"\"\n",
    "  print(f\"{ism.title()} {2025-t_yil} yoshda.\")"
   ]
  },
  {
   "cell_type": "code",
   "execution_count": 20,
   "metadata": {
    "colab": {
     "base_uri": "https://localhost:8080/"
    },
    "executionInfo": {
     "elapsed": 4,
     "status": "ok",
     "timestamp": 1745295829584,
     "user": {
      "displayName": "Shahboz Shirinboyev",
      "userId": "14915638332114547209"
     },
     "user_tz": -300
    },
    "id": "r_jbqSMru-6G",
    "outputId": "4ba6e76e-6f81-41ef-dfd1-ab509f7bd82c"
   },
   "outputs": [
    {
     "name": "stdout",
     "output_type": "stream",
     "text": [
      "Olim 29 yoshda.\n"
     ]
    }
   ],
   "source": [
    "yosh_hisobla('olim', 1996)"
   ]
  },
  {
   "cell_type": "code",
   "execution_count": 21,
   "metadata": {
    "colab": {
     "base_uri": "https://localhost:8080/",
     "height": 228
    },
    "executionInfo": {
     "elapsed": 21,
     "status": "error",
     "timestamp": 1745295899531,
     "user": {
      "displayName": "Shahboz Shirinboyev",
      "userId": "14915638332114547209"
     },
     "user_tz": -300
    },
    "id": "Io3BChd4vQCU",
    "outputId": "3acf535f-2a86-462e-da0c-04fd0d61c5ae"
   },
   "outputs": [
    {
     "ename": "AttributeError",
     "evalue": "'int' object has no attribute 'title'",
     "output_type": "error",
     "traceback": [
      "\u001b[31m---------------------------------------------------------------------------\u001b[39m",
      "\u001b[31mAttributeError\u001b[39m                            Traceback (most recent call last)",
      "\u001b[36mCell\u001b[39m\u001b[36m \u001b[39m\u001b[32mIn[21]\u001b[39m\u001b[32m, line 1\u001b[39m\n\u001b[32m----> \u001b[39m\u001b[32m1\u001b[39m \u001b[43myosh_hisobla\u001b[49m\u001b[43m(\u001b[49m\u001b[32;43m1997\u001b[39;49m\u001b[43m,\u001b[49m\u001b[43m \u001b[49m\u001b[33;43m'\u001b[39;49m\u001b[33;43malisher\u001b[39;49m\u001b[33;43m'\u001b[39;49m\u001b[43m)\u001b[49m \u001b[38;5;66;03m#argumentlarni xato berish orqali xatolikga yo'l qo'yamiz.\u001b[39;00m\n",
      "\u001b[36mCell\u001b[39m\u001b[36m \u001b[39m\u001b[32mIn[19]\u001b[39m\u001b[32m, line 3\u001b[39m, in \u001b[36myosh_hisobla\u001b[39m\u001b[34m(ism, t_yil)\u001b[39m\n\u001b[32m      1\u001b[39m \u001b[38;5;28;01mdef\u001b[39;00m\u001b[38;5;250m \u001b[39m\u001b[34myosh_hisobla\u001b[39m(ism, t_yil):\n\u001b[32m      2\u001b[39m \u001b[38;5;250m  \u001b[39m\u001b[33;03m\"\"\"Foydalanuvchi yoshini hisoblaydigan dastur\"\"\"\u001b[39;00m\n\u001b[32m----> \u001b[39m\u001b[32m3\u001b[39m   \u001b[38;5;28mprint\u001b[39m(\u001b[33mf\u001b[39m\u001b[33m\"\u001b[39m\u001b[38;5;132;01m{\u001b[39;00m\u001b[43mism\u001b[49m\u001b[43m.\u001b[49m\u001b[43mtitle\u001b[49m()\u001b[38;5;132;01m}\u001b[39;00m\u001b[33m \u001b[39m\u001b[38;5;132;01m{\u001b[39;00m\u001b[32m2025\u001b[39m-t_yil\u001b[38;5;132;01m}\u001b[39;00m\u001b[33m yoshda.\u001b[39m\u001b[33m\"\u001b[39m)\n",
      "\u001b[31mAttributeError\u001b[39m: 'int' object has no attribute 'title'"
     ]
    }
   ],
   "source": [
    "yosh_hisobla(1997, 'alisher') #argumentlarni xato berish orqali xatolikga yo'l qo'yamiz."
   ]
  },
  {
   "cell_type": "markdown",
   "metadata": {
    "id": "7-VSrOAtvh-a"
   },
   "source": [
    "Bunday xatoliklardan qochish uchun agar argumentlar ketma-ketligini bilmasak unda biz funksiyani chaqirganda unga agument=\"value\" qilib berish kerak."
   ]
  },
  {
   "cell_type": "code",
   "execution_count": null,
   "metadata": {
    "colab": {
     "base_uri": "https://localhost:8080/"
    },
    "executionInfo": {
     "elapsed": 21,
     "status": "ok",
     "timestamp": 1745296586957,
     "user": {
      "displayName": "Shahboz Shirinboyev",
      "userId": "14915638332114547209"
     },
     "user_tz": -300
    },
    "id": "nAmR1HtmvghI",
    "outputId": "5b3c4669-07a3-4ee7-e94e-947ad9c88a3e"
   },
   "outputs": [
    {
     "name": "stdout",
     "output_type": "stream",
     "text": [
      "Alisher 28 yoshda.\n"
     ]
    }
   ],
   "source": [
    "# kalit so'z usuli ham deyiladi.\n",
    "yosh_hisobla(t_yil=1997, ism='alisher')"
   ]
  },
  {
   "cell_type": "code",
   "execution_count": null,
   "metadata": {
    "colab": {
     "base_uri": "https://localhost:8080/"
    },
    "executionInfo": {
     "elapsed": 10,
     "status": "ok",
     "timestamp": 1745297362626,
     "user": {
      "displayName": "Shahboz Shirinboyev",
      "userId": "14915638332114547209"
     },
     "user_tz": -300
    },
    "id": "z0k5OvSFzwVH",
    "outputId": "427ceb17-836c-41e5-d763-b598ac83a524"
   },
   "outputs": [
    {
     "name": "stdout",
     "output_type": "stream",
     "text": [
      "Siz 26 yoshdasiz.\n"
     ]
    }
   ],
   "source": [
    "                                                                                                                                  # Funksiya yaratishda standart qiymat berib ketish\n",
    "def yosh_hisobla(t_yil, j_yil=2025):\n",
    "  \"\"\"Foydalanuvchi tugulgan yilidan uning yoshini hisoblaydi\"\"\"\n",
    "  print(f\"Siz {j_yil-t_yil} yoshdasiz.\")\n",
    "\n",
    "yosh_hisobla(1999)"
   ]
  },
  {
   "cell_type": "markdown",
   "metadata": {
    "id": "4tnUnDHM14zi"
   },
   "source": [
    "**Amaliyot**"
   ]
  },
  {
   "cell_type": "code",
   "execution_count": null,
   "metadata": {
    "colab": {
     "base_uri": "https://localhost:8080/"
    },
    "executionInfo": {
     "elapsed": 52,
     "status": "ok",
     "timestamp": 1745298833988,
     "user": {
      "displayName": "Shahboz Shirinboyev",
      "userId": "14915638332114547209"
     },
     "user_tz": -300
    },
    "id": "HVuPw_wq17k6",
    "outputId": "a1ef1a7f-c02f-4b2a-92de-aa662e00aac7"
   },
   "outputs": [
    {
     "name": "stdout",
     "output_type": "stream",
     "text": [
      "Anvar 1999-yilda tug'ulgan.\n"
     ]
    }
   ],
   "source": [
    "def tugulgan_yil_hisobla(ism, yosh):\n",
    "  \"\"\"Foydalanuvchi yoshidan foydalanib tug'ulgan yilini aniqlovchi funksiya\"\"\"\n",
    "  print(f\"{ism.title()} {2025-yosh}-yilda tug'ulgan.\")\n",
    "\n",
    "tugulgan_yil_hisobla('anvar', 26)"
   ]
  },
  {
   "cell_type": "code",
   "execution_count": null,
   "metadata": {
    "colab": {
     "base_uri": "https://localhost:8080/"
    },
    "executionInfo": {
     "elapsed": 17,
     "status": "ok",
     "timestamp": 1745298964608,
     "user": {
      "displayName": "Shahboz Shirinboyev",
      "userId": "14915638332114547209"
     },
     "user_tz": -300
    },
    "id": "az2N60gl6eVU",
    "outputId": "6bcde90b-f8d8-416a-bf78-cfc690ada602"
   },
   "outputs": [
    {
     "name": "stdout",
     "output_type": "stream",
     "text": [
      "5'ning kvadrati = 25\n",
      "5'ning kubi = 125\n"
     ]
    }
   ],
   "source": [
    "def hisobla_kv_kub(son):\n",
    "  \"\"\"Sonning kvadrati va kubini hisoblovchi funksiya\"\"\"\n",
    "  print(f\"{son}'ning kvadrati = {son**2}\")\n",
    "  print(f\"{son}'ning kubi = {son**3}\")\n",
    "\n",
    "hisobla_kv_kub(5)"
   ]
  },
  {
   "cell_type": "code",
   "execution_count": null,
   "metadata": {
    "colab": {
     "base_uri": "https://localhost:8080/"
    },
    "executionInfo": {
     "elapsed": 20,
     "status": "ok",
     "timestamp": 1745299377600,
     "user": {
      "displayName": "Shahboz Shirinboyev",
      "userId": "14915638332114547209"
     },
     "user_tz": -300
    },
    "id": "PjrxlSx07UTD",
    "outputId": "aea6de47-4ff4-45c9-e205-fffd73924ca9"
   },
   "outputs": [
    {
     "name": "stdout",
     "output_type": "stream",
     "text": [
      "34 juft son.\n",
      "37 toq son.\n"
     ]
    }
   ],
   "source": [
    "def juft_toq_aniqla(son):\n",
    "  \"\"\"Sonning juft yoki toqligini aniqlaymiz\"\"\"\n",
    "  if son % 2 == 0:\n",
    "    print(f\"{son} juft son.\")\n",
    "  else:\n",
    "    print(f\"{son} toq son.\")\n",
    "\n",
    "juft_toq_aniqla(34)\n",
    "juft_toq_aniqla(37)"
   ]
  },
  {
   "cell_type": "code",
   "execution_count": null,
   "metadata": {
    "colab": {
     "base_uri": "https://localhost:8080/"
    },
    "executionInfo": {
     "elapsed": 6,
     "status": "ok",
     "timestamp": 1745299690640,
     "user": {
      "displayName": "Shahboz Shirinboyev",
      "userId": "14915638332114547209"
     },
     "user_tz": -300
    },
    "id": "Tjbyubx783ms",
    "outputId": "bd141310-bc97-40ef-ca03-ee57141fa7e6"
   },
   "outputs": [
    {
     "name": "stdout",
     "output_type": "stream",
     "text": [
      "67 eng kattasi.\n",
      "3 eng kattasi.\n",
      "Sonlar teng!\n"
     ]
    }
   ],
   "source": [
    "def taqqosla(son1, son2):\n",
    "  \"\"\"Sonlarni qaysi biri katta yoki tengligini aniqlovchi funksiya\"\"\"\n",
    "  if son1 > son2:\n",
    "    print(f\"{son1} eng kattasi.\")\n",
    "  elif son2 > son1:\n",
    "    print(f\"{son2} eng kattasi.\")\n",
    "  elif son1 == son2:\n",
    "    print(\"Sonlar teng!\")\n",
    "\n",
    "taqqosla(34, 67)\n",
    "taqqosla(3, 1)\n",
    "taqqosla(645, 645)"
   ]
  },
  {
   "cell_type": "code",
   "execution_count": null,
   "metadata": {
    "colab": {
     "base_uri": "https://localhost:8080/"
    },
    "executionInfo": {
     "elapsed": 3760,
     "status": "ok",
     "timestamp": 1745299956989,
     "user": {
      "displayName": "Shahboz Shirinboyev",
      "userId": "14915638332114547209"
     },
     "user_tz": -300
    },
    "id": "IQyC9_j3-RXd",
    "outputId": "09d5267a-82a1-47f3-e1a1-a155aa535b11"
   },
   "outputs": [
    {
     "name": "stdout",
     "output_type": "stream",
     "text": [
      "x = 3\n",
      "y = 4\n",
      "3.0^4.0 = 81.0\n"
     ]
    }
   ],
   "source": [
    "def darajaga_kotar(x, y):\n",
    "  \"\"\"Darajaga ko'raruvchi funksiya x^y\"\"\"\n",
    "  print(f\"{x}^{y} = {x**y}\")\n",
    "\n",
    "x = input(\"x = \")\n",
    "y = input(\"y = \")\n",
    "darajaga_kotar(float(x), float(y))"
   ]
  },
  {
   "cell_type": "code",
   "execution_count": null,
   "metadata": {
    "colab": {
     "base_uri": "https://localhost:8080/"
    },
    "executionInfo": {
     "elapsed": 2185,
     "status": "ok",
     "timestamp": 1745300054450,
     "user": {
      "displayName": "Shahboz Shirinboyev",
      "userId": "14915638332114547209"
     },
     "user_tz": -300
    },
    "id": "JUcN4Pqa_Ei6",
    "outputId": "c72a9b3b-a8cf-45e1-e78a-319aa49309f6"
   },
   "outputs": [
    {
     "name": "stdout",
     "output_type": "stream",
     "text": [
      "x = 4\n",
      "4.0^2 = 16.0\n"
     ]
    }
   ],
   "source": [
    "def darajaga_kotar2(x, y=2):\n",
    "  \"\"\"Darajaga ko'raruvchi funksiya x^y\"\"\"\n",
    "  print(f\"{x}^{y} = {x**y}\")\n",
    "\n",
    "x = input(\"x = \")\n",
    "darajaga_kotar2(float(x))"
   ]
  },
  {
   "cell_type": "code",
   "execution_count": null,
   "metadata": {
    "colab": {
     "base_uri": "https://localhost:8080/"
    },
    "executionInfo": {
     "elapsed": 18,
     "status": "ok",
     "timestamp": 1745380163513,
     "user": {
      "displayName": "Shahboz Shirinboyev",
      "userId": "14915638332114547209"
     },
     "user_tz": -300
    },
    "id": "fonZZu8NBDxs",
    "outputId": "4c7b4674-b6b9-423c-c030-dad77359b941"
   },
   "outputs": [
    {
     "name": "stdout",
     "output_type": "stream",
     "text": [
      "70'ga bo'linish alomatlari:\n",
      "70 2 ga qoldiqsiz bo'linadi\n",
      "70 5 ga qoldiqsiz bo'linadi\n",
      "70 7 ga qoldiqsiz bo'linadi\n",
      "70 10 ga qoldiqsiz bo'linadi\n"
     ]
    }
   ],
   "source": [
    "def tekshirish(son):\n",
    "  sonlar = list(range(2,11))\n",
    "  b_sonlar = []\n",
    "  for a in sonlar:\n",
    "    if son % a == 0:\n",
    "      b_sonlar.append(a)\n",
    "  print(f\"{son}'ga bo'linish alomatlari:\")\n",
    "  for b_son in b_sonlar:\n",
    "    print(f\"{son} {b_son} ga qoldiqsiz bo'linadi\")\n",
    "\n",
    "tekshirish(70)"
   ]
  },
  {
   "cell_type": "markdown",
   "metadata": {
    "id": "Q7B20jUmxO4w"
   },
   "source": [
    "# Funksiyadan qiymat qaytarish"
   ]
  },
  {
   "cell_type": "markdown",
   "metadata": {
    "id": "D5WWKUiiy9qx"
   },
   "source": [
    "Funksiya ichidagi o'zgaruvchilarni funksiya tashqarishida chaqirib ishlata olmaymiz, ammo ularni qiymatini funksiya chaqirilganda qaytaradigan qilishimiz mumkin:\n",
    "\n",
    "> return - kalit so'zi orqali funksiyadan qiymatlar qaytariladi."
   ]
  },
  {
   "cell_type": "code",
   "execution_count": null,
   "metadata": {
    "colab": {
     "base_uri": "https://localhost:8080/"
    },
    "executionInfo": {
     "elapsed": 17,
     "status": "ok",
     "timestamp": 1745381208875,
     "user": {
      "displayName": "Shahboz Shirinboyev",
      "userId": "14915638332114547209"
     },
     "user_tz": -300
    },
    "id": "eP5l-FfTxwhg",
    "outputId": "19119fcd-d324-474c-b650-a490ac50fedb"
   },
   "outputs": [
    {
     "name": "stdout",
     "output_type": "stream",
     "text": [
      "Umid Gafurov\n"
     ]
    }
   ],
   "source": [
    "def toliq_ism_yasa(ism, familiya):\n",
    "  \"\"\"To'liq ism qaytaruvchi funksiya\"\"\"\n",
    "  toliq_ism = f\"{ism.title()} {familiya.title()}\"\n",
    "  return toliq_ism\n",
    "\n",
    "talaba = toliq_ism_yasa('umid', 'gafurov')\n",
    "print(talaba)"
   ]
  },
  {
   "cell_type": "markdown",
   "metadata": {
    "id": "hFP-qSSn1s1L"
   },
   "source": [
    "> funksiya parametrlarini beriyotganda unga biron standart qiymat berish va uni funksiya ichida tekshirish orqali parametrni ixtiyoriy qilish mumkin."
   ]
  },
  {
   "cell_type": "code",
   "execution_count": null,
   "metadata": {
    "colab": {
     "base_uri": "https://localhost:8080/"
    },
    "executionInfo": {
     "elapsed": 56,
     "status": "ok",
     "timestamp": 1745381701163,
     "user": {
      "displayName": "Shahboz Shirinboyev",
      "userId": "14915638332114547209"
     },
     "user_tz": -300
    },
    "id": "ynOyZThW2I4-",
    "outputId": "23acda82-f44a-4d72-a4d4-ddf4cf718f3b"
   },
   "outputs": [
    {
     "name": "stdout",
     "output_type": "stream",
     "text": [
      "Umid Gafurov\n"
     ]
    }
   ],
   "source": [
    "def toliq_ism_yasa(ism, familiya, otasining_ismi=''):\n",
    "  \"\"\"To'liq ism qaytaruvchi funksiya\"\"\"\n",
    "  if otasining_ismi:\n",
    "    toliq_ism = f\"{ism.title()} {familiya.title()} {otasining_ismi.title()}\"\n",
    "  else:\n",
    "    toliq_ism = f\"{ism.title()} {familiya.title()}\"\n",
    "\n",
    "  return toliq_ism\n",
    "\n",
    "# bu yerda otasining_ismi argument ixtiyoriy\n",
    "\n",
    "talaba = toliq_ism_yasa('umid', 'gafurov')\n",
    "print(talaba)"
   ]
  },
  {
   "cell_type": "markdown",
   "metadata": {
    "id": "Z9Crftb320Rp"
   },
   "source": [
    "Funksiyada qaytayorgan `qiymat` har xil bo'lishi mumkin. Ro'yxat bo'lishi mumkin, lug'at bo'lishi mumkin, yoki son. Umuman olganda har xil narsa qaytarsa bo'ladi."
   ]
  },
  {
   "cell_type": "code",
   "execution_count": null,
   "metadata": {
    "colab": {
     "base_uri": "https://localhost:8080/"
    },
    "executionInfo": {
     "elapsed": 44,
     "status": "ok",
     "timestamp": 1745408780935,
     "user": {
      "displayName": "Shahboz Shirinboyev",
      "userId": "14915638332114547209"
     },
     "user_tz": -300
    },
    "id": "ne5JHTxO47ap",
    "outputId": "fd017191-64c4-44d6-8dbd-c15ddf7d3221"
   },
   "outputs": [
    {
     "name": "stdout",
     "output_type": "stream",
     "text": [
      "{'model': 'Lacetti', 'yil': 2024, 'korobka': 'automatic', 'rang': 'qora', 'narx': None}\n"
     ]
    }
   ],
   "source": [
    "# funksiyadan lug'at qaytarish\n",
    "def avto_info(model, yil, karobka, rang, narx=None):\n",
    "  avto = {\n",
    "      'model': model,\n",
    "      'yil': yil,\n",
    "      'korobka': karobka,\n",
    "      'rang': rang,\n",
    "      'narx': narx\n",
    "  }\n",
    "  return avto\n",
    "\n",
    "avto1 = avto_info(\"Lacetti\", 2024, 'automatic', 'qora')\n",
    "print(avto1)"
   ]
  },
  {
   "cell_type": "code",
   "execution_count": null,
   "metadata": {
    "colab": {
     "base_uri": "https://localhost:8080/"
    },
    "executionInfo": {
     "elapsed": 17,
     "status": "ok",
     "timestamp": 1745383212435,
     "user": {
      "displayName": "Shahboz Shirinboyev",
      "userId": "14915638332114547209"
     },
     "user_tz": -300
    },
    "id": "cGkOKr638EJK",
    "outputId": "68cb4fd9-01b7-4a85-e4af-502ad0c70e51"
   },
   "outputs": [
    {
     "name": "stdout",
     "output_type": "stream",
     "text": [
      "[0, 1, 2, 3, 4, 5, 6, 7, 8, 9]\n",
      "[23, 24, 25, 26, 27, 28, 29, 30, 31, 32, 33]\n"
     ]
    }
   ],
   "source": [
    "# funksiyadan ro'yxat qaytarish\n",
    "def oraliq(min, max):\n",
    "  sonlar = []\n",
    "  while min<max:\n",
    "    sonlar.append(min)\n",
    "    min += 1\n",
    "  return sonlar\n",
    "\n",
    "print(oraliq(0, 10))\n",
    "print(oraliq(23, 34))"
   ]
  },
  {
   "cell_type": "code",
   "execution_count": null,
   "metadata": {
    "colab": {
     "base_uri": "https://localhost:8080/"
    },
    "executionInfo": {
     "elapsed": 32,
     "status": "ok",
     "timestamp": 1745408733240,
     "user": {
      "displayName": "Shahboz Shirinboyev",
      "userId": "14915638332114547209"
     },
     "user_tz": -300
    },
    "id": "efFEul7W-48e",
    "outputId": "00e2a344-b7db-4ec9-a822-8c8d7d75642a"
   },
   "outputs": [
    {
     "name": "stdout",
     "output_type": "stream",
     "text": [
      "[0, 1, 2, 3, 4, 5, 6, 7, 8, 9]\n",
      "[0, 4, 8]\n",
      "[23, 25, 27, 29, 31, 33]\n"
     ]
    }
   ],
   "source": [
    "# funksiyadan ro'yxat qaytarish, oraliq bilan\n",
    "def oraliq(min, max, oraliq=1):\n",
    "  sonlar = []\n",
    "  while min<max:\n",
    "    sonlar.append(min)\n",
    "    min += oraliq\n",
    "  return sonlar\n",
    "\n",
    "print(oraliq(0, 10))\n",
    "print(oraliq(0, 10, 4))\n",
    "print(oraliq(23, 34, 2))"
   ]
  },
  {
   "cell_type": "code",
   "execution_count": null,
   "metadata": {
    "colab": {
     "base_uri": "https://localhost:8080/"
    },
    "executionInfo": {
     "elapsed": 124829,
     "status": "ok",
     "timestamp": 1745409981487,
     "user": {
      "displayName": "Shahboz Shirinboyev",
      "userId": "14915638332114547209"
     },
     "user_tz": -300
    },
    "id": "6z7Z_ey-d5wh",
    "outputId": "818d4d14-6a9d-4d8f-cf4c-82b4559c7291"
   },
   "outputs": [
    {
     "name": "stdout",
     "output_type": "stream",
     "text": [
      "Saytimizdagi avtolar ro'yxatini shakllantiramiz: \n",
      "\n",
      "Quyidagi ma'lumotlarni kiriting:\n",
      "Model: matiz\n",
      "Yili: 2012\n",
      "Rang: oq\n",
      "Karobka: mexanika\n",
      "Narxi: 3500\n",
      "Yana avto qo'shasizmi? (yes/no) yes\n",
      "\n",
      "Quyidagi ma'lumotlarni kiriting:\n",
      "Model: Nexia 2\n",
      "Yili: 2015\n",
      "Rang: qora\n",
      "Karobka: mexanika\n",
      "Narxi: 7500\n",
      "Yana avto qo'shasizmi? (yes/no) yes\n",
      "\n",
      "Quyidagi ma'lumotlarni kiriting:\n",
      "Model: onix\n",
      "Yili: 2022\n",
      "Rang: gray\n",
      "Karobka: avtomat\n",
      "Narxi: 12000\n",
      "Yana avto qo'shasizmi? (yes/no) cobalt\n",
      "\n",
      "Quyidagi ma'lumotlarni kiriting:\n",
      "Model: lacetti\n",
      "Yili: 2015\n",
      "Rang: sky\n",
      "Karobka: automat\n",
      "Narxi: 8000\n",
      "Yana avto qo'shasizmi? (yes/no) no\n",
      "Oq Matiz, mexanika korobka, narxi: $3500\n",
      "Qora Nexia 2, mexanika korobka, narxi: $7500\n",
      "Gray Onix, avtomat korobka, narxi: $12000\n",
      "Sky Lacetti, automat korobka, narxi: $8000\n"
     ]
    }
   ],
   "source": [
    "print(\"Saytimizdagi avtolar ro'yxatini shakllantiramiz: \")\n",
    "# funksiyadan lug'at qaytarish\n",
    "def avto_info(model, yil, karobka, rang, narx=None):\n",
    "  avto = {\n",
    "      'model': model,\n",
    "      'yil': yil,\n",
    "      'korobka': karobka,\n",
    "      'rang': rang,\n",
    "      'narx': int(narx)\n",
    "  }\n",
    "  return avto\n",
    "\n",
    "avtolar = []\n",
    "\n",
    "while True:\n",
    "  print(\"\\nQuyidagi ma'lumotlarni kiriting:\")\n",
    "  model = input(\"Model: \")\n",
    "  yil = input(\"Yili: \")\n",
    "  rang = input(\"Rang: \")\n",
    "  karobka = input(\"Karobka: \")\n",
    "  narx = input(\"Narxi: \")\n",
    "  avtolar.append(avto_info(model, yil, karobka, rang, narx))\n",
    "  javob = input(\"Yana avto qo'shasizmi? (yes/no) \")\n",
    "  if javob == 'no':\n",
    "    break\n",
    "\n",
    "for avto in avtolar:\n",
    "  print(f\"{avto['rang'].title()} {avto['model'].title()}, {avto['korobka']} korobka, narxi: ${avto['narx']}\")"
   ]
  },
  {
   "cell_type": "code",
   "execution_count": null,
   "metadata": {
    "colab": {
     "base_uri": "https://localhost:8080/"
    },
    "executionInfo": {
     "elapsed": 7,
     "status": "ok",
     "timestamp": 1745411028812,
     "user": {
      "displayName": "Shahboz Shirinboyev",
      "userId": "14915638332114547209"
     },
     "user_tz": -300
    },
    "id": "q4aQeaCUkqju",
    "outputId": "7828b814-82d6-40e0-da27-c4beb38a9e84"
   },
   "outputs": [
    {
     "name": "stdout",
     "output_type": "stream",
     "text": [
      "[{'ism': 'shahboz', 'familiya': 'shirinboyev', 'yosh': 26, 't_yil': 1999, 't_joy': 'navoiy vil.', 'email': 'shahboz.sh.b@gmail.com', 'tel_raqam': ''}, {'ism': 'umid', 'familiya': 'murodov', 'yosh': 25, 't_yil': 2000, 't_joy': 'samarqand vil.', 'email': 'umidmurod@gmail.com', 'tel_raqam': '+998930016454'}]\n"
     ]
    }
   ],
   "source": [
    "def person_info(ism, familiya, t_yil, t_joy, email='', tel_raqam=''):\n",
    "  person = {\n",
    "      'ism': ism,\n",
    "      'familiya': familiya,\n",
    "      'yosh': 2025-t_yil,\n",
    "      't_yil': t_yil,\n",
    "      't_joy': t_joy,\n",
    "      'email': email,\n",
    "      'tel_raqam': tel_raqam\n",
    "  }\n",
    "  return person\n",
    "\n",
    "person1 = person_info('shahboz', 'shirinboyev', 1999, 'navoiy vil.', 'shahboz.sh.b@gmail.com')\n",
    "person2 = person_info('umid', 'murodov', 2000, 'samarqand vil.', 'umidmurod@gmail.com', '+998930016454')\n",
    "\n",
    "persons = [person1, person2]\n",
    "\n",
    "print(persons)"
   ]
  },
  {
   "cell_type": "code",
   "execution_count": null,
   "metadata": {
    "colab": {
     "base_uri": "https://localhost:8080/"
    },
    "executionInfo": {
     "elapsed": 8,
     "status": "ok",
     "timestamp": 1745411665746,
     "user": {
      "displayName": "Shahboz Shirinboyev",
      "userId": "14915638332114547209"
     },
     "user_tz": -300
    },
    "id": "3ZJxBphanjoO",
    "outputId": "4ad36ebc-d265-4c1f-e5c3-f28e8ec168c3"
   },
   "outputs": [
    {
     "name": "stdout",
     "output_type": "stream",
     "text": [
      "Eng katta son: 675\n"
     ]
    }
   ],
   "source": [
    "def max(x, y, z):\n",
    "  if x > y and x > z:\n",
    "    print(f\"Eng katta son: {z}\")\n",
    "  elif y > x and y > z:\n",
    "    print(f\"Eng katta son: {y}\")\n",
    "  elif z > x and z > x:\n",
    "    print(f\"Eng katta son: {x}\")\n",
    "\n",
    "max(34, 675, 43)"
   ]
  },
  {
   "cell_type": "code",
   "execution_count": null,
   "metadata": {
    "colab": {
     "base_uri": "https://localhost:8080/"
    },
    "executionInfo": {
     "elapsed": 8,
     "status": "ok",
     "timestamp": 1745427979257,
     "user": {
      "displayName": "Shahboz Shirinboyev",
      "userId": "14915638332114547209"
     },
     "user_tz": -300
    },
    "id": "5nR2SIgwpbsQ",
    "outputId": "d5e126b3-ded5-4334-afc2-f166457c832c"
   },
   "outputs": [
    {
     "name": "stdout",
     "output_type": "stream",
     "text": [
      "[3, 5, 7, 11, 13, 17, 19, 23, 29, 31, 37, 41, 43, 47, 53, 59, 61, 67, 71, 73, 79, 83, 89, 97]\n"
     ]
    }
   ],
   "source": [
    "def prime_nums(x, y):\n",
    "  \"\"\"Berilgan oraliqdagi tub sonlar ketma-ketligini aniqlaydi\"\"\"\n",
    "  sonlar = []\n",
    "  for n in range(x, y+1):\n",
    "    tub = True\n",
    "    if n == 1:\n",
    "      tub = False\n",
    "    elif n == 2:\n",
    "      tub = True\n",
    "    else:\n",
    "      for x in range(2, n):\n",
    "        if n % x == 0:\n",
    "          tub = False\n",
    "    if tub:\n",
    "      sonlar.append(n)\n",
    "    x += 1\n",
    "  return sonlar\n",
    "\n",
    "oraliq = prime_nums(3, 100)\n",
    "print(oraliq)"
   ]
  },
  {
   "cell_type": "code",
   "execution_count": null,
   "metadata": {
    "colab": {
     "base_uri": "https://localhost:8080/"
    },
    "executionInfo": {
     "elapsed": 525,
     "status": "ok",
     "timestamp": 1745428747163,
     "user": {
      "displayName": "Shahboz Shirinboyev",
      "userId": "14915638332114547209"
     },
     "user_tz": -300
    },
    "id": "gez3H5-3nX_i",
    "outputId": "1d4d5dbc-cc76-4d28-bcb1-c29d64c04ca3"
   },
   "outputs": [
    {
     "name": "stdout",
     "output_type": "stream",
     "text": [
      "[1, 1, 2, 3, 5, 8, 13, 21, 34, 55, 89, 144]\n"
     ]
    }
   ],
   "source": [
    "def fibonacci(n):\n",
    "  \"\"\"Berilgan miqdorcha fibonachi sonlar ketma-ketligini aniqlash\"\"\"\n",
    "  # 1, 1, 2, 3, 5, 8, 13, 21, 34, 55,...\n",
    "  sonlar = []\n",
    "  for x in range(n):\n",
    "    if x == 0 or x == 1:\n",
    "      sonlar.append(1)\n",
    "    else:\n",
    "      sonlar.append(sonlar[x-1]+sonlar[x-2])\n",
    "  return sonlar\n",
    "\n",
    "sonlar = fibonacci(12)\n",
    "print(sonlar)"
   ]
  },
  {
   "cell_type": "markdown",
   "metadata": {
    "id": "yrm3Vh7FrBXk"
   },
   "source": [
    "# Funksiyaga ro'yxat uzatish"
   ]
  },
  {
   "cell_type": "markdown",
   "metadata": {
    "id": "532EmMEWrLIS"
   },
   "source": [
    "`Funksiyaga parametr sifatida ro'yxat uzatish qanday bo'lishini ko'rib chiqamiz:`"
   ]
  },
  {
   "cell_type": "code",
   "execution_count": null,
   "metadata": {
    "colab": {
     "base_uri": "https://localhost:8080/"
    },
    "executionInfo": {
     "elapsed": 12760,
     "status": "ok",
     "timestamp": 1745429514595,
     "user": {
      "displayName": "Shahboz Shirinboyev",
      "userId": "14915638332114547209"
     },
     "user_tz": -300
    },
    "id": "fDOssgnLrYHc",
    "outputId": "fc18d912-0b86-46ff-e942-7d89dea11308"
   },
   "outputs": [
    {
     "name": "stdout",
     "output_type": "stream",
     "text": [
      "Umida'ning bahosi: 5\n",
      "Ilnur'ning bahosi: 4\n",
      "Zokir'ning bahosi: 3\n",
      "Alisher'ning bahosi: 4\n",
      "{'umida': 5, 'ilnur': 4, 'zokir': 3, 'alisher': 4}\n"
     ]
    }
   ],
   "source": [
    "def bahola(ismlar):\n",
    "  baholar = {}\n",
    "  while ismlar:\n",
    "    ism = ismlar.pop()\n",
    "    baho = int(input(f\"{ism.title()}'ning bahosi: \"))\n",
    "    baholar[ism] = baho\n",
    "  return baholar\n",
    "talabalar = ['alisher', 'zokir', 'ilnur', 'umida']\n",
    "baho_test = bahola(talabalar[:])\n",
    "print(baho_test)"
   ]
  },
  {
   "cell_type": "markdown",
   "metadata": {
    "id": "yjB5oYpNu35c"
   },
   "source": [
    "Funksiyaga ro'yxatni berishda uni o'zini emas undan nusxa olib uzatish mumkin: `bahola(talabalar[:])` shu ko'rinishda."
   ]
  },
  {
   "cell_type": "markdown",
   "metadata": {
    "id": "vidP1bCOxTaw"
   },
   "source": [
    "Ro'yxatlar bilan ishlashda o'zi ehtiyot bo'lish kerak, biron o'zgaruvchiga biron ro'yxatni tenglash orqali unda nusxa olinmaydi, shunchaki bitta ro'yxatga ikkita nom berilgan bo'ladi. Odatda adashmaslik uchun ulardan nusxa olib ishlash kerak.\n",
    "\n",
    "`talabalar = ['alisher', 'zokir', 'ilnur', 'umida']`\n",
    "\n",
    "`talabalar2 = talabalar` - bu holat nusxa olish emas.\n",
    "\n",
    "`talabalar2 = talabalar[:]` - bu holat to'g'ri va shunday ishlatish kerak. Nusxa ko'chirish shunday deyiladi."
   ]
  },
  {
   "cell_type": "code",
   "execution_count": null,
   "metadata": {
    "colab": {
     "base_uri": "https://localhost:8080/"
    },
    "executionInfo": {
     "elapsed": 13,
     "status": "ok",
     "timestamp": 1745469992092,
     "user": {
      "displayName": "Shahboz Shirinboyev",
      "userId": "14915638332114547209"
     },
     "user_tz": -300
    },
    "id": "1AVvL0mNseQB",
    "outputId": "6d0efd92-90d3-4b2d-b012-b00f541a517f"
   },
   "outputs": [
    {
     "name": "stdout",
     "output_type": "stream",
     "text": [
      "['Ali', 'Vali', 'Hasan', 'Husan']\n"
     ]
    }
   ],
   "source": [
    "def katta_harf(royxat):\n",
    "  for n in range(len(royxat)):\n",
    "    royxat[n] = royxat[n].capitalize()\n",
    "\n",
    "ismlar = ['ali', 'vali', 'hasan', 'husan']\n",
    "katta_harf(ismlar)\n",
    "print(ismlar)"
   ]
  },
  {
   "cell_type": "markdown",
   "metadata": {
    "id": "3PwvEC0ZH1DJ"
   },
   "source": [
    "`len(royxat)` - bu funksiya ro'yxat uzunligini aniqlaydi.\n",
    "\n",
    "\n",
    "`ismlar = ['ali', 'vali', 'hasan', 'husan']`\n",
    "\n",
    "`print(len(ismlar))`\n",
    "\n",
    "Natija: `4`"
   ]
  },
  {
   "cell_type": "code",
   "execution_count": null,
   "metadata": {
    "colab": {
     "base_uri": "https://localhost:8080/"
    },
    "executionInfo": {
     "elapsed": 42,
     "status": "ok",
     "timestamp": 1745470449853,
     "user": {
      "displayName": "Shahboz Shirinboyev",
      "userId": "14915638332114547209"
     },
     "user_tz": -300
    },
    "id": "AjXU5exXIM_t",
    "outputId": "0196e973-4936-4201-bab2-c16cd3ac24d3"
   },
   "outputs": [
    {
     "name": "stdout",
     "output_type": "stream",
     "text": [
      "['ali', 'vali', 'hasan', 'husan']\n",
      "['Ali', 'Vali', 'Hasan', 'Husan']\n"
     ]
    }
   ],
   "source": [
    "def katta_harf(royxat):\n",
    "  new_royxat = royxat[:]\n",
    "  for n in range(len(new_royxat)):\n",
    "    new_royxat[n] = new_royxat[n].capitalize()\n",
    "  return new_royxat\n",
    "\n",
    "ismlar = ['ali', 'vali', 'hasan', 'husan']\n",
    "yangi_ismlar = katta_harf(ismlar)\n",
    "print(ismlar)\n",
    "print(yangi_ismlar)"
   ]
  },
  {
   "cell_type": "code",
   "execution_count": null,
   "metadata": {
    "colab": {
     "base_uri": "https://localhost:8080/"
    },
    "executionInfo": {
     "elapsed": 9204,
     "status": "ok",
     "timestamp": 1745471453278,
     "user": {
      "displayName": "Shahboz Shirinboyev",
      "userId": "14915638332114547209"
     },
     "user_tz": -300
    },
    "id": "tit1mlT3KUiq",
    "outputId": "353744f1-6745-4d8c-adb5-4b8c478a7cd2"
   },
   "outputs": [
    {
     "name": "stdout",
     "output_type": "stream",
     "text": [
      "Alisher'ning bahosi: 5\n",
      "Zokir'ning bahosi: 3\n",
      "Ilnur'ning bahosi: 4\n",
      "Umida'ning bahosi: 5\n",
      "['alisher', 'zokir', 'ilnur', 'umida']\n",
      "{'alisher': 5, 'zokir': 3, 'ilnur': 4, 'umida': 5}\n"
     ]
    }
   ],
   "source": [
    "def bahola(ismlar):\n",
    "  baholar = {}\n",
    "  for i in range(len(ismlar)):\n",
    "    baho = int(input(f\"{ismlar[i].title()}'ning bahosi: \"))\n",
    "    baholar[ismlar[i]] = baho\n",
    "  return baholar\n",
    "\n",
    "talabalar = ['alisher', 'zokir', 'ilnur', 'umida']\n",
    "baho_test = bahola(talabalar)\n",
    "print(talabalar)\n",
    "print(baho_test)"
   ]
  },
  {
   "cell_type": "markdown",
   "metadata": {
    "id": "Wt_0v5esTDCb"
   },
   "source": [
    "# Moslashuvchan funksiyalar"
   ]
  },
  {
   "cell_type": "markdown",
   "metadata": {
    "id": "V2jQasTPH523"
   },
   "source": [
    "`*args` - usuli pythonda funksiyani istalgancha qiymat qabul qilishini aniqlab beradi, funksiyaga alohida argumentlar bersak uni ro'yxat sifatida qabul qiladi."
   ]
  },
  {
   "cell_type": "code",
   "execution_count": null,
   "metadata": {
    "colab": {
     "base_uri": "https://localhost:8080/"
    },
    "executionInfo": {
     "elapsed": 8,
     "status": "ok",
     "timestamp": 1745554259368,
     "user": {
      "displayName": "Shahboz Shirinboyev",
      "userId": "14915638332114547209"
     },
     "user_tz": -300
    },
    "id": "7uXc-4SUGIrD",
    "outputId": "eb456ab7-eb49-4661-ce48-1f016be0b5de"
   },
   "outputs": [
    {
     "name": "stdout",
     "output_type": "stream",
     "text": [
      "0\n",
      "6\n",
      "113\n"
     ]
    }
   ],
   "source": [
    "def summa(*sonlar):\n",
    "  \"\"\"Kiritilgan sonlar yig'indisini hisoblovchi funksiya\"\"\"\n",
    "  yigindi = 0\n",
    "  for son in sonlar:\n",
    "    yigindi += son\n",
    "  return yigindi\n",
    "\n",
    "print(summa())\n",
    "print(summa(1, 2, 3))\n",
    "print(summa(67, 34, 12))"
   ]
  },
  {
   "cell_type": "markdown",
   "metadata": {
    "id": "_L944hE7In5s"
   },
   "source": [
    "Qabul qilingan argumentlar, ro'yxat sifatida shakllansihi bilan birga, ro'yxat turi `o'zgarmas ro'yxat` `(tuple)` bo'ladi."
   ]
  },
  {
   "cell_type": "code",
   "execution_count": null,
   "metadata": {
    "colab": {
     "base_uri": "https://localhost:8080/"
    },
    "executionInfo": {
     "elapsed": 14,
     "status": "ok",
     "timestamp": 1745554391178,
     "user": {
      "displayName": "Shahboz Shirinboyev",
      "userId": "14915638332114547209"
     },
     "user_tz": -300
    },
    "id": "ykRnpqXsImxC",
    "outputId": "104cec53-728e-4add-8cb7-1c644fc9ed50"
   },
   "outputs": [
    {
     "name": "stdout",
     "output_type": "stream",
     "text": [
      "0\n",
      "6\n",
      "113\n"
     ]
    }
   ],
   "source": [
    "# sum() - funksiyasi berilgan sonlar yig'indisini hisoblab natijani qaytaradi.\n",
    "def summa(*sonlar):\n",
    "  return sum(sonlar)\n",
    "\n",
    "print(summa())\n",
    "print(summa(1, 2, 3))\n",
    "print(summa(67, 34, 12))"
   ]
  },
  {
   "cell_type": "markdown",
   "metadata": {
    "id": "P5xfYrXAJ5-E"
   },
   "source": [
    "Agar funksiyaga parametrlar berilayotgan bo'lsa va ular orasida ixtiyoriy, majburiy va istalgancha kiritish mumkin bo'lgan parametrlarni belgilasak ularni yozish ketma ketligi quyidagicha bo'ladi:\n",
    "1. majburiy\n",
    "2. ixtiyoriy yoki istalgancha kiritish mumkin bo'lgan sonlar"
   ]
  },
  {
   "cell_type": "code",
   "execution_count": null,
   "metadata": {
    "colab": {
     "base_uri": "https://localhost:8080/"
    },
    "executionInfo": {
     "elapsed": 47,
     "status": "ok",
     "timestamp": 1745554829120,
     "user": {
      "displayName": "Shahboz Shirinboyev",
      "userId": "14915638332114547209"
     },
     "user_tz": -300
    },
    "id": "WLGkYDbRKskW",
    "outputId": "826d73f6-7712-48e8-8e13-cb1f0d8a780e"
   },
   "outputs": [
    {
     "name": "stdout",
     "output_type": "stream",
     "text": [
      "7\n",
      "115\n"
     ]
    }
   ],
   "source": [
    "def summa(x, y, *sonlar):\n",
    "  return x + y + sum(sonlar)\n",
    "\n",
    "print(summa(3, 4))\n",
    "print(summa(4, 5, 8, 98))"
   ]
  },
  {
   "cell_type": "code",
   "execution_count": null,
   "metadata": {
    "colab": {
     "base_uri": "https://localhost:8080/",
     "height": 159
    },
    "executionInfo": {
     "elapsed": 12,
     "status": "error",
     "timestamp": 1745555269970,
     "user": {
      "displayName": "Shahboz Shirinboyev",
      "userId": "14915638332114547209"
     },
     "user_tz": -300
    },
    "id": "4HGrsKbQMpe_",
    "outputId": "2d8d1c27-f58b-4fa8-f207-67b314444828"
   },
   "outputs": [
    {
     "ename": "TypeError",
     "evalue": "summa() missing 1 required positional argument: 'y'",
     "output_type": "error",
     "traceback": [
      "\u001b[0;31m---------------------------------------------------------------------------\u001b[0m",
      "\u001b[0;31mTypeError\u001b[0m                                 Traceback (most recent call last)",
      "\u001b[0;32m<ipython-input-13-73e6a0e8426a>\u001b[0m in \u001b[0;36m<cell line: 0>\u001b[0;34m()\u001b[0m\n\u001b[1;32m      1\u001b[0m \u001b[0;31m# Agar funksiyani bitta qiymat bilan chaqiradigan bo'lsak, funksiya albatta xatolik beradi!\u001b[0m\u001b[0;34m\u001b[0m\u001b[0;34m\u001b[0m\u001b[0m\n\u001b[0;32m----> 2\u001b[0;31m \u001b[0mprint\u001b[0m\u001b[0;34m(\u001b[0m\u001b[0msumma\u001b[0m\u001b[0;34m(\u001b[0m\u001b[0;36m2\u001b[0m\u001b[0;34m)\u001b[0m\u001b[0;34m)\u001b[0m\u001b[0;34m\u001b[0m\u001b[0;34m\u001b[0m\u001b[0m\n\u001b[0m",
      "\u001b[0;31mTypeError\u001b[0m: summa() missing 1 required positional argument: 'y'"
     ]
    }
   ],
   "source": [
    "# Agar funksiyani bitta qiymat bilan chaqiradigan bo'lsak, funksiya albatta xatolik beradi!\n",
    "print(summa(2))"
   ]
  },
  {
   "cell_type": "markdown",
   "metadata": {
    "id": "siwVtUN2NRYJ"
   },
   "source": [
    "`**kwargs` - keywords arguments ya'ni kalit so'zli argumentlar. Bu ko'rinishdagi parametrlarni funksiyaga yozganda unda argument beriyotgan bo'lsak kalit so'z va qiymat ko'rinishida uzatishimiz kerak."
   ]
  },
  {
   "cell_type": "code",
   "execution_count": null,
   "metadata": {
    "colab": {
     "base_uri": "https://localhost:8080/"
    },
    "executionInfo": {
     "elapsed": 8,
     "status": "ok",
     "timestamp": 1745555870207,
     "user": {
      "displayName": "Shahboz Shirinboyev",
      "userId": "14915638332114547209"
     },
     "user_tz": -300
    },
    "id": "WaWUnZZpOBTQ",
    "outputId": "ef3b5936-c26a-40e6-b8a8-d3e36847cad6"
   },
   "outputs": [
    {
     "name": "stdout",
     "output_type": "stream",
     "text": [
      "{'rang': 'qora', 'narx': 14000, 'model': 'Onix', 'yil': 2023}\n"
     ]
    }
   ],
   "source": [
    "def avto_info(model, yil, **infos):\n",
    "  \"\"\"Avto haqidagi ma'lumotlar\"\"\"\n",
    "  infos['model'] = model\n",
    "  infos['yil'] = yil\n",
    "  return infos\n",
    "\n",
    "avto1 = avto_info(\"Onix\", 2023, rang='qora', narx=14000)\n",
    "print(avto1)"
   ]
  },
  {
   "cell_type": "markdown",
   "metadata": {
    "id": "sw4t8jClPT7f"
   },
   "source": [
    "Demak yuqoridagi funksiyada `rang='qora'` `narx=14000`'lar `**infos` tarkibiga kiruvchi argumentlar va ularni yana istalgancha davom ettirish mumkin."
   ]
  },
  {
   "cell_type": "code",
   "execution_count": null,
   "metadata": {
    "colab": {
     "base_uri": "https://localhost:8080/"
    },
    "executionInfo": {
     "elapsed": 17,
     "status": "ok",
     "timestamp": 1745556114164,
     "user": {
      "displayName": "Shahboz Shirinboyev",
      "userId": "14915638332114547209"
     },
     "user_tz": -300
    },
    "id": "5WChgs2fPpHX",
    "outputId": "888061e8-2ae7-483b-ae4e-b4cdb6a5a327"
   },
   "outputs": [
    {
     "name": "stdout",
     "output_type": "stream",
     "text": [
      "{'rangi': 'qora', 'karobka': 'avtomat', 'probeg': 6000, 'narx': 16000, 'model': 'Tracker 2', 'yil': 2025}\n"
     ]
    }
   ],
   "source": [
    "avto2 = avto_info(\"Tracker 2\", 2025, rangi='qora', karobka='avtomat', probeg=6000, narx=16000)\n",
    "print(avto2)"
   ]
  },
  {
   "cell_type": "markdown",
   "metadata": {
    "id": "ZIpzTmk7QNN_"
   },
   "source": [
    "Yoki umuman kiritmaslik ham mumkin:"
   ]
  },
  {
   "cell_type": "code",
   "execution_count": null,
   "metadata": {
    "colab": {
     "base_uri": "https://localhost:8080/"
    },
    "executionInfo": {
     "elapsed": 8,
     "status": "ok",
     "timestamp": 1745556178632,
     "user": {
      "displayName": "Shahboz Shirinboyev",
      "userId": "14915638332114547209"
     },
     "user_tz": -300
    },
    "id": "I044xes2QRZv",
    "outputId": "2dd865c5-1dfc-473f-8b35-0defa61eab63"
   },
   "outputs": [
    {
     "name": "stdout",
     "output_type": "stream",
     "text": [
      "{'model': 'Nexia 3', 'yil': 2019}\n"
     ]
    }
   ],
   "source": [
    "avto3 = avto_info(\"Nexia 3\", 2019)\n",
    "print(avto3)"
   ]
  },
  {
   "cell_type": "markdown",
   "metadata": {
    "id": "YDy_cAdnQuBz"
   },
   "source": [
    "Bunday parametrga ega funksiyalar avvalo berilgan nom bilan lug'at yaratib oladi va unga birinchi bo'lib berilgan ixtiyori qiymatlarni kalit so'zi bilan berilgan ketma ketlikda yozadi va oxirida berilgan majburiy qiymatlarni qo'shadi va shakillangan lug'atni qaytaradi."
   ]
  },
  {
   "cell_type": "markdown",
   "metadata": {
    "id": "COIQJqb7SaOO"
   },
   "source": [
    "**Amaliyot**"
   ]
  },
  {
   "cell_type": "code",
   "execution_count": null,
   "metadata": {
    "colab": {
     "base_uri": "https://localhost:8080/"
    },
    "executionInfo": {
     "elapsed": 14,
     "status": "ok",
     "timestamp": 1745556995498,
     "user": {
      "displayName": "Shahboz Shirinboyev",
      "userId": "14915638332114547209"
     },
     "user_tz": -300
    },
    "id": "ga75QcDESZrD",
    "outputId": "db28f440-384e-47c4-f2e6-e01b44ac04b8"
   },
   "outputs": [
    {
     "name": "stdout",
     "output_type": "stream",
     "text": [
      "120\n"
     ]
    }
   ],
   "source": [
    "def increased(*values):\n",
    "  product = 1\n",
    "  for value in values:\n",
    "    product *= value\n",
    "  return product\n",
    "\n",
    "print(increased(2, 3, 4, 5))"
   ]
  },
  {
   "cell_type": "code",
   "execution_count": null,
   "metadata": {
    "colab": {
     "base_uri": "https://localhost:8080/"
    },
    "executionInfo": {
     "elapsed": 8,
     "status": "ok",
     "timestamp": 1745557168897,
     "user": {
      "displayName": "Shahboz Shirinboyev",
      "userId": "14915638332114547209"
     },
     "user_tz": -300
    },
    "id": "bEFKl7BNRJ39",
    "outputId": "be84a374-0b42-4ae9-e9bf-2d96f727ac80"
   },
   "outputs": [
    {
     "name": "stdout",
     "output_type": "stream",
     "text": [
      "{'old': 25, 'city': 'tashkent', 'first_name': 'Shahboz', 'last_name': 'Shirinboyev'}\n"
     ]
    }
   ],
   "source": [
    "def students_info(first_name, last_name, **infos):\n",
    "  infos['first_name'] = first_name\n",
    "  infos['last_name'] = last_name\n",
    "  return infos\n",
    "\n",
    "student1 = students_info('Shahboz', 'Shirinboyev', old=25, city=\"tashkent\")\n",
    "print(student1)"
   ]
  },
  {
   "cell_type": "markdown",
   "metadata": {
    "id": "VDpEc6UaURn1"
   },
   "source": [
    "# Modullar"
   ]
  },
  {
   "cell_type": "markdown",
   "metadata": {
    "id": "cWufvio2UpNN"
   },
   "source": [
    "`Modul` - bu alohida fayl bo'lib ular ichida yaratgan funksiyalarimizni saqlashimiz mumkin va bu umumiy dasturni ixchamlashtirishda yordam beradi."
   ]
  },
  {
   "cell_type": "markdown",
   "metadata": {
    "id": "bkLlctbcVQLG"
   },
   "source": [
    "> Katta dasturlar bir nechta modullardan tashkil topishi mumkin va bu keyinchalik dasturimizda taxrirlash yoki boshqa maqsadlar uchun ochganimizda o'qilishi juda oson bo'ladi va qiyinchiliklarsiz o'zgartira olamiz."
   ]
  },
  {
   "cell_type": "markdown",
   "metadata": {},
   "source": [
    "> Biron modul yaratilgandan keyin modul va asosiy dastur main.py bitta papkada joylashgan bo'lsa asosiy dastur fayliga modulni chaqirib olish quyidagicha bo'ladi:"
   ]
  },
  {
   "cell_type": "markdown",
   "metadata": {},
   "source": [
    "avto_info_mod.py  va main.py dasturlari bitta papka ichida.\n",
    "\n",
    "1. `import avto_info_mod`"
   ]
  },
  {
   "cell_type": "markdown",
   "metadata": {},
   "source": [
    "> Modul ichidagi funksiyaga murojaat qilish, yoxud modul ichidagi funksiyaga qiymat berish:"
   ]
  },
  {
   "cell_type": "markdown",
   "metadata": {},
   "source": [
    "`avto1 = avto_info_mod.avto_info('GM', 'Onix', 'Qora', 'avtomat', 2022, 28000)`\n",
    "\n",
    "bunda `avto_info_mod` moduli ichidagi `avto_info` funksiyasiga qiymat uzatib undan qaytgan qiymatni `avto1` o'zgaruvchiga saqlayabdi."
   ]
  },
  {
   "cell_type": "markdown",
   "metadata": {},
   "source": [
    "Agar modulga qisqa nom bilan murojaat qilishni xoxlasangiz unda modulni chaqirishda quyidagicha yo'l tutishingiz kerak:\n",
    "\n",
    "2. `import avto_info_mod as aim`"
   ]
  },
  {
   "cell_type": "markdown",
   "metadata": {},
   "source": [
    "> Endi quyidagicha bo'ladi modulni ichiadagi funksiyani chaqirib unga qiymat berish:\n",
    "\n",
    "`avto1 = aim.avto_info('GM', 'Onix', 'Qora', 'avtomat', 2022, 28000)`"
   ]
  },
  {
   "cell_type": "markdown",
   "metadata": {},
   "source": [
    "> Agar sizga modulni ichidagi eng funksiyalarni eng qisqa yo'l bilan chaqirib foydalanishni xoxlasangiz unda quyidagicha ham ularni import qilish mumkin:\n",
    "\n",
    "3. `from avto_info_mod import avto_info, info_print`\n",
    "\n",
    "bu import qilish usuli orqali biz keyinchalik funksiyada modulni nomidan foydalanishimiz kerak emas, shunchaki funksiyani nomi bilan chaqirishni o'zi yetarli."
   ]
  },
  {
   "cell_type": "markdown",
   "metadata": {},
   "source": [
    "Funksiyani chaqirish quyidagicha bo'ladi:\n",
    "\n",
    "`avto1 = avto_info('GM', 'Onix', 'Qora', 'avtomat', 2022, 28000)`"
   ]
  },
  {
   "cell_type": "markdown",
   "metadata": {},
   "source": [
    "Yuqori darajadagi qulaylik yoki dangasalik uchun modul ichiadgi funksiyani import qilayotganda nomini o'zgartirib chaqirish imkoni bor:\n",
    "\n",
    "4. `from` avto_info_mod `import` avto_info `as` ainfo, info_print `as` iprint"
   ]
  },
  {
   "cell_type": "markdown",
   "metadata": {},
   "source": [
    "Endi asosiy fayl ichida funksiyalarga qisqa nom bilan murojaat qilish mumkin:\n",
    "\n",
    "`avto1 = ainfo('GM', 'Onix', 'Qora', 'avtomat', 2022, 28000)`\n",
    "\n",
    "`iprint(avto1)`"
   ]
  },
  {
   "cell_type": "markdown",
   "metadata": {},
   "source": [
    "Biron modulni import qilsak va ichida funksiylar juda ko'p bo'lsa unda biz ichiadgi barcha funksiyalarni nomini yozmasdan \n",
    "5. `from avto_info_mod import *`\n",
    "\n",
    "bu import usulidan keyin `avto_info_mod` modulidan har qanday funksiyani to'g'ridan to'g'ri chaqirish mumkin.\n",
    "\n",
    "Bu yerdagi `*` modul ichidagi hamma funksiyalrni o'z e'lon qilingan nomi bilan chaqiradi."
   ]
  },
  {
   "cell_type": "markdown",
   "metadata": {},
   "source": [
    "> odatda `*` usulidan foydalanish tavsiya etilmaydi. Chunki ba'zi modullar ichida 1000 lab funksiyalar va o'zgaruvchilar bo'lishi mumkin va siz yozayotgan funksiyalar nomi va biron kattaroq modul ichidagi funksiya nomlari bir xil bo'lib qolishi mumkin. Bu esa dasturni noto'g'ri ishlashiga olib keladi. "
   ]
  },
  {
   "cell_type": "markdown",
   "metadata": {},
   "source": [
    "> Pythonni o'zida ham ko'plab modullar bor va ularni `import modulNomi` qilib o'z dasturimizgda ishlatishimiz mumkin. "
   ]
  },
  {
   "cell_type": "code",
   "execution_count": null,
   "metadata": {},
   "outputs": [
    {
     "name": "stdout",
     "output_type": "stream",
     "text": [
      "20.0\n"
     ]
    }
   ],
   "source": [
    "import math\n",
    "\n",
    "x = 400\n",
    "print(math.sqrt(x)) # kiritilgan qiymatni kvadrat ildizini hisoblaydi"
   ]
  },
  {
   "cell_type": "code",
   "execution_count": null,
   "metadata": {},
   "outputs": [
    {
     "name": "stdout",
     "output_type": "stream",
     "text": [
      "125.0\n"
     ]
    }
   ],
   "source": [
    "print(math.pow(5, 3)) # darajaga ko'tarish uchun ishlatiladi 5^(3)"
   ]
  },
  {
   "cell_type": "code",
   "execution_count": null,
   "metadata": {},
   "outputs": [
    {
     "name": "stdout",
     "output_type": "stream",
     "text": [
      "3.141592653589793\n"
     ]
    }
   ],
   "source": [
    "print(math.pi) # pi sonining aniq qiymatini olish uchun ishlatilinadi"
   ]
  },
  {
   "cell_type": "code",
   "execution_count": null,
   "metadata": {},
   "outputs": [
    {
     "name": "stdout",
     "output_type": "stream",
     "text": [
      "3.0\n"
     ]
    }
   ],
   "source": [
    "print(math.log2(8)) # logarifimik 2 asosga ko'ra funksiyaning qiymatini hisoblash uchun ishlatilinadi"
   ]
  },
  {
   "cell_type": "code",
   "execution_count": null,
   "metadata": {},
   "outputs": [
    {
     "name": "stdout",
     "output_type": "stream",
     "text": [
      "2.0\n"
     ]
    }
   ],
   "source": [
    "print(math.log10(100)) # logarifimik 10 asosga ko'ra yoki o'nli logarifimik funksiyaning qiymatini hisoblash uchun ishlatilinadi"
   ]
  },
  {
   "cell_type": "code",
   "execution_count": null,
   "metadata": {},
   "outputs": [
    {
     "name": "stdout",
     "output_type": "stream",
     "text": [
      "2.0\n"
     ]
    }
   ],
   "source": [
    "print(math.log(25, 5)) # bu log 5 asosga ko'ra 25 ni hisoblash"
   ]
  },
  {
   "cell_type": "markdown",
   "metadata": {},
   "source": [
    "> Yana bir modullaardan bir bu: `random`\n",
    "\n",
    "random moduli ichidagi `randint` funksiyasi berilgan oraliqdagi sonlarni birini ixtiyoriy ravishda tanlab beradi."
   ]
  },
  {
   "cell_type": "code",
   "execution_count": 38,
   "metadata": {},
   "outputs": [
    {
     "name": "stdout",
     "output_type": "stream",
     "text": [
      "7\n"
     ]
    }
   ],
   "source": [
    "import random\n",
    "\n",
    "print(random.randint(0, 100))"
   ]
  },
  {
   "cell_type": "markdown",
   "metadata": {},
   "source": [
    "> Ro'yxat ichidan tasodifiy qiymatni tanlab olish uchun: `choice`"
   ]
  },
  {
   "cell_type": "code",
   "execution_count": 43,
   "metadata": {},
   "outputs": [
    {
     "name": "stdout",
     "output_type": "stream",
     "text": [
      "nargiza\n"
     ]
    }
   ],
   "source": [
    "ismlar = ['anvar', 'alisher', 'ummon', 'nargiza', 'umida']\n",
    "\n",
    "print(random.choice(ismlar))"
   ]
  },
  {
   "cell_type": "markdown",
   "metadata": {},
   "source": [
    "> `choice` - funksiya so'z ichidan tasodofiy harflarni ham tanlab beradi."
   ]
  },
  {
   "cell_type": "code",
   "execution_count": 64,
   "metadata": {},
   "outputs": [
    {
     "name": "stdout",
     "output_type": "stream",
     "text": [
      "m\n"
     ]
    }
   ],
   "source": [
    "print(random.choice('umida'))"
   ]
  },
  {
   "cell_type": "markdown",
   "metadata": {},
   "source": [
    "< `shuffle` funsiyasi aralashtirish uchun ishlatilinadi:"
   ]
  },
  {
   "cell_type": "code",
   "execution_count": 2,
   "metadata": {},
   "outputs": [
    {
     "name": "stdout",
     "output_type": "stream",
     "text": [
      "[0, 1, 2, 3, 4, 5, 6, 7, 8, 9]\n"
     ]
    },
    {
     "ename": "NameError",
     "evalue": "name 'random' is not defined",
     "output_type": "error",
     "traceback": [
      "\u001b[31m---------------------------------------------------------------------------\u001b[39m",
      "\u001b[31mNameError\u001b[39m                                 Traceback (most recent call last)",
      "\u001b[36mCell\u001b[39m\u001b[36m \u001b[39m\u001b[32mIn[2]\u001b[39m\u001b[32m, line 3\u001b[39m\n\u001b[32m      1\u001b[39m sonlar = \u001b[38;5;28mlist\u001b[39m(\u001b[38;5;28mrange\u001b[39m(\u001b[32m10\u001b[39m))\n\u001b[32m      2\u001b[39m \u001b[38;5;28mprint\u001b[39m(sonlar)\n\u001b[32m----> \u001b[39m\u001b[32m3\u001b[39m \u001b[43mrandom\u001b[49m.shuffle(sonlar)\n\u001b[32m      4\u001b[39m \u001b[38;5;28mprint\u001b[39m(sonlar)\n",
      "\u001b[31mNameError\u001b[39m: name 'random' is not defined"
     ]
    }
   ],
   "source": [
    "sonlar = list(range(10))\n",
    "print(sonlar)\n",
    "random.shuffle(sonlar)\n",
    "print(sonlar)"
   ]
  },
  {
   "cell_type": "markdown",
   "metadata": {},
   "source": [
    "Nomsiz funksiya yaratish: `lambda` funksiya haqida gaplashamiz:"
   ]
  },
  {
   "cell_type": "code",
   "execution_count": null,
   "metadata": {},
   "outputs": [],
   "source": [
    "# oddiy funksiya\n",
    "def nom(argument):\n",
    "  return ifoda\n",
    "\n",
    "# lambada funksiya\n",
    "lambda argument:ifoda"
   ]
  },
  {
   "cell_type": "markdown",
   "metadata": {},
   "source": [
    "- bitta qator bo'ladi va bitta ifoda qaytaradi va lambda funksiyada argumentlar soni cheklanmagan:"
   ]
  },
  {
   "cell_type": "code",
   "execution_count": 69,
   "metadata": {},
   "outputs": [
    {
     "name": "stdout",
     "output_type": "stream",
     "text": [
      "62.83185307179586\n"
     ]
    }
   ],
   "source": [
    "uzunlik = lambda pi, r : 2 * pi * r\n",
    "print(uzunlik(math.pi, 10))"
   ]
  },
  {
   "cell_type": "markdown",
   "metadata": {},
   "source": [
    "Yuqoridagi qatorlarda `uzunlik` bu identifikator, ya'ni `lambda` funksiyaga murojaat qilish uchun kattalik. "
   ]
  },
  {
   "cell_type": "code",
   "execution_count": 70,
   "metadata": {},
   "outputs": [
    {
     "name": "stdout",
     "output_type": "stream",
     "text": [
      "1024\n"
     ]
    }
   ],
   "source": [
    "kvadrat = lambda x, y: x**y\n",
    "print(kvadrat(4, 5))"
   ]
  },
  {
   "cell_type": "code",
   "execution_count": null,
   "metadata": {},
   "outputs": [
    {
     "name": "stdout",
     "output_type": "stream",
     "text": [
      "25\n"
     ]
    }
   ],
   "source": [
    "def daraja(n):\n",
    "  return lambda x : x ** n\n",
    "\n",
    "kvadrat = daraja(2)\n",
    "print(kvadrat(5))\n",
    "\n",
    "# yuqoridagini qulayligini bu lambda funksiya berayotgan imkoniyat"
   ]
  },
  {
   "cell_type": "markdown",
   "metadata": {},
   "source": [
    "> Pythonda shunday funksiyalar bor va ular argument sifatida boshqa bir funksiyani qabul qilib oladi va qandaydur qiymat qaytaradi, ana shunday funksiyalardan bir - `map()`"
   ]
  },
  {
   "cell_type": "code",
   "execution_count": 73,
   "metadata": {},
   "outputs": [
    {
     "name": "stdout",
     "output_type": "stream",
     "text": [
      "[0.0, 1.0, 1.4142135623730951, 1.7320508075688772, 2.0, 2.23606797749979, 2.449489742783178, 2.6457513110645907, 2.8284271247461903, 3.0]\n"
     ]
    }
   ],
   "source": [
    "from math import sqrt\n",
    "\n",
    "sonlar = list(range(10))\n",
    "ildizlar = list(map(sqrt, sonlar))\n",
    "print(ildizlar)"
   ]
  },
  {
   "cell_type": "code",
   "execution_count": 5,
   "metadata": {},
   "outputs": [
    {
     "name": "stdout",
     "output_type": "stream",
     "text": [
      "[0, 1, 2, 3, 4, 5, 6, 7, 8, 9]\n",
      "[0, 1, 4, 9, 16, 25, 36, 49, 64, 81]\n"
     ]
    }
   ],
   "source": [
    "sonlar = list(range(10))\n",
    "print(sonlar)\n",
    "\n",
    "kvadratlar = list(map(lambda x: x*x, sonlar))\n",
    "print(kvadratlar)"
   ]
  },
  {
   "cell_type": "markdown",
   "metadata": {},
   "source": [
    "Yuqoridagi misoldan ko'rinadiki, lambda funksiya skil bilan qilinadigan ishlarni soddalashtirib berishga yordam beradi."
   ]
  },
  {
   "cell_type": "code",
   "execution_count": 7,
   "metadata": {},
   "outputs": [
    {
     "name": "stdout",
     "output_type": "stream",
     "text": [
      "[12, 14, 16, 19]\n"
     ]
    }
   ],
   "source": [
    "a = [4, 5, 6, 7]\n",
    "b = [8, 9, 10, 12]\n",
    "\n",
    "a_plus_b = list(map(lambda x, y: x+y, a, b))\n",
    "print(a_plus_b)"
   ]
  },
  {
   "cell_type": "code",
   "execution_count": 11,
   "metadata": {},
   "outputs": [
    {
     "name": "stdout",
     "output_type": "stream",
     "text": [
      "[90, 78, 4, 24]\n",
      "[73, 55, 79, 1, 51, 59]\n"
     ]
    }
   ],
   "source": [
    "import random as r\n",
    "\n",
    "sonlar = r.sample(range(100), 10)\n",
    "def juftmi(x):\n",
    "  \"\"\"x juft bo'lsa uni qaytaradi\"\"\"\n",
    "  return x % 2 == 0\n",
    "\n",
    "juft_sonlar = list(filter(juftmi, sonlar))\n",
    "print(juft_sonlar)\n",
    "\n",
    "toq_sonlar = list(filter(lambda son:son%2!=0, sonlar))\n",
    "print(toq_sonlar)"
   ]
  },
  {
   "cell_type": "markdown",
   "metadata": {},
   "source": [
    "`startswith(harf)` - kattalikni bosh harfini tekshiradigan funksiya."
   ]
  },
  {
   "cell_type": "code",
   "execution_count": 15,
   "metadata": {},
   "outputs": [
    {
     "name": "stdout",
     "output_type": "stream",
     "text": [
      "['anor', 'apelsin']\n"
     ]
    }
   ],
   "source": [
    "mevalar = [\"olma\", \"banan\", \"anor\", \"shaftoli\", \"gilos\", \"uzum\", \"apelsin\", \"nok\", \"qulupnay\", \"kivi\"]\n",
    "\n",
    "sp_mevalar = list(filter(lambda meva:meva.startswith('a'), mevalar))\n",
    "print(sp_mevalar)"
   ]
  },
  {
   "cell_type": "code",
   "execution_count": 18,
   "metadata": {},
   "outputs": [
    {
     "name": "stdout",
     "output_type": "stream",
     "text": [
      "['olma', 'anor', 'uzum', 'nok', 'kivi']\n"
     ]
    }
   ],
   "source": [
    "mevalar = [\"olma\", \"banan\", \"anor\", \"shaftoli\", \"gilos\", \"uzum\", \"apelsin\", \"nok\", \"qulupnay\", \"kivi\"]\n",
    "\n",
    "sp_mevalar = list(filter(lambda meva:len(meva)<= 4, mevalar))\n",
    "print(sp_mevalar)"
   ]
  },
  {
   "cell_type": "markdown",
   "metadata": {},
   "source": [
    "> `matn.isascii():` - bu metod matnni ASCII belgilaridan iborat yoki yo'qligini tekshiradi. \n",
    "\n",
    "Odatda buni matn Lotin yoki Krill da yozilganligini aniqlash uchun ishlatiladi. `True` yoki `False` qaytaradi."
   ]
  }
 ],
 "metadata": {
  "colab": {
   "authorship_tag": "ABX9TyOzhRkXAWZMVJaw4Qou+CAp",
   "provenance": []
  },
  "kernelspec": {
   "display_name": "Python 3",
   "name": "python3"
  },
  "language_info": {
   "codemirror_mode": {
    "name": "ipython",
    "version": 3
   },
   "file_extension": ".py",
   "mimetype": "text/x-python",
   "name": "python",
   "nbconvert_exporter": "python",
   "pygments_lexer": "ipython3",
   "version": "3.13.3"
  }
 },
 "nbformat": 4,
 "nbformat_minor": 0
}
