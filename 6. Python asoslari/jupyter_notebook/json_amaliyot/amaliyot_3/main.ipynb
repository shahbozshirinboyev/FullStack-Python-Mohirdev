{
 "cells": [
  {
   "cell_type": "code",
   "execution_count": 4,
   "id": "3f30738f",
   "metadata": {},
   "outputs": [
    {
     "name": "stdout",
     "output_type": "stream",
     "text": [
      "Tom Price, 4-kurs, Engineering talabasi\n",
      "Nick Thameson, 3-kurs, Computer Science talabasi\n",
      "John Doe, 2-kurs, ICT talabasi\n"
     ]
    }
   ],
   "source": [
    "import json\n",
    "\n",
    "with open('students.json') as file:\n",
    "  students = json.load(file)\n",
    "\n",
    "for student in students['student']:\n",
    "  print(f\"{student['name']} {student['lastname']}, {student['year']}-kurs, {student['faculty']} talabasi\")"
   ]
  },
  {
   "cell_type": "code",
   "execution_count": null,
   "id": "3aa50770",
   "metadata": {},
   "outputs": [],
   "source": []
  }
 ],
 "metadata": {
  "kernelspec": {
   "display_name": "Python 3",
   "language": "python",
   "name": "python3"
  },
  "language_info": {
   "codemirror_mode": {
    "name": "ipython",
    "version": 3
   },
   "file_extension": ".py",
   "mimetype": "text/x-python",
   "name": "python",
   "nbconvert_exporter": "python",
   "pygments_lexer": "ipython3",
   "version": "3.13.3"
  }
 },
 "nbformat": 4,
 "nbformat_minor": 5
}
