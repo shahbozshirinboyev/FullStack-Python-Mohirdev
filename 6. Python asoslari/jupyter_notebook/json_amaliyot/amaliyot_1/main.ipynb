{
 "cells": [
  {
   "cell_type": "code",
   "execution_count": 1,
   "id": "cb8c074d",
   "metadata": {},
   "outputs": [
    {
     "name": "stdout",
     "output_type": "stream",
     "text": [
      "{'Model': 'Malibu', 'Rang': 'Qora', 'Yil': 2020, 'Narh': 40000}\n"
     ]
    }
   ],
   "source": [
    "import json\n",
    "\n",
    "data = {\"Model\" : \"Malibu\", \"Rang\" : \"Qora\", \"Yil\":2020, \"Narh\":40000}\n",
    "\n",
    "with open('auto.json', 'w') as file:\n",
    "  json.dump(data, file)\n",
    "\n",
    "with open('auto.json') as file:\n",
    "  print(json.load(file))\n"
   ]
  },
  {
   "cell_type": "code",
   "execution_count": null,
   "id": "ab02fa23",
   "metadata": {},
   "outputs": [],
   "source": []
  }
 ],
 "metadata": {
  "kernelspec": {
   "display_name": "Python 3",
   "language": "python",
   "name": "python3"
  },
  "language_info": {
   "codemirror_mode": {
    "name": "ipython",
    "version": 3
   },
   "file_extension": ".py",
   "mimetype": "text/x-python",
   "name": "python",
   "nbconvert_exporter": "python",
   "pygments_lexer": "ipython3",
   "version": "3.13.3"
  }
 },
 "nbformat": 4,
 "nbformat_minor": 5
}
