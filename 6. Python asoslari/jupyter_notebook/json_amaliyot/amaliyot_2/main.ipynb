{
 "cells": [
  {
   "cell_type": "code",
   "execution_count": 6,
   "id": "5cc57556",
   "metadata": {},
   "outputs": [
    {
     "name": "stdout",
     "output_type": "stream",
     "text": [
      "Hasan Husanov\n"
     ]
    }
   ],
   "source": [
    "import json\n",
    "\n",
    "talaba = json.dumps({\"ism\":\"Hasan\",\"familiya\":\"Husanov\",\"tyil\":2000})\n",
    "talaba = json.loads(talaba)\n",
    "\n",
    "print(f\"{talaba['ism']} {talaba['familiya']}\")\n",
    "\n",
    "with open('talaba.json', 'w') as file:\n",
    "  json.dump(talaba, file)"
   ]
  },
  {
   "cell_type": "code",
   "execution_count": null,
   "id": "ae6f6269",
   "metadata": {},
   "outputs": [],
   "source": []
  }
 ],
 "metadata": {
  "kernelspec": {
   "display_name": "Python 3",
   "language": "python",
   "name": "python3"
  },
  "language_info": {
   "codemirror_mode": {
    "name": "ipython",
    "version": 3
   },
   "file_extension": ".py",
   "mimetype": "text/x-python",
   "name": "python",
   "nbconvert_exporter": "python",
   "pygments_lexer": "ipython3",
   "version": "3.13.3"
  }
 },
 "nbformat": 4,
 "nbformat_minor": 5
}
