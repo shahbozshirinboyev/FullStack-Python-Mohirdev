{
 "cells": [
  {
   "cell_type": "code",
   "execution_count": 2,
   "id": "7668960b",
   "metadata": {},
   "outputs": [
    {
     "name": "stdout",
     "output_type": "stream",
     "text": [
      "Requirement already satisfied: wikipedia in c:\\users\\shahb\\appdata\\local\\programs\\python\\python313\\lib\\site-packages (1.4.0)\n",
      "Requirement already satisfied: beautifulsoup4 in c:\\users\\shahb\\appdata\\local\\programs\\python\\python313\\lib\\site-packages (from wikipedia) (4.13.4)\n",
      "Requirement already satisfied: requests<3.0.0,>=2.0.0 in c:\\users\\shahb\\appdata\\local\\programs\\python\\python313\\lib\\site-packages (from wikipedia) (2.32.3)\n",
      "Requirement already satisfied: charset-normalizer<4,>=2 in c:\\users\\shahb\\appdata\\local\\programs\\python\\python313\\lib\\site-packages (from requests<3.0.0,>=2.0.0->wikipedia) (3.4.1)\n",
      "Requirement already satisfied: idna<4,>=2.5 in c:\\users\\shahb\\appdata\\local\\programs\\python\\python313\\lib\\site-packages (from requests<3.0.0,>=2.0.0->wikipedia) (2.10)\n",
      "Requirement already satisfied: urllib3<3,>=1.21.1 in c:\\users\\shahb\\appdata\\local\\programs\\python\\python313\\lib\\site-packages (from requests<3.0.0,>=2.0.0->wikipedia) (2.4.0)\n",
      "Requirement already satisfied: certifi>=2017.4.17 in c:\\users\\shahb\\appdata\\local\\programs\\python\\python313\\lib\\site-packages (from requests<3.0.0,>=2.0.0->wikipedia) (2024.8.30)\n",
      "Requirement already satisfied: soupsieve>1.2 in c:\\users\\shahb\\appdata\\local\\programs\\python\\python313\\lib\\site-packages (from beautifulsoup4->wikipedia) (2.7)\n",
      "Requirement already satisfied: typing-extensions>=4.0.0 in c:\\users\\shahb\\appdata\\local\\programs\\python\\python313\\lib\\site-packages (from beautifulsoup4->wikipedia) (4.13.2)\n",
      "Note: you may need to restart the kernel to use updated packages.\n"
     ]
    }
   ],
   "source": [
    "# wikipedia 1.4.0\n",
    "%pip install wikipedia"
   ]
  },
  {
   "cell_type": "code",
   "execution_count": 6,
   "id": "334ba307",
   "metadata": {},
   "outputs": [
    {
     "name": "stdout",
     "output_type": "stream",
     "text": [
      "('Vikipediyada Alisher ismli boshqa kishilar haqida ham maqolalar mavjud. Bu '\n",
      " 'maqola oʻzbek va boshqa turkiy xalqlarning shoiri Alisher Navoiy haqidadir. '\n",
      " 'Navoiy soʻzining boshqa maʼnolari uchun mana bu sahifaga oʻting.\\n'\n",
      " '\\n'\n",
      " 'Alisher Navoiy (chigʻatoycha: علیشیر نوایی\\u200e\\u200e; forscha: '\n",
      " 'نظام\\u200cالدین علی\\u200cشیر نوایی\\u200e\\u200e; 1441-yil 9-fevral — 1501-yil '\n",
      " '3-yanvar) — Temuriylar davridagi turkiy xalqlarning shoiri, mutafakkir va '\n",
      " 'davlat arbobi. Gʻarbda Chigʻatoy adabiyotining buyuk vakili deb qaraladi.\\n'\n",
      " 'Tarixchi Ali Yazdiy nazariga tushgan, shoir Lutfiy yosh shoir isteʼdodiga '\n",
      " 'yuqori baho bergan, Kamol Turbatiy eʼtirofini qozongan. Sayyid Hasan '\n",
      " 'Ardasher, Pahlavon Muhammad kabi ustozlardan taʼlim olgan, Abdurahmon Jomiy '\n",
      " 'bilan ijodiy hamkorlikda boʻlgan. Navoiy 1469-yilgacha temuriylar orasidagi '\n",
      " 'ichki nizolar sababli Hirotdan yiroqroqda yashagan.\\n'\n",
      " 'Husayn Boyqaro Xuroson taxtiga oʻtirgach (1469), Navoiy hayoti va ijodida '\n",
      " 'yangi bosqich boshlanadi, muhrdorlik (1469-yilda) mansabiga, vazirlik '\n",
      " '(1472-yilda) va Astrobod hokimligi (1487-yilda) lavozimiga tayinlanadi. '\n",
      " '1480–1500-yillar mobaynida oʻz mablagʻlari hisobidan bir necha madrasa, 40 '\n",
      " 'rabot (safardagi yoʻlovchilar toʻxtab oʻtish joyi), 17 masjid, 10 xonaqoh, 9 '\n",
      " 'hammom, 9 koʻprik, 20 ta hovuz qurdiradi. Husayn Boyqaro Alisher Navoiyga '\n",
      " '„muqarrabi hazrati sultoniy“ („sulton hazratlarining eng yaqin kishisi“) '\n",
      " 'degan unvonni beradi. Unga koʻra Navoiy davlatning barcha ishlariga aralasha '\n",
      " 'olardi.\\n'\n",
      " 'Alisher Navoiy tarjimai holi oʻz davrida Xondamir, Vosifiy, Husayn Boyqaro, '\n",
      " 'Bobur kabi tarixchi va davlat arboblarining asarlarida aks etgan.')\n"
     ]
    }
   ],
   "source": [
    "import wikipedia\n",
    "from pprint import pprint\n",
    "\n",
    "wikipedia.set_lang(\"uz\")\n",
    "pprint(wikipedia.summary(\"Alisher Navoiy\"))"
   ]
  }
 ],
 "metadata": {
  "kernelspec": {
   "display_name": "Python 3",
   "language": "python",
   "name": "python3"
  },
  "language_info": {
   "codemirror_mode": {
    "name": "ipython",
    "version": 3
   },
   "file_extension": ".py",
   "mimetype": "text/x-python",
   "name": "python",
   "nbconvert_exporter": "python",
   "pygments_lexer": "ipython3",
   "version": "3.13.3"
  }
 },
 "nbformat": 4,
 "nbformat_minor": 5
}
