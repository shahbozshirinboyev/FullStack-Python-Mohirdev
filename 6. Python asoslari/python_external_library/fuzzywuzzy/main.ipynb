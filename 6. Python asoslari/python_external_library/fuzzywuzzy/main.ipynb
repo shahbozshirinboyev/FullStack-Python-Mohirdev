{
 "cells": [
  {
   "cell_type": "code",
   "execution_count": 2,
   "id": "df600c8a",
   "metadata": {},
   "outputs": [
    {
     "name": "stdout",
     "output_type": "stream",
     "text": [
      "Requirement already satisfied: fuzzywuzzy in c:\\users\\shahb\\appdata\\local\\programs\\python\\python313\\lib\\site-packages (0.18.0)\n",
      "Note: you may need to restart the kernel to use updated packages.\n"
     ]
    }
   ],
   "source": [
    "# kerakli modulni o'rnatib olamiz\n",
    "%pip install fuzzywuzzy"
   ]
  },
  {
   "cell_type": "code",
   "execution_count": 4,
   "id": "39f5be2f",
   "metadata": {},
   "outputs": [
    {
     "data": {
      "text/plain": [
       "80"
      ]
     },
     "execution_count": 4,
     "metadata": {},
     "output_type": "execute_result"
    }
   ],
   "source": [
    "from fuzzywuzzy import fuzz\n",
    "from fuzzywuzzy import process\n",
    "from uzwords import words\n",
    "\n",
    "fuzz.ratio(\"salom\", \"assalom\")  # o'xshashlik foizi\n",
    "fuzz.ratio(\"salom\", \"salim\")  # o'xshashlik foizi"
   ]
  },
  {
   "cell_type": "code",
   "execution_count": 6,
   "id": "a06fc557",
   "metadata": {},
   "outputs": [
    {
     "name": "stdout",
     "output_type": "stream",
     "text": [
      "[('алайҳиссалом', 90), ('келинсалом', 90), ('алайҳиссалом', 90), ('келинсалом', 90)]\n"
     ]
    }
   ],
   "source": [
    "text = 'салом'\n",
    "matches = process.extract(text, words, limit=4)\n",
    "\n",
    "print(matches)"
   ]
  },
  {
   "cell_type": "code",
   "execution_count": 7,
   "id": "e1418622",
   "metadata": {},
   "outputs": [
    {
     "name": "stdout",
     "output_type": "stream",
     "text": [
      "('албан', 80)\n"
     ]
    }
   ],
   "source": [
    "text = 'талба'\n",
    "match = process.extractOne(text, words)\n",
    "\n",
    "print(match)"
   ]
  },
  {
   "cell_type": "code",
   "execution_count": null,
   "id": "a14295af",
   "metadata": {},
   "outputs": [],
   "source": []
  }
 ],
 "metadata": {
  "kernelspec": {
   "display_name": "Python 3",
   "language": "python",
   "name": "python3"
  },
  "language_info": {
   "codemirror_mode": {
    "name": "ipython",
    "version": 3
   },
   "file_extension": ".py",
   "mimetype": "text/x-python",
   "name": "python",
   "nbconvert_exporter": "python",
   "pygments_lexer": "ipython3",
   "version": "3.13.3"
  }
 },
 "nbformat": 4,
 "nbformat_minor": 5
}
