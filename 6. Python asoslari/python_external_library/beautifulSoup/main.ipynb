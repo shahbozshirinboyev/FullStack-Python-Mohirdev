{
 "cells": [
  {
   "cell_type": "code",
   "execution_count": 3,
   "id": "7356e373",
   "metadata": {},
   "outputs": [
    {
     "name": "stdout",
     "output_type": "stream",
     "text": [
      "Requirement already satisfied: requests in c:\\users\\shahb\\appdata\\local\\programs\\python\\python313\\lib\\site-packages (2.32.3)\n",
      "Requirement already satisfied: charset-normalizer<4,>=2 in c:\\users\\shahb\\appdata\\local\\programs\\python\\python313\\lib\\site-packages (from requests) (3.4.1)\n",
      "Requirement already satisfied: idna<4,>=2.5 in c:\\users\\shahb\\appdata\\local\\programs\\python\\python313\\lib\\site-packages (from requests) (2.10)\n",
      "Requirement already satisfied: urllib3<3,>=1.21.1 in c:\\users\\shahb\\appdata\\local\\programs\\python\\python313\\lib\\site-packages (from requests) (2.4.0)\n",
      "Requirement already satisfied: certifi>=2017.4.17 in c:\\users\\shahb\\appdata\\local\\programs\\python\\python313\\lib\\site-packages (from requests) (2024.8.30)\n",
      "Note: you may need to restart the kernel to use updated packages.\n",
      "Requirement already satisfied: beautifulsoup4 in c:\\users\\shahb\\appdata\\local\\programs\\python\\python313\\lib\\site-packages (4.13.4)\n",
      "Requirement already satisfied: soupsieve>1.2 in c:\\users\\shahb\\appdata\\local\\programs\\python\\python313\\lib\\site-packages (from beautifulsoup4) (2.7)\n",
      "Requirement already satisfied: typing-extensions>=4.0.0 in c:\\users\\shahb\\appdata\\local\\programs\\python\\python313\\lib\\site-packages (from beautifulsoup4) (4.13.2)\n",
      "Note: you may need to restart the kernel to use updated packages.\n"
     ]
    }
   ],
   "source": [
    "# kerakli modullarni o'rnatib olamiz\n",
    "%pip install requests\n",
    "%pip install beautifulsoup4"
   ]
  },
  {
   "cell_type": "code",
   "execution_count": 31,
   "id": "ec72df29",
   "metadata": {},
   "outputs": [
    {
     "name": "stdout",
     "output_type": "stream",
     "text": [
      "1. 1 iyundan O‘zbekiston va Xitoy o‘rtasida 30 kunlik vizasiz rejim kuchga kiradi\n",
      "2. IIV: Mubashshir Ahmad Turkiyadan deportatsiya qilinib, qamoqqa olindi\n",
      "3. O‘zbekistonliklar eng ko‘p Green Card yutganlar orasida 1-o‘rinni egalladi\n",
      "4. O‘zbekistonga avtomobil importi 3 barobarga quladi\n",
      "5. Sulh o‘rniga – Istanbulda yangi muzokaralar. Putin G‘arbning 30 kunlik otashkesim bo‘yicha taklifiga qanday javob qaytardi?\n",
      "6. Andijondagi toshqin, oliy ta’limdagi o‘zgarishlar va do‘xtirlarga $1500 oylik - hafta dayjesti\n",
      "7. Qishloq xo‘jaligi vazirligi go‘sht narxining oshishiga sabab bo‘lgan omillarni ma’lum qildi\n",
      "8. Samarqand shahridagi ko‘p qavatli uyda gaz portladi. 6 kishi halok bo‘lgan\n"
     ]
    }
   ],
   "source": [
    "from bs4 import BeautifulSoup\n",
    "import requests\n",
    "\n",
    "sahifa = 'https://kun.uz/news/main'\n",
    "r = requests.get(sahifa)\n",
    "soup = BeautifulSoup(r.text, 'html.parser')\n",
    "news = soup.find_all(class_=\"news-lenta__big-link\")\n",
    "\n",
    "if news:\n",
    "    for i, n in enumerate(news[:10], 1):  # faqat dastlabki 10 ta yangilik\n",
    "        print(f\"{i}. {n.text.strip()}\")\n",
    "else:\n",
    "    print(\"Yangiliklar topilmadi.\")"
   ]
  },
  {
   "cell_type": "code",
   "execution_count": null,
   "id": "cbe1ed84",
   "metadata": {},
   "outputs": [],
   "source": []
  }
 ],
 "metadata": {
  "kernelspec": {
   "display_name": "Python 3",
   "language": "python",
   "name": "python3"
  },
  "language_info": {
   "codemirror_mode": {
    "name": "ipython",
    "version": 3
   },
   "file_extension": ".py",
   "mimetype": "text/x-python",
   "name": "python",
   "nbconvert_exporter": "python",
   "pygments_lexer": "ipython3",
   "version": "3.13.3"
  }
 },
 "nbformat": 4,
 "nbformat_minor": 5
}
