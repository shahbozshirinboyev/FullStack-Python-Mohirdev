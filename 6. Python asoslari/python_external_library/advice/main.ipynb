{
 "cells": [
  {
   "cell_type": "code",
   "execution_count": null,
   "id": "1698aaee",
   "metadata": {},
   "outputs": [
    {
     "name": "stdout",
     "output_type": "stream",
     "text": [
      "Requirement already satisfied: requests in c:\\users\\shahb\\appdata\\local\\programs\\python\\python313\\lib\\site-packages (2.32.3)\n",
      "Requirement already satisfied: charset-normalizer<4,>=2 in c:\\users\\shahb\\appdata\\local\\programs\\python\\python313\\lib\\site-packages (from requests) (3.4.1)\n",
      "Requirement already satisfied: idna<4,>=2.5 in c:\\users\\shahb\\appdata\\local\\programs\\python\\python313\\lib\\site-packages (from requests) (2.10)\n",
      "Requirement already satisfied: urllib3<3,>=1.21.1 in c:\\users\\shahb\\appdata\\local\\programs\\python\\python313\\lib\\site-packages (from requests) (2.4.0)\n",
      "Requirement already satisfied: certifi>=2017.4.17 in c:\\users\\shahb\\appdata\\local\\programs\\python\\python313\\lib\\site-packages (from requests) (2024.8.30)\n",
      "Note: you may need to restart the kernel to use updated packages.\n"
     ]
    }
   ],
   "source": [
    "# modullarni o'rnatib olamiz\n",
    "%pip install requests\n",
    "# googletrans 4.0.2\n",
    "%pip install deep-translator"
   ]
  },
  {
   "cell_type": "code",
   "execution_count": 2,
   "id": "8890cfd7",
   "metadata": {},
   "outputs": [
    {
     "name": "stdout",
     "output_type": "stream",
     "text": [
      "'Stop procrastinating.'\n",
      "\"Kechiktirishni to'xtating.\"\n"
     ]
    }
   ],
   "source": [
    "import requests\n",
    "from deep_translator import GoogleTranslator\n",
    "from pprint import pprint\n",
    "\n",
    "url = f\"https://api.adviceslip.com/advice\"\n",
    "r = requests.get(url)\n",
    "advice = r.json()['slip']['advice']\n",
    "tarjima = GoogleTranslator(source='auto', target='uz').translate(advice)\n",
    "pprint(advice)\n",
    "pprint(tarjima)"
   ]
  },
  {
   "cell_type": "code",
   "execution_count": null,
   "id": "d91c978e",
   "metadata": {},
   "outputs": [],
   "source": []
  }
 ],
 "metadata": {
  "kernelspec": {
   "display_name": "Python 3",
   "language": "python",
   "name": "python3"
  },
  "language_info": {
   "codemirror_mode": {
    "name": "ipython",
    "version": 3
   },
   "file_extension": ".py",
   "mimetype": "text/x-python",
   "name": "python",
   "nbconvert_exporter": "python",
   "pygments_lexer": "ipython3",
   "version": "3.13.3"
  }
 },
 "nbformat": 4,
 "nbformat_minor": 5
}
