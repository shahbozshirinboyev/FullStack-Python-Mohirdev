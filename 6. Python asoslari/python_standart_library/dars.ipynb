{
 "cells": [
  {
   "cell_type": "markdown",
   "id": "832cb2eb",
   "metadata": {},
   "source": [
    "`Python standart kutubxonasi`"
   ]
  },
  {
   "cell_type": "markdown",
   "id": "6a45d7ac",
   "metadata": {},
   "source": [
    "Standart kutubxonada minglab modullar bor biz bu modullardan o'zimizning loyihalarimizda foydalanishimiz mumkin."
   ]
  },
  {
   "cell_type": "markdown",
   "id": "db6ecee4",
   "metadata": {},
   "source": [
    "`Modullar` - boshqa dasturchi yoki dasturchilar jamoasi tomonidan yozilgan tayyor funksiyalar. Biz istalgan vaqtda funksiyalarni chaqirib olib, o'zimizning loyihamizda foydalanishimiz mumkin."
   ]
  },
  {
   "cell_type": "markdown",
   "id": "e5d7b09b",
   "metadata": {},
   "source": [
    "> Eng kerakli modullarning bir nechtasini ko'rib chiqamiz:"
   ]
  },
  {
   "cell_type": "markdown",
   "id": "b29dd379",
   "metadata": {},
   "source": [
    "`datetime` -  vaqt va sanalar bilan ishlash uchun bizga kerak bo'ladi."
   ]
  },
  {
   "cell_type": "code",
   "execution_count": 8,
   "id": "ab2e8d12",
   "metadata": {},
   "outputs": [
    {
     "name": "stdout",
     "output_type": "stream",
     "text": [
      "2025-05-13 15:53:03.538136\n",
      "2025-05-13\n",
      "15:53:03.538136\n",
      "15\n",
      "53\n",
      "3\n"
     ]
    }
   ],
   "source": [
    "import datetime as dt\n",
    "\n",
    "hozir = dt.datetime.now()\n",
    "sana = hozir.date()\n",
    "vaqt = hozir.time()\n",
    "soat = hozir.hour\n",
    "minut = hozir.minute\n",
    "second = hozir.second\n",
    "\n",
    "print(hozir)\n",
    "print(sana)\n",
    "print(vaqt)\n",
    "print(soat)\n",
    "print(minut)\n",
    "print(second)"
   ]
  },
  {
   "cell_type": "code",
   "execution_count": 9,
   "id": "170272bf",
   "metadata": {},
   "outputs": [
    {
     "name": "stdout",
     "output_type": "stream",
     "text": [
      "2025-05-13\n"
     ]
    }
   ],
   "source": [
    "bugun = dt.date.today()\n",
    "\n",
    "print(bugun)"
   ]
  },
  {
   "cell_type": "code",
   "execution_count": 10,
   "id": "9e9ebf2e",
   "metadata": {},
   "outputs": [
    {
     "name": "stdout",
     "output_type": "stream",
     "text": [
      "2025-05-14\n"
     ]
    }
   ],
   "source": [
    "# qo'lda kiritilgan sanani saqlash\n",
    "ertaga = dt.date(2025, 5, 14)\n",
    "\n",
    "print(ertaga)"
   ]
  },
  {
   "cell_type": "code",
   "execution_count": 11,
   "id": "d38ed72c",
   "metadata": {},
   "outputs": [
    {
     "name": "stdout",
     "output_type": "stream",
     "text": [
      "23:45:30\n"
     ]
    }
   ],
   "source": [
    "# qo'lda kiritilgan sanani saqlash\n",
    "ertagaVaqt = dt.time(23,45,30)\n",
    "\n",
    "print(ertagaVaqt)"
   ]
  },
  {
   "cell_type": "markdown",
   "id": "cc01b283",
   "metadata": {},
   "source": [
    "`Vaqtlar orasidagi farqni hisoblash:`"
   ]
  },
  {
   "cell_type": "code",
   "execution_count": 15,
   "id": "135de636",
   "metadata": {},
   "outputs": [
    {
     "name": "stdout",
     "output_type": "stream",
     "text": [
      "To'yga 103 kun qoldi.\n"
     ]
    }
   ],
   "source": [
    "bugun = dt.date.today()\n",
    "toy = dt.date(2025, 8, 24)\n",
    "\n",
    "farq = toy-bugun\n",
    "\n",
    "print(f\"To'yga {farq.days} kun qoldi.\")"
   ]
  },
  {
   "cell_type": "code",
   "execution_count": 22,
   "id": "b620e60c",
   "metadata": {},
   "outputs": [
    {
     "name": "stdout",
     "output_type": "stream",
     "text": [
      "Futbol boshlanishiga 104 kunu 7 soat qoldi.\n"
     ]
    }
   ],
   "source": [
    "hozir = dt.datetime.now()\n",
    "futbol = dt.datetime(2025, 8, 25, 23, 59, 00)\n",
    "\n",
    "farq = futbol - hozir\n",
    "kun = farq.days\n",
    "seconds = farq.seconds\n",
    "minutes = int(seconds/60)\n",
    "hours= int(minutes/60)\n",
    "\n",
    "print(f\"Futbol boshlanishiga {kun} kunu {hours} soat qoldi.\")"
   ]
  },
  {
   "cell_type": "markdown",
   "id": "84ad9a25",
   "metadata": {},
   "source": [
    "`math` - matematikaga oid funksiyalar va o'zgaruvchilar saqlanadi."
   ]
  },
  {
   "cell_type": "code",
   "execution_count": 25,
   "id": "66ef400f",
   "metadata": {},
   "outputs": [
    {
     "name": "stdout",
     "output_type": "stream",
     "text": [
      "3.141592653589793\n"
     ]
    }
   ],
   "source": [
    "import math\n",
    "\n",
    "PI = math.pi\n",
    "print(PI) # juda ham katta aniqlikdagi qiymat"
   ]
  },
  {
   "cell_type": "code",
   "execution_count": 26,
   "id": "c20ebd07",
   "metadata": {},
   "outputs": [
    {
     "name": "stdout",
     "output_type": "stream",
     "text": [
      "e ning qiymati: 2.718281828459045\n"
     ]
    }
   ],
   "source": [
    "# natural logarifimik qiymat\n",
    "E = math.e\n",
    "print(f\"e ning qiymati: {E}\")"
   ]
  },
  {
   "cell_type": "code",
   "execution_count": 29,
   "id": "a877ace6",
   "metadata": {},
   "outputs": [
    {
     "name": "stdout",
     "output_type": "stream",
     "text": [
      "1.0\n",
      "1.0\n",
      "-1.2246467991473532e-16\n"
     ]
    }
   ],
   "source": [
    "# trigonametrik funksiyalardan ham foydalanishimiz mumkin:\n",
    "print(math.sin(math.pi/2))\n",
    "print(math.cos(0))\n",
    "print(math.tan(math.pi))"
   ]
  },
  {
   "cell_type": "code",
   "execution_count": null,
   "id": "e46f1272",
   "metadata": {},
   "outputs": [
    {
     "name": "stdout",
     "output_type": "stream",
     "text": [
      "90.0\n",
      "1.5707963267948966\n"
     ]
    }
   ],
   "source": [
    "# radianlar va burchaklar o'rtasida konvertatsiya\n",
    "print(math.degrees(math.pi/2)) # burchak qiymat qaytaradi\n",
    "print(math.radians(90)) # radian qiymat qaytaradi"
   ]
  },
  {
   "cell_type": "code",
   "execution_count": 32,
   "id": "46c97a54",
   "metadata": {},
   "outputs": [
    {
     "name": "stdout",
     "output_type": "stream",
     "text": [
      "1.6094379124341003\n",
      "2.0\n"
     ]
    }
   ],
   "source": [
    "# logarifmlar\n",
    "print(math.log(5))\n",
    "print(math.log10(100))"
   ]
  },
  {
   "cell_type": "code",
   "execution_count": 34,
   "id": "78dc3ab7",
   "metadata": {},
   "outputs": [
    {
     "name": "stdout",
     "output_type": "stream",
     "text": [
      "5\n",
      "4\n",
      "5\n"
     ]
    }
   ],
   "source": [
    "x = 4.6\n",
    "print(math.ceil(x)) # katta songa yaxlitlash\n",
    "print(math.floor(x)) # kichik songa yaxlitlash\n",
    "\n",
    "# bundan tashqari ham yaxlitlash imkoniyati bor\n",
    "print(round(x))"
   ]
  },
  {
   "cell_type": "code",
   "execution_count": 35,
   "id": "f4b6faaa",
   "metadata": {},
   "outputs": [
    {
     "name": "stdout",
     "output_type": "stream",
     "text": [
      "9.0\n"
     ]
    }
   ],
   "source": [
    "# ildizlar\n",
    "x = 81\n",
    "print(math.sqrt(x))"
   ]
  },
  {
   "cell_type": "code",
   "execution_count": 40,
   "id": "e208ba21",
   "metadata": {},
   "outputs": [
    {
     "name": "stdout",
     "output_type": "stream",
     "text": [
      "512.0\n",
      "32768.0\n",
      "2.0\n"
     ]
    }
   ],
   "source": [
    "# darajaga oshirish\n",
    "x = 8\n",
    "print(math.pow(x, 3))\n",
    "print(math.pow(x, 5))\n",
    "print(math.pow(x, 1/3))"
   ]
  },
  {
   "cell_type": "markdown",
   "id": "c7854e78",
   "metadata": {},
   "source": [
    "Ba'zida consolga `json` ko'rinishdagi ma'lumotlarni chiqarish va undan o'zimizga kerakli ma'lumotlarni ajratib olish kerak bo'ladi. Shunday holatda `pprint` moduli bizga yotdam beradi, u `print` dan ko'ra ma'lumotlarni konsolda chiroyliroq qilib chiqarib berishni ta'minlaydi. "
   ]
  },
  {
   "cell_type": "code",
   "execution_count": 44,
   "id": "447354d7",
   "metadata": {},
   "outputs": [
    {
     "name": "stdout",
     "output_type": "stream",
     "text": [
      "{'current_user_url': 'https://api.github.com/user', 'current_user_authorizations_html_url': 'https://github.com/settings/connections/applications{/client_id}', 'authorizations_url': 'https://api.github.com/authorizations', 'code_search_url': 'https://api.github.com/search/code?q={query}{&page,per_page,sort,order}', 'commit_search_url': 'https://api.github.com/search/commits?q={query}{&page,per_page,sort,order}', 'emails_url': 'https://api.github.com/user/emails', 'emojis_url': 'https://api.github.com/emojis', 'events_url': 'https://api.github.com/events', 'feeds_url': 'https://api.github.com/feeds', 'followers_url': 'https://api.github.com/user/followers', 'following_url': 'https://api.github.com/user/following{/target}', 'gists_url': 'https://api.github.com/gists{/gist_id}', 'hub_url': 'https://api.github.com/hub', 'issue_search_url': 'https://api.github.com/search/issues?q={query}{&page,per_page,sort,order}', 'issues_url': 'https://api.github.com/issues', 'keys_url': 'https://api.github.com/user/keys', 'label_search_url': 'https://api.github.com/search/labels?q={query}&repository_id={repository_id}{&page,per_page}', 'notifications_url': 'https://api.github.com/notifications', 'organization_url': 'https://api.github.com/orgs/{org}', 'organization_repositories_url': 'https://api.github.com/orgs/{org}/repos{?type,page,per_page,sort}', 'organization_teams_url': 'https://api.github.com/orgs/{org}/teams', 'public_gists_url': 'https://api.github.com/gists/public', 'rate_limit_url': 'https://api.github.com/rate_limit', 'repository_url': 'https://api.github.com/repos/{owner}/{repo}', 'repository_search_url': 'https://api.github.com/search/repositories?q={query}{&page,per_page,sort,order}', 'current_user_repositories_url': 'https://api.github.com/user/repos{?type,page,per_page,sort}', 'starred_url': 'https://api.github.com/user/starred{/owner}{/repo}', 'starred_gists_url': 'https://api.github.com/gists/starred', 'topic_search_url': 'https://api.github.com/search/topics?q={query}{&page,per_page}', 'user_url': 'https://api.github.com/users/{user}', 'user_organizations_url': 'https://api.github.com/user/orgs', 'user_repositories_url': 'https://api.github.com/users/{user}/repos{?type,page,per_page,sort}', 'user_search_url': 'https://api.github.com/search/users?q={query}{&page,per_page,sort,order}'}\n"
     ]
    }
   ],
   "source": [
    "import json\n",
    "import requests\n",
    "\n",
    "r = requests.get('https://api.github.com')\n",
    "\n",
    "# ma'lumotlarni oddiy print orqali chiqarib ko'ramiz\n",
    "print(r.json())"
   ]
  },
  {
   "cell_type": "code",
   "execution_count": 43,
   "id": "138fcd06",
   "metadata": {},
   "outputs": [
    {
     "name": "stdout",
     "output_type": "stream",
     "text": [
      "{'authorizations_url': 'https://api.github.com/authorizations',\n",
      " 'code_search_url': 'https://api.github.com/search/code?q={query}{&page,per_page,sort,order}',\n",
      " 'commit_search_url': 'https://api.github.com/search/commits?q={query}{&page,per_page,sort,order}',\n",
      " 'current_user_authorizations_html_url': 'https://github.com/settings/connections/applications{/client_id}',\n",
      " 'current_user_repositories_url': 'https://api.github.com/user/repos{?type,page,per_page,sort}',\n",
      " 'current_user_url': 'https://api.github.com/user',\n",
      " 'emails_url': 'https://api.github.com/user/emails',\n",
      " 'emojis_url': 'https://api.github.com/emojis',\n",
      " 'events_url': 'https://api.github.com/events',\n",
      " 'feeds_url': 'https://api.github.com/feeds',\n",
      " 'followers_url': 'https://api.github.com/user/followers',\n",
      " 'following_url': 'https://api.github.com/user/following{/target}',\n",
      " 'gists_url': 'https://api.github.com/gists{/gist_id}',\n",
      " 'hub_url': 'https://api.github.com/hub',\n",
      " 'issue_search_url': 'https://api.github.com/search/issues?q={query}{&page,per_page,sort,order}',\n",
      " 'issues_url': 'https://api.github.com/issues',\n",
      " 'keys_url': 'https://api.github.com/user/keys',\n",
      " 'label_search_url': 'https://api.github.com/search/labels?q={query}&repository_id={repository_id}{&page,per_page}',\n",
      " 'notifications_url': 'https://api.github.com/notifications',\n",
      " 'organization_repositories_url': 'https://api.github.com/orgs/{org}/repos{?type,page,per_page,sort}',\n",
      " 'organization_teams_url': 'https://api.github.com/orgs/{org}/teams',\n",
      " 'organization_url': 'https://api.github.com/orgs/{org}',\n",
      " 'public_gists_url': 'https://api.github.com/gists/public',\n",
      " 'rate_limit_url': 'https://api.github.com/rate_limit',\n",
      " 'repository_search_url': 'https://api.github.com/search/repositories?q={query}{&page,per_page,sort,order}',\n",
      " 'repository_url': 'https://api.github.com/repos/{owner}/{repo}',\n",
      " 'starred_gists_url': 'https://api.github.com/gists/starred',\n",
      " 'starred_url': 'https://api.github.com/user/starred{/owner}{/repo}',\n",
      " 'topic_search_url': 'https://api.github.com/search/topics?q={query}{&page,per_page}',\n",
      " 'user_organizations_url': 'https://api.github.com/user/orgs',\n",
      " 'user_repositories_url': 'https://api.github.com/users/{user}/repos{?type,page,per_page,sort}',\n",
      " 'user_search_url': 'https://api.github.com/search/users?q={query}{&page,per_page,sort,order}',\n",
      " 'user_url': 'https://api.github.com/users/{user}'}\n"
     ]
    }
   ],
   "source": [
    "from pprint import pprint\n",
    "\n",
    "# ma'lumotlarni oddiy pprint orqali chiqarib ko'ramiz\n",
    "pprint(r.json())"
   ]
  },
  {
   "cell_type": "markdown",
   "id": "c45134a4",
   "metadata": {},
   "source": [
    "`RegEx` - Regular Expressions"
   ]
  },
  {
   "cell_type": "code",
   "execution_count": 45,
   "id": "184caee9",
   "metadata": {},
   "outputs": [
    {
     "name": "stdout",
     "output_type": "stream",
     "text": [
      "<re.Match object; span=(0, 5), match='temir'>\n",
      "<re.Match object; span=(0, 5), match='tomir'>\n",
      "None\n"
     ]
    }
   ],
   "source": [
    "import re\n",
    "\n",
    "word1 = 'temir'\n",
    "word2 = 'tomir'\n",
    "word3 = 'tulpor'\n",
    "\n",
    "andoza = \"^t...r$\"\n",
    "\n",
    "print(re.match(andoza, word1))\n",
    "print(re.match(andoza, word2))\n",
    "print(re.match(andoza, word3))"
   ]
  },
  {
   "cell_type": "markdown",
   "id": "18707529",
   "metadata": {},
   "source": [
    "Nega `RegEx` kerak?\n",
    "\n",
    "Misol uchun sizda juda ham ko'p so'zlar ro'yxati bor va siz bu so'zlar orasidan ma'lum bir andozaga tushadigan so'zlar ro'yxatini tuzmoqchisiz, shunday holatlarda bu modul sizga yordam beradi."
   ]
  },
  {
   "cell_type": "code",
   "execution_count": 56,
   "id": "e2434156",
   "metadata": {},
   "outputs": [
    {
     "name": "stdout",
     "output_type": "stream",
     "text": [
      "['балансировка',\n",
      " 'бензоколонка',\n",
      " 'билдиришнома',\n",
      " 'биллиардхона',\n",
      " 'балансировка',\n",
      " 'бензоколонка',\n",
      " 'билдиришнома',\n",
      " 'биллиардхона']\n"
     ]
    }
   ],
   "source": [
    "from uzwords import words\n",
    "import re\n",
    "from pprint import pprint\n",
    "\n",
    "matches = []\n",
    "andoza = \"^б..........а$\"\n",
    "\n",
    "for word in words:\n",
    "  if re.match(andoza, word):\n",
    "    matches.append(word)\n",
    "\n",
    "pprint(matches)"
   ]
  },
  {
   "cell_type": "markdown",
   "id": "c7431c60",
   "metadata": {},
   "source": [
    "Bu `RegEx` yordamida foydalanuvchi kiritgan ma'lumotlarni tekshirishimiz mumkin."
   ]
  },
  {
   "cell_type": "code",
   "execution_count": 58,
   "id": "092c952b",
   "metadata": {},
   "outputs": [
    {
     "name": "stdout",
     "output_type": "stream",
     "text": [
      "['shahboz.sh.b@gmail.com']\n"
     ]
    },
    {
     "name": "stderr",
     "output_type": "stream",
     "text": [
      "<>:5: SyntaxWarning: invalid escape sequence '\\.'\n",
      "<>:5: SyntaxWarning: invalid escape sequence '\\.'\n",
      "C:\\Users\\shahb\\AppData\\Local\\Temp\\ipykernel_15444\\529009722.py:5: SyntaxWarning: invalid escape sequence '\\.'\n",
      "  andoza = '[^@ \\t\\r\\n]+@[^@ \\t\\r\\n]+\\.[^@ \\t\\r\\n]+'\n"
     ]
    }
   ],
   "source": [
    "# https://ihateregex.io/\n",
    "\n",
    "import re\n",
    "\n",
    "andoza = '[^@ \\t\\r\\n]+@[^@ \\t\\r\\n]+\\.[^@ \\t\\r\\n]+'\n",
    "matn = \"\"\"IIV: Mubashshir Ahmad Turkiyadan deportatsiya qilinib, qamoqqa olindi\n",
    "O‘zbekiston Ichki ishlar vazirligi Mubashshir Ahmad taxallusi bilan tanilgan diniy\n",
    "ulamo Alisher Tursunovning O‘zbekistonga deportatsiya qilinganini tasdiqladi. U\n",
    "diniy mazmundagi va jamoat xavfsizligiga tahdid soladigan materiallarni tarqatishda\n",
    "ayblanib, ehtiyot chorasi sifatida qamoqqa olingan. Email: shahboz.sh.b@gmail.com\"\"\"\n",
    "\n",
    "email = re.findall(andoza, matn)\n",
    "\n",
    "print(email)\n"
   ]
  },
  {
   "cell_type": "markdown",
   "id": "f4317841",
   "metadata": {},
   "source": [
    "Bundan tashqari `parol` uchun ham andozalar yaratib, parolning kuchlilik darajasini tekshirishimiz mumkin."
   ]
  }
 ],
 "metadata": {
  "kernelspec": {
   "display_name": "Python 3",
   "language": "python",
   "name": "python3"
  },
  "language_info": {
   "codemirror_mode": {
    "name": "ipython",
    "version": 3
   },
   "file_extension": ".py",
   "mimetype": "text/x-python",
   "name": "python",
   "nbconvert_exporter": "python",
   "pygments_lexer": "ipython3",
   "version": "3.13.3"
  }
 },
 "nbformat": 4,
 "nbformat_minor": 5
}
