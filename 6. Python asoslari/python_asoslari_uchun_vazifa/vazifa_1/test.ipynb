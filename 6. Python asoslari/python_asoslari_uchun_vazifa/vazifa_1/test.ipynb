{
 "cells": [
  {
   "cell_type": "code",
   "execution_count": 1,
   "id": "0c42d6e2",
   "metadata": {},
   "outputs": [
    {
     "name": "stdout",
     "output_type": "stream",
     "text": [
      "molas\n"
     ]
    }
   ],
   "source": [
    "print('salom'[::-1])"
   ]
  },
  {
   "cell_type": "code",
   "execution_count": 7,
   "id": "9ab93767",
   "metadata": {},
   "outputs": [
    {
     "name": "stdout",
     "output_type": "stream",
     "text": [
      "Siz uchun generatsiya qilingan username: nommu9\n"
     ]
    }
   ],
   "source": [
    "\"\"\"\n",
    "Username Generator - 1 usul\n",
    "\"\"\"\n",
    "import random\n",
    "\n",
    "def user_name():\n",
    "  while True:\n",
    "    name = input(\"Ismingizni kiriting: \").lower()\n",
    "    if name:\n",
    "      name_list = list(name)\n",
    "      name_list_reverse = name_list[::-1]\n",
    "      username = ''.join(name_list_reverse)\n",
    "      random_number = str(random.randint(0, 9))\n",
    "      print(f\"Siz uchun generatsiya qilingan username: {username+random_number}\")\n",
    "      break\n",
    "    else:\n",
    "      print(\"Iltimos, ism kiriting...\")\n",
    "\n",
    "user_name()"
   ]
  },
  {
   "cell_type": "code",
   "execution_count": 8,
   "id": "88fbe87e",
   "metadata": {},
   "outputs": [
    {
     "name": "stdout",
     "output_type": "stream",
     "text": [
      "Siz uchun generatsiya qilingan username: nommu3\n"
     ]
    }
   ],
   "source": [
    "\"\"\"\n",
    "Username Generator - 2 usul\n",
    "\"\"\"\n",
    "import random\n",
    "\n",
    "def user_name():\n",
    "  while True:\n",
    "    name = input(\"Ismingizni kiriting: \").lower()\n",
    "    if name:\n",
    "      username = ''.join(reversed(name))\n",
    "      random_number = str(random.randint(0, 9))\n",
    "      print(f\"Siz uchun generatsiya qilingan username: {username+random_number}\")\n",
    "      break\n",
    "    else:\n",
    "      print(\"Iltimos, ism kiriting...\")\n",
    "\n",
    "user_name()"
   ]
  }
 ],
 "metadata": {
  "kernelspec": {
   "display_name": "Python 3",
   "language": "python",
   "name": "python3"
  },
  "language_info": {
   "codemirror_mode": {
    "name": "ipython",
    "version": 3
   },
   "file_extension": ".py",
   "mimetype": "text/x-python",
   "name": "python",
   "nbconvert_exporter": "python",
   "pygments_lexer": "ipython3",
   "version": "3.13.3"
  }
 },
 "nbformat": 4,
 "nbformat_minor": 5
}
