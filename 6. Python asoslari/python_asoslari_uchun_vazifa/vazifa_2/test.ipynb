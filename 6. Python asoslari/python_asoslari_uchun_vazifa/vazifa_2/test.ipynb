{
 "cells": [
  {
   "cell_type": "code",
   "execution_count": null,
   "id": "e1a7445b",
   "metadata": {},
   "outputs": [
    {
     "name": "stdout",
     "output_type": "stream",
     "text": [
      "[1, 2, 3]\n"
     ]
    }
   ],
   "source": [
    "# string ro'yxatni sonli ro'yxatga o'tkazish\n",
    "# xotiradan ko'p joy oladi\n",
    "royxat = ['1', '2', '3']\n",
    "yang_royxat = [int(i) for i in royxat]\n",
    "\n",
    "print(yang_royxat)"
   ]
  },
  {
   "cell_type": "code",
   "execution_count": 10,
   "id": "c1b45295",
   "metadata": {},
   "outputs": [
    {
     "name": "stdout",
     "output_type": "stream",
     "text": [
      "[1, 2, 3]\n",
      "6\n"
     ]
    }
   ],
   "source": [
    "# string ro'yxatni sonli ro'yxatga o'tkazish\n",
    "# xotiradan kam joy oladi\n",
    "royxat = ['1', '2', '3']\n",
    "for idx in range(len(royxat)):\n",
    "  royxat[idx] = int(royxat[idx])\n",
    "\n",
    "print(royxat)\n",
    "\n",
    "# ro'yxatni sonlari yig'indisi\n",
    "print(sum(royxat))"
   ]
  },
  {
   "cell_type": "code",
   "execution_count": null,
   "id": "3ef9fef1",
   "metadata": {},
   "outputs": [
    {
     "name": "stdout",
     "output_type": "stream",
     "text": [
      "Ro'yxat shakillantirayapmiz: \n",
      "Iltimos, son kiriting...\n",
      "['84']\n",
      "['84', '78']\n",
      "['84', '78', '78']\n"
     ]
    }
   ],
   "source": [
    "print(\"Ro'yxat shakillantirayapmiz: \")\n",
    "royxat = []\n",
    "while True:\n",
    "  son = input(\"Son kiriting: (Son kiritishni to'xatish uchun 'q' ni kiritng.) \")\n",
    "  if son == 'q':\n",
    "    break\n",
    "  else:\n",
    "    if son.isdigit():\n",
    "      royxat.append(son)\n",
    "      print(royxat)\n",
    "    else:\n",
    "      print('Iltimos, son kiriting...')\n",
    "\n",
    "for idx in range(len(royxat)):\n",
    "  royxat[idx] = int(royxat[idx])\n",
    "\n",
    "print(royxat)\n",
    "\n",
    "# ro'yxatni sonlari yig'indisi\n",
    "print(sum(royxat))\n"
   ]
  },
  {
   "cell_type": "code",
   "execution_count": 11,
   "id": "9a29e71a",
   "metadata": {},
   "outputs": [
    {
     "name": "stdout",
     "output_type": "stream",
     "text": [
      "True\n"
     ]
    }
   ],
   "source": [
    "son = '2'\n",
    "print(son.isdigit())"
   ]
  },
  {
   "cell_type": "code",
   "execution_count": null,
   "id": "a2604761",
   "metadata": {},
   "outputs": [],
   "source": []
  }
 ],
 "metadata": {
  "kernelspec": {
   "display_name": "Python 3",
   "language": "python",
   "name": "python3"
  },
  "language_info": {
   "codemirror_mode": {
    "name": "ipython",
    "version": 3
   },
   "file_extension": ".py",
   "mimetype": "text/x-python",
   "name": "python",
   "nbconvert_exporter": "python",
   "pygments_lexer": "ipython3",
   "version": "3.13.3"
  }
 },
 "nbformat": 4,
 "nbformat_minor": 5
}
